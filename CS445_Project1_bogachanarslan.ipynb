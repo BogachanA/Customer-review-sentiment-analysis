{
  "nbformat": 4,
  "nbformat_minor": 0,
  "metadata": {
    "colab": {
      "name": "CS445-Project1-bogachanarslan",
      "provenance": [],
      "collapsed_sections": [],
      "toc_visible": true
    },
    "kernelspec": {
      "name": "python3",
      "display_name": "Python 3"
    },
    "language_info": {
      "name": "python"
    },
    "accelerator": "GPU"
  },
  "cells": [
    {
      "cell_type": "code",
      "source": [
        "# Run this cell to mount your drive to this notebook in order to read the datasets\n",
        "from google.colab import drive\n",
        "drive.mount('/content/drive')"
      ],
      "metadata": {
        "id": "PXQ2rNxf41HE",
        "colab": {
          "base_uri": "https://localhost:8080/"
        },
        "outputId": "643936de-1639-4beb-a1b7-f508957afbf2"
      },
      "execution_count": null,
      "outputs": [
        {
          "output_type": "stream",
          "name": "stdout",
          "text": [
            "Mounted at /content/drive\n"
          ]
        }
      ]
    },
    {
      "cell_type": "code",
      "execution_count": null,
      "metadata": {
        "id": "9poIxsgG4uzb"
      },
      "outputs": [],
      "source": [
        "import pandas as pd\n",
        "import numpy as np\n",
        "\n",
        "import warnings\n",
        "warnings.filterwarnings(\"ignore\")"
      ]
    },
    {
      "cell_type": "markdown",
      "source": [
        "## Read Dataset"
      ],
      "metadata": {
        "id": "BWmM1YP7PD_J"
      }
    },
    {
      "cell_type": "code",
      "source": [
        "# Put the folder path where the datasets are located\n",
        "PATH = \"/content/drive/MyDrive/445project1/\""
      ],
      "metadata": {
        "id": "cZ35nOeR43ys"
      },
      "execution_count": null,
      "outputs": []
    },
    {
      "cell_type": "code",
      "source": [
        "cd /content/drive/MyDrive/445project1/"
      ],
      "metadata": {
        "colab": {
          "base_uri": "https://localhost:8080/"
        },
        "id": "CT16W4uH30r2",
        "outputId": "3b962957-b566-4cac-e6b1-7e950ee0e238"
      },
      "execution_count": null,
      "outputs": [
        {
          "output_type": "stream",
          "name": "stdout",
          "text": [
            "/content/drive/MyDrive/445project1\n"
          ]
        }
      ]
    },
    {
      "cell_type": "code",
      "source": [
        "# Read the train and test set with read_csv() method of pandas\n",
        "train = pd.read_csv(PATH + \"train.csv\")\n",
        "test = pd.read_csv(PATH + \"test.csv\")"
      ],
      "metadata": {
        "id": "x8buYRli5SjM"
      },
      "execution_count": null,
      "outputs": []
    },
    {
      "cell_type": "code",
      "source": [
        "print(train.shape)\n",
        "print(test.shape)"
      ],
      "metadata": {
        "colab": {
          "base_uri": "https://localhost:8080/"
        },
        "id": "-XvQBAt1DZp8",
        "outputId": "9cdf9fd1-99e3-4883-c2cc-24310c228b93"
      },
      "execution_count": null,
      "outputs": [
        {
          "output_type": "stream",
          "name": "stdout",
          "text": [
            "(18000, 3)\n",
            "(2000, 3)\n"
          ]
        }
      ]
    },
    {
      "cell_type": "code",
      "source": [
        "train.head(10)"
      ],
      "metadata": {
        "colab": {
          "base_uri": "https://localhost:8080/",
          "height": 363
        },
        "id": "Evx6a6WQAcbY",
        "outputId": "3ad44e55-9638-4c1b-b405-5c16c1fe91ad"
      },
      "execution_count": null,
      "outputs": [
        {
          "output_type": "execute_result",
          "data": {
            "text/plain": [
              "   Unnamed: 0                                               text  label\n",
              "0           0  I came here and left a review before but last ...      1\n",
              "1           1  Had a very nice first visit here. The owner Te...      4\n",
              "2           2  This is a gorgeous and very clean hotel.  We h...      4\n",
              "3           3  The  gym is dirty. I have given up.  Locker ro...      1\n",
              "4           4  The food here is delicious, fast, and consiste...      5\n",
              "5           5  We stopped in on a Sunday evening. I was surpr...      1\n",
              "6           6  Porcini is our favorite local dinner place and...      5\n",
              "7           7  Unacceptable wait for food. After ordering and...      1\n",
              "8           8  Honestly came here with the folks and was take...      5\n",
              "9           9  I came here after hearing multiple different p...      4"
            ],
            "text/html": [
              "\n",
              "  <div id=\"df-a16aecfa-1ea1-4009-97a7-5ad5a604f1de\">\n",
              "    <div class=\"colab-df-container\">\n",
              "      <div>\n",
              "<style scoped>\n",
              "    .dataframe tbody tr th:only-of-type {\n",
              "        vertical-align: middle;\n",
              "    }\n",
              "\n",
              "    .dataframe tbody tr th {\n",
              "        vertical-align: top;\n",
              "    }\n",
              "\n",
              "    .dataframe thead th {\n",
              "        text-align: right;\n",
              "    }\n",
              "</style>\n",
              "<table border=\"1\" class=\"dataframe\">\n",
              "  <thead>\n",
              "    <tr style=\"text-align: right;\">\n",
              "      <th></th>\n",
              "      <th>Unnamed: 0</th>\n",
              "      <th>text</th>\n",
              "      <th>label</th>\n",
              "    </tr>\n",
              "  </thead>\n",
              "  <tbody>\n",
              "    <tr>\n",
              "      <th>0</th>\n",
              "      <td>0</td>\n",
              "      <td>I came here and left a review before but last ...</td>\n",
              "      <td>1</td>\n",
              "    </tr>\n",
              "    <tr>\n",
              "      <th>1</th>\n",
              "      <td>1</td>\n",
              "      <td>Had a very nice first visit here. The owner Te...</td>\n",
              "      <td>4</td>\n",
              "    </tr>\n",
              "    <tr>\n",
              "      <th>2</th>\n",
              "      <td>2</td>\n",
              "      <td>This is a gorgeous and very clean hotel.  We h...</td>\n",
              "      <td>4</td>\n",
              "    </tr>\n",
              "    <tr>\n",
              "      <th>3</th>\n",
              "      <td>3</td>\n",
              "      <td>The  gym is dirty. I have given up.  Locker ro...</td>\n",
              "      <td>1</td>\n",
              "    </tr>\n",
              "    <tr>\n",
              "      <th>4</th>\n",
              "      <td>4</td>\n",
              "      <td>The food here is delicious, fast, and consiste...</td>\n",
              "      <td>5</td>\n",
              "    </tr>\n",
              "    <tr>\n",
              "      <th>5</th>\n",
              "      <td>5</td>\n",
              "      <td>We stopped in on a Sunday evening. I was surpr...</td>\n",
              "      <td>1</td>\n",
              "    </tr>\n",
              "    <tr>\n",
              "      <th>6</th>\n",
              "      <td>6</td>\n",
              "      <td>Porcini is our favorite local dinner place and...</td>\n",
              "      <td>5</td>\n",
              "    </tr>\n",
              "    <tr>\n",
              "      <th>7</th>\n",
              "      <td>7</td>\n",
              "      <td>Unacceptable wait for food. After ordering and...</td>\n",
              "      <td>1</td>\n",
              "    </tr>\n",
              "    <tr>\n",
              "      <th>8</th>\n",
              "      <td>8</td>\n",
              "      <td>Honestly came here with the folks and was take...</td>\n",
              "      <td>5</td>\n",
              "    </tr>\n",
              "    <tr>\n",
              "      <th>9</th>\n",
              "      <td>9</td>\n",
              "      <td>I came here after hearing multiple different p...</td>\n",
              "      <td>4</td>\n",
              "    </tr>\n",
              "  </tbody>\n",
              "</table>\n",
              "</div>\n",
              "      <button class=\"colab-df-convert\" onclick=\"convertToInteractive('df-a16aecfa-1ea1-4009-97a7-5ad5a604f1de')\"\n",
              "              title=\"Convert this dataframe to an interactive table.\"\n",
              "              style=\"display:none;\">\n",
              "        \n",
              "  <svg xmlns=\"http://www.w3.org/2000/svg\" height=\"24px\"viewBox=\"0 0 24 24\"\n",
              "       width=\"24px\">\n",
              "    <path d=\"M0 0h24v24H0V0z\" fill=\"none\"/>\n",
              "    <path d=\"M18.56 5.44l.94 2.06.94-2.06 2.06-.94-2.06-.94-.94-2.06-.94 2.06-2.06.94zm-11 1L8.5 8.5l.94-2.06 2.06-.94-2.06-.94L8.5 2.5l-.94 2.06-2.06.94zm10 10l.94 2.06.94-2.06 2.06-.94-2.06-.94-.94-2.06-.94 2.06-2.06.94z\"/><path d=\"M17.41 7.96l-1.37-1.37c-.4-.4-.92-.59-1.43-.59-.52 0-1.04.2-1.43.59L10.3 9.45l-7.72 7.72c-.78.78-.78 2.05 0 2.83L4 21.41c.39.39.9.59 1.41.59.51 0 1.02-.2 1.41-.59l7.78-7.78 2.81-2.81c.8-.78.8-2.07 0-2.86zM5.41 20L4 18.59l7.72-7.72 1.47 1.35L5.41 20z\"/>\n",
              "  </svg>\n",
              "      </button>\n",
              "      \n",
              "  <style>\n",
              "    .colab-df-container {\n",
              "      display:flex;\n",
              "      flex-wrap:wrap;\n",
              "      gap: 12px;\n",
              "    }\n",
              "\n",
              "    .colab-df-convert {\n",
              "      background-color: #E8F0FE;\n",
              "      border: none;\n",
              "      border-radius: 50%;\n",
              "      cursor: pointer;\n",
              "      display: none;\n",
              "      fill: #1967D2;\n",
              "      height: 32px;\n",
              "      padding: 0 0 0 0;\n",
              "      width: 32px;\n",
              "    }\n",
              "\n",
              "    .colab-df-convert:hover {\n",
              "      background-color: #E2EBFA;\n",
              "      box-shadow: 0px 1px 2px rgba(60, 64, 67, 0.3), 0px 1px 3px 1px rgba(60, 64, 67, 0.15);\n",
              "      fill: #174EA6;\n",
              "    }\n",
              "\n",
              "    [theme=dark] .colab-df-convert {\n",
              "      background-color: #3B4455;\n",
              "      fill: #D2E3FC;\n",
              "    }\n",
              "\n",
              "    [theme=dark] .colab-df-convert:hover {\n",
              "      background-color: #434B5C;\n",
              "      box-shadow: 0px 1px 3px 1px rgba(0, 0, 0, 0.15);\n",
              "      filter: drop-shadow(0px 1px 2px rgba(0, 0, 0, 0.3));\n",
              "      fill: #FFFFFF;\n",
              "    }\n",
              "  </style>\n",
              "\n",
              "      <script>\n",
              "        const buttonEl =\n",
              "          document.querySelector('#df-a16aecfa-1ea1-4009-97a7-5ad5a604f1de button.colab-df-convert');\n",
              "        buttonEl.style.display =\n",
              "          google.colab.kernel.accessAllowed ? 'block' : 'none';\n",
              "\n",
              "        async function convertToInteractive(key) {\n",
              "          const element = document.querySelector('#df-a16aecfa-1ea1-4009-97a7-5ad5a604f1de');\n",
              "          const dataTable =\n",
              "            await google.colab.kernel.invokeFunction('convertToInteractive',\n",
              "                                                     [key], {});\n",
              "          if (!dataTable) return;\n",
              "\n",
              "          const docLinkHtml = 'Like what you see? Visit the ' +\n",
              "            '<a target=\"_blank\" href=https://colab.research.google.com/notebooks/data_table.ipynb>data table notebook</a>'\n",
              "            + ' to learn more about interactive tables.';\n",
              "          element.innerHTML = '';\n",
              "          dataTable['output_type'] = 'display_data';\n",
              "          await google.colab.output.renderOutput(dataTable, element);\n",
              "          const docLink = document.createElement('div');\n",
              "          docLink.innerHTML = docLinkHtml;\n",
              "          element.appendChild(docLink);\n",
              "        }\n",
              "      </script>\n",
              "    </div>\n",
              "  </div>\n",
              "  "
            ]
          },
          "metadata": {},
          "execution_count": 11
        }
      ]
    },
    {
      "cell_type": "markdown",
      "source": [
        "### Preprocess Dataset"
      ],
      "metadata": {
        "id": "csBleyqDPJM2"
      }
    },
    {
      "cell_type": "code",
      "source": [
        "import re\n",
        "import nltk\n",
        "nltk.download('stopwords')\n",
        "from nltk.corpus import stopwords\n",
        "from nltk.stem import PorterStemmer\n",
        "\n",
        "nltk.download('punkt')"
      ],
      "metadata": {
        "id": "hCgu4nbNubw4",
        "colab": {
          "base_uri": "https://localhost:8080/"
        },
        "outputId": "456e39ca-90c7-4d64-a106-46f058c632fe"
      },
      "execution_count": null,
      "outputs": [
        {
          "output_type": "stream",
          "name": "stdout",
          "text": [
            "[nltk_data] Downloading package stopwords to /root/nltk_data...\n",
            "[nltk_data]   Unzipping corpora/stopwords.zip.\n",
            "[nltk_data] Downloading package punkt to /root/nltk_data...\n",
            "[nltk_data]   Unzipping tokenizers/punkt.zip.\n"
          ]
        },
        {
          "output_type": "execute_result",
          "data": {
            "text/plain": [
              "True"
            ]
          },
          "metadata": {},
          "execution_count": 6
        }
      ]
    },
    {
      "cell_type": "code",
      "source": [
        ""
      ],
      "metadata": {
        "id": "pCGOMVfplA7K"
      },
      "execution_count": null,
      "outputs": []
    },
    {
      "cell_type": "code",
      "source": [
        "# Define a function to perform preprocessing. This function can perform things like lowercasing, stemming, removing stopwords, etc.\n",
        "\n",
        "import string\n",
        "ps = PorterStemmer()\n",
        "#s_tokenizer = nltk.tokenize.punkt.PunktSentenceTokenizer()\n",
        "w_tokenizer = nltk.tokenize.WordPunctTokenizer()\n",
        "stops = set(stopwords.words('english'))\n",
        "\n",
        "def preprocess(text: str):\n",
        "    #sentences = nltk.sent_tokenize(text)\n",
        "    text = text.lower()\n",
        "    words = w_tokenizer.tokenize(text)\n",
        "    res = \"\"\n",
        "    for w in words:\n",
        "      if w not in stops and [x for x in w if string.punctuation.find(x) != -1] == []:\n",
        "        res += ps.stem(w) + \" \"\n",
        "    #print(res)\n",
        "    return res"
      ],
      "metadata": {
        "id": "OSiAj6atwZzi"
      },
      "execution_count": null,
      "outputs": []
    },
    {
      "cell_type": "code",
      "source": [
        "# Apply your preprocessing function to your text fields.\n",
        "\n",
        "train.text = train.text.apply(preprocess)\n",
        "test.text = test.text.apply(preprocess)\n",
        "\n",
        "train.shape, test.shape\n",
        "#print(train.text)"
      ],
      "metadata": {
        "id": "saAhAw_vyu9T",
        "colab": {
          "base_uri": "https://localhost:8080/"
        },
        "outputId": "f486de8a-9331-468a-fa39-18b01e2d1d26"
      },
      "execution_count": null,
      "outputs": [
        {
          "output_type": "execute_result",
          "data": {
            "text/plain": [
              "((18000, 3), (2000, 3))"
            ]
          },
          "metadata": {},
          "execution_count": 8
        }
      ]
    },
    {
      "cell_type": "code",
      "source": [
        "test.head(20)"
      ],
      "metadata": {
        "id": "dgglbSugzNVx",
        "colab": {
          "base_uri": "https://localhost:8080/",
          "height": 676
        },
        "outputId": "37f04885-ffdb-4b02-a270-2665d72cba3e"
      },
      "execution_count": null,
      "outputs": [
        {
          "output_type": "execute_result",
          "data": {
            "text/plain": [
              "    Unnamed: 0                                               text  label\n",
              "0            0  stay weekend made stay pleasant locat great sp...      5\n",
              "1            1  forev call upon delici design whenev need tast...      5\n",
              "2            2  person order homicid boneless regular absolut ...      4\n",
              "3            3  eat pretti much everytim go tarpon spring staf...      4\n",
              "4            4  3 time never go want huge chang usual trim get...      3\n",
              "5            5  great hidden tavern grill wonder old place ear...      5\n",
              "6            6  first experi sephora pari quit fair experienc ...      2\n",
              "7            7  live close want tri place other mention dine e...      2\n",
              "8            8  date spot place go formal event said food grea...      4\n",
              "9            9  husband stop tri angelo gyro philli chees stea...      2\n",
              "10          10  time terrel hous weekend beyond perfect b b on...      5\n",
              "11          11  wish could give 0 star first lie jeep purchas ...      1\n",
              "12          12  went mani pedi student nice person chat howev ...      2\n",
              "13          13  awesom bartend today happi hour differ stori m...      1\n",
              "14          14  credit card good busi good local south philli ...      2\n",
              "15          15  wife gone 5 time last coupl month love savori ...      5\n",
              "16          16  taco tuesday jam line type serv lot like chipo...      4\n",
              "17          17  reserv recommend great atmospher wonder servic...      4\n",
              "18          18           els say great servic wonder offic staff       5\n",
              "19          19  okay never tri persian food favor tri hidden l...      5"
            ],
            "text/html": [
              "\n",
              "  <div id=\"df-db6c4ef0-be57-43ba-8185-1803f53f3f01\">\n",
              "    <div class=\"colab-df-container\">\n",
              "      <div>\n",
              "<style scoped>\n",
              "    .dataframe tbody tr th:only-of-type {\n",
              "        vertical-align: middle;\n",
              "    }\n",
              "\n",
              "    .dataframe tbody tr th {\n",
              "        vertical-align: top;\n",
              "    }\n",
              "\n",
              "    .dataframe thead th {\n",
              "        text-align: right;\n",
              "    }\n",
              "</style>\n",
              "<table border=\"1\" class=\"dataframe\">\n",
              "  <thead>\n",
              "    <tr style=\"text-align: right;\">\n",
              "      <th></th>\n",
              "      <th>Unnamed: 0</th>\n",
              "      <th>text</th>\n",
              "      <th>label</th>\n",
              "    </tr>\n",
              "  </thead>\n",
              "  <tbody>\n",
              "    <tr>\n",
              "      <th>0</th>\n",
              "      <td>0</td>\n",
              "      <td>stay weekend made stay pleasant locat great sp...</td>\n",
              "      <td>5</td>\n",
              "    </tr>\n",
              "    <tr>\n",
              "      <th>1</th>\n",
              "      <td>1</td>\n",
              "      <td>forev call upon delici design whenev need tast...</td>\n",
              "      <td>5</td>\n",
              "    </tr>\n",
              "    <tr>\n",
              "      <th>2</th>\n",
              "      <td>2</td>\n",
              "      <td>person order homicid boneless regular absolut ...</td>\n",
              "      <td>4</td>\n",
              "    </tr>\n",
              "    <tr>\n",
              "      <th>3</th>\n",
              "      <td>3</td>\n",
              "      <td>eat pretti much everytim go tarpon spring staf...</td>\n",
              "      <td>4</td>\n",
              "    </tr>\n",
              "    <tr>\n",
              "      <th>4</th>\n",
              "      <td>4</td>\n",
              "      <td>3 time never go want huge chang usual trim get...</td>\n",
              "      <td>3</td>\n",
              "    </tr>\n",
              "    <tr>\n",
              "      <th>5</th>\n",
              "      <td>5</td>\n",
              "      <td>great hidden tavern grill wonder old place ear...</td>\n",
              "      <td>5</td>\n",
              "    </tr>\n",
              "    <tr>\n",
              "      <th>6</th>\n",
              "      <td>6</td>\n",
              "      <td>first experi sephora pari quit fair experienc ...</td>\n",
              "      <td>2</td>\n",
              "    </tr>\n",
              "    <tr>\n",
              "      <th>7</th>\n",
              "      <td>7</td>\n",
              "      <td>live close want tri place other mention dine e...</td>\n",
              "      <td>2</td>\n",
              "    </tr>\n",
              "    <tr>\n",
              "      <th>8</th>\n",
              "      <td>8</td>\n",
              "      <td>date spot place go formal event said food grea...</td>\n",
              "      <td>4</td>\n",
              "    </tr>\n",
              "    <tr>\n",
              "      <th>9</th>\n",
              "      <td>9</td>\n",
              "      <td>husband stop tri angelo gyro philli chees stea...</td>\n",
              "      <td>2</td>\n",
              "    </tr>\n",
              "    <tr>\n",
              "      <th>10</th>\n",
              "      <td>10</td>\n",
              "      <td>time terrel hous weekend beyond perfect b b on...</td>\n",
              "      <td>5</td>\n",
              "    </tr>\n",
              "    <tr>\n",
              "      <th>11</th>\n",
              "      <td>11</td>\n",
              "      <td>wish could give 0 star first lie jeep purchas ...</td>\n",
              "      <td>1</td>\n",
              "    </tr>\n",
              "    <tr>\n",
              "      <th>12</th>\n",
              "      <td>12</td>\n",
              "      <td>went mani pedi student nice person chat howev ...</td>\n",
              "      <td>2</td>\n",
              "    </tr>\n",
              "    <tr>\n",
              "      <th>13</th>\n",
              "      <td>13</td>\n",
              "      <td>awesom bartend today happi hour differ stori m...</td>\n",
              "      <td>1</td>\n",
              "    </tr>\n",
              "    <tr>\n",
              "      <th>14</th>\n",
              "      <td>14</td>\n",
              "      <td>credit card good busi good local south philli ...</td>\n",
              "      <td>2</td>\n",
              "    </tr>\n",
              "    <tr>\n",
              "      <th>15</th>\n",
              "      <td>15</td>\n",
              "      <td>wife gone 5 time last coupl month love savori ...</td>\n",
              "      <td>5</td>\n",
              "    </tr>\n",
              "    <tr>\n",
              "      <th>16</th>\n",
              "      <td>16</td>\n",
              "      <td>taco tuesday jam line type serv lot like chipo...</td>\n",
              "      <td>4</td>\n",
              "    </tr>\n",
              "    <tr>\n",
              "      <th>17</th>\n",
              "      <td>17</td>\n",
              "      <td>reserv recommend great atmospher wonder servic...</td>\n",
              "      <td>4</td>\n",
              "    </tr>\n",
              "    <tr>\n",
              "      <th>18</th>\n",
              "      <td>18</td>\n",
              "      <td>els say great servic wonder offic staff</td>\n",
              "      <td>5</td>\n",
              "    </tr>\n",
              "    <tr>\n",
              "      <th>19</th>\n",
              "      <td>19</td>\n",
              "      <td>okay never tri persian food favor tri hidden l...</td>\n",
              "      <td>5</td>\n",
              "    </tr>\n",
              "  </tbody>\n",
              "</table>\n",
              "</div>\n",
              "      <button class=\"colab-df-convert\" onclick=\"convertToInteractive('df-db6c4ef0-be57-43ba-8185-1803f53f3f01')\"\n",
              "              title=\"Convert this dataframe to an interactive table.\"\n",
              "              style=\"display:none;\">\n",
              "        \n",
              "  <svg xmlns=\"http://www.w3.org/2000/svg\" height=\"24px\"viewBox=\"0 0 24 24\"\n",
              "       width=\"24px\">\n",
              "    <path d=\"M0 0h24v24H0V0z\" fill=\"none\"/>\n",
              "    <path d=\"M18.56 5.44l.94 2.06.94-2.06 2.06-.94-2.06-.94-.94-2.06-.94 2.06-2.06.94zm-11 1L8.5 8.5l.94-2.06 2.06-.94-2.06-.94L8.5 2.5l-.94 2.06-2.06.94zm10 10l.94 2.06.94-2.06 2.06-.94-2.06-.94-.94-2.06-.94 2.06-2.06.94z\"/><path d=\"M17.41 7.96l-1.37-1.37c-.4-.4-.92-.59-1.43-.59-.52 0-1.04.2-1.43.59L10.3 9.45l-7.72 7.72c-.78.78-.78 2.05 0 2.83L4 21.41c.39.39.9.59 1.41.59.51 0 1.02-.2 1.41-.59l7.78-7.78 2.81-2.81c.8-.78.8-2.07 0-2.86zM5.41 20L4 18.59l7.72-7.72 1.47 1.35L5.41 20z\"/>\n",
              "  </svg>\n",
              "      </button>\n",
              "      \n",
              "  <style>\n",
              "    .colab-df-container {\n",
              "      display:flex;\n",
              "      flex-wrap:wrap;\n",
              "      gap: 12px;\n",
              "    }\n",
              "\n",
              "    .colab-df-convert {\n",
              "      background-color: #E8F0FE;\n",
              "      border: none;\n",
              "      border-radius: 50%;\n",
              "      cursor: pointer;\n",
              "      display: none;\n",
              "      fill: #1967D2;\n",
              "      height: 32px;\n",
              "      padding: 0 0 0 0;\n",
              "      width: 32px;\n",
              "    }\n",
              "\n",
              "    .colab-df-convert:hover {\n",
              "      background-color: #E2EBFA;\n",
              "      box-shadow: 0px 1px 2px rgba(60, 64, 67, 0.3), 0px 1px 3px 1px rgba(60, 64, 67, 0.15);\n",
              "      fill: #174EA6;\n",
              "    }\n",
              "\n",
              "    [theme=dark] .colab-df-convert {\n",
              "      background-color: #3B4455;\n",
              "      fill: #D2E3FC;\n",
              "    }\n",
              "\n",
              "    [theme=dark] .colab-df-convert:hover {\n",
              "      background-color: #434B5C;\n",
              "      box-shadow: 0px 1px 3px 1px rgba(0, 0, 0, 0.15);\n",
              "      filter: drop-shadow(0px 1px 2px rgba(0, 0, 0, 0.3));\n",
              "      fill: #FFFFFF;\n",
              "    }\n",
              "  </style>\n",
              "\n",
              "      <script>\n",
              "        const buttonEl =\n",
              "          document.querySelector('#df-db6c4ef0-be57-43ba-8185-1803f53f3f01 button.colab-df-convert');\n",
              "        buttonEl.style.display =\n",
              "          google.colab.kernel.accessAllowed ? 'block' : 'none';\n",
              "\n",
              "        async function convertToInteractive(key) {\n",
              "          const element = document.querySelector('#df-db6c4ef0-be57-43ba-8185-1803f53f3f01');\n",
              "          const dataTable =\n",
              "            await google.colab.kernel.invokeFunction('convertToInteractive',\n",
              "                                                     [key], {});\n",
              "          if (!dataTable) return;\n",
              "\n",
              "          const docLinkHtml = 'Like what you see? Visit the ' +\n",
              "            '<a target=\"_blank\" href=https://colab.research.google.com/notebooks/data_table.ipynb>data table notebook</a>'\n",
              "            + ' to learn more about interactive tables.';\n",
              "          element.innerHTML = '';\n",
              "          dataTable['output_type'] = 'display_data';\n",
              "          await google.colab.output.renderOutput(dataTable, element);\n",
              "          const docLink = document.createElement('div');\n",
              "          docLink.innerHTML = docLinkHtml;\n",
              "          element.appendChild(docLink);\n",
              "        }\n",
              "      </script>\n",
              "    </div>\n",
              "  </div>\n",
              "  "
            ]
          },
          "metadata": {},
          "execution_count": 12
        }
      ]
    },
    {
      "cell_type": "code",
      "source": [
        "print(type(train[\"text\"][0]))\n"
      ],
      "metadata": {
        "colab": {
          "base_uri": "https://localhost:8080/"
        },
        "id": "3S3yfg8lhzCc",
        "outputId": "b13b8ee3-4e5c-4ff0-dee2-c316c37738a5"
      },
      "execution_count": null,
      "outputs": [
        {
          "output_type": "stream",
          "name": "stdout",
          "text": [
            "<class 'str'>\n",
            "<class 'str'>\n"
          ]
        }
      ]
    },
    {
      "cell_type": "code",
      "source": [
        "# Create your binary and multiclass datasets\n",
        "\n",
        "# For binary dataset, get rid of the class 3 in the dataset and map class 1 and 2 to 0, and class 4 and 5 to 1\n",
        "binary_train = train.copy(deep=True)\n",
        "binary_test = test.copy(deep=True)\n",
        "\n",
        "binary_train = binary_train[binary_train.label != 3]\n",
        "binary_train.loc[binary_train.label <= 2,['label']] = 0\n",
        "binary_train.loc[binary_train.label >= 4,['label']] = 1\n",
        "\n",
        "binary_test = binary_test[binary_test.label != 3]\n",
        "binary_test.loc[binary_test.label <= 2,['label']] = 0\n",
        "binary_test.loc[binary_test.label >= 4,['label']] = 1\n",
        "\n",
        "\n",
        "# For multiclass dataset, make sure your classes starts from 0 and goes until 4. (5->4, 4->3, 3->2, 2->1, 1->0)\n",
        "\n",
        "multi_tr = train.copy(deep=True)\n",
        "multi_ts = test.copy(deep=True)\n",
        "\n",
        "multi_tr.label -= 1\n",
        "multi_ts.label -= 1\n",
        "\n",
        "#multi_tr.head(5)\n",
        "multi_tr.head(20)"
      ],
      "metadata": {
        "id": "MJWiNm2ZrO8m",
        "colab": {
          "base_uri": "https://localhost:8080/",
          "height": 676
        },
        "outputId": "fd4e8186-0864-4388-ac0c-c6477b942ce8"
      },
      "execution_count": null,
      "outputs": [
        {
          "output_type": "execute_result",
          "data": {
            "text/plain": [
              "    Unnamed: 0                                               text  label\n",
              "0            0  came left review last time get food poison unl...      0\n",
              "1            1  nice first visit owner ted friendli start rest...      3\n",
              "2            2  gorgeou clean hotel room west wing first chore...      3\n",
              "3            3  gym dirti given locker room total dirti manag ...      0\n",
              "4            4  food delici fast consist everi singl time gene...      4\n",
              "5            5  stop sunday even surpris car park lot sat bar ...      0\n",
              "6            6  porcini favorit local dinner place hope consid...      4\n",
              "7            7  unaccept wait food order pay told bread poboy ...      0\n",
              "8            8  honestli came folk taken away nostalgia gla go...      4\n",
              "9            9  came hear multipl differ peopl rave place say ...      3\n",
              "10          10  pretti impress custom servic got call brock to...      3\n",
              "11          11  read least 30 review decid eat thing good oyst...      0\n",
              "12          12  great locat beauti build french quarter enjoy ...      2\n",
              "13          13  daughter seat within second arriv color select...      2\n",
              "14          14  place time get egg meat sometim wait mean busi...      3\n",
              "15          15  tucson weekend read fiamm worth visit review j...      4\n",
              "16          16  staff manag awesom food beat view band play ar...      2\n",
              "17          17  roach crawl behind shoulder seat kill napkin h...      0\n",
              "18          18  overpr low qualiti went hibachi first serv sal...      1\n",
              "19          19  lunch famili today aw servic first steak cook ...      0"
            ],
            "text/html": [
              "\n",
              "  <div id=\"df-ec1f5db3-ed9b-4d28-ab39-6699cc54e0ab\">\n",
              "    <div class=\"colab-df-container\">\n",
              "      <div>\n",
              "<style scoped>\n",
              "    .dataframe tbody tr th:only-of-type {\n",
              "        vertical-align: middle;\n",
              "    }\n",
              "\n",
              "    .dataframe tbody tr th {\n",
              "        vertical-align: top;\n",
              "    }\n",
              "\n",
              "    .dataframe thead th {\n",
              "        text-align: right;\n",
              "    }\n",
              "</style>\n",
              "<table border=\"1\" class=\"dataframe\">\n",
              "  <thead>\n",
              "    <tr style=\"text-align: right;\">\n",
              "      <th></th>\n",
              "      <th>Unnamed: 0</th>\n",
              "      <th>text</th>\n",
              "      <th>label</th>\n",
              "    </tr>\n",
              "  </thead>\n",
              "  <tbody>\n",
              "    <tr>\n",
              "      <th>0</th>\n",
              "      <td>0</td>\n",
              "      <td>came left review last time get food poison unl...</td>\n",
              "      <td>0</td>\n",
              "    </tr>\n",
              "    <tr>\n",
              "      <th>1</th>\n",
              "      <td>1</td>\n",
              "      <td>nice first visit owner ted friendli start rest...</td>\n",
              "      <td>3</td>\n",
              "    </tr>\n",
              "    <tr>\n",
              "      <th>2</th>\n",
              "      <td>2</td>\n",
              "      <td>gorgeou clean hotel room west wing first chore...</td>\n",
              "      <td>3</td>\n",
              "    </tr>\n",
              "    <tr>\n",
              "      <th>3</th>\n",
              "      <td>3</td>\n",
              "      <td>gym dirti given locker room total dirti manag ...</td>\n",
              "      <td>0</td>\n",
              "    </tr>\n",
              "    <tr>\n",
              "      <th>4</th>\n",
              "      <td>4</td>\n",
              "      <td>food delici fast consist everi singl time gene...</td>\n",
              "      <td>4</td>\n",
              "    </tr>\n",
              "    <tr>\n",
              "      <th>5</th>\n",
              "      <td>5</td>\n",
              "      <td>stop sunday even surpris car park lot sat bar ...</td>\n",
              "      <td>0</td>\n",
              "    </tr>\n",
              "    <tr>\n",
              "      <th>6</th>\n",
              "      <td>6</td>\n",
              "      <td>porcini favorit local dinner place hope consid...</td>\n",
              "      <td>4</td>\n",
              "    </tr>\n",
              "    <tr>\n",
              "      <th>7</th>\n",
              "      <td>7</td>\n",
              "      <td>unaccept wait food order pay told bread poboy ...</td>\n",
              "      <td>0</td>\n",
              "    </tr>\n",
              "    <tr>\n",
              "      <th>8</th>\n",
              "      <td>8</td>\n",
              "      <td>honestli came folk taken away nostalgia gla go...</td>\n",
              "      <td>4</td>\n",
              "    </tr>\n",
              "    <tr>\n",
              "      <th>9</th>\n",
              "      <td>9</td>\n",
              "      <td>came hear multipl differ peopl rave place say ...</td>\n",
              "      <td>3</td>\n",
              "    </tr>\n",
              "    <tr>\n",
              "      <th>10</th>\n",
              "      <td>10</td>\n",
              "      <td>pretti impress custom servic got call brock to...</td>\n",
              "      <td>3</td>\n",
              "    </tr>\n",
              "    <tr>\n",
              "      <th>11</th>\n",
              "      <td>11</td>\n",
              "      <td>read least 30 review decid eat thing good oyst...</td>\n",
              "      <td>0</td>\n",
              "    </tr>\n",
              "    <tr>\n",
              "      <th>12</th>\n",
              "      <td>12</td>\n",
              "      <td>great locat beauti build french quarter enjoy ...</td>\n",
              "      <td>2</td>\n",
              "    </tr>\n",
              "    <tr>\n",
              "      <th>13</th>\n",
              "      <td>13</td>\n",
              "      <td>daughter seat within second arriv color select...</td>\n",
              "      <td>2</td>\n",
              "    </tr>\n",
              "    <tr>\n",
              "      <th>14</th>\n",
              "      <td>14</td>\n",
              "      <td>place time get egg meat sometim wait mean busi...</td>\n",
              "      <td>3</td>\n",
              "    </tr>\n",
              "    <tr>\n",
              "      <th>15</th>\n",
              "      <td>15</td>\n",
              "      <td>tucson weekend read fiamm worth visit review j...</td>\n",
              "      <td>4</td>\n",
              "    </tr>\n",
              "    <tr>\n",
              "      <th>16</th>\n",
              "      <td>16</td>\n",
              "      <td>staff manag awesom food beat view band play ar...</td>\n",
              "      <td>2</td>\n",
              "    </tr>\n",
              "    <tr>\n",
              "      <th>17</th>\n",
              "      <td>17</td>\n",
              "      <td>roach crawl behind shoulder seat kill napkin h...</td>\n",
              "      <td>0</td>\n",
              "    </tr>\n",
              "    <tr>\n",
              "      <th>18</th>\n",
              "      <td>18</td>\n",
              "      <td>overpr low qualiti went hibachi first serv sal...</td>\n",
              "      <td>1</td>\n",
              "    </tr>\n",
              "    <tr>\n",
              "      <th>19</th>\n",
              "      <td>19</td>\n",
              "      <td>lunch famili today aw servic first steak cook ...</td>\n",
              "      <td>0</td>\n",
              "    </tr>\n",
              "  </tbody>\n",
              "</table>\n",
              "</div>\n",
              "      <button class=\"colab-df-convert\" onclick=\"convertToInteractive('df-ec1f5db3-ed9b-4d28-ab39-6699cc54e0ab')\"\n",
              "              title=\"Convert this dataframe to an interactive table.\"\n",
              "              style=\"display:none;\">\n",
              "        \n",
              "  <svg xmlns=\"http://www.w3.org/2000/svg\" height=\"24px\"viewBox=\"0 0 24 24\"\n",
              "       width=\"24px\">\n",
              "    <path d=\"M0 0h24v24H0V0z\" fill=\"none\"/>\n",
              "    <path d=\"M18.56 5.44l.94 2.06.94-2.06 2.06-.94-2.06-.94-.94-2.06-.94 2.06-2.06.94zm-11 1L8.5 8.5l.94-2.06 2.06-.94-2.06-.94L8.5 2.5l-.94 2.06-2.06.94zm10 10l.94 2.06.94-2.06 2.06-.94-2.06-.94-.94-2.06-.94 2.06-2.06.94z\"/><path d=\"M17.41 7.96l-1.37-1.37c-.4-.4-.92-.59-1.43-.59-.52 0-1.04.2-1.43.59L10.3 9.45l-7.72 7.72c-.78.78-.78 2.05 0 2.83L4 21.41c.39.39.9.59 1.41.59.51 0 1.02-.2 1.41-.59l7.78-7.78 2.81-2.81c.8-.78.8-2.07 0-2.86zM5.41 20L4 18.59l7.72-7.72 1.47 1.35L5.41 20z\"/>\n",
              "  </svg>\n",
              "      </button>\n",
              "      \n",
              "  <style>\n",
              "    .colab-df-container {\n",
              "      display:flex;\n",
              "      flex-wrap:wrap;\n",
              "      gap: 12px;\n",
              "    }\n",
              "\n",
              "    .colab-df-convert {\n",
              "      background-color: #E8F0FE;\n",
              "      border: none;\n",
              "      border-radius: 50%;\n",
              "      cursor: pointer;\n",
              "      display: none;\n",
              "      fill: #1967D2;\n",
              "      height: 32px;\n",
              "      padding: 0 0 0 0;\n",
              "      width: 32px;\n",
              "    }\n",
              "\n",
              "    .colab-df-convert:hover {\n",
              "      background-color: #E2EBFA;\n",
              "      box-shadow: 0px 1px 2px rgba(60, 64, 67, 0.3), 0px 1px 3px 1px rgba(60, 64, 67, 0.15);\n",
              "      fill: #174EA6;\n",
              "    }\n",
              "\n",
              "    [theme=dark] .colab-df-convert {\n",
              "      background-color: #3B4455;\n",
              "      fill: #D2E3FC;\n",
              "    }\n",
              "\n",
              "    [theme=dark] .colab-df-convert:hover {\n",
              "      background-color: #434B5C;\n",
              "      box-shadow: 0px 1px 3px 1px rgba(0, 0, 0, 0.15);\n",
              "      filter: drop-shadow(0px 1px 2px rgba(0, 0, 0, 0.3));\n",
              "      fill: #FFFFFF;\n",
              "    }\n",
              "  </style>\n",
              "\n",
              "      <script>\n",
              "        const buttonEl =\n",
              "          document.querySelector('#df-ec1f5db3-ed9b-4d28-ab39-6699cc54e0ab button.colab-df-convert');\n",
              "        buttonEl.style.display =\n",
              "          google.colab.kernel.accessAllowed ? 'block' : 'none';\n",
              "\n",
              "        async function convertToInteractive(key) {\n",
              "          const element = document.querySelector('#df-ec1f5db3-ed9b-4d28-ab39-6699cc54e0ab');\n",
              "          const dataTable =\n",
              "            await google.colab.kernel.invokeFunction('convertToInteractive',\n",
              "                                                     [key], {});\n",
              "          if (!dataTable) return;\n",
              "\n",
              "          const docLinkHtml = 'Like what you see? Visit the ' +\n",
              "            '<a target=\"_blank\" href=https://colab.research.google.com/notebooks/data_table.ipynb>data table notebook</a>'\n",
              "            + ' to learn more about interactive tables.';\n",
              "          element.innerHTML = '';\n",
              "          dataTable['output_type'] = 'display_data';\n",
              "          await google.colab.output.renderOutput(dataTable, element);\n",
              "          const docLink = document.createElement('div');\n",
              "          docLink.innerHTML = docLinkHtml;\n",
              "          element.appendChild(docLink);\n",
              "        }\n",
              "      </script>\n",
              "    </div>\n",
              "  </div>\n",
              "  "
            ]
          },
          "metadata": {},
          "execution_count": 9
        }
      ]
    },
    {
      "cell_type": "code",
      "source": [
        "binary_train_text = binary_train[\"text\"].values\n",
        "binary_train_labels = binary_train[\"label\"].values\n",
        "\n",
        "multi_train_text = multi_tr[\"text\"].values\n",
        "multi_train_labels = multi_tr[\"label\"].values\n",
        "\n",
        "binary_test_text = binary_test[\"text\"].values\n",
        "binary_test_labels = binary_test[\"label\"].values\n",
        "\n",
        "multi_test_text = multi_ts[\"text\"].values\n",
        "multi_test_labels = multi_ts[\"label\"].values"
      ],
      "metadata": {
        "id": "EK-h5bOFD756"
      },
      "execution_count": null,
      "outputs": []
    },
    {
      "cell_type": "markdown",
      "source": [
        "# Models"
      ],
      "metadata": {
        "id": "fbz48mNfttuo"
      }
    },
    {
      "cell_type": "markdown",
      "source": [
        "## Non-Neural Models"
      ],
      "metadata": {
        "id": "y65GxGIFAC_K"
      }
    },
    {
      "cell_type": "code",
      "source": [
        "from sklearn.model_selection import GridSearchCV\n",
        "from sklearn.base import TransformerMixin\n",
        "from sklearn.pipeline import Pipeline\n",
        "from sklearn.feature_extraction.text import TfidfVectorizer\n",
        "from sklearn.naive_bayes import GaussianNB\n",
        "from sklearn.linear_model import LogisticRegression\n",
        "from sklearn.metrics import f1_score,confusion_matrix,accuracy_score"
      ],
      "metadata": {
        "id": "BYhkcMWouazd"
      },
      "execution_count": null,
      "outputs": []
    },
    {
      "cell_type": "markdown",
      "source": [
        "### Naive Bayes"
      ],
      "metadata": {
        "id": "4MZIaJFXWScs"
      }
    },
    {
      "cell_type": "code",
      "source": [
        "# https://scikit-learn.org/stable/modules/generated/sklearn.naive_bayes.GaussianNB.html\n",
        "\n",
        "# Create a class for converting sparse matrix output of TfidfVectorizer to dense matrix for feeding into GaussianNB\n",
        "class DenseTransformer(TransformerMixin):\n",
        "\n",
        "    def fit(self, X, y=None, **fit_params):\n",
        "      '''\n",
        "      tfid = TfidfVectorizer(**fit_params)\n",
        "      vec = tfid.fit(X)\n",
        "      return vec\n",
        "      '''\n",
        "      return self\n",
        "\n",
        "    def transform(self, X, y=None, **fit_params):\n",
        "      #sparse = self.fit(X,**fit_params).transform(X)\n",
        "      return X.todense()\n",
        "\n",
        "\n",
        "# Initiate the pipeline with required components.You can use Pipeline class of sklearn -> https://scikit-learn.org/stable/modules/generated/sklearn.pipeline.Pipeline.html\n",
        "# There will be three components; 1) TfidfVectorizer 2) DenseTransformer 3) Naive Bayes classifier.\n",
        "pipeline = Pipeline([\n",
        "                     (\"vectorizer\",TfidfVectorizer()),\n",
        "                     (\"transformer\", DenseTransformer()),\n",
        "                     (\"nb_classifier\", GaussianNB())\n",
        "])\n",
        "\n",
        "\n",
        "# Set the hyperparameter space that will be scanned with GridSearchCV.\n",
        "search_params = {\n",
        "    \"vectorizer__min_df\": (100,500,1000),\n",
        "    \"vectorizer__ngram_range\": ((1,1),(1,2),(1,3))\n",
        "}\n",
        "\n"
      ],
      "metadata": {
        "id": "Tr32alf3WXmM"
      },
      "execution_count": null,
      "outputs": []
    },
    {
      "cell_type": "markdown",
      "source": [
        "### Binary"
      ],
      "metadata": {
        "id": "0PjodOpko5pJ"
      }
    },
    {
      "cell_type": "code",
      "source": [
        "%%time\n",
        "\n",
        "\n",
        "# Initialize and run the GridSearchCV to scan the hyperparameter and find the best hyperparameter set that will maximize the scoring option for binary classification.\n",
        "grid = GridSearchCV(pipeline, search_params, scoring = 'f1_macro', return_train_score= False, verbose = 1)\n",
        "grid.fit(binary_train_text, binary_train_labels)\n",
        "# Report the standart deviation of split scores for each hyperparameter group.\n",
        "\n",
        "for i in range(9):\n",
        "  print(\"STD for trial \",i,\":\\n\",grid.cv_results_[\"params\"][i],\" - \",grid.cv_results_[\"std_test_score\"][i] ,sep=\"\")\n",
        "\n",
        "# Show the best parameter set for given dataset and hyperparameter space.\n",
        "print(\"Top parameters & score: \\n\", grid.best_params_, \" - \", grid.best_score_ ,sep =\"\")\n",
        "\n",
        "\n"
      ],
      "metadata": {
        "id": "vlZRfzqPo9iv",
        "colab": {
          "base_uri": "https://localhost:8080/"
        },
        "outputId": "523475c8-fb84-4571-ad03-5be65bb92105"
      },
      "execution_count": null,
      "outputs": [
        {
          "output_type": "stream",
          "name": "stdout",
          "text": [
            "Fitting 5 folds for each of 9 candidates, totalling 45 fits\n",
            "STD for trial 0:\n",
            "{'vectorizer__min_df': 100, 'vectorizer__ngram_range': (1, 1)} - 0.005750144597770928\n",
            "STD for trial 1:\n",
            "{'vectorizer__min_df': 100, 'vectorizer__ngram_range': (1, 2)} - 0.008078241081952051\n",
            "STD for trial 2:\n",
            "{'vectorizer__min_df': 100, 'vectorizer__ngram_range': (1, 3)} - 0.008078108055608053\n",
            "STD for trial 3:\n",
            "{'vectorizer__min_df': 500, 'vectorizer__ngram_range': (1, 1)} - 0.004435828457757601\n",
            "STD for trial 4:\n",
            "{'vectorizer__min_df': 500, 'vectorizer__ngram_range': (1, 2)} - 0.005626262939876043\n",
            "STD for trial 5:\n",
            "{'vectorizer__min_df': 500, 'vectorizer__ngram_range': (1, 3)} - 0.005626262939876043\n",
            "STD for trial 6:\n",
            "{'vectorizer__min_df': 1000, 'vectorizer__ngram_range': (1, 1)} - 0.008064527431535481\n",
            "STD for trial 7:\n",
            "{'vectorizer__min_df': 1000, 'vectorizer__ngram_range': (1, 2)} - 0.008064527431535481\n",
            "STD for trial 8:\n",
            "{'vectorizer__min_df': 1000, 'vectorizer__ngram_range': (1, 3)} - 0.008064527431535481\n",
            "Top parameters & score: \n",
            "{'vectorizer__min_df': 100, 'vectorizer__ngram_range': (1, 3)} - 0.858956242571792\n",
            "CPU times: user 2min 2s, sys: 1.73 s, total: 2min 3s\n",
            "Wall time: 2min 17s\n"
          ]
        }
      ]
    },
    {
      "cell_type": "code",
      "source": [
        "# Building the pipeline with the best parameter group and reporting Conf. Mat. and Results on the Test Set #\n",
        "# Create your Pipeline object with the best parameter set.\n",
        "pipeline_top = Pipeline([\n",
        "                     (\"vectorizer\",TfidfVectorizer(min_df=100, ngram_range = (1,3))),\n",
        "                     (\"transformer\", DenseTransformer()),\n",
        "                     (\"nb_classifier\", GaussianNB())\n",
        "])\n",
        "\n",
        "# Fit your pipeline on training set.\n",
        "pipeline_top.fit(binary_train_text, binary_train_labels)\n",
        "\n",
        "# Take prediction and report the F1 and Accuracy scores for binary classification. Then show the confussion table.\n",
        "pred_res = pipeline_top.predict(binary_test_text)\n",
        "acc = accuracy_score(binary_test_labels, pred_res)\n",
        "f1 = f1_score(binary_test_labels, pred_res, average=\"macro\")\n",
        "conf_matrix = confusion_matrix(binary_test_labels, pred_res)\n",
        "print(\"Accuracy score:\", acc)\n",
        "print(\"F1 score:\",f1)\n",
        "\n",
        "#TODO Seaborn confusion matrix draw\n"
      ],
      "metadata": {
        "colab": {
          "base_uri": "https://localhost:8080/"
        },
        "id": "ft_6c0wYNU5n",
        "outputId": "97aafbf7-4c2f-462b-a0df-83350098cabc"
      },
      "execution_count": null,
      "outputs": [
        {
          "output_type": "stream",
          "name": "stdout",
          "text": [
            "Accuracy score: 0.8706842435655995\n",
            "F1 score: 0.8706695147712583\n"
          ]
        }
      ]
    },
    {
      "cell_type": "markdown",
      "source": [
        "### Multi"
      ],
      "metadata": {
        "id": "gUmILCQmpPAE"
      }
    },
    {
      "cell_type": "code",
      "source": [
        "%%time\n",
        "# Initialize and run the GridSearchCV to scan the hyperparameter and find the best hyperparameter set that will maximize the scoring option for multiclass classification.\n",
        "\n",
        "\n",
        "# Initialize and run the GridSearchCV to scan the hyperparameter and find the best hyperparameter set that will maximize the scoring option for binary classification.\n",
        "grid_m = GridSearchCV(pipeline, search_params, scoring = 'f1_macro', return_train_score= False, verbose = 1)\n",
        "grid_m.fit(multi_train_text, multi_train_labels)\n",
        "# Report the standart deviation of split scores for each hyperparameter group.\n",
        "\n",
        "for i in range(9):\n",
        "  print(\"STD for trial \",i,\":\\n\",grid_m.cv_results_[\"params\"][i],\" - \",grid_m.cv_results_[\"std_test_score\"][i] ,sep=\"\")\n",
        "\n",
        "# Show the best parameter set for given dataset and hyperparameter space.\n",
        "print(\"Top parameters & score: \\n\", grid_m.best_params_, \" - \", grid_m.best_score_ ,sep =\"\")\n"
      ],
      "metadata": {
        "id": "Od0ZnT7MpSdC",
        "colab": {
          "base_uri": "https://localhost:8080/"
        },
        "outputId": "33855f5f-ba0c-4980-cdef-57ede9714592"
      },
      "execution_count": null,
      "outputs": [
        {
          "output_type": "stream",
          "name": "stdout",
          "text": [
            "Fitting 5 folds for each of 9 candidates, totalling 45 fits\n",
            "STD for trial 0:\n",
            "{'vectorizer__min_df': 100, 'vectorizer__ngram_range': (1, 1)} - 0.007528039477989049\n",
            "STD for trial 1:\n",
            "{'vectorizer__min_df': 100, 'vectorizer__ngram_range': (1, 2)} - 0.008550563611130407\n",
            "STD for trial 2:\n",
            "{'vectorizer__min_df': 100, 'vectorizer__ngram_range': (1, 3)} - 0.008518967542528911\n",
            "STD for trial 3:\n",
            "{'vectorizer__min_df': 500, 'vectorizer__ngram_range': (1, 1)} - 0.009121338714247074\n",
            "STD for trial 4:\n",
            "{'vectorizer__min_df': 500, 'vectorizer__ngram_range': (1, 2)} - 0.0076089305458114705\n",
            "STD for trial 5:\n",
            "{'vectorizer__min_df': 500, 'vectorizer__ngram_range': (1, 3)} - 0.0076089305458114705\n",
            "STD for trial 6:\n",
            "{'vectorizer__min_df': 1000, 'vectorizer__ngram_range': (1, 1)} - 0.003021142001259106\n",
            "STD for trial 7:\n",
            "{'vectorizer__min_df': 1000, 'vectorizer__ngram_range': (1, 2)} - 0.003021142001259106\n",
            "STD for trial 8:\n",
            "{'vectorizer__min_df': 1000, 'vectorizer__ngram_range': (1, 3)} - 0.003021142001259106\n",
            "Top parameters & score: \n",
            "{'vectorizer__min_df': 100, 'vectorizer__ngram_range': (1, 2)} - 0.4529956932011217\n",
            "CPU times: user 2min 17s, sys: 2.92 s, total: 2min 20s\n",
            "Wall time: 2min 31s\n"
          ]
        }
      ]
    },
    {
      "cell_type": "code",
      "source": [
        "pipeline_top = Pipeline([\n",
        "                     (\"vectorizer\",TfidfVectorizer(min_df=100, ngram_range = (1,2))),\n",
        "                     (\"transformer\", DenseTransformer()),\n",
        "                     (\"nb_classifier\", GaussianNB())\n",
        "])\n",
        "\n",
        "# Fit your pipeline on training set.\n",
        "pipeline_top.fit(multi_train_text, multi_train_labels)\n",
        "\n",
        "# Take prediction and report the F1 and Accuracy scores for binary classification. Then show the confussion table.\n",
        "pred_res = pipeline_top.predict(multi_test_text)\n",
        "acc = accuracy_score(multi_test_labels, pred_res)\n",
        "f1 = f1_score(multi_test_labels, pred_res, average=\"macro\")\n",
        "conf_matrix = confusion_matrix(multi_test_labels, pred_res)\n",
        "print(\"Accuracy score:\", acc)\n",
        "print(\"F1 score:\",f1)\n",
        "\n",
        "#TODO Seaborn confusion matrix draw\n"
      ],
      "metadata": {
        "colab": {
          "base_uri": "https://localhost:8080/"
        },
        "id": "gz9y5Zp9zvYq",
        "outputId": "91d05424-10d1-4fca-ad2e-6214d79914cc"
      },
      "execution_count": null,
      "outputs": [
        {
          "output_type": "stream",
          "name": "stdout",
          "text": [
            "Accuracy score: 0.491\n",
            "F1 score: 0.4757956753612732\n"
          ]
        }
      ]
    },
    {
      "cell_type": "markdown",
      "source": [
        "### Logistic Regression"
      ],
      "metadata": {
        "id": "EMNf8zC50lQQ"
      }
    },
    {
      "cell_type": "code",
      "source": [
        "# https://scikit-learn.org/stable/modules/generated/sklearn.linear_model.LogisticRegression.html\n",
        "\n",
        "# Initiate the pipeline with required components.You can use Pipeline class of sklearn -> https://scikit-learn.org/stable/modules/generated/sklearn.pipeline.Pipeline.html\n",
        "# There will be three components; 1) Word weightning 2) Logistic Regression classifier.\n",
        "\n",
        "pipeline = Pipeline([\n",
        "                     (\"vectorizer\",TfidfVectorizer()),\n",
        "                     (\"logistic_classifier\", LogisticRegression(random_state=22, penalty=\"elasticnet\", solver = \"saga\"))\n",
        "])\n",
        "\n",
        "# Set the hyperparameter space that will be scanned with GridSearchCV.\n",
        "search_params = {\n",
        "    \"vectorizer__min_df\": (100,500,1000),\n",
        "    \"vectorizer__ngram_range\": ((1,1),(1,2),(1,3)),\n",
        "    \"logistic_classifier__l1_ratio\": (0.0,0.5,1.0)\n",
        "}\n",
        "\n"
      ],
      "metadata": {
        "id": "M5ySIl3e552q"
      },
      "execution_count": null,
      "outputs": []
    },
    {
      "cell_type": "markdown",
      "source": [
        "#### Binary"
      ],
      "metadata": {
        "id": "zTmaa_tHTWZ0"
      }
    },
    {
      "cell_type": "code",
      "source": [
        "%%time\n",
        "\n",
        "# Initialize and run the GridSearchCV to scan the hyperparameter and find the best hyperparameter set that will maximize the scoring option for binary classification.\n",
        "grid = GridSearchCV(pipeline, search_params, scoring = 'f1_macro', return_train_score= False, verbose = 1)\n",
        "grid.fit(binary_train_text, binary_train_labels)\n",
        "# Report the standart deviation of split scores for each hyperparameter group.\n",
        "\n",
        "for i in range(9):\n",
        "  print(\"STD for trial \",i,\":\\n\",grid.cv_results_[\"params\"][i],\" - \",grid.cv_results_[\"std_test_score\"][i] ,sep=\"\")\n",
        "\n",
        "# Show the best parameter set for given dataset and hyperparameter space.\n",
        "print(\"Top parameters & score: \\n\", grid.best_params_, \" - \", grid.best_score_ ,sep =\"\")\n",
        "\n",
        "\n",
        "\n"
      ],
      "metadata": {
        "id": "atCcPl1NTQWr",
        "colab": {
          "base_uri": "https://localhost:8080/"
        },
        "outputId": "1c7e35d2-a503-4b77-e3f2-9add9ae1f166"
      },
      "execution_count": null,
      "outputs": [
        {
          "output_type": "stream",
          "name": "stdout",
          "text": [
            "Fitting 5 folds for each of 27 candidates, totalling 135 fits\n",
            "STD for trial 0:\n",
            "{'logistic_classifier__l1_ratio': 0.0, 'vectorizer__min_df': 100, 'vectorizer__ngram_range': (1, 1)} - 0.004296934336474636\n",
            "STD for trial 1:\n",
            "{'logistic_classifier__l1_ratio': 0.0, 'vectorizer__min_df': 100, 'vectorizer__ngram_range': (1, 2)} - 0.005137348665850664\n",
            "STD for trial 2:\n",
            "{'logistic_classifier__l1_ratio': 0.0, 'vectorizer__min_df': 100, 'vectorizer__ngram_range': (1, 3)} - 0.005210047560874584\n",
            "STD for trial 3:\n",
            "{'logistic_classifier__l1_ratio': 0.0, 'vectorizer__min_df': 500, 'vectorizer__ngram_range': (1, 1)} - 0.005086346731671591\n",
            "STD for trial 4:\n",
            "{'logistic_classifier__l1_ratio': 0.0, 'vectorizer__min_df': 500, 'vectorizer__ngram_range': (1, 2)} - 0.004292411243546852\n",
            "STD for trial 5:\n",
            "{'logistic_classifier__l1_ratio': 0.0, 'vectorizer__min_df': 500, 'vectorizer__ngram_range': (1, 3)} - 0.004292411243546852\n",
            "STD for trial 6:\n",
            "{'logistic_classifier__l1_ratio': 0.0, 'vectorizer__min_df': 1000, 'vectorizer__ngram_range': (1, 1)} - 0.004566681797507604\n",
            "STD for trial 7:\n",
            "{'logistic_classifier__l1_ratio': 0.0, 'vectorizer__min_df': 1000, 'vectorizer__ngram_range': (1, 2)} - 0.004566681797507604\n",
            "STD for trial 8:\n",
            "{'logistic_classifier__l1_ratio': 0.0, 'vectorizer__min_df': 1000, 'vectorizer__ngram_range': (1, 3)} - 0.004566681797507604\n",
            "Top parameters & score: \n",
            "{'logistic_classifier__l1_ratio': 0.5, 'vectorizer__min_df': 100, 'vectorizer__ngram_range': (1, 2)} - 0.9069812872742997\n",
            "CPU times: user 4min 10s, sys: 3.9 s, total: 4min 14s\n",
            "Wall time: 4min 16s\n"
          ]
        }
      ]
    },
    {
      "cell_type": "code",
      "source": [
        "# Building the pipeline with the best parameter group and reporting Conf. Mat. and Results on the Test Set #\n",
        "# Create your Pipeline object with the best parameter set.\n",
        "pipeline_top = Pipeline([\n",
        "                     (\"vectorizer\",TfidfVectorizer(min_df=100, ngram_range = (1,2))),\n",
        "                     (\"logistic_classifier\", LogisticRegression(random_state=22, penalty=\"elasticnet\", solver = \"saga\", l1_ratio = 0.5))\n",
        "])\n",
        "\n",
        "# Fit your pipeline on training set.\n",
        "pipeline_top.fit(binary_train_text, binary_train_labels)\n",
        "\n",
        "# Take prediction and report the F1 and Accuracy scores for binary classification. Then show the confussion table.\n",
        "pred_res = pipeline_top.predict(binary_test_text)\n",
        "acc = accuracy_score(binary_test_labels, pred_res)\n",
        "f1 = f1_score(binary_test_labels, pred_res, average=\"macro\")\n",
        "conf_matrix = confusion_matrix(binary_test_labels, pred_res)\n",
        "print(\"Accuracy score:\", acc)\n",
        "print(\"F1 score:\",f1)\n",
        "\n",
        "#TODO Seaborn confusion matrix draw"
      ],
      "metadata": {
        "colab": {
          "base_uri": "https://localhost:8080/"
        },
        "id": "pLnIkAgL6YAb",
        "outputId": "bcc9dec6-c51c-4edb-8fe6-dacd944372b4"
      },
      "execution_count": null,
      "outputs": [
        {
          "output_type": "stream",
          "name": "stdout",
          "text": [
            "Accuracy score: 0.90646578782172\n",
            "F1 score: 0.9064445524429137\n"
          ]
        }
      ]
    },
    {
      "cell_type": "markdown",
      "source": [
        "#### Multiclass"
      ],
      "metadata": {
        "id": "xgy8BLNaTRfZ"
      }
    },
    {
      "cell_type": "code",
      "source": [
        "%%time\n",
        "\n",
        "# Initialize and run the GridSearchCV to scan the hyperparameter and find the best hyperparameter set that will maximize the scoring option for binary classification.\n",
        "grid_m = GridSearchCV(pipeline, search_params, scoring = 'f1_macro', return_train_score= False, verbose = 1)\n",
        "grid_m.fit(multi_train_text, multi_train_labels)\n",
        "# Report the standart deviation of split scores for each hyperparameter group.\n",
        "\n",
        "for i in range(9):\n",
        "  print(\"STD for trial \",i,\":\\n\",grid_m.cv_results_[\"params\"][i],\" - \",grid_m.cv_results_[\"std_test_score\"][i] ,sep=\"\")\n",
        "\n",
        "# Show the best parameter set for given dataset and hyperparameter space.\n",
        "print(\"Top parameters & score: \\n\", grid_m.best_params_, \" - \", grid_m.best_score_ ,sep =\"\")\n"
      ],
      "metadata": {
        "id": "kRYqtWiP2Gg6",
        "colab": {
          "base_uri": "https://localhost:8080/"
        },
        "outputId": "85f404c7-43ce-4a25-f8ab-44d470489c73"
      },
      "execution_count": null,
      "outputs": [
        {
          "output_type": "stream",
          "name": "stdout",
          "text": [
            "Fitting 5 folds for each of 27 candidates, totalling 135 fits\n",
            "STD for trial 0:\n",
            "{'logistic_classifier__l1_ratio': 0.0, 'vectorizer__min_df': 100, 'vectorizer__ngram_range': (1, 1)} - 0.006143746368883522\n",
            "STD for trial 1:\n",
            "{'logistic_classifier__l1_ratio': 0.0, 'vectorizer__min_df': 100, 'vectorizer__ngram_range': (1, 2)} - 0.005230666043487704\n",
            "STD for trial 2:\n",
            "{'logistic_classifier__l1_ratio': 0.0, 'vectorizer__min_df': 100, 'vectorizer__ngram_range': (1, 3)} - 0.005221509426448944\n",
            "STD for trial 3:\n",
            "{'logistic_classifier__l1_ratio': 0.0, 'vectorizer__min_df': 500, 'vectorizer__ngram_range': (1, 1)} - 0.007831118170465258\n",
            "STD for trial 4:\n",
            "{'logistic_classifier__l1_ratio': 0.0, 'vectorizer__min_df': 500, 'vectorizer__ngram_range': (1, 2)} - 0.007692002466348389\n",
            "STD for trial 5:\n",
            "{'logistic_classifier__l1_ratio': 0.0, 'vectorizer__min_df': 500, 'vectorizer__ngram_range': (1, 3)} - 0.007692002466348389\n",
            "STD for trial 6:\n",
            "{'logistic_classifier__l1_ratio': 0.0, 'vectorizer__min_df': 1000, 'vectorizer__ngram_range': (1, 1)} - 0.008065170260668927\n",
            "STD for trial 7:\n",
            "{'logistic_classifier__l1_ratio': 0.0, 'vectorizer__min_df': 1000, 'vectorizer__ngram_range': (1, 2)} - 0.008065170260668927\n",
            "STD for trial 8:\n",
            "{'logistic_classifier__l1_ratio': 0.0, 'vectorizer__min_df': 1000, 'vectorizer__ngram_range': (1, 3)} - 0.008065170260668927\n",
            "Top parameters & score: \n",
            "{'logistic_classifier__l1_ratio': 0.5, 'vectorizer__min_df': 100, 'vectorizer__ngram_range': (1, 3)} - 0.5374491126692803\n",
            "CPU times: user 10min 14s, sys: 5.44 s, total: 10min 20s\n",
            "Wall time: 10min 18s\n"
          ]
        }
      ]
    },
    {
      "cell_type": "code",
      "source": [
        "pipeline_top = Pipeline([\n",
        "                     (\"vectorizer\",TfidfVectorizer(min_df=100, ngram_range = (1,3))),\n",
        "                     (\"logistic_classifier\", LogisticRegression(random_state=22, penalty=\"elasticnet\", solver = \"saga\", l1_ratio=0.5))\n",
        "])\n",
        "\n",
        "# Fit your pipeline on training set.\n",
        "pipeline_top.fit(multi_train_text, multi_train_labels)\n",
        "\n",
        "# Take prediction and report the F1 and Accuracy scores for binary classification. Then show the confussion table.\n",
        "pred_res = pipeline_top.predict(multi_test_text)\n",
        "acc = accuracy_score(multi_test_labels, pred_res)\n",
        "f1 = f1_score(multi_test_labels, pred_res, average=\"macro\")\n",
        "conf_matrix = confusion_matrix(multi_test_labels, pred_res)\n",
        "print(\"Accuracy score:\", acc)\n",
        "print(\"F1 score:\",f1)\n",
        "\n",
        "#TODO Seaborn confusion matrix draw"
      ],
      "metadata": {
        "colab": {
          "base_uri": "https://localhost:8080/"
        },
        "id": "Um5j4pN97o-F",
        "outputId": "aa813727-d96c-414d-ca76-6dbda29f293d"
      },
      "execution_count": null,
      "outputs": [
        {
          "output_type": "stream",
          "name": "stdout",
          "text": [
            "Accuracy score: 0.5645\n",
            "F1 score: 0.5611534754520854\n"
          ]
        }
      ]
    },
    {
      "cell_type": "markdown",
      "source": [
        "## Neural Models"
      ],
      "metadata": {
        "id": "ISxrqFKrh8Rb"
      }
    },
    {
      "cell_type": "markdown",
      "source": [
        "### Convolutional Neural Network (CNN) Data Setup\n",
        "\n"
      ],
      "metadata": {
        "id": "87S_VWH9h-JQ"
      }
    },
    {
      "cell_type": "code",
      "source": [
        "import pandas as pd\n",
        "import numpy as np\n",
        "import nltk,re\n",
        "import tensorflow as tf\n",
        "from sklearn.model_selection import train_test_split\n",
        "from numpy import array,asarray,zeros\n",
        "\n",
        "from nltk.stem import PorterStemmer\n",
        "from nltk.tokenize import sent_tokenize\n",
        "import nltk\n",
        "nltk.download('punkt')\n",
        "\n",
        "import keras\n",
        "from keras.preprocessing.text import Tokenizer\n",
        "from keras.preprocessing.sequence import pad_sequences\n",
        "\n",
        "from keras.models import Sequential\n",
        "from keras.layers.convolutional import Conv1D,MaxPooling1D\n",
        "from keras.layers import Dense,Flatten,Embedding,Input,Dropout, GlobalMaxPooling1D\n",
        "from keras.callbacks import ModelCheckpoint\n",
        "\n",
        "from gensim.models import Word2Vec\n",
        "import gensim.downloader as api"
      ],
      "metadata": {
        "id": "gw4QZK0biCrt",
        "colab": {
          "base_uri": "https://localhost:8080/"
        },
        "outputId": "8cd457f5-40d1-4b36-88e9-a495591b3d5d"
      },
      "execution_count": null,
      "outputs": [
        {
          "output_type": "stream",
          "name": "stdout",
          "text": [
            "[nltk_data] Downloading package punkt to /root/nltk_data...\n",
            "[nltk_data]   Package punkt is already up-to-date!\n"
          ]
        }
      ]
    },
    {
      "cell_type": "code",
      "source": [
        ""
      ],
      "metadata": {
        "id": "1egGlG-7RMFC"
      },
      "execution_count": null,
      "outputs": []
    },
    {
      "cell_type": "code",
      "source": [
        "# Create a validation set from train set\n",
        "# Please use random_state of 22 and test_size of 0.1\n",
        "cnn_bt_train, cnn_bt_val = train_test_split(binary_train, test_size = 0.1, random_state = 22)\n",
        "print(\"bt: \",cnn_bt_train.shape)\n",
        "cnn_bt_train.head(10)\n",
        "\n",
        "cnn_multi_train, cnn_multi_val = train_test_split(multi_tr, test_size = 0.1, random_state = 22)\n",
        "print(\"multi: \",cnn_multi_train.shape)\n",
        "\n",
        "print(type(cnn_bt_train[\"text\"][0]))\n",
        "print(cnn_bt_train.head(10))"
      ],
      "metadata": {
        "colab": {
          "base_uri": "https://localhost:8080/"
        },
        "id": "E5sQAEQQ3MUT",
        "outputId": "0290a357-ed38-44ed-eb47-b9ef1b680b58"
      },
      "execution_count": null,
      "outputs": [
        {
          "output_type": "stream",
          "name": "stdout",
          "text": [
            "bt:  (12966, 3)\n",
            "multi:  (16200, 3)\n",
            "<class 'str'>\n",
            "       Unnamed: 0                                               text  label\n",
            "17174       17174  thoroughli dissatisfi today experi judg bean b...      0\n",
            "6381         6381  price intimid worth owner awesom human bartend...      1\n",
            "14980       14980  far wors starbuck entir citi terribl custom se...      0\n",
            "4542         4542  start say coffe buff certainli enjoy nice cup ...      0\n",
            "11771       11771  absolut favourit place greasi chines food best...      1\n",
            "9330         9330  mani beer choic avail bar serv unclean glass w...      0\n",
            "5249         5249  spent happi hour depot reno ace game appet sel...      0\n",
            "3182         3182  great food servic go back soon authent kurdish...      1\n",
            "5551         5551  need work start put sign restroom menu confus ...      0\n",
            "13288       13288  made appt noon tuesday get 4 new tire chose pl...      0\n"
          ]
        }
      ]
    },
    {
      "cell_type": "markdown",
      "source": [
        "### 1. Randomly Initializing Embedding Matrix"
      ],
      "metadata": {
        "id": "97gbO4_rvET3"
      }
    },
    {
      "cell_type": "code",
      "source": [
        "#Tokenize the sentences\n",
        "tokenizer = Tokenizer()\n",
        "\n",
        "tokenizer.fit_on_texts(list(cnn_bt_train[\"text\"]))\n",
        "                            \n",
        "train_seq  = tokenizer.texts_to_sequences(list(cnn_bt_train[\"text\"])) \n",
        "val_seq = tokenizer.texts_to_sequences(list(cnn_bt_val[\"text\"]))\n",
        "\n",
        "#padding to prepare sequences of same length\n",
        "train_seq_pad  = pad_sequences(train_seq, maxlen=100)\n",
        "val_seq_pad = pad_sequences(val_seq, maxlen=100)\n",
        "\n",
        "word_vec_size = 100\n",
        "\n",
        "words = tokenizer.word_index\n",
        "print(len(words))"
      ],
      "metadata": {
        "colab": {
          "base_uri": "https://localhost:8080/"
        },
        "id": "XkQ5vbG4NvQD",
        "outputId": "56432c60-201e-48a9-902d-307f13877364"
      },
      "execution_count": null,
      "outputs": [
        {
          "output_type": "stream",
          "name": "stdout",
          "text": [
            "19164\n"
          ]
        }
      ]
    },
    {
      "cell_type": "code",
      "source": [
        "# Create your own word embeddings from scratch and load a pretrained word embeddings\n",
        "cnn_bt_train_seqs = [x.split(\" \") for x in list(cnn_bt_train[\"text\"])]\n",
        "x = set()\n",
        "for row in cnn_bt_train_seqs:\n",
        "  for w in row:\n",
        "    x.add(w)\n",
        "\n",
        "n_unique =  len(x)\n",
        "print(\"Number of unique words:\", n_unique)\n",
        "\n",
        "\n",
        "embedding_matrix = np.zeros((n_unique, word_vec_size))\n",
        "for word, i in words.items():\n",
        "  if i < n_unique:\n",
        "    embedding_vector = np.random.rand(word_vec_size)*2 - 1\n",
        "    if embedding_vector is not None:\n",
        "      embedding_matrix[i] = embedding_vector\n",
        "#example \n",
        "print(embedding_matrix[3])\n",
        "\n",
        "# You can check https://radimrehurek.com/gensim/models/word2vec.html for training a word embeddings from scratch\n",
        "num_words = n_unique\n",
        "\n"
      ],
      "metadata": {
        "colab": {
          "base_uri": "https://localhost:8080/"
        },
        "id": "y2hLtaSj3RNT",
        "outputId": "8a920c87-d520-44b4-aea2-fe322f24ad45"
      },
      "execution_count": null,
      "outputs": [
        {
          "output_type": "stream",
          "name": "stdout",
          "text": [
            "Number of unique words: 19165\n",
            "[-0.48650185  0.57426916 -0.78449297  0.96196246 -0.83038441 -0.70190601\n",
            " -0.60714707 -0.0209153   0.41883556  0.68632738 -0.94993838 -0.22719243\n",
            " -0.97562921  0.1814011  -0.60807706  0.15537241 -0.03931685  0.24496245\n",
            " -0.20579255 -0.80571739 -0.40296165 -0.59244424  0.91127789 -0.15551397\n",
            " -0.82291443 -0.43470799 -0.46012219  0.15750555 -0.10794644 -0.4067142\n",
            " -0.52482379 -0.14046346 -0.30931678 -0.19192207 -0.09239058  0.11763344\n",
            "  0.41410979  0.15801172  0.74219211 -0.93560821  0.2769971   0.70279904\n",
            "  0.22448149 -0.33374728 -0.21356701 -0.14108483 -0.1329077  -0.81692755\n",
            " -0.62204202  0.26410006 -0.20232415  0.98377745 -0.76133442  0.98473612\n",
            " -0.04682744 -0.68824163  0.21684994  0.30035167 -0.10847498  0.95203447\n",
            " -0.61234869  0.32306246  0.77296536  0.42228672 -0.45261033  0.95989011\n",
            " -0.23736457  0.11543646  0.05127127 -0.52185373 -0.23354833  0.13651324\n",
            "  0.89161994 -0.24476714 -0.24213453 -0.14072084 -0.93912928 -0.44135007\n",
            " -0.16693311 -0.54703532  0.10629657  0.4057535   0.63491704  0.82124913\n",
            "  0.45543643  0.95969439  0.44314749 -0.59915627  0.04006852  0.1262058\n",
            " -0.20005485  0.02236257 -0.56084428 -0.25162186  0.79994811  0.52929708\n",
            " -0.95060722 -0.04088906  0.1918114   0.73455965]\n"
          ]
        }
      ]
    },
    {
      "cell_type": "markdown",
      "source": [
        "### Building the Model: Binary"
      ],
      "metadata": {
        "id": "-Ez1QTJjvZKy"
      }
    },
    {
      "cell_type": "code",
      "source": [
        "def findWordUnique(tr):\n",
        "  cnn_bt_train_seqs = [x.split(\" \") for x in list(tr[\"text\"])]\n",
        "  x = set()\n",
        "  for row in cnn_bt_train_seqs:\n",
        "    for w in row:\n",
        "      x.add(w)\n",
        "\n",
        "  return len(x)"
      ],
      "metadata": {
        "id": "nnc6okVPIA1n"
      },
      "execution_count": null,
      "outputs": []
    },
    {
      "cell_type": "code",
      "source": [
        "\n",
        "\n",
        "def buildBinaryCNNModel(train_seq, tr_labels, val_seq_pad, val_labels , word_count, embed_matrix, vec_size=100, window = 128, kernel = 4, pool = 3, dense = 64, loss='binary_crossentropy', optimizer='rmsprop', metrics=['accuracy'], epoch = 10):\n",
        "  max_len = max([len(x) for x in train_seq])\n",
        "  train_seq_pad = pad_sequences(train_seq, vec_size)\n",
        " #print(len(train_seq_pad[0]))\n",
        "  embedding_layer = Embedding(\n",
        "    word_count+1,\n",
        "    vec_size,\n",
        "    weights=[embed_matrix],\n",
        "    input_length=max_len,\n",
        "    trainable=False\n",
        "  )\n",
        "\n",
        "  #Set up the network with cnn\n",
        "  input_shape = Input(shape = (len(train_seq_pad[0]),))\n",
        "\n",
        "  cnn_bt=embedding_layer(input_shape)\n",
        "\n",
        "  cnn_bt=Conv1D(window,kernel,activation=\"relu\")(cnn_bt)\n",
        "  cnn_bt=MaxPooling1D(pool)(cnn_bt)\n",
        "\n",
        "  cnn_bt=Conv1D(window/2,kernel-1,activation=\"relu\")(cnn_bt)\n",
        "  cnn_bt=MaxPooling1D(pool)(cnn_bt)\n",
        "\n",
        "  cnn_bt=Conv1D(window/2,kernel-1,activation=\"relu\")(cnn_bt)\n",
        "  cnn_bt=GlobalMaxPooling1D()(cnn_bt)\n",
        "\n",
        "  cnn_bt=Dense(dense,activation=\"relu\")(cnn_bt)\n",
        "  cnn_bt_out = Dense(1, activation=\"sigmoid\")(cnn_bt)\n",
        "\n",
        "  cnn_bt_model = tf.keras.Model(input_shape, cnn_bt_out)\n",
        "  cnn_bt_model.compile(\n",
        "    loss=loss, optimizer=optimizer, metrics=metrics\n",
        "  )\n",
        "  print(cnn_bt_model.summary())\n",
        "\n",
        "  cnn_bt_res = cnn_bt_model.fit(train_seq_pad, tr_labels, validation_data = (val_seq_pad,val_labels) , batch_size = 40, epochs = epoch, verbose = 1)\n",
        "  models.append(cnn_bt_model)\n",
        "  return cnn_bt_res\n"
      ],
      "metadata": {
        "id": "4hF3s6DjBTZ2"
      },
      "execution_count": null,
      "outputs": []
    },
    {
      "cell_type": "code",
      "source": [
        "import itertools\n",
        "\n",
        "######## HYPERPARAMETER TUNING ########\n",
        "\n",
        "w = [128, 64]\n",
        "k = [6,4]\n",
        "d = [64,32]\n",
        "\n",
        "models = []\n",
        "props = []\n",
        "index = 0\n",
        "max_accs = []\n",
        "max_accs_val = []\n",
        "\n",
        "print(\"***** For randomly initialized embedding matrix (Binary)\")\n",
        "for l in list(itertools.product(*[w,k,d])):\n",
        "  epoch = 10\n",
        "  cnn_bt_r = buildBinaryCNNModel(train_seq, cnn_bt_train[\"label\"].values, val_seq_pad, cnn_bt_val[\"label\"].values , len(words), embedding_matrix, epoch = epoch, window = l[0], kernel = l[1], dense = l[2])\n",
        "  print(\"window:\",l[0],\"kernel:\",l[1],\"hidden-layer:\",l[2],sep=\" \")\n",
        "  props.append(l)\n",
        "  print(\"train acc:\",cnn_bt_r.history[\"accuracy\"][epoch-1])\n",
        "  max_accs.append(cnn_bt_r.history[\"accuracy\"][epoch-1])\n",
        "  print(\"validation acc:\",cnn_bt_r.history[\"val_accuracy\"][epoch-1])\n",
        "  max_accs_val.append(cnn_bt_r.history[\"val_accuracy\"][epoch-1])\n",
        "  index+=1\n",
        "\n",
        "#cnn_bt_r = buildBinaryCNNModel(train_seq, cnn_bt_train[\"label\"].values, val_seq_pad, cnn_bt_val[\"label\"].values , len(words), embedding_matrix, epoch = 8)\n"
      ],
      "metadata": {
        "colab": {
          "base_uri": "https://localhost:8080/",
          "height": 1000
        },
        "id": "JCVmojw5GDax",
        "outputId": "fd85dd80-a888-4602-ddf1-17626fc34a4f"
      },
      "execution_count": null,
      "outputs": [
        {
          "output_type": "stream",
          "name": "stdout",
          "text": [
            "***** For randomly initialized embedding matrix (Binary)\n",
            "Model: \"model\"\n",
            "_________________________________________________________________\n",
            " Layer (type)                Output Shape              Param #   \n",
            "=================================================================\n",
            " input_1 (InputLayer)        [(None, 100)]             0         \n",
            "                                                                 \n",
            " embedding (Embedding)       (None, 100, 100)          1916500   \n",
            "                                                                 \n",
            " conv1d (Conv1D)             (None, 95, 128)           76928     \n",
            "                                                                 \n",
            " max_pooling1d (MaxPooling1D  (None, 31, 128)          0         \n",
            " )                                                               \n",
            "                                                                 \n",
            " conv1d_1 (Conv1D)           (None, 27, 64)            41024     \n",
            "                                                                 \n",
            " max_pooling1d_1 (MaxPooling  (None, 9, 64)            0         \n",
            " 1D)                                                             \n",
            "                                                                 \n",
            " conv1d_2 (Conv1D)           (None, 5, 64)             20544     \n",
            "                                                                 \n",
            " global_max_pooling1d (Globa  (None, 64)               0         \n",
            " lMaxPooling1D)                                                  \n",
            "                                                                 \n",
            " dense (Dense)               (None, 64)                4160      \n",
            "                                                                 \n",
            " dense_1 (Dense)             (None, 1)                 65        \n",
            "                                                                 \n",
            "=================================================================\n",
            "Total params: 2,059,221\n",
            "Trainable params: 142,721\n",
            "Non-trainable params: 1,916,500\n",
            "_________________________________________________________________\n",
            "None\n",
            "Epoch 1/10\n",
            "325/325 [==============================] - 15s 8ms/step - loss: 0.5824 - accuracy: 0.6825 - val_loss: 0.5505 - val_accuracy: 0.7405\n",
            "Epoch 2/10\n",
            "325/325 [==============================] - 2s 5ms/step - loss: 0.4139 - accuracy: 0.8116 - val_loss: 0.4898 - val_accuracy: 0.7641\n",
            "Epoch 3/10\n",
            "325/325 [==============================] - 2s 5ms/step - loss: 0.2928 - accuracy: 0.8798 - val_loss: 0.3816 - val_accuracy: 0.8452\n",
            "Epoch 4/10\n",
            "325/325 [==============================] - 2s 5ms/step - loss: 0.2139 - accuracy: 0.9182 - val_loss: 0.3849 - val_accuracy: 0.8473\n",
            "Epoch 5/10\n",
            "325/325 [==============================] - 2s 5ms/step - loss: 0.1513 - accuracy: 0.9450 - val_loss: 0.4869 - val_accuracy: 0.8369\n",
            "Epoch 6/10\n",
            "325/325 [==============================] - 2s 5ms/step - loss: 0.1159 - accuracy: 0.9592 - val_loss: 0.4783 - val_accuracy: 0.8501\n",
            "Epoch 7/10\n",
            "325/325 [==============================] - 2s 5ms/step - loss: 0.0927 - accuracy: 0.9725 - val_loss: 0.5905 - val_accuracy: 0.8404\n",
            "Epoch 8/10\n",
            "325/325 [==============================] - 2s 5ms/step - loss: 0.0871 - accuracy: 0.9744 - val_loss: 1.1298 - val_accuracy: 0.7592\n",
            "Epoch 9/10\n",
            "325/325 [==============================] - 2s 5ms/step - loss: 0.0780 - accuracy: 0.9771 - val_loss: 0.5685 - val_accuracy: 0.8411\n",
            "Epoch 10/10\n",
            "325/325 [==============================] - 2s 5ms/step - loss: 0.0679 - accuracy: 0.9782 - val_loss: 0.8830 - val_accuracy: 0.8015\n",
            "window:128kernel:6hidden-layer:64\n",
            "train acc: 0.9781736731529236\n",
            "validation acc: 0.8015267252922058\n",
            "Model: \"model_1\"\n",
            "_________________________________________________________________\n",
            " Layer (type)                Output Shape              Param #   \n",
            "=================================================================\n",
            " input_2 (InputLayer)        [(None, 100)]             0         \n",
            "                                                                 \n",
            " embedding_1 (Embedding)     (None, 100, 100)          1916500   \n",
            "                                                                 \n",
            " conv1d_3 (Conv1D)           (None, 95, 128)           76928     \n",
            "                                                                 \n",
            " max_pooling1d_2 (MaxPooling  (None, 31, 128)          0         \n",
            " 1D)                                                             \n",
            "                                                                 \n",
            " conv1d_4 (Conv1D)           (None, 27, 64)            41024     \n",
            "                                                                 \n",
            " max_pooling1d_3 (MaxPooling  (None, 9, 64)            0         \n",
            " 1D)                                                             \n",
            "                                                                 \n",
            " conv1d_5 (Conv1D)           (None, 5, 64)             20544     \n",
            "                                                                 \n",
            " global_max_pooling1d_1 (Glo  (None, 64)               0         \n",
            " balMaxPooling1D)                                                \n",
            "                                                                 \n",
            " dense_2 (Dense)             (None, 32)                2080      \n",
            "                                                                 \n",
            " dense_3 (Dense)             (None, 1)                 33        \n",
            "                                                                 \n",
            "=================================================================\n",
            "Total params: 2,057,109\n",
            "Trainable params: 140,609\n",
            "Non-trainable params: 1,916,500\n",
            "_________________________________________________________________\n",
            "None\n",
            "Epoch 1/10\n",
            "325/325 [==============================] - 3s 6ms/step - loss: 0.5927 - accuracy: 0.6758 - val_loss: 0.5649 - val_accuracy: 0.7099\n",
            "Epoch 2/10\n",
            "325/325 [==============================] - 2s 5ms/step - loss: 0.4225 - accuracy: 0.8057 - val_loss: 0.6103 - val_accuracy: 0.7196\n",
            "Epoch 3/10\n",
            "325/325 [==============================] - 2s 5ms/step - loss: 0.2990 - accuracy: 0.8721 - val_loss: 0.5630 - val_accuracy: 0.7828\n",
            "Epoch 4/10\n",
            "325/325 [==============================] - 2s 5ms/step - loss: 0.2130 - accuracy: 0.9159 - val_loss: 0.4485 - val_accuracy: 0.8362\n",
            "Epoch 5/10\n",
            "325/325 [==============================] - 2s 5ms/step - loss: 0.1504 - accuracy: 0.9449 - val_loss: 0.4389 - val_accuracy: 0.8328\n",
            "Epoch 6/10\n",
            "325/325 [==============================] - 2s 5ms/step - loss: 0.1093 - accuracy: 0.9582 - val_loss: 0.7336 - val_accuracy: 0.7897\n",
            "Epoch 7/10\n",
            "325/325 [==============================] - 2s 5ms/step - loss: 0.0880 - accuracy: 0.9705 - val_loss: 0.6520 - val_accuracy: 0.8300\n",
            "Epoch 8/10\n",
            "325/325 [==============================] - 3s 9ms/step - loss: 0.0707 - accuracy: 0.9747 - val_loss: 0.6210 - val_accuracy: 0.8341\n",
            "Epoch 9/10\n",
            "325/325 [==============================] - 3s 9ms/step - loss: 0.0708 - accuracy: 0.9790 - val_loss: 1.0389 - val_accuracy: 0.8029\n",
            "Epoch 10/10\n",
            "325/325 [==============================] - 2s 8ms/step - loss: 0.0635 - accuracy: 0.9800 - val_loss: 0.6138 - val_accuracy: 0.8425\n",
            "window:128kernel:6hidden-layer:32\n",
            "train acc: 0.9800246953964233\n",
            "validation acc: 0.8424705266952515\n",
            "Model: \"model_2\"\n",
            "_________________________________________________________________\n",
            " Layer (type)                Output Shape              Param #   \n",
            "=================================================================\n",
            " input_3 (InputLayer)        [(None, 100)]             0         \n",
            "                                                                 \n",
            " embedding_2 (Embedding)     (None, 100, 100)          1916500   \n",
            "                                                                 \n",
            " conv1d_6 (Conv1D)           (None, 97, 128)           51328     \n",
            "                                                                 \n",
            " max_pooling1d_4 (MaxPooling  (None, 32, 128)          0         \n",
            " 1D)                                                             \n",
            "                                                                 \n",
            " conv1d_7 (Conv1D)           (None, 30, 64)            24640     \n",
            "                                                                 \n",
            " max_pooling1d_5 (MaxPooling  (None, 10, 64)           0         \n",
            " 1D)                                                             \n",
            "                                                                 \n",
            " conv1d_8 (Conv1D)           (None, 8, 64)             12352     \n",
            "                                                                 \n",
            " global_max_pooling1d_2 (Glo  (None, 64)               0         \n",
            " balMaxPooling1D)                                                \n",
            "                                                                 \n",
            " dense_4 (Dense)             (None, 64)                4160      \n",
            "                                                                 \n",
            " dense_5 (Dense)             (None, 1)                 65        \n",
            "                                                                 \n",
            "=================================================================\n",
            "Total params: 2,009,045\n",
            "Trainable params: 92,545\n",
            "Non-trainable params: 1,916,500\n",
            "_________________________________________________________________\n",
            "None\n",
            "Epoch 1/10\n",
            "325/325 [==============================] - 3s 7ms/step - loss: 0.5721 - accuracy: 0.6920 - val_loss: 0.5292 - val_accuracy: 0.7418\n",
            "Epoch 2/10\n",
            "325/325 [==============================] - 2s 5ms/step - loss: 0.3997 - accuracy: 0.8181 - val_loss: 0.4432 - val_accuracy: 0.7967\n",
            "Epoch 3/10\n",
            "325/325 [==============================] - 2s 5ms/step - loss: 0.2908 - accuracy: 0.8768 - val_loss: 0.3980 - val_accuracy: 0.8341\n",
            "Epoch 4/10\n",
            "325/325 [==============================] - 2s 5ms/step - loss: 0.2039 - accuracy: 0.9183 - val_loss: 1.5387 - val_accuracy: 0.5982\n",
            "Epoch 5/10\n",
            "325/325 [==============================] - 2s 5ms/step - loss: 0.1523 - accuracy: 0.9441 - val_loss: 0.4053 - val_accuracy: 0.8515\n",
            "Epoch 6/10\n",
            "325/325 [==============================] - 2s 5ms/step - loss: 0.1075 - accuracy: 0.9632 - val_loss: 0.5965 - val_accuracy: 0.8334\n",
            "Epoch 7/10\n",
            "325/325 [==============================] - 2s 5ms/step - loss: 0.0893 - accuracy: 0.9701 - val_loss: 0.7897 - val_accuracy: 0.8112\n",
            "Epoch 8/10\n",
            "325/325 [==============================] - 2s 5ms/step - loss: 0.0807 - accuracy: 0.9728 - val_loss: 0.5818 - val_accuracy: 0.8383\n",
            "Epoch 9/10\n",
            "325/325 [==============================] - 2s 5ms/step - loss: 0.0726 - accuracy: 0.9779 - val_loss: 0.7037 - val_accuracy: 0.8487\n",
            "Epoch 10/10\n",
            "325/325 [==============================] - 2s 5ms/step - loss: 0.0639 - accuracy: 0.9795 - val_loss: 0.7544 - val_accuracy: 0.8341\n",
            "window:128kernel:4hidden-layer:64\n",
            "train acc: 0.9794847965240479\n",
            "validation acc: 0.8341429829597473\n",
            "Model: \"model_3\"\n",
            "_________________________________________________________________\n",
            " Layer (type)                Output Shape              Param #   \n",
            "=================================================================\n",
            " input_4 (InputLayer)        [(None, 100)]             0         \n",
            "                                                                 \n",
            " embedding_3 (Embedding)     (None, 100, 100)          1916500   \n",
            "                                                                 \n",
            " conv1d_9 (Conv1D)           (None, 97, 128)           51328     \n",
            "                                                                 \n",
            " max_pooling1d_6 (MaxPooling  (None, 32, 128)          0         \n",
            " 1D)                                                             \n",
            "                                                                 \n",
            " conv1d_10 (Conv1D)          (None, 30, 64)            24640     \n",
            "                                                                 \n",
            " max_pooling1d_7 (MaxPooling  (None, 10, 64)           0         \n",
            " 1D)                                                             \n",
            "                                                                 \n",
            " conv1d_11 (Conv1D)          (None, 8, 64)             12352     \n",
            "                                                                 \n",
            " global_max_pooling1d_3 (Glo  (None, 64)               0         \n",
            " balMaxPooling1D)                                                \n",
            "                                                                 \n",
            " dense_6 (Dense)             (None, 32)                2080      \n",
            "                                                                 \n",
            " dense_7 (Dense)             (None, 1)                 33        \n",
            "                                                                 \n",
            "=================================================================\n",
            "Total params: 2,006,933\n",
            "Trainable params: 90,433\n",
            "Non-trainable params: 1,916,500\n",
            "_________________________________________________________________\n",
            "None\n",
            "Epoch 1/10\n",
            "325/325 [==============================] - 3s 6ms/step - loss: 0.5666 - accuracy: 0.6958 - val_loss: 0.7614 - val_accuracy: 0.6197\n",
            "Epoch 2/10\n",
            "325/325 [==============================] - 2s 5ms/step - loss: 0.3960 - accuracy: 0.8229 - val_loss: 0.3883 - val_accuracy: 0.8390\n",
            "Epoch 3/10\n",
            "325/325 [==============================] - 2s 5ms/step - loss: 0.2860 - accuracy: 0.8821 - val_loss: 0.7455 - val_accuracy: 0.7384\n",
            "Epoch 4/10\n",
            "325/325 [==============================] - 2s 5ms/step - loss: 0.2047 - accuracy: 0.9186 - val_loss: 0.3731 - val_accuracy: 0.8508\n",
            "Epoch 5/10\n",
            "325/325 [==============================] - 2s 5ms/step - loss: 0.1514 - accuracy: 0.9427 - val_loss: 0.6709 - val_accuracy: 0.7675\n",
            "Epoch 6/10\n",
            "325/325 [==============================] - 2s 5ms/step - loss: 0.1040 - accuracy: 0.9632 - val_loss: 0.5061 - val_accuracy: 0.8432\n",
            "Epoch 7/10\n",
            "325/325 [==============================] - 2s 5ms/step - loss: 0.0922 - accuracy: 0.9680 - val_loss: 0.7842 - val_accuracy: 0.8029\n",
            "Epoch 8/10\n",
            "325/325 [==============================] - 2s 5ms/step - loss: 0.0763 - accuracy: 0.9750 - val_loss: 0.5300 - val_accuracy: 0.8515\n",
            "Epoch 9/10\n",
            "325/325 [==============================] - 2s 5ms/step - loss: 0.0686 - accuracy: 0.9761 - val_loss: 0.6137 - val_accuracy: 0.8459\n",
            "Epoch 10/10\n",
            "325/325 [==============================] - 2s 5ms/step - loss: 0.0659 - accuracy: 0.9797 - val_loss: 0.6937 - val_accuracy: 0.8334\n",
            "window:128kernel:4hidden-layer:32\n",
            "train acc: 0.9797161817550659\n",
            "validation acc: 0.8334490060806274\n",
            "Model: \"model_4\"\n",
            "_________________________________________________________________\n",
            " Layer (type)                Output Shape              Param #   \n",
            "=================================================================\n",
            " input_5 (InputLayer)        [(None, 100)]             0         \n",
            "                                                                 \n",
            " embedding_4 (Embedding)     (None, 100, 100)          1916500   \n",
            "                                                                 \n",
            " conv1d_12 (Conv1D)          (None, 95, 64)            38464     \n",
            "                                                                 \n",
            " max_pooling1d_8 (MaxPooling  (None, 31, 64)           0         \n",
            " 1D)                                                             \n",
            "                                                                 \n",
            " conv1d_13 (Conv1D)          (None, 27, 32)            10272     \n",
            "                                                                 \n",
            " max_pooling1d_9 (MaxPooling  (None, 9, 32)            0         \n",
            " 1D)                                                             \n",
            "                                                                 \n",
            " conv1d_14 (Conv1D)          (None, 5, 32)             5152      \n",
            "                                                                 \n",
            " global_max_pooling1d_4 (Glo  (None, 32)               0         \n",
            " balMaxPooling1D)                                                \n",
            "                                                                 \n",
            " dense_8 (Dense)             (None, 64)                2112      \n",
            "                                                                 \n",
            " dense_9 (Dense)             (None, 1)                 65        \n",
            "                                                                 \n",
            "=================================================================\n",
            "Total params: 1,972,565\n",
            "Trainable params: 56,065\n",
            "Non-trainable params: 1,916,500\n",
            "_________________________________________________________________\n",
            "None\n",
            "Epoch 1/10\n",
            "325/325 [==============================] - 3s 6ms/step - loss: 0.5930 - accuracy: 0.6743 - val_loss: 0.5124 - val_accuracy: 0.7460\n",
            "Epoch 2/10\n",
            "325/325 [==============================] - 2s 5ms/step - loss: 0.4191 - accuracy: 0.8090 - val_loss: 0.6530 - val_accuracy: 0.7023\n",
            "Epoch 3/10\n",
            "325/325 [==============================] - 2s 5ms/step - loss: 0.2999 - accuracy: 0.8727 - val_loss: 0.4930 - val_accuracy: 0.7821\n",
            "Epoch 4/10\n",
            "325/325 [==============================] - 2s 5ms/step - loss: 0.2133 - accuracy: 0.9128 - val_loss: 0.4465 - val_accuracy: 0.8217\n",
            "Epoch 5/10\n",
            "325/325 [==============================] - 2s 5ms/step - loss: 0.1531 - accuracy: 0.9418 - val_loss: 0.5447 - val_accuracy: 0.8140\n",
            "Epoch 6/10\n",
            "325/325 [==============================] - 2s 5ms/step - loss: 0.1066 - accuracy: 0.9599 - val_loss: 0.5995 - val_accuracy: 0.8105\n",
            "Epoch 7/10\n",
            "325/325 [==============================] - 2s 5ms/step - loss: 0.0893 - accuracy: 0.9684 - val_loss: 0.5673 - val_accuracy: 0.8307\n",
            "Epoch 8/10\n",
            "325/325 [==============================] - 2s 5ms/step - loss: 0.0801 - accuracy: 0.9715 - val_loss: 0.6651 - val_accuracy: 0.8223\n",
            "Epoch 9/10\n",
            "325/325 [==============================] - 2s 5ms/step - loss: 0.0637 - accuracy: 0.9787 - val_loss: 0.7223 - val_accuracy: 0.8279\n",
            "Epoch 10/10\n",
            "325/325 [==============================] - 2s 6ms/step - loss: 0.0700 - accuracy: 0.9783 - val_loss: 0.7128 - val_accuracy: 0.8168\n",
            "window:64kernel:6hidden-layer:64\n",
            "train acc: 0.9782508015632629\n",
            "validation acc: 0.8167939186096191\n",
            "Model: \"model_5\"\n",
            "_________________________________________________________________\n",
            " Layer (type)                Output Shape              Param #   \n",
            "=================================================================\n",
            " input_6 (InputLayer)        [(None, 100)]             0         \n",
            "                                                                 \n",
            " embedding_5 (Embedding)     (None, 100, 100)          1916500   \n",
            "                                                                 \n",
            " conv1d_15 (Conv1D)          (None, 95, 64)            38464     \n",
            "                                                                 \n",
            " max_pooling1d_10 (MaxPoolin  (None, 31, 64)           0         \n",
            " g1D)                                                            \n",
            "                                                                 \n",
            " conv1d_16 (Conv1D)          (None, 27, 32)            10272     \n",
            "                                                                 \n",
            " max_pooling1d_11 (MaxPoolin  (None, 9, 32)            0         \n",
            " g1D)                                                            \n",
            "                                                                 \n",
            " conv1d_17 (Conv1D)          (None, 5, 32)             5152      \n",
            "                                                                 \n",
            " global_max_pooling1d_5 (Glo  (None, 32)               0         \n",
            " balMaxPooling1D)                                                \n",
            "                                                                 \n",
            " dense_10 (Dense)            (None, 32)                1056      \n",
            "                                                                 \n",
            " dense_11 (Dense)            (None, 1)                 33        \n",
            "                                                                 \n",
            "=================================================================\n",
            "Total params: 1,971,477\n",
            "Trainable params: 54,977\n",
            "Non-trainable params: 1,916,500\n",
            "_________________________________________________________________\n",
            "None\n",
            "Epoch 1/10\n",
            "325/325 [==============================] - 5s 9ms/step - loss: 0.5927 - accuracy: 0.6711 - val_loss: 0.6114 - val_accuracy: 0.6933\n",
            "Epoch 2/10\n",
            "325/325 [==============================] - 3s 9ms/step - loss: 0.4310 - accuracy: 0.8075 - val_loss: 0.4882 - val_accuracy: 0.7710\n",
            "Epoch 3/10\n",
            "325/325 [==============================] - 2s 8ms/step - loss: 0.3134 - accuracy: 0.8672 - val_loss: 0.5340 - val_accuracy: 0.7745\n",
            "Epoch 4/10\n",
            "325/325 [==============================] - 3s 8ms/step - loss: 0.2284 - accuracy: 0.9088 - val_loss: 0.4290 - val_accuracy: 0.8237\n",
            "Epoch 5/10\n",
            "325/325 [==============================] - 2s 7ms/step - loss: 0.1603 - accuracy: 0.9368 - val_loss: 0.7713 - val_accuracy: 0.7446\n",
            "Epoch 6/10\n",
            "325/325 [==============================] - 2s 6ms/step - loss: 0.1142 - accuracy: 0.9580 - val_loss: 0.6340 - val_accuracy: 0.8112\n",
            "Epoch 7/10\n",
            "325/325 [==============================] - 2s 5ms/step - loss: 0.0958 - accuracy: 0.9658 - val_loss: 0.6092 - val_accuracy: 0.8217\n",
            "Epoch 8/10\n",
            "325/325 [==============================] - 2s 5ms/step - loss: 0.0816 - accuracy: 0.9722 - val_loss: 1.2432 - val_accuracy: 0.7613\n",
            "Epoch 9/10\n",
            "325/325 [==============================] - 2s 5ms/step - loss: 0.0713 - accuracy: 0.9747 - val_loss: 0.7345 - val_accuracy: 0.8265\n",
            "Epoch 10/10\n",
            "325/325 [==============================] - 2s 5ms/step - loss: 0.0634 - accuracy: 0.9793 - val_loss: 2.7786 - val_accuracy: 0.6634\n",
            "window:64kernel:6hidden-layer:32\n",
            "train acc: 0.9792534112930298\n",
            "validation acc: 0.6634281873703003\n",
            "Model: \"model_6\"\n",
            "_________________________________________________________________\n",
            " Layer (type)                Output Shape              Param #   \n",
            "=================================================================\n",
            " input_7 (InputLayer)        [(None, 100)]             0         \n",
            "                                                                 \n",
            " embedding_6 (Embedding)     (None, 100, 100)          1916500   \n",
            "                                                                 \n",
            " conv1d_18 (Conv1D)          (None, 97, 64)            25664     \n",
            "                                                                 \n",
            " max_pooling1d_12 (MaxPoolin  (None, 32, 64)           0         \n",
            " g1D)                                                            \n",
            "                                                                 \n",
            " conv1d_19 (Conv1D)          (None, 30, 32)            6176      \n",
            "                                                                 \n",
            " max_pooling1d_13 (MaxPoolin  (None, 10, 32)           0         \n",
            " g1D)                                                            \n",
            "                                                                 \n",
            " conv1d_20 (Conv1D)          (None, 8, 32)             3104      \n",
            "                                                                 \n",
            " global_max_pooling1d_6 (Glo  (None, 32)               0         \n",
            " balMaxPooling1D)                                                \n",
            "                                                                 \n",
            " dense_12 (Dense)            (None, 64)                2112      \n",
            "                                                                 \n",
            " dense_13 (Dense)            (None, 1)                 65        \n",
            "                                                                 \n",
            "=================================================================\n",
            "Total params: 1,953,621\n",
            "Trainable params: 37,121\n",
            "Non-trainable params: 1,916,500\n",
            "_________________________________________________________________\n",
            "None\n",
            "Epoch 1/10\n",
            "325/325 [==============================] - 5s 10ms/step - loss: 0.5850 - accuracy: 0.6795 - val_loss: 0.6762 - val_accuracy: 0.6620\n",
            "Epoch 2/10\n",
            "325/325 [==============================] - 2s 7ms/step - loss: 0.4186 - accuracy: 0.8087 - val_loss: 0.4063 - val_accuracy: 0.8210\n",
            "Epoch 3/10\n",
            "325/325 [==============================] - 2s 7ms/step - loss: 0.3174 - accuracy: 0.8621 - val_loss: 0.3931 - val_accuracy: 0.8404\n",
            "Epoch 4/10\n",
            "325/325 [==============================] - 2s 6ms/step - loss: 0.2373 - accuracy: 0.9041 - val_loss: 0.3980 - val_accuracy: 0.8334\n",
            "Epoch 5/10\n",
            "325/325 [==============================] - 2s 6ms/step - loss: 0.1778 - accuracy: 0.9300 - val_loss: 0.4198 - val_accuracy: 0.8258\n",
            "Epoch 6/10\n",
            "325/325 [==============================] - 3s 8ms/step - loss: 0.1376 - accuracy: 0.9495 - val_loss: 1.1135 - val_accuracy: 0.7259\n",
            "Epoch 7/10\n",
            "325/325 [==============================] - 3s 8ms/step - loss: 0.1103 - accuracy: 0.9582 - val_loss: 0.5672 - val_accuracy: 0.8244\n",
            "Epoch 8/10\n",
            "325/325 [==============================] - 2s 6ms/step - loss: 0.0876 - accuracy: 0.9692 - val_loss: 0.6571 - val_accuracy: 0.8147\n",
            "Epoch 9/10\n",
            "325/325 [==============================] - 2s 5ms/step - loss: 0.0794 - accuracy: 0.9718 - val_loss: 0.6460 - val_accuracy: 0.8223\n",
            "Epoch 10/10\n",
            "325/325 [==============================] - 2s 5ms/step - loss: 0.0671 - accuracy: 0.9764 - val_loss: 0.7852 - val_accuracy: 0.8092\n",
            "window:64kernel:4hidden-layer:64\n",
            "train acc: 0.976399838924408\n",
            "validation acc: 0.8091602921485901\n",
            "Model: \"model_7\"\n",
            "_________________________________________________________________\n",
            " Layer (type)                Output Shape              Param #   \n",
            "=================================================================\n",
            " input_8 (InputLayer)        [(None, 100)]             0         \n",
            "                                                                 \n",
            " embedding_7 (Embedding)     (None, 100, 100)          1916500   \n",
            "                                                                 \n",
            " conv1d_21 (Conv1D)          (None, 97, 64)            25664     \n",
            "                                                                 \n",
            " max_pooling1d_14 (MaxPoolin  (None, 32, 64)           0         \n",
            " g1D)                                                            \n",
            "                                                                 \n",
            " conv1d_22 (Conv1D)          (None, 30, 32)            6176      \n",
            "                                                                 \n",
            " max_pooling1d_15 (MaxPoolin  (None, 10, 32)           0         \n",
            " g1D)                                                            \n",
            "                                                                 \n",
            " conv1d_23 (Conv1D)          (None, 8, 32)             3104      \n",
            "                                                                 \n",
            " global_max_pooling1d_7 (Glo  (None, 32)               0         \n",
            " balMaxPooling1D)                                                \n",
            "                                                                 \n",
            " dense_14 (Dense)            (None, 32)                1056      \n",
            "                                                                 \n",
            " dense_15 (Dense)            (None, 1)                 33        \n",
            "                                                                 \n",
            "=================================================================\n",
            "Total params: 1,952,533\n",
            "Trainable params: 36,033\n",
            "Non-trainable params: 1,916,500\n",
            "_________________________________________________________________\n",
            "None\n",
            "Epoch 1/10\n",
            "325/325 [==============================] - 3s 6ms/step - loss: 0.5830 - accuracy: 0.6772 - val_loss: 0.6417 - val_accuracy: 0.6565\n",
            "Epoch 2/10\n",
            "325/325 [==============================] - 2s 7ms/step - loss: 0.4153 - accuracy: 0.8093 - val_loss: 0.6388 - val_accuracy: 0.7141\n",
            "Epoch 3/10\n",
            "325/325 [==============================] - 2s 6ms/step - loss: 0.3075 - accuracy: 0.8700 - val_loss: 0.3864 - val_accuracy: 0.8348\n",
            "Epoch 4/10\n",
            "325/325 [==============================] - 2s 8ms/step - loss: 0.2366 - accuracy: 0.9034 - val_loss: 0.6320 - val_accuracy: 0.7620\n",
            "Epoch 5/10\n",
            "325/325 [==============================] - 3s 8ms/step - loss: 0.1726 - accuracy: 0.9307 - val_loss: 0.9023 - val_accuracy: 0.7217\n",
            "Epoch 6/10\n",
            "325/325 [==============================] - 3s 8ms/step - loss: 0.1395 - accuracy: 0.9472 - val_loss: 0.4708 - val_accuracy: 0.8355\n",
            "Epoch 7/10\n",
            "325/325 [==============================] - 2s 7ms/step - loss: 0.1062 - accuracy: 0.9608 - val_loss: 0.5184 - val_accuracy: 0.8376\n",
            "Epoch 8/10\n",
            "325/325 [==============================] - 2s 5ms/step - loss: 0.0866 - accuracy: 0.9700 - val_loss: 0.6190 - val_accuracy: 0.8397\n",
            "Epoch 9/10\n",
            "325/325 [==============================] - 2s 5ms/step - loss: 0.0742 - accuracy: 0.9746 - val_loss: 1.3833 - val_accuracy: 0.7266\n",
            "Epoch 10/10\n",
            "325/325 [==============================] - 2s 5ms/step - loss: 0.0634 - accuracy: 0.9786 - val_loss: 0.6698 - val_accuracy: 0.8411\n",
            "window:64kernel:4hidden-layer:32\n",
            "train acc: 0.9786364436149597\n",
            "validation acc: 0.8410825729370117\n"
          ]
        },
        {
          "output_type": "error",
          "ename": "AttributeError",
          "evalue": "ignored",
          "traceback": [
            "\u001b[0;31m---------------------------------------------------------------------------\u001b[0m",
            "\u001b[0;31mAttributeError\u001b[0m                            Traceback (most recent call last)",
            "\u001b[0;32m<ipython-input-20-65252fa0600c>\u001b[0m in \u001b[0;36m<module>\u001b[0;34m()\u001b[0m\n\u001b[1;32m     23\u001b[0m   \u001b[0mindex\u001b[0m\u001b[0;34m+=\u001b[0m\u001b[0;36m1\u001b[0m\u001b[0;34m\u001b[0m\u001b[0;34m\u001b[0m\u001b[0m\n\u001b[1;32m     24\u001b[0m \u001b[0;34m\u001b[0m\u001b[0m\n\u001b[0;32m---> 25\u001b[0;31m \u001b[0mmax_ind\u001b[0m\u001b[0;34m=\u001b[0m\u001b[0mmax_accs_val\u001b[0m\u001b[0;34m.\u001b[0m\u001b[0mfind\u001b[0m\u001b[0;34m(\u001b[0m\u001b[0mmax\u001b[0m\u001b[0;34m(\u001b[0m\u001b[0mmax_accs_val\u001b[0m\u001b[0;34m)\u001b[0m\u001b[0;34m)\u001b[0m\u001b[0;34m\u001b[0m\u001b[0;34m\u001b[0m\u001b[0m\n\u001b[0m\u001b[1;32m     26\u001b[0m \u001b[0mmax_model\u001b[0m \u001b[0;34m=\u001b[0m \u001b[0mmodels\u001b[0m\u001b[0;34m[\u001b[0m\u001b[0mmax_ind\u001b[0m\u001b[0;34m]\u001b[0m\u001b[0;34m\u001b[0m\u001b[0;34m\u001b[0m\u001b[0m\n\u001b[1;32m     27\u001b[0m \u001b[0mmax_prop\u001b[0m \u001b[0;34m=\u001b[0m \u001b[0mprops\u001b[0m\u001b[0;34m[\u001b[0m\u001b[0mmax_ind\u001b[0m\u001b[0;34m]\u001b[0m\u001b[0;34m\u001b[0m\u001b[0;34m\u001b[0m\u001b[0m\n",
            "\u001b[0;31mAttributeError\u001b[0m: 'list' object has no attribute 'find'"
          ]
        }
      ]
    },
    {
      "cell_type": "code",
      "source": [
        "max_ind=max_accs_val.index(max(max_accs_val))\n",
        "max_model = models[max_ind]\n",
        "max_prop = props[max_ind]\n",
        "\n",
        "print(\"***********\")\n",
        "print(\"max train acc:\", max(max_accs))\n",
        "print(\"validation acc:\", max(max_accs_val))\n",
        "print(\"max val model properties:\", max_prop)\n",
        "print(\"***********\")"
      ],
      "metadata": {
        "colab": {
          "base_uri": "https://localhost:8080/"
        },
        "id": "oEMxYJlW_Fps",
        "outputId": "e87d1b49-e1f9-4d67-d7b7-f3b900dd857e"
      },
      "execution_count": null,
      "outputs": [
        {
          "output_type": "stream",
          "name": "stdout",
          "text": [
            "***********\n",
            "max train acc: 0.9800246953964233\n",
            "validation acc: 0.8424705266952515\n",
            "max val model properties: (128, 6, 32)\n",
            "***********\n"
          ]
        }
      ]
    },
    {
      "cell_type": "code",
      "source": [
        "# Predicting test cases - Randomly Initialized Matrix\n",
        "test_seq_bt  = tokenizer.texts_to_sequences(list(binary_test[\"text\"])) \n",
        "\n",
        "test_seq_bt_pad  = pad_sequences(test_seq_bt, maxlen=100)\n",
        "bt_test_acc = models[max_ind].evaluate(test_seq_bt_pad,binary_test[\"label\"].values)\n",
        "print(\"Test accuracy:\",bt_test_acc)"
      ],
      "metadata": {
        "colab": {
          "base_uri": "https://localhost:8080/"
        },
        "id": "qv9SGS6-iKbV",
        "outputId": "15595645-9f60-41df-fba9-0014309ffadf"
      },
      "execution_count": null,
      "outputs": [
        {
          "output_type": "stream",
          "name": "stdout",
          "text": [
            "50/50 [==============================] - 1s 7ms/step - loss: 0.6174 - accuracy: 0.8406\n",
            "Test accuracy: [0.6174161434173584, 0.8405523896217346]\n"
          ]
        }
      ]
    },
    {
      "cell_type": "markdown",
      "source": [
        "| **"
      ],
      "metadata": {
        "id": "z2JP5sHm5eoB"
      }
    },
    {
      "cell_type": "markdown",
      "source": [
        "### Embedding Words with Word2Vec Gimsim"
      ],
      "metadata": {
        "id": "ucysMc6eXwOM"
      }
    },
    {
      "cell_type": "code",
      "source": [
        "# You can check https://radimrehurek.com/gensim/auto_examples/howtos/run_downloader_api.html and https://github.com/RaRe-Technologies/gensim-data for loading pretrained word embeddings. \n",
        "model_w2v = Word2Vec(cnn_bt_train_seqs, size = word_vec_size, window = 10, workers = 10, min_count = 2)\n",
        "vocs = list(model_w2v.wv.vocab)\n",
        "print(vocs)\n",
        "print(len(vocs))\n"
      ],
      "metadata": {
        "colab": {
          "base_uri": "https://localhost:8080/"
        },
        "id": "AAI8djzES2O7",
        "outputId": "52e8ed54-8578-432c-b6c0-20d377029e6f"
      },
      "execution_count": null,
      "outputs": [
        {
          "output_type": "stream",
          "name": "stdout",
          "text": [
            "['thoroughli', 'dissatisfi', 'today', 'experi', 'judg', 'bean', 'base', 'menu', 'establish', 'seem', 'pride', 'brisket', 'taco', 'wife', 'platter', 'come', 'deep', 'fri', 'corn', 'tortilla', 'two', 'break', 'half', 'order', 'fold', 'effect', 'make', 'sandwich', 'wholli', 'ined', 'flavorless', 'fat', 'overwhelm', 'good', 'melt', 'mouth', 'chewi', 'slice', 'better', 'juic', 'smoke', 'ring', 'flavor', 'left', 'three', 'plate', 'push', 'side', 'waitress', 'came', 'took', 'inquiri', 'eat', 'also', 'best', 'mac', 'chees', 'brentwood', 'smokehous', 'someth', 'kid', 'clearli', 'shell', 'box', 'complet', 'uninterest', '5', '50', 'per', 'serv', 'toast', 'drink', 'includ', 'lemonad', '2', 'although', 'price', 'list', 'check', 'everyth', 'told', 'surpris', 'charg', 'ask', 'explain', 'said', 'ok', 'tell', '10', 'minut', 'noth', 'end', 'pay', '70', 'piti', 'attempt', 'barbecu', 'want', 'real', 'deal', 'find', 'head', '65', 'edley', 'martin', 'peg', 'leg', '', 'intimid', 'worth', 'owner', 'awesom', 'human', 'bartend', 'fantast', 'far', 'wors', 'starbuck', 'entir', 'citi', 'terribl', 'custom', 'servic', 'lack', 'consist', 'qualiti', 'beverag', 'purchas', 'coffe', 'day', 'row', 'differ', '16', '6', '56', 'big', 'expect', 'meh', 'tast', 'like', 'water', 'chai', 'tea', 'latt', 'spice', 'one', 'thing', 'never', 'understand', 'total', 'respect', 'locat', 'mean', 'cup', 'americano', 'listen', 'complain', 'drop', 'king', 'cake', 'floor', 'argu', 'clean', 'job', 'put', 'much', 'effort', 'actual', 'instead', 'place', 'could', 'bearabl', 'strictli', 'wish', 'give', 'neg', 'star', 'start', 'say', 'buff', 'certainli', 'enjoy', 'nice', 'wow', 'cafe', 'mocha', 'still', 'go', 'back', 'grab', 'neighborhood', 'way', 'opinion', 'last', 'time', 'stop', 'least', 'dog', 'sit', 'laptop', 'pretti', 'full', 'realli', 'type', 'linger', 'shop', 'alon', 'though', 'notic', 'set', 'rule', 'post', 'milk', 'sugar', 'made', 'feel', 'welcom', 'invit', 'appreci', 'absolut', 'favourit', 'greasi', 'chines', 'food', 'edmonton', 'shanghai', 'noodl', 'beef', 'chow', 'fan', 'love', 'wonton', 'soup', 'figur', 'known', 'henc', 'name', 'super', 'fast', 'decent', 'size', 'portion', 'buck', 'downsid', 'sketchi', 'area', 'cash', 'otherwis', 'would', 'given', 'sinc', 'young', 'continu', 'support', 'restaur', 'definit', 'regret', 'hidden', 'gem', 'mani', 'beer', 'choic', 'avail', 'bar', 'unclean', 'glass', 'wine', 'pour', 'small', 'larg', 'restroom', 'appear', 'week', 'shoe', 'stick', 'moment', 'everi', 'step', 'heavi', 'pee', 'smell', 'home', 'becam', 'drunk', 'low', 'standard', 'spent', 'happi', 'hour', 'depot', 'reno', 'ace', 'game', 'appet', 'select', 'special', 'suggest', 'tri', 'cocktail', 'got', 'flight', 'ipa', 'wander', 'favorit', 'bunch', 'honest', 'competit', 'forgett', 'kale', 'dip', 'pita', 'bread', 'must', 'heat', 'microwav', 'temperatur', 'great', 'soon', 'authent', 'kurdish', 'reason', 'kebob', 'compliment', 'dish', 'need', 'work', 'sign', 'confus', 'well', 'inform', 'recommend', 'excit', 'present', 'bland', 'thought', 'mexican', 'five', 'tender', 'year', 'appt', 'noon', 'tuesday', 'get', '4', 'new', 'tire', 'chose', 'b', 'c', 'despit', 'bad', 'review', 'let', 'fedex', 'high', 'perform', 'instal', '20', 'abl', 'final', '55', 'wait', 'long', 'line', 'furiou', 'employe', 'front', 'guy', 'imposs', '2011', 'diesel', 'vw', 'room', 'look', 'car', 'sure', 'fume', 'woman', 'cardio', 'duh', 'know', 'drive', 'past', '3', 'ala', 'red', 'face', 'polit', 'fact', 'chair', 'align', 'cover', 'warranti', 'plan', 'ride', 'readi', 'coupl', 'guess', 'imagin', 'yet', 'almost', 'tow', 'somewher', 'els', 'save', 'incompet', 'answer', 'phone', 'speedi', 'enter', 'kingdom', 'tini', 'park', 'lot', 'went', 'appl', 'bee', 'unpleas', 'tabl', 'arriv', 'dirti', 'salad', 'meal', 'uncl', 'soda', 'windex', 'rice', 'plastic', 'overcook', 'return', 'applebe', 'anytim', 'thank', 'read', 'ever', 'bite', 'theme', 'share', 'short', 'rib', 'panini', 'die', 'mention', 'complimentari', 'black', 'truffl', 'popcorn', 'atmospher', 'laid', 'modern', 'comfort', 'ideal', 'lunch', 'dinner', 'busi', 'date', 'staff', 'knowledg', 'person', 'friendli', 'profession', 'bright', 'innov', 'uniqu', 'concoct', 'anyth', 'accommod', 'pickiest', 'palett', 'top', 'indi', 'u', 'esthet', 'pleas', '1', 'delux', 'prop', 'amanda', 'excel', 'beyond', 'cosi', 'promot', 'healthi', 'altern', 'tasti', 'help', 'disgust', 'worker', 'wear', 'hear', 'net', 'industri', 'use', 'handl', 'enforc', 'hair', 'glove', 'luke', 'night', 'friend', 'stay', 'hotel', 'nearbi', 'disappoint', 'oyster', 'howev', 'p', 'j', 'move', 'shrimp', 'crawfish', 'etouffe', 'crispi', 'brussel', 'sprout', 'spici', 'cajun', 'right', 'creol', 'forward', 'explor', 'ridley', 'test', 'china', 'wok', 'around', 'alway', 'peopl', 'nicer', 'boneless', 'pork', 'chop', 'collard', 'green', 'perfectli', 'cook', 'beauti', 'sweet', 'sauc', 'pair', 'music', 'jazz', 'blue', 'rest', 'jambalaya', 'mediocr', 'mojito', 'horribl', 'sprite', 'littl', 'mint', 'brown', 'bloodi', 'mari', 'pure', 'hot', 'ad', 'bill', 'gone', 'decor', 'spars', 'think', 'custard', 'research', 'topic', 'visit', 'loui', 'ago', 'famili', 'thick', 'creami', 'cold', 'treat', 'anyway', 'pecan', 'pralin', 'peach', 'cobbler', 'lemon', 'shake', 'even', 'saw', 'wed', 'parti', 'take', 'pic', 'free', 'photograph', 'state', 'sort', 'tradit', 'crowd', 'soooo', 'brisk', 'lou', 'disney', 'magic', 'hide', 'edg', 'broad', 'rippl', 'dreami', 'instagram', 'hand', 'velvet', 'life', 'bake', 'white', 'hous', 'captiv', 'design', 'flower', 'weather', 'outdoor', 'seat', 'gorgeou', 'insid', 'breath', 'away', 'light', 'airi', 'color', 'twinkl', 'kind', 'raspberri', 'champagn', 'unfortun', 'floral', 'ice', 'perfect', 'touch', 'assum', 'cream', 'fill', 'middl', 'decad', 'felt', 'plenti', 'huge', 'torn', 'rose', 'cappuccino', 'lavend', 'stun', 'smooth', 'bitter', 'hint', 'enough', 'power', 'probabl', 'prici', 'regular', '12', 'amaz', 'initi', 'care', 'attent', 'decid', 'barista', 'offer', 'anyon', 'heart', 'tooth', 'highlight', 'pictur', 'aw', 'fav', 'street', 'close', 'gave', 'meat', 'crab', 'rangoon', 'sad', 'leav', 'anoth', 'american', 'town', 'thru', 'roll', 'taken', 'slow', 'repeat', 'apolog', 'situat', 'window', 'nobodi', 'us', 'burger', 'dri', 'bun', 'hard', 'worst', 'rude', 'ador', 'ima', 'keep', 'open', 'summer', 'first', 'board', 'option', 'classic', 'guitarist', 'play', 'background', 'pleasant', 'compani', 'relax', 'pull', 'member', 'access', 'join', 'chill', 'concept', 'recent', 'switch', 'fit', '21st', 'south', 'sport', 'club', 'unfriendli', 'except', 'spin', 'class', 'cult', 'weekli', 'stare', 'walk', 'alreadi', 'sky', 'membership', 'rate', 'increas', 'origin', 'basic', 'money', 'elsewher', 'indoor', 'track', 'properli', 'maintain', 'weight', 'section', 'basketbal', 'court', 'femal', 'shoot', 'either', 'gym', 'monthli', 'closer', 'apart', 'trainer', 'friendlier', 'yeah', 'wawa', 'store', 'bother', 'write', 'winner', 'ga', 'station', 'along', 'concord', 'pike', 'fell', '30', 'cent', 'gallon', 'compet', 'follow', 'gener', 'lower', 'bulk', 'profit', 'none', 'wallet', 'secondli', 'automat', 'digit', 'air', 'pump', 'seen', 'bj', 'wholesal', 'snap', 'exact', 'pressur', 'rel', 'effici', 'intern', 'layout', 'style', 'newark', 'separ', 'non', 'cigarett', 'cashier', 'may', 'speed', 'peak', 'period', 'appar', 'brother', 'seafood', 'brought', 'mom', 'pasta', 'alfredo', 'sick', 'ye', 'fairli', 'french', 'goe', 'ordinari', 'stuff', 'clam', 'belli', 'hubbi', 'salmon', 'usual', 'fishi', 'slightli', 'throw', 'meant', 'fish', 'overal', 'kinda', 'chowder', 'serious', 'seattl', 'gift', 'card', 'attend', 'studi', 'draw', 'challeng', 'woah', 'opportun', 'win', 'lol', 'sometim', 'biggest', 'girl', 'opt', 'buffalo', 'typic', 'toss', 'doubl', 'potato', 'soft', 'issu', 'thousand', 'island', 'extrem', 'soggi', 'husband', 'onion', 'thinner', 'cut', 'grass', 'everyon', 'horror', 'show', 'camera', '100', 'remind', 'constantli', 'cctv', 'screen', 'watch', 'singl', 'orang', 'apron', 'content', 'will', 'ignor', 'chat', 'amongst', 'aisl', '200', 'bit', 'driver', 'socket', 'key', 'togeth', 'clue', 'talk', 'self', 'checkout', 'cancel', 'twice', 'extend', 'item', 'third', 'monday', 'overlook', 'boardwalk', 'gazebo', 'secur', 'guard', 'paid', 'dollar', 'waterfront', 'view', 'whether', 'dine', 'beat', 'quit', 'quietli', 'jackson', 'squar', 'flicker', 'lamp', 'interior', 'lush', 'ooz', 'histori', 'cours', 'consum', 'certain', 'point', 'might', 'settl', 'smallest', 'acknowledg', 'sadli', 'spare', 'detail', 'sat', 'longer', 'accept', 'sausag', 'fine', 'funki', 'parsley', 'garnish', 'outstand', 'bet', 'adequ', 'tourist', 'grade', 'exactli', 'ultim', 'ambianc', 'chanc', 'hell', 'amus', 'pleasantli', 'quick', 'homemad', 'steam', 'veggi', 'balanc', 'intend', 'health', 'horseradish', 'hush', 'puppi', 'chip', 'pub', 'quiet', 'old', 'easi', 'encount', 'pricey', '73', '00', 'updat', 'campground', 'highli', 'shuttl', 'trip', 'downtown', 'thai', 'curri', 'signag', 'road', 'tuck', 'corner', 'build', 'center', 'lit', 'sunlight', 'indian', 'buffet', 'india', 'unabl', 'comment', 'prepar', 'stapl', 'palak', 'paneer', 'delici', 'samosa', 'veget', 'ball', 'ubiquit', 'chicken', 'tikka', 'masala', 'normal', 'amount', 'characterist', 'tang', 'thrill', 'done', 'co', 'adventur', 'refresh', 'kati', 'sunday', 'finish', 'comput', 'quickli', 'ticket', 'pass', 'kitchen', 'promptli', 'grill', 'oh', 'melti', 'shannon', 'omelet', 'stuf', 'mushroom', 'cheesi', 'sever', 'shaggi', 'fool', 'experienc', 'amber', 'pleasur', 'surrey', 'morn', 'brunch', 'scrambl', 'egg', 'caper', 'banana', 'foster', 'fresh', 'oj', 'ridicul', 'live', 'hilton', 'riversid', 'outsid', 'quarter', 'highway', '90', 'garden', 'district', 'cool', 'call', 'orlean', 'consid', 'world', 'war', 'ii', 'museum', 'near', 'unassum', 'stand', 'among', 'diner', 'resid', 'patio', 'porch', 'enclos', 'tight', 'wall', 'knickknack', 'without', 'doubt', 'pizza', 'hut', 'occas', 'wrong', 'weekend', 'forgot', '45', 'discov', 'crust', 'unappet', 'thrown', 'incred', 'simpl', 'less', 'stellar', 'tonight', 'birthday', 'earlier', 'afternoon', 'see', 'respons', 'dessert', 'unusu', 'request', 'bring', 'mind', 'futur', 'celebr', 'server', 'spill', 'immedi', 'happen', 'dealt', 'manag', 'blew', 'comp', 'inconveni', 'discomfort', 'substanti', 'whip', 'ricotta', 'within', 'antipasti', 'span', 'rush', 'door', 'savor', 'part', 'wet', 'perhap', 'offens', 'remaind', 'clunki', 'mistak', 'bump', 'train', 'guidanc', 'season', 'reserv', 'clear', 'benedict', 'carnita', 'chilaquil', 'equal', 'modest', 'mous', 'breakfast', 'problem', 'websit', 'contact', 'info', 'wast', 'frequent', 'yelper', 'compel', 'hertz', 'pick', 'reek', 'cigar', 'whole', 'level', 'sensit', 'former', 'smoker', 'unless', 'odd', 'counter', 'avi', 'nation', 'etc', 'man', 'sunni', 'tall', 'mug', 'pale', 'ale', '32', 'ounc', 'stein', 'needless', 'fare', 'notch', 'impress', 'version', 'interest', 'n', 'simpli', 'divin', 'instantli', 'addict', 'ketchup', 'companion', 'likewis', 'blown', 'pan', 'hash', 'gusto', 'contrast', 'breweri', 'distilleri', 'addit', 'region', 'craft', 'scene', 'darn', 'brew', 'hey', 'anywher', 'spirit', 'neat', 'picon', 'liqueur', 'round', 'punch', 'eager', 'stack', 'santa', 'fe', 'admit', 'lighter', 'tend', 'form', 'unoffici', 'applaud', 'branch', 'often', 'boot', 'desir', 'bottl', 'liquor', 'featur', 'railway', 'phenomen', 'histor', 'captur', 'warm', 'piec', 'eye', 'candi', 'amazingli', 'pain', 'alleyway', 'next', 'local', 'add', 'hope', 'favor', 'bbq', 'strang', 'molass', 'toler', 'hire', 'tastebud', 'crumbl', 'pie', 'desert', 'threw', 'textur', 'crazi', 'st', 'shape', '18', 'cart', 'path', '8', 'isnt', 'popey', 'condiment', 'strawberri', 'jelli', 'grape', 'main', 'poor', 'dont', 'didnt', 'attitud', 'travel', 'toward', 'ms', 'correct', 'slab', '26', 'feed', 'four', 'contain', 'run', 'stingi', 'tucson', 'tasteless', 'bourbon', 'ill', 'courteou', 'afraid', 'r2l', 'primarili', 'sip', '30pm', 'wednesday', 'sunset', 'turn', 'cloudi', 'west', 'ate', 'risotto', 'entre', 'hungri', 'second', 'annoy', 'note', 'nois', 'adjac', 'loud', 'pack', 'swanki', 'popular', 'mayb', 'dispers', 'later', 'strict', 'doo', 'kept', 'superb', 'reconcil', 'étouffé', 'nola', 'folk', 'strongli', 'success', 'spread', 'word', 'swing', 'rap', 'incid', 'honestli', 'danc', 'blast', 'guest', 'coat', 'cost', 'definetli', 'jacket', 'venu', 'crappi', 'acoust', 'hipster', 'art', 'idea', 'napa', 'send', 'whiskey', 'deli', 'tray', 'begin', 'paint', 'teach', 'instructor', 'patient', 'mother', 'someon', 'buy', 'earn', 'margarita', 'tequila', 'pomegran', 'frozen', 'mine', 'sugari', 'headach', 'instant', 'brain', 'freez', 'spot', 'pitcher', 'redeem', 'fisher', 'remain', 'refil', 'forev', 'children', 'explan', 'motel', '0', 'elev', 'broken', 'event', 'deliv', 'receiv', 'question', 'extra', 'dress', 'ground', 'casino', 'cozi', 'importantli', 'tandoori', 'yummi', 'aspect', 'import', 'wake', 'windshield', 'bed', 'fruit', 'massag', 'wi', 'fi', 'allow', 'print', 'lobbi', 'believ', 'amtrak', 'hispan', 'nastiest', 'napkin', 'permiss', 'heal', 'soul', 'current', 'voicemail', 'email', 'evolv', '24', 'resolut', 'eta', 'potenti', 'salti', 'rim', 'god', 'sooo', 'suck', 'greet', 'btw', 'bought', 'voucher', 'yelp', 'neither', '15', 'found', 'flag', 'fix', 'convers', 'feedback', 'excus', 'band', 'breaker', 'ps', 'umbrella', 'sun', 'son', 'caus', 'incorrect', 'eh', 'bulb', 'hardli', 'strong', 'expens', 'rais', 'planet', 'beach', 'tan', 'reccommend', 'harder', 'school', 'tulan', 'credit', 'conveni', 'spend', 'nawlin', 'steep', 'bathroom', 'stall', '17', 'eaten', 'greek', 'consistantli', 'f', 'manicur', 'male', 'dam', 'saturday', 'veal', 'parmigiana', 'entré', 'gristl', 'sent', 'waiter', 'fellow', 'whenev', '22', 'especi', 'sister', 'riviera', 'medford', 'lake', 'graduat', 'niec', 'coupon', 'app', 'mile', 'royal', 'farm', 'groceri', 'polici', 'ineptitud', 'reach', 'epic', 'proport', 'coloss', 'sea', 'express', 'script', 'seriou', 'cute', 'blend', 'awhil', 'rememb', '7', 'routin', 'aunt', 'kick', 'countri', 'gravi', 'lightest', 'biscuit', 'fabul', 'yum', 'exist', 'anybodi', 'unorgan', 'exagger', 'promis', 'zero', '1st', 'appoint', 'dr', 'hopper', 'yesterday', 'stress', 'due', 'athlet', 'exercis', 'program', 'recoveri', 'unlik', 'doctor', 'approach', 'medicin', 'virtual', 'schedul', 'emerg', 'enthusiast', 'truli', 'bareburg', 'nyc', 'somebodi', 'frustrat', 'prefer', 'wendi', 'reveal', 'nametag', 'okay', 'glad', 'garlic', 'pepper', 'dang', 'soak', 'italian', 'absorb', 'cannot', 'caesar', 'wrap', 'cloy', 'zip', 'vanilla', 'nigiri', 'scale', 'hottest', 'wing', 'hott', 'greas', 'stomach', 'iron', 'teri', 'arteri', 'roma', 'butcher', 'tough', 'shame', 'patrick', 'film', 'heartbeat', 'bell', '9', 'depend', 'other', 'nevada', 'joke', 'anymor', 'commerci', 'forgotten', 'poison', 'del', 'manner', 'mien', 'raw', 'describ', 'edibl', 'yike', 'defiantli', 'miss', 'chemic', 'natur', 'poboy', 'wateri', 'mess', 'thin', 'burn', 'cheap', 'meager', 'english', 'lace', 'potion', 'miso', 'fun', 'mix', 'hostess', 'younger', '35', 'stuck', 'rethink', 'upset', 'number', 'oper', 'deplor', 'astoundingli', 'atroci', 'overpr', 'posit', 'honda', 'salesman', 'stereotyp', 'profess', 'glow', 'act', 'sell', 'dread', 'salesperson', 'ali', 'minivan', 'lousi', 'father', '2018', 'odyssey', 'amir', 'sale', 'associ', 'dealership', 'absurd', 'toyota', 'decis', 'joe', 'somehow', 'wheel', 'model', 'prove', 'brief', 'indic', 'boxer', 'case', 'refus', 'principl', 'lean', 'dad', 'text', 'obnoxi', 'whatev', 'stori', 'somewhat', 'shorter', 'determin', 'seal', 'paper', 'rather', 'hilari', 'pivot', 'system', '300', 'boy', 'usher', 'offic', 'bob', 'written', 'obscur', 'agre', 'pm', 'meet', 'earli', 'accord', 'paperwork', 'funni', '99', 'awar', 'sincer', 'intoler', 'group', 'hit', 'pop', 'virginia', 'horrend', '19', 'slowli', 'pile', 'sushi', 'prime', 'la', 'cuz', 'varieti', 'teriyaki', 'california', 'imit', 'liter', 'staf', 'client', 'hype', 'grit', 'spoon', 'sauci', 'steak', 'harvey', 'brand', 'averag', 'unev', 'revamp', 'sticki', 'boyfriend', 'symphoni', 'wonder', 'founder', 'circl', 'movi', 'orchestra', 'choru', 'volunt', 'throughout', 'afford', 'collis', 'bodi', 'jan', 'madden', 'muffler', 'fli', 'bmw', 'damag', 'danger', 'insur', 'cadillac', 'accid', 'commun', 'eleven', 'honor', 'occupi', 'nope', 'le', 'tip', 'previou', 'advanc', 'understaf', 'feast', 'al', 'pastor', 'ten', 'qv', 'laundri', 'philli', 'mcglinchey', 'cloth', 'stink', 'washer', 'dryer', 'smokey', 'pastri', 'sold', 'aunti', 'ann', 'pretzel', 'dough', 'butter', 'stir', 'dump', 'vomit', 'crave', 'cinnamon', 'regist', 'forget', 'stock', 'tower', 'grove', 'farmer', 'market', 'uplift', 'fulfil', 'chang', 'across', 'alter', 'tomato', 'cage', 'baguett', 'croissant', 'snack', 'complaint', 'becom', 'yoga', 'flood', 'dampen', 'deliveri', 'month', 'walmart', 'id', 'target', 'appli', 'repli', 'stubborn', 'bonu', 'dumb', 'h', 'avoid', 'onlin', 'nan', 'rubberi', 'chutney', 'pre', 'goat', 'gross', 'crusti', 'carpet', 'ceil', 'underpaid', 'disinterest', 'mango', 'lassi', 'fire', 'limit', 'desk', 'stool', 'creation', 'variou', 'papaya', 'jicama', 'carrot', 'mayo', 'peanut', 'tru', 'descript', 'hold', 'shallot', 'crunch', 'vacat', 'closest', 'checkmark', 'besid', 'halibut', 'snapper', 'solid', 'chef', 'swordfish', 'discount', 'friday', 'prep', 'rant', 'team', 'up', 'ordeal', 'movegreen', 'relationship', 'goug', 'advantag', 'fair', 'chew', 'proceed', 'caution', 'mr', '33', 'medium', 'rare', 'gumbo', 'ya', 'tria', 'unhelp', 'plater', 'plain', 'miser', 'rittenhous', 'learn', 'skill', 'dull', 'bare', 'creepi', 'bikini', 'wax', 'book', 'groupon', 'gotten', 'unaccept', 'hurt', 'neck', 'inappropri', 'sheet', 'deserv', 'sean', 'nacho', 'rock', 'casserol', 'burg', 'weird', 'strip', 'mall', 'barber', 'estat', 'agent', 'combo', 'pancak', 'easili', 'pete', 'chalkboard', 'cheesecak', 'skillet', 'burrito', 'dark', 'weak', 'thu', 'diet', 'coke', 'apologet', 'sirloin', 'canadian', 'bacon', 'kobe', 'cheddar', 'pickl', 'lobster', 'carmel', 'portabello', 'jalepeno', 'buddi', 'shovel', 'hose', 'pink', 'luckili', 'attract', 'similar', 'hooter', 'belgium', 'damn', 'abil', 'luxuri', 'foie', 'gra', 'exampl', 'fuck', 'account', 'tommi', 'spoil', 'delicaci', 'sharon', 'donna', 'joy', 'privat', 'space', 'fiancé', 'heard', 'plu', 'cantones', 'dozen', 'lo', 'angel', 'vibe', 'struck', 'hang', 'distanc', 'watermelon', 'jade', 'attack', 'shoulder', 'motiv', 'repres', 'nashvil', 'musician', 'prom', 'omg', 'michael', 'confirm', 'thou', 'specif', 'advis', '8am', 'workshop', '30am', 'alex', 'partner', 'sight', 'hairstylist', 'carla', 'extens', 'grown', 'affili', 'ladi', 'nail', 'tech', 'adam', 'caruso', '40', 'ny', 'dig', 'abund', 'tv', 'equip', 'quaint', 'overli', 'growler', '28', 'vari', 'rang', 'fanci', 'cheaper', 'barrio', 'tap', 'bummer', 'turkey', 'mediterranean', 'tuna', 'hummu', 'kabob', 'swell', 'wrist', 'arm', 'afterward', 'blood', 'insan', '135', 'alarm', 'crap', 'ding', 'recogn', 'concern', 'symptom', 'anxieti', 'fallen', 'rooftop', 'junk', 'queen', 'england', 'hospit', 'million', 'mono', 'um', 'strain', 'bandag', 'possibl', 'and', 'tattoo', 'hood', 'rat', 'twenti', 'seven', 'depress', 'chart', 'chick', 'bitch', 'suppli', 'reassur', 'physic', 'wheelchair', 'cuff', 'cough', 'syrup', 'tool', 'kit', 'healthcar', 'hoard', 'stethescop', 'laugh', 'machin', 'manual', 'humor', 'pretend', '110', 'record', 'punk', 'brace', '11', 'airlin', 'starv', 'utensil', 'finger', 'bachelorett', 'bowl', 'footbal', 'player', 'weirdo', 'fight', 'glue', 'clog', 'killer', 'entertain', 'late', 'drunken', 'own', 'guacamol', 'mecca', 'pollut', 'jersey', 'merchandis', 'bahama', 'shirt', 'sweater', 'condit', 'squeez', 'empti', 'southern', 'infus', 'vodka', 'trout', 'scari', 'sound', 'towel', 'bedbug', 'garag', 'privileg', 'bike', 'ellipt', 'quirk', 'shut', 'lock', 'fortun', 'colleagu', '5th', 'stair', 'stl', 'luck', 'knew', 'suppos', 'gp', 'espresso', 'muffin', 'centerpiec', 'patron', 'par', 'smile', 'lid', 'result', 'major', 'troubl', 'bag', 'rustic', 'upgrad', 'bomb', 'vegetarian', 'shit', 'seitan', 'ranch', 'split', 'texa', 'cactu', 'pushi', 'brows', 'wide', 'isl', 'bakeri', 'kettl', 'semi', 'carri', 'albertson', 'ruin', '3rd', 'caught', 'guid', 'entri', 'meanwhil', 'booth', 'unclear', 'hi', 'seltzer', 'warmer', 'shelf', 'clock', 'disappear', 'wave', 'waffl', 'blt', 'subpar', 'albeit', 'robot', 'sorri', 'payment', 'assign', 'disbelief', 'memor', 'advic', 'embarrass', 'unsanitari', 'blow', 'nose', 'wash', 'donut', 'bagel', 'lettuc', 'trash', 'lie', 'depart', 'yuck', 'appropri', 'age', 'sweati', 'everytim', 'jump', 'declin', 'quirki', 'philadelphia', 'dmitri', '15th', 'colleg', 'reunion', 'reminisc', 'irrit', 'announc', 'butt', 'hostil', 'sacr', 'insult', 'injuri', 'octopu', 'spectacular', 'laurel', 'waitstaff', 'america', 'snooti', 'frenchmen', 'snug', 'girlfriend', 'po', 'internet', 'wtf', 'pathet', 'gladli', 'theo', 'easter', 'holiday', 'everywher', 'continent', 'con', 'mirror', 'thursday', 'inquir', 'buntini', 'whoever', 'error', 'misunderstand', 'meantim', 'rectifi', 'vacuum', 'hitch', 'dent', 'tin', 'drum', 'takeout', 'marathon', 'meatloaf', 'worri', 'assur', '10pm', '42', 'reluctantli', 'hello', 'infam', 'pet', 'peev', 'nerv', 'cowork', 'loser', 'bush', 'leagu', 'airport', 'ole', 'inconsist', 'pepperoni', 'tab', '11am', 'nearli', 'downhil', 'speak', 'attest', 'pho', 'teppanyaki', 'asid', 'host', 'weekday', 'bird', 'campagnola', 'brandi', 'scallop', 'freshli', 'san', 'francisco', 'outlet', 'wifi', 'newtown', 'pad', 'brian', 'banh', 'mi', 'publix', 'asada', 'salt', 'compens', 'terrif', 'e', 'g', 'nobl', '13', 'worthwhil', 'indulg', 'particularli', 'fond', 'pisco', 'sour', 'bewar', 'seek', 'ol', 'destin', 'starter', 'teaser', 'en', 'rout', 'enchilada', 'de', 'verdura', 'happili', 'tote', 'leftov', 'rave', 'meati', 'mulita', 'casual', 'delicia', 'easier', 'budget', 'josh', 'guac', 'infuri', 'complex', 'fee', 'poorli', 'ongo', 'mainten', 'malfunct', 'detector', 'faucet', 'resolv', 'corpor', 'useless', 'camden', 'properti', '2015', 'regard', 'com', 'encourag', 'true', 'tampa', 'choos', 'wood', '9am', 'omelett', 'babi', 'carb', 'mapl', 'stole', 'w', 'chili', 'minu', 'freakin', 'log', 'cabin', 'frontier', 'central', 'bundl', 'muriel', '25th', 'traffic', 'whose', 'astound', 'coolinari', 'crepe', 'duck', 'bayoubaiss', 'creme', 'brûlée', 'ihop', 'canal', 'adult', '14', 'buttermilk', 'daughter', 'began', '54', 'colorado', 'nasti', 'ugh', 'gawd', 'curli', 'reddish', 'obvious', 'match', 'duti', 'replac', '63', '89', 'gratuiti', 'churn', 'memori', 'eras', 'err', 'ahead', 'unfair', 'oe', 'ton', 'lead', 'releas', 'oxford', 'exchang', 'blare', 'latin', 'candl', 'protein', 'vehicl', 'aka', 'ancho', 'pico', 'gallo', 'blister', 'shishito', 'specialti', 'whatsoev', 'almond', 'refriger', 'recip', 'disast', 'howard', 'miguel', 'sole', 'sake', '60', 'teenag', 'cooki', 'search', 'bass', 'mudbug', 'behind', 'gun', 'guitar', 'idiot', 'award', 'observ', 'heav', 'correctli', 'product', 'pound', 'bye', 'felicia', 'grouper', 'lasagna', 'tre', 'lost', 'miracul', 'method', 'scrap', 'upstair', 'ac', 'unit', 'vibrat', 'straight', 'buzz', 'queso', 'allergi', 'neighbor', 'tour', 'swamp', 'skeptic', 'steve', 'mumbl', 'strand', 'provid', 'quot', 'layer', 'skin', 'rip', 'brow', 'salon', 'accus', 'spoke', 'remov', 'profound', 'apathet', 'accident', 'knock', 'reaction', 'manger', 'gonna', 'disagre', 'asian', 'coconut', 'broth', 'overpow', 'glob', 'can', 'standout', 'brewer', 'cheu', 'smart', 'slam', 'lamin', 'load', 'mash', 'sliver', 'amen', 'rough', 'exceed', 'maggi', 'mae', 'stumbl', 'whiff', 'oil', 'dislik', 'individu', 'poach', 'exquisit', 'taiwanes', 'dumpl', 'soy', 'boil', 'everyday', 'mini', 'frisco', 'volum', 'broccoli', 'toni', 'jr', 'sr', 'alcohol', 'ran', '47', 'hurri', 'lastli', 'channel', 'scream', 'joint', 'heartier', 'calzon', 'marinara', 'spring', 'hill', 'dedic', 'coordin', 'minor', 'discrimin', 'disrespect', 'block', 'dancer', 'tone', 'stood', 'directli', 'doorway', 'forc', 'assist', 'overheard', 'chime', 'impolit', 'bu', 'moxi', 'barbara', 'exhibit', 'scienc', 'technolog', 'northern', 'ca', 'sf', 'jose', 'smaller', 'depth', 'instrument', 'display', 'ynez', 'mountain', 'pacif', 'ocean', 'theater', 'min', 'stretch', 'plaqu', 'blurb', 'variabl', 'measur', 'alpha', 'blank', 'roof', 'circuit', 'correspond', 'hat', 'rusti', 'biryani', 'delawar', 'josef', 'expressli', 'assort', 'behalf', 'extravag', 'gal', 'heap', 'entranc', 'shelv', 'cabinet', 'hub', 'understood', 'skit', 'difficult', 'six', 'bound', 'turnov', 'flash', 'hung', 'sawdust', 'daili', 'moist', 'doll', 'frost', 'jam', 'flat', 'lard', 'suspect', 'repair', 'broke', 'shatter', 'biscotti', 'stale', 'aliv', 'mad', 'chuck', 'garbag', 'drain', 'infinit', 'fresher', 'trader', 'vienna', 'crisp', 'condens', 'noisi', 'utterli', 'estim', 'escargot', 'charcuteri', 'outrag', 'stromboli', 'genuin', 'paus', 'plantain', 'patti', 'dentist', 'comprehens', 'treatment', 'mission', 'steadi', 'flow', 'torta', 'upon', 'mere', 'januari', 'saint', 'fleur', 'li', 'embassi', 'suit', 'underwhelm', 'porcini', 'asparagu', 'artichok', 'oxtail', 'ravioli', 'fettuccin', 'bolognes', 'blah', 'therefor', 'cramp', 'fest', 'annual', 'mar', 'spotti', 'skimp', 'subsequ', 'palm', 'harbor', 'disservic', 'satisfact', 'panera', 'satisfi', 'lover', 'slaw', 'char', 'covet', 'smoki', 'vinegar', 'lingeri', 'desper', 'cherri', 'nordstrom', 'factor', 'cobb', 'kyle', 'confid', 'necessari', 'subject', 'upsel', 'restor', 'dental', 'waaay', 'saltiest', 'sweeti', 'hesit', 'si', 'catfish', 'bushwack', 'brunswick', 'stew', 'delight', 'compar', 'poster', 'eater', 'vermicelli', 'salsa', 'tomatoey', 'european', 'soccer', 'cnn', 'camp', 'signatur', 'cilantro', 'monterey', 'quesadilla', 'unexpectedli', 'flattop', 'precook', 'chunk', 'binder', 'jerk', 'nake', 'breast', 'choke', 'rowdi', 'penn', 'modesto', 'tapa', 'sangria', 'aswel', 'report', 'scratch', 'trunk', 'deliber', 'hate', 'bent', 'splurg', 'jare', 'spaghetti', 'el', 'limon', 'intim', 'ingredi', 'indiana', 'drab', '49', '81', 'statu', 'dinosaur', 'ryan', 'frank', 'rubi', 'interact', 'hors', '54th', 'furnitur', 'fianc', 'chester', 'shot', '00am', '00pm', 'older', 'women', 'bistro', 'tropez', 'river', 'anxiou', 'ultrasound', 'womb', 'sex', 'studio', 'jana', 'process', 'kindli', 'parmesan', 'cheesesteak', 'romant', 'mill', 'sauvignon', 'blanc', 'extraordinari', 'bia', 'till', 'mon', 'thur', 'franklin', 'fountain', 'gelato', 'capogiro', 'chocolat', 'walnut', 'dens', 'nephew', 'yellowtail', 'tostada', 'congeal', 'fridg', 'iceberg', 'downgrad', 'matter', 'delicioso', 'public', 'jean', 'foremost', 'drizzl', 'suffic', 'bud', 'fiesta', 'boca', 'cedar', 'plank', 'chile', 'relleno', 'vice', 'versa', 'accomod', 'multipl', 'glanc', 'upscal', 'wanna', 'tartin', 'sprinkl', 'inch', 'roast', 'monitor', 'clayton', 'eateri', 'unkept', 'valentin', 'tacki', 'cosmetolog', 'lazi', 'purpos', 'stylist', 'erica', 'sew', 'chant', 'braid', 'revisit', 'equival', 'that', 'nonetheless', 'mozzarella', 'root', 'mostli', 'cole', 'screw', 'dilapid', 'action', 'silverwar', 'grime', 'chain', 'vet', 'compassion', 'bum', 'loss', 'robert', 'cobia', 'im', 'lentil', 'vinegrett', 'filet', 'compot', 'label', 'jip', 'sampl', 'q', 'slight', 'acid', 'bittersweet', 'chipotl', 'lime', 'oili', 'subtl', 'bold', 'dunk', 'recal', 'heavili', 'rich', 'intens', 'partial', 'parch', 'bloat', 'quench', 'thirst', 'sodium', 'intak', 'juici', 'justifi', 'wishbon', 'elementari', 'palat', 'allegro', 'bigger', 'contest', 'prior', 'increment', 'aioli', 'mass', 'produc', 'assembl', 'site', 'vs', 'qdoba', 'moe', 'coast', 'interchang', 'coca', 'cola', 'freestyl', 'fwiw', 'on', 'wrinkl', 'thanksgiv', 'student', 'hurrican', 'regga', 'r', 'jamaican', 'eas', '2012', 'univers', 'creve', 'coeur', 'numer', 'takeaway', 'trump', 'vindaloo', 'fluffi', 'defint', 'haircut', 'shave', 'swear', 'repertoir', 'mansion', 'recept', 'loudli', 'remark', 'direct', 'bride', 'groom', 'breanna', 'dream', 'particular', 'vision', 'backward', 'creat', 'alchemi', 'blacken', 'allig', 'mushi', 'etoufe', 'cafeteria', 'grubhub', 'hoagi', 'westchas', 'clientel', 'zillion', 'milanes', 'modifi', 'que', 'whomev', 'gourmet', 'vast', 'improv', 'spaciou', 'blatantli', 'drug', 'ck', 'nightclub', 'shadi', 'balconi', 'mid', 'stargat', 'western', 'spanish', 'stepdad', 'ube', 'ewc', 'waxer', 'armpit', 'esthetician', 'undress', 'advertis', 'press', 'upper', 'boob', 'bruis', 'barbershop', 'church', 'fellowship', 'hassl', 'renew', 'resteraunt', 'hr', 'nick', 'belgian', 'fyi', 'sweetheart', 'session', 'spa', 'busiest', 'busier', 'monteleon', 'awlin', 'harrah', 'fussi', 'spotlessli', 'cereal', 'yogurt', 'carryout', 'tablet', 'connect', 'devic', 'data', 'inde', 'heather', 'offset', 'video', 'clip', 'dj', 'proce', 'snide', 'ventur', 'bb', 'darken', 'doorstep', 'distract', 'kc', 'fatti', 'pot', 'evid', 'brais', '75', 'percent', 'meatless', 'phase', 'riverwalk', 'restart', 'jenni', 'andrew', 'assess', 'fundido', 'empanada', 'law', 'pumpkin', 'pier', 'fisherman', 'wharf', 'independ', 'herb', 'seagul', 'grace', 'dead', 'eclect', 'random', 'capres', 'steal', 'tho', 'caramel', 'spear', 'dill', 'zest', 'balsam', 'reduct', 'cube', 'dice', 'sunflow', 'seed', 'combin', 'phat', 'pinch', 'tongu', 'men', 'upkeep', 'basi', 'exhaust', 'griddl', 'squid', 'cardboard', 'appeal', 'nonexist', 'voodoo', 'gray', 'bro', 'famou', 'salisburi', 'carv', 'toe', 'whistl', 'dixi', 'valu', 'landmark', 'ampl', 'banquet', 'facil', '1000', 'hundr', 'hefti', 'wedg', 'ear', 'environ', 'byob', 'tint', '4pm', 'minimum', 'discuss', 'blame', 'quantiti', 'bento', 'freindli', 'magnet', 'sticker', 'gruff', 'cone', '2006', 'chicago', '，', '！', 'pennsylvania', 'miami', 'east', 'comparison', 'va', 'vintag', 'cater', 'newli', 'surround', 'moon', 'chocol', 'lava', 'modem', 'pasti', 'tide', 'turkish', 'rubber', 'cabbag', '95', 'arnold', 'palmer', 'elit', '2pm', '3pm', 'sens', 'drench', 'discourag', 'whoa', 'kudo', 'mike', 'arena', 'predat', 'concert', 'hotdog', 'dot', 'http', 'www', 'stone', 'creek', 'broil', 'greeter', 'confer', 'howl', 'wolf', 'subdu', 'backpack', 'purs', 'unattend', 'shrug', 'crimin', 'tldr', 'parent', 'prosciutto', 'skip', 'land', 'peel', 'cuban', 'pool', 'steakhous', 'fault', 'hound', 'gorgonzola', 'televis', 'halfway', 'realiz', 'abandon', 'precis', 'idl', 'tj', 'wider', 'rack', 'packag', 'urg', 'fathom', 'hunan', 'bab', 'guilti', 'deni', 'fryer', 'grow', 'cultur', 'ing', 'bore', 'energet', 'rotat', 'nonprofit', 'thirti', 'forti', 'seemingli', 'social', 'conscienc', 'pretenti', 'douch', 'mic', 'karaok', 'comedi', 'stage', 'dancefloor', 'crook', 'fenc', 'bois', 'workload', 'thirsti', 'expedit', 'entic', 'mustard', 'grinder', 'gluten', 'porkchop', 'hamburg', 'pounder', 'jalapeno', 'waittress', 'drove', 'cheeseburg', 'bottom', 'burnt', 'pipe', 'crud', 'fork', 'prong', 'dec', '4th', 'earl', 'sherwood', 'renov', 'materi', 'fixtur', 'privaci', 'downstair', 'cucumb', 'basil', 'kiwi', 'lukewarm', 'lifeless', 'float', 'overwhelmingli', 'loung', 'ban', 'scare', 'eachoth', 'greedi', 'greed', 'fear', 'clever', 'lash', 'beck', 'faulti', 'berix', 'burek', 'convent', 'bosnian', 'rescu', 'cat', 'café', 'oreo', 'browni', 'hook', 'chaperon', 'passion', 'carmelita', 'chimi', 'bargain', 'byo', '17th', 'fitler', 'redon', 'cheer', 'talent', 'array', 'spinach', 'delic', 'crabbi', 'reopen', 'prefac', 'zagat', '2004', 'slip', 'intent', 'lowest', 'common', 'denomin', 'naan', 'chalki', 'pit', 'boss', 'milano', 'dealer', 'poker', 'ass', 'winter', 'burst', 'charm', 'honeygrow', 'countless', 'elabor', 'mcdonald', 'chaotic', 'deafen', 'surfac', 'grievanc', 'cesar', '02', 'giant', 'thrift', 'tag', 'roomi', 'dingi', 'halloween', 'costum', 'applianc', 'heaven', 'oven', 'honey', 'mmmm', 'ahi', 'pate', 'louisiana', 'rabbit', 'liver', 'ici', 'frite', 'lamb', 'limp', 'oz', '170', 'chi', 'supris', 'reiter', 'lucki', 'engag', 'multilevel', 'donat', 'raini', 'fall', 'north', 'primari', 'flour', 'colomb', 'cuticl', 'sander', 'induc', 'heck', 'unprofession', 'citru', 'tropic', 'plant', 'bay', 'snowbal', 'norm', 'stinki', 'tofu', 'kimchi', 'inspect', 'alert', 'consequ', 'chimney', 'damper', 'debri', 'massimo', 'banter', 'horrif', 'hip', 'met', 'cider', 'beg', 'compris', 'tartar', 'marin', 'jalapeño', 'ju', 'curd', 'signific', 'feta', 'cross', '6pm', 'exam', 'limoncello', 'built', 'def', 'dusti', 'onto', 'episod', 'timey', 'wari', 'nut', 'termin', 'lick', 'code', 'violat', 'anim', 'shout', 'julio', 'licens', 'loos', 'borrow', 'din', 'selv', 'creativ', 'ive', 'offici', 'lengua', 'cabeza', 'cheek', 'gamey', 'horchata', 'hahaha', 'copi', 'misplac', '4runner', 'transpond', 'ebay', 'locksmith', 'clueless', 'wilenski', 'dude', 'newer', 'curb', 'pro', '295', '5am', 'lb', 'locker', 'collid', 'mat', 'wil', 'upload', 'smoothi', 'pace', 'sweat', 'pin', 'frame', 'dim', 'treadmil', 'diversifi', 'invest', 'woo', 'retro', 'bueno', 'unsatisfi', 'organ', 'inflat', 'sing', 'clinic', 'mainli', 'packet', 'urgent', 'diagnosi', 'rx', 'necessarili', 'grant', 'berlin', 'german', 'doner', 'dug', 'mardi', 'lame', 'shower', 'drip', 'youtub', 'taught', 'plural', 'googl', 'plumber', 'digress', 'diagnos', 'cartridg', 'renter', 'diy', 'avers', 'roto', 'rooter', 'gentleman', 'huh', 'sturdi', 'metal', '1500', 'rebuild', 'borderlin', 'fraud', 'knowingli', 'rob', 'tremend', 'brag', 'descent', 'verd', 'yell', 'valuabl', 'pillow', 'comfi', 'shampoo', 'condition', 'dispens', 'cleanli', '1am', 'fort', 'mussel', 'badli', 'undercook', 'manhattan', 'rail', 'genr', 'gabagool', 'regardless', 'dale', 'mabri', 'petal', '2nd', 'mimosa', 'shi', 'lil', 'tace', 'thinli', 'ham', 'hollandais', 'brabant', 'thaw', 'fancier', 'marana', 'picki', 'ginger', 'bok', 'choy', 'shitak', 'yellow', 'squash', 'uhh', 'grigio', 'deceiv', 'alright', 'nazi', 'ramen', 'cap', 'enterpris', 'exclus', 'rental', 'unstabl', 'funer', 'cell', 'arrang', 'deposit', 'furthermor', 'degre', 'uncomfort', 'surgeri', 'stroke', 'moreov', 'capac', 'vertebra', 'plea', 'prison', 'hike', 'grave', 'risk', 'activ', 'slower', 'ish', 'delay', 'valet', 'outdat', 'westin', 'lesser', 'higher', 'hampton', 'inn', 'failur', 'catch', 'ballpark', 'villag', 'uber', 'grand', 'slide', 'sensori', 'overload', 'frosti', 'icon', 'recomend', 'dissapoint', 'gaylord', 'opryland', 'lesson', 'doesnt', 'planner', 'april', 'seper', 'holder', 'proof', 'condescend', 'preauthor', 'checkin', 'bank', 'tomorrow', 'outing', 'junior', 'sofa', 'crucial', 'sleep', 'scheme', 'resort', 'greatest', 'ted', 'drew', 'hangout', 'claim', 'rival', 'orlando', 'pina', 'colada', 'twirl', 'jeff', 'frill', 'expert', 'fishtown', 'wise', 'punki', 'momma', 'sooooo', 'rebecca', 'turtl', 'sherri', 'swirl', 'au', 'gratin', 'pud', 'meatbal', 'merlot', 'yep', 'lox', 'mellow', 'brandon', 'convinc', 'scrimp', 'transfer', 'fail', 'signal', 'quicker', 'tie', 'weft', 'repeatedli', 'warehous', '03', '08', '2016', '179', 'length', 'rep', 'page', 'supervisor', 'bohym', 'ship', 'behold', 'fals', 'mound', 'smiley', 'awkward', 'tavern', 'border', 'handsom', 'itali', 'schtick', 'bouch', 'linquini', 'pescator', 'linguini', 'crabmeat', 'calamari', 'arugula', 'resist', 'tiramisu', 'amaretto', '38', 'appetit', 'baton', 'roug', 'rancid', 'accompani', 'jar', 'quesedilla', 'tastiest', 'amalgam', 'beig', 'puddl', 'bear', 'paig', 'metairi', 'slidel', 'steven', 'bo', 'gag', 'worthi', 'foodi', 'mistakenli', 'shepard', 'resembl', 'buss', 'safe', 'wit', 'retriev', 'belong', 'investig', 'essenti', 'recours', 'incens', 'conduct', 'prompt', 'jaclyn', '2013', 'kate', 'bridesmaid', '2014', 'respond', 'messag', 'unmatch', '25', 'becki', 'earth', 'conscienti', 'ensur', 'realist', 'fad', 'summar', 'gasparilla', 'cappi', 'cite', 'misbehavior', 'horrid', 'requir', 'excess', 'fifteen', 'behav', 'seminol', 'height', 'anti', 'drama', 'notifi', 'reconcili', 'pseudo', 'prioriti', 'openli', 'confront', 'critiqu', 'handicap', 'bruno', 'butch', 'awsom', 'anthoni', 'boat', 'captain', 'visual', 'impair', 'photographi', 'sheba', 'eight', 'fourth', '04', 'turmer', 'fibrou', 'injera', 'spongi', 'vessel', 'scoop', 'leisur', 'cacciator', 'piccata', 'marsala', 'patterson', 'mail', 'congest', 'unprepar', 'liar', 'postag', 'clerk', 'smirk', 'demeanor', 'revenu', 'reviv', 'postal', 'previous', 'bcd', 'benton', 'tune', 'rid', 'fillet', 'admir', 'boutiqu', 'shock', 'tier', 'cupcak', '600', 'hungov', 'stupid', 'wig', 'foreign', 'languag', 'amc', 'marcu', 'loew', 'imax', 'larger', 'projector', 'ratio', 'christoph', 'rear', 'speaker', '3d', 'goer', 'marlton', 'project', 'couch', 'prussia', 'atlant', 'rod', 'foam', 'nervou', 'pleasantri', 'obviou', 'sud', 'zahav', '15min', 'substitut', 'aldin', 'puf', 'quinoa', 'wont', 'reliabl', 'sane', 'trail', 'senior', 'dirt', 'smudg', 'wipe', 'upfront', 'fluke', 'coffeebar', 'shift', 'postur', 'nestl', 'residenti', 'z', 'cuti', 'tinder', 'amateur', 'trivia', 'et', 'recur', 'economi', 'magpi', 'whale', 'gentrif', 'dunkin', 'matcha', 'henpeck', 'hen', 'warrant', 'overflow', 'bison', 'wild', 'boar', 'elk', 'kitschi', 'shoney', 'pear', 'cram', 'basin', 'buttercream', 'deduct', 'sub', 'we', 'anderson', 'adjoin', 'disturb', 'remedi', 'barn', 'jewish', 'notori', 'culinari', 'tilapia', 'lose', 'corni', 'slush', 'vend', 'hall', '39', 'refuel', 'creatur', 'tad', 'peruvian', 'rotisseri', 'holi', 'quizzo', 'largest', 'mia', 'gator', 'dock', 'pickup', 'eventu', 'mute', 'dietari', 'restrict', 'pagoda', 'nj', 'auto', 'feet', 'familiar', 'bark', 'peke', 'udon', 'cri', 'presum', 'echo', 'ballsi', 'disput', 'loyalti', 'tail', 'unbeat', 'jenn', 'attach', 'cant', 'pronounc', 'tort', 'beet', 'botto', 'osso', 'buco', 'inordin', 'saltimbocca', 'rellano', 'diego', 'christma', 'premium', 'greatli', 'beaten', 'bywat', 'salami', 'practic', 'eve', 'lüke', 'sought', 'clarif', 'solut', 'crv', 'conicelli', 'faith', 'perspect', 'dismiss', 'trivial', 'persist', 'rattl', 'chuckl', '2000', 'civic', 'hrv', 'forum', 'trim', 'shown', 'printout', 'nay', 'nonsens', 'trifecta', 'buyer', 'cargo', 'lectur', 'trade', 'pottstown', 'pa', 'tenth', 'admittedli', 'mileag', 'consider', 'loyal', 'negoti', 'bulli', 'frankli', 'lori', 'unsatisfactori', 'legitim', 'unhappi', 'vietnames', 'peep', 'cali', 'puff', 'tran', 'shall', 'ankl', 'ave', 'sylvan', 'approx', 'rent', 'tux', 'ehh', 'aggress', 'degrad', 'selfish', 'retail', 'expertis', '29', 'tailor', 'mild', 'mw', 'conshohocken', 'fudg', 'blackberri', 'mmmmm', 'killin', 'opposit', 'toddler', 'chatter', 'drown', 'peppercorn', 'scrape', 'accur', 'gummi', 'doughi', 'takoyaki', 'styrofoam', 'steel', 'abound', 'sunshin', 'piss', 'enorm', 'count', 'reciev', 'bf', 'nowher', 'daym', 'warn', 'via', 'ritz', 'carlton', 'poolsid', 'arizona', 'turquesa', 'cevich', 'legit', 'avocado', 'bucket', 'joel', 'staycat', 'etiquett', 'gf', 'vent', 'shadeland', 'avenu', 'carniceria', 'smelli', 'mold', 'litter', 'stain', 'leak', 'worn', 'conclus', 'tlc', 'mortal', 'pinbal', 'hockey', 'x', 'simpson', 'chirashi', 'tokyo', 'japanes', 'significantli', 'grin', 'audibl', 'lip', 'salut', 'affect', 'technic', 'forth', '500', 'mickey', 'runni', 'casselli', 'roxborough', 'manayunk', 'paradiso', 'delish', 'inexpens', 'proxim', 'pea', 'berri', 'crush', 'sidewalk', 'exterior', 'cooler', 'aloof', 'sardin', 'fist', 'slug', 'paradis', 'militari', 'counti', 'uninspir', 'artist', 'harass', 'threaten', 'author', 'bizzar', 'bone', 'ribey', 'ie', 'brusqu', 'curt', 'willing', 'pup', 'kill', 'giardia', 'mite', 'kennel', '000', 'diarrhea', 'basement', 'subway', 'sudden', 'foot', 'hanker', 'mildli', 'eastern', 'kenner', 'acquir', 'recit', 'alli', 'batch', 'coquito', 'tn', 'caribbean', 'maynard', 'nye', 'showcas', 'gulab', 'jamun', 'substanc', 'ethnic', 'spg', 'gold', 'platinum', 'sneez', '360', 'twist', 'in', 'pineappl', 'am', 'mechan', 'inventori', 'pastrami', 'rye', 'freak', 'heater', 'duct', 'kiddo', 'crisi', 'trendi', 'shabbi', 'chic', 'wreck', 'multi', 'media', 'gaggl', 'hammer', 'redneck', 'contractor', 'larri', 'cabl', 'marley', 'object', 'martini', 'dc', 'gaudi', 'savori', 'aloha', 'hawaiian', 'jet', 'weakest', 'franchis', '15pm', 'surpis', 'voic', 'bitten', 'saute', 'henri', 'workout', 'handi', 'tree', 'unwelcom', 'gloomi', 'linen', 'bath', 'housekeep', 'connoisseur', 'craze', 'wane', 'ethiopian', 'overcharg', 'fashion', 'grew', '37', 'soo', 'specifi', 'kicker', 'cardamon', 'pod', 'inspir', 'cotija', 'ambienc', '20min', 'barkeep', 'teaspoon', 'cuisin', 'kfc', 'poke', 'korean', 'focu', 'mixolog', 'mexico', 'reheat', 'dick', 'ugli', 'fooooood', 'grenad', 'peed', 'concentr', 'glutton', 'beignet', 'inhal', 'powder', 'child', 'remodel', 'poblano', 'exceedingli', 'architectur', 'vers', 'speakeasi', 'snag', 'sink', 'dispatch', 'dan', 'petersburg', 'sucki', 'vendor', 'van', 'baggag', 'agenc', 'wisdom', 'teeth', 'bedsid', '7pm', 'vanish', 'eagerli', 'shellac', 'pedicur', 'paraffin', 'brenda', 'overbook', 'steril', 'dust', 'lotion', 'witch', 'spray', 'bubbl', 'uneven', 'peer', 'washington', 'sabor', 'feder', 'batter', 'flakey', 'chorizo', 'detect', 'cbd', 'measli', 'tom', 'sloppi', 'shine', 'mush', 'relish', 'healthier', 'cheat', 'golden', 'macaroni', 'longwood', 'suprem', 'shred', 'famish', 'flan', 'yea', 'modelo', 'draft', '22oz', 'khyber', 'louder', 'wooden', 'bench', 'mark', 'liquid', 'thicker', 'boston', 'truck', 'tank', 'solv', 'vulgar', 'lust', 'anger', 'gotta', 'publish', 'wrote', 'yee', 'ha', 'column', 'curv', 'fuel', 'phila', 'chump', 'treasur', 'flock', 'olfactori', 'assault', 'transit', 'pant', 'urin', 'foul', 'odor', 'devot', 'fox', 'pizzeria', 'casona', 'incap', 'unwil', 'flashback', 'pollo', 'toston', 'mofongo', 'carn', 'frita', 'buen', 'buena', 'mask', 'clutter', 'blender', 'trashi', 'nutella', 'cleaner', 'bat', 'fondli', 'seri', 'dive', 'problemat', 'nude', 'gay', 'explet', 'basebal', 'octob', 'runner', 'endur', 'stride', 'reduc', 'vegan', 'carnivor', '12pm', 'pregnant', 'flip', 'uh', 'zing', 'ver', 'pepsi', 'mood', 'conflict', 'lundi', 'uye', 'upsid', 'rev', 'superior', 'passiv', 'parad', 'led', 'crew', 'mama', 'korea', 'falafel', 'dave', 'incom', 'budg', 'destroy', 'extravaganza', 'cava', 'gigi', 'collar', 'profil', 'yam', 'blond', 'ponytail', 'fulli', 'polish', 'file', 'manicurist', 'thumbnail', 'peppermil', 'drank', 'gambl', 'snow', 'gastropub', 'bridg', 'opera', 'thr', 'imag', 'toilet', 'bouncer', 'snatch', 'hmmm', 'jewelri', 'shaker', 'function', 'wound', 'starr', 'brilliant', 'asset', 'februari', 'storefront', 'brooklyn', 'remak', 'unansw', 'peac', 'leas', 'fl', 'newspap', 'stiff', 'redempt', 'maryland', 'dentistri', 'mfd', 'cochran', 'woe', 'v', 'gear', 'tx', 'refer', 'referr', 'coach', 'shove', 'ghetto', 'dime', 'labor', 'ledo', 'nuprin', 'flaki', 'york', 'reliev', 'boycott', 'shitti', 'boycot', 'monica', 'cornbread', 'yummmm', 'shoutout', 'hipcityveg', 'yawn', 'cheezi', 'vinaigrett', 'flexibl', 'classi', '8oz', 'doggi', 'pine', 'erin', 'lili', 'indianapoli', 'ir', 'taquiera', 'intermin', 'filthi', 'ware', 'particl', 'avacado', 'afterthought', 'emin', 'satisfactori', 'maki', '23', 'samuari', 'scrawni', 'stringi', 'vain', 'radish', 'furnish', 'shini', 'dimli', 'narrow', 'wealth', '100th', 'wissahickon', 'valley', 'forbidden', 'criteria', 'introduc', 'charter', 'field', 'lincoln', 'youngster', 'develop', 'northwestern', 'environment', 'teacher', 'loop', 'structur', '1930', 'marker', 'cascad', 'overhead', 'forest', 'drawback', 'humid', 'muddi', 'rain', 'concret', 'forgiv', 'knee', 'pave', 'acm', 'sand', 'detract', 'saltier', 'faster', 'tee', 'singer', 'gentl', 'jami', 'poss', 'strap', 'cubicl', 'mmm', 'bottlework', 'festiv', 'maplewood', 'robin', 'morningstar', 'zucchini', 'maria', 'bustl', 'storm', 'bounti', 'lay', 'cruis', 'competitor', 'sheep', 'reorder', 'debat', 'scam', 'nhl', 'playoff', '68', 'camino', 'huevo', 'ranchero', 'cast', 'refri', 'megan', 'alik', 'slid', 'cantina', 'do', 'segundo', 'parm', 'accuraci', 'watress', 'wasnt', 'spit', 'hadnt', 'swept', 'tape', 'perman', '12th', 'piano', 'trial', 'makeup', 'regina', 'updo', 'thorough', 'coars', 'chrissi', 'skincar', 'glamor', 'earnest', 'applic', 'keen', 'dolphin', 'dolphinquest', 'upbeat', 'visitor', 'logan', 'teller', 'netflix', 'cannoli', 'bug', 'larv', 'princ', 'hatti', 'zoodl', 'autumn', 'ubereat', 'photo', 'pesto', 'bruschetta', 'pistachio', 'flourless', 'whitney', 'nicest', 'divers', 'magnific', 'freezer', 'proper', 'avon', 'hee', 'blueberri', 'minim', 'gayborhood', 'topa', 'sashimi', 'pinki', 'surprisingli', 'shopper', 'wem', 'tater', 'tot', 'fondu', 'tennesse', 'temp', '8pm', 'batteri', 'owe', 'submit', 'lotu', 'hoa', 'asap', 'lure', 'fragranc', 'wireless', 'plug', 'modif', 'trap', 'marriott', 'ointment', 'compress', 'terrifi', 'scar', 'lulu', 'groomer', 'toll', 'passeng', 'commut', 'calendar', 'shallow', 'surplu', 'mismanag', 'port', 'bond', 'execut', '85', 'impecc', 'hustl', 'sweep', 'smashburg', 'blake', 'maya', 'shockingli', 'mole', 'tamal', 'gripe', 'held', 'hostag', 'strategi', 'piazza', 'pep', 'maxx', 'polo', 'kitchenwar', 'gentlemen', 'toy', 'expand', 'clearanc', 'latest', 'cooper', 'impati', 'funk', 'zone', 'galatoir', 'slipperi', 'heel', 'muffaletta', 'patienc', 'sandwhich', 'flair', 'dramat', 'lifetim', 'plato', 'closet', 'midnight', 'barf', 'alfr', 'knot', 'unseason', 'dorado', 'soooooo', 'hendel', 'unsurprisingli', 'youth', 'collect', 'capit', 'artwork', 'th', 'bday', 'presenc', 'deaf', 'dissappoint', 'john', 'behavior', 'slimi', 'arigato', 'pelican', 'graciou', 'receipt', 'reschedul', 'refund', 'user', 'forecast', 'andouil', 'illinoi', 'challah', 'marrakesh', 'moroccan', 'fez', 'rosewat', '24hr', 'cockroach', 'bang', 'cop', 'milkshak', 'rehab', 'springfield', 'leap', 'ufc', 'demand', 'invent', 'rum', 'heavenli', 'chocolatey', 'gulf', 'address', 'armor', 'roux', 'electron', 'recreat', 'baja', 'reg', 'supermarket', 'kimpton', 'loaner', 'homeless', 'curs', 'reward', 'coz', 'diff', 'angri', 'sl', 'sassafra', 'rjt', 'dutch', 'birch', 'indo', 'pak', 'bibimbap', 'chana', 'petit', 'letharg', 'johnni', 'calib', 'portland', 'southwest', 'crow', 'dishwash', 'giggl', 'wilt', 'underneath', 'snob', 'marbl', 'dupont', 'flew', 'smallish', 'bfest', 'personnel', 'mauric', 'reloc', 'mode', 'happier', 'sexist', 'kevin', 'bald', 'incent', 'charact', 'seldom', 'increasingli', 'han', 'dynasti', 'mistreat', 'neglect', 'void', 'daiquiri', 'shortcak', 'straw', 'anna', 'propos', 'superstar', 'wineri', 'sceneri', 'marri', 'justic', 'royalti', 'sandi', 'peculiar', 'trippi', 'magazin', 'doze', 'mattress', 'troy', 'quich', 'sarah', 'shade', 'brassi', 'silver', 'lift', 'thumb', 'awoken', 'woken', '7am', 'prevent', 'trustworthi', 'registrar', 'gina', 'gosh', 'smother', 'upward', 'babysitt', '9pm', 'scarf', 'adjust', 'accordingli', 'abrupt', 'unus', 'construct', 'robe', 'tub', 'closur', 'cement', 'sauna', 'dawn', 'viabl', 'secret', 'redfish', 'christi', 'spiro', 'bless', 'honesti', 'mein', 'unbeliev', 'chest', 'begrudgingli', 'commit', 'cancer', 'fund', 'raiser', 'bid', '150', 'disneyland', 'mazzaro', 'eclair', 'jazmin', 'yin', 'yang', 'provis', 'cookbook', 'await', 'blanco', 'chosen', 'beginn', '101', 'brake', '700', '10am', 'conduc', 'dear', 'premad', 'shareabl', 'gobbl', 'diver', 'devin', 'fab', 'sop', 'relat', 'gypsi', 'splatter', 'unapp', 'puffi', 'conshi', 'ribb', 'haunt', 'stripe', 'liqour', 'slowest', 'forbid', 'lightn', 'thinnest', 'outback', 'stake', 'control', 'crumb', 'cabernet', 'housefli', 'gnat', 'overbear', '36', 'donelson', 'fritter', 'toughest', 'yeast', 'quiktrip', 'hole', 'atm', 'gyro', 'more', 'disorgan', 'involv', 'hallway', '21', 'finest', 'birria', 'monsoon', 'scallion', 'purpl', 'panang', 'satay', 'larb', 'lotteri', 'vega', 'hometown', 'sage', 'cranberri', 'term', 'ginorm', 'thailand', 'fraich', 'master', 'util', 'setup', 'cot', 'graini', 'na', 'smartest', 'fooderi', 'mongolian', 'frittata', 'blob', 'everybodi', 'oatmeal', 'raisin', 'fil', 'fastest', 'midwest', 'homewood', 'dalla', 'memphi', 'lexington', 'overrun', 'bubba', 'pong', 'bedroom', 'luv', 'marrow', 'cure', 'devil', 'reuben', 'sparkl', 'yolk', 'lightli', 'swiss', 'raijin', 'spun', 'etouff', 'melani', 'besh', 'kansa', 'nett', 'zimmer', 'und', 'aber', 'da', 'ist', 'natürlich', 'der', 'meter', 'ab', 'nozzl', 'whim', 'za', 'potteri', 'oak', 'succul', 'sooth', 'balloon', 'vicin', 'endear', 'revolv', 'antonio', 'mo', 'taho', 'swim', 'arcad', 'uninvit', 'biz', 'freeway', 'wind', 'blink', 'stephen', 'instruct', 'loan', 'titl', 'financ', 'callback', 'attorney', 'ibervil', 'natchez', 'steamboat', 'touristi', 'nurs', 'hangov', 'narrat', 'asleep', 'tipsi', 'stagger', 'decreas', 'uncommon', 'provinci', 'packer', 'audio', 'anniversari', 'tempura', 'neutral', 'crunchi', 'pole', 'vault', 'summit', 'sesam', 'preserv', 'ensembl', 'critic', 'undeni', 'refreshingli', 'cellar', 'eel', '27', 'ponzu', 'ragoon', 'devour', 'allerg', 'animo', 'transpar', 'audit', 'allergen', 'bisqu', 'daniel', 'skinni', 'roti', 'canai', 'intestin', 'mee', 'siam', 'kung', 'gastro', 'religi', 'atkin', 'atlanta', 'portillo', 'otb', 'chalk', 'suburb', 'variat', 'strongest', 'laser', 'nd', 'charl', 'lascala', 'libat', 'forewarn', 'attribut', 'chestnut', 'opent', 'rw', 'persuas', 'teen', 'rabe', 'polenta', 'alla', 'riverg', 'smyrna', 'costco', 'strike', 'overr', 'moonshin', 'shortli', 'lunchtim', 'cm', 'foothil', 'campbel', 'perplex', 'knife', 'angl', 'battl', 'burro', 'yucki', 'eyebrow', 'yorker', 'gracious', 'taj', 'mirko', 'midtown', 'rosemari', 'oliv', 'dollop', 'goleta', 'carp', 'sonoran', 'caramelo', 'fajita', 'schnuck', 'mida', 'squeak', 'squeal', 'grind', 'viola', 'headlight', '2009', 'malibu', 'tricki', 'couldnt', 'overs', 'leather', 'prob', 'focus', 'bigot', 'racist', 'rainbow', 'salvag', 'transport', 'mezza', 'fatteh', 'batata', 'messi', 'fulton', 'alley', 'string', 'cod', 'blankli', 'sate', 'lemongrass', 'hunt', 'decompos', 'dash', 'mishap', 'obvi', 'offend', 'welp', 'sag', 'tile', 'inspector', 'blandest', 'casher', 'hamilton', 'ambl', 'pappa', 'restur', 'mojo', 'retir', 'reckless', 'errat', 'hollywood', 'chase', 'vile', 'tortur', 'consciou', 'travers', 'task', 'moder', 'steeper', 'sunris', 'golf', 'link', 'pao', 'customiz', 'jillian', 'sushiya', 'iv', 'diamond', 'jewel', 'preoccupi', 'honeymoon', 'yellowston', 'decenc', 'reput', 'snobbi', 'besito', 'merengu', 'disconnect', 'chinatown', 'bao', 'cheapest', 'boba', 'tart', 'incompar', 'austin', 'josé', 'garc', 'calori', 'scotch', 'interpret', 'denver', 'biker', 'jim', 'yoke', 'careless', 'ur', 'sb', 'unlock', '55pm', 'wile', 'barbequ', 'jameson', 'cask', 'mate', 'cousin', 'scott', 'okra', 'wasabi', 'dinero', 'grain', 'foundat', 'trust', 'emphasi', 'longest', 'rebound', 'aroma', 'qualm', 'mixtur', 'busser', 'penca', 'ghost', 'verbal', '44', 'hug', 'cypress', 'ink', 'claw', 'disclaim', 'lineup', 'tripel', 'output', 'ceram', 'sweetest', 'panko', 'pedi', 'enrout', 'layov', 'reflect', 'bust', 'iphon', 'cj', 'clarifi', 'carson', 'vetri', 'quattro', 'formaggi', 'provolon', 'fontina', 'salsiccia', 'fennel', 'coal', 'hardest', 'sevic', 'expertli', 'enthusiasm', 'crack', 'walter', 'flatbread', 'enemi', 'repuls', 'michel', 'ski', 'fade', 'remad', 'seller', 'rhyme', 'reject', 'lambertvil', 'regularli', 'xx', 'chariti', 'sophist', 'safeti', 'bradi', 'coleslaw', '5oz', 'jack', 'ohh', 'understat', 'veg', 'dewey', 'bronx', 'bomber', 'pat', 'brien', 'thermo', 'renam', 'aid', '48', 'alumni', 'phew', 'wa', 'partli', 'squish', 'acquaint', 'bumper', 'amigo', '40th', 'gloria', 'ardmor', 'kop', 'zorba', 'lipstick', 'calm', 'overdu', 'weirdli', 'relev', 'draught', 'penni', 'advoc', 'sierra', 'tout', 'haha', 'foursquar', 'bliss', 'duo', 'sizzl', 'blanket', 'inabl', 'essenc', 'pray', 'heavier', 'cautious', 'dtsp', 'ppl', 'eleph', 'rug', '1900', 'rise', 'beacon', 'gate', 'unfavor', 'reevalu', 'vincent', 'doughnut', 'figgi', 'piggi', 'desi', 'curiou', 'saag', 'micro', 'format', 'massiv', 'jasper', 'inevit', 'bc', 'overkil', 'beard', 'iri', 'rueben', 'maxwel', 'cab', 'comic', 'tirad', 'overweight', 'collaps', 'downright', 'radio', 'taxi', 'slap', 'hurl', 'abus', 'bizarr', 'asshol', 'arbitrarili', 'bankrupt', 'bowel', 'seawe', 'pencil', 'pimento', 'brioch', 'scrumptiou', 'delizioso', 'energi', 'sustain', 'errand', 'hop', 'latino', 'yuca', 'skirt', 'vip', 'oldi', 'franco', 'burrata', 'flier', 'rodeo', 'insist', 'primp', 'cauliflow', 'sauté', 'eggplant', 'breadcrumb', 'pomodoro', '5pm', 'manchego', 'topper', 'zza', 'sore', 'chive', '31', 'dreari', '58', 'applewood', 'vermont', 'undetermin', 'torrenti', 'downpour', 'xl', 'np', '25min', 'nod', 'crawl', 'roach', 'perturb', 'jukebox', 'ownership', 'salli', 'grizzl', 'ah', '30min', 'web', 'cane', 'ummm', 'croqu', 'madam', 'crate', 'flea', 'downfal', 'sloppili', 'hazi', 'ventil', 'camel', 'margharita', 'slider', 'exot', 'giordano', 'legal', 'smdh', 'wage', 'tragic', 'sephora', 'freebi', 'mascara', 'misunderstood', 'gusta', 'mucho', 'para', 'voyag', 'sinist', 'ecstat', 'eagl', 'sting', 'lech', 'gooey', 'dryness', 'novelti', 'cashew', 'gel', 'opi', 'moistur', 'rub', 'off', 'rotten', 'luci', 'crash', 'receptionist', 'terrac', 'skim', 'verifi', 'terranc', 'sic', 'ashtray', 'unrel', 'misinform', 'il', 'posto', 'wick', 'proscuitto', 'victoria', 'honki', 'tonk', 'lumpi', 'woke', 'migrain', 'cave', 'toscana', 'piccolina', 'score', 'saliv', 'complement', 'haul', 'sear', 'fundrais', 'chaat', 'bangin', 'suddenli', 'edit', 'clariti', 'verrri', 'examin', 'articl', 'brett', 'bacchan', 'august', 'temporari', 'amazon', 'hazard', 'elizabeth', 'vibrant', 'gateway', 'lane', 'persuad', 'progress', 'aback', 'interven', 'unremark', 'ceas', 'belief', 'recycl', 'pocket', 'chickpea', 'shoestr', 'agav', 'marque', 'yo', 'medic', 'recov', 'snafu', 'umm', 'slather', 'unrip', 'victorian', 'blog', 'horrifi', 'debacl', 'death', 'diaper', 'scottsdal', 'courtyard', 'quieter', 'tenant', 'cumbr', 'repriev', 'rig', 'barrel', 'fargo', 'montecito', 'scenic', 'oct', 'inhuman', '1990', 'portabl', 'accomplish', 'hideou', 'childhood', 'earplug', 'acr', 'cv', 'infect', '365', 'cacophoni', 'hedg', 'trimmer', 'despair', 'gamba', 'whoop', 'bias', 'anyplac', 'spotlight', 'rigatoni', 'collingswood', 'flavour', 'proclaim', '2017', 'tikel', 'af', 'hibachi', 'reus', 'kroger', 'murfreesboro', 'jerri', 'arrog', 'paul', 'mahi', 'thornton', 'promo', '115', 'louie', 'instinct', 'out', 'tim', 'forg', 'sampler', 'gnocchi', 'nari', 'obes', 'diseas', 'diabet', 'radisson', 'evan', 'fake', 'news', 'prize', 'rehydr', 'disguis', 'avid', 'drinker', 'surviv', 'germantown', 'proprietor', 'surli', 'geno', 'summat', 'tax', 'asham', 'fleec', 'debit', 'priorit', 'chilli', 'crêpe', 'recognit', 'greenwood', 'clearwat', 'jonathan', 'damnit', 'cornmeal', 'kraft', 'sansom', 'librari', 'musti', 'boast', 'pilot', 'overwork', 'helzberg', 'maci', 'gutter', '800', 'unsur', 'commiss', 'unwant', 'what', 'snobbish', '3000', 'roughli', '299', '900', 'paycheck', 'mindset', 'sicken', 'societi', 'voorhe', 'milktooth', 'grapefruit', 'bundt', 'lesli', 'cowboy', 'dylan', 'trio', 'elect', 'busch', 'vpn', 'leigh', 'dairi', 'realiti', 'cc', 'jealou', 'partak', 'contempl', 'billi', 'pinto', 'fulin', 'longhorn', 'unwrap', 'moldi', 'vase', 'silk', 'mayfield', 'florist', 'sonesta', 'thee', 'bind', 'scissor', 'clipper', 'towner', 'callous', 'bait', 'hyundai', 'accent', 'segreg', 'drape', 'shank', 'couscou', 'booz', 'paragraph', 'mislead', 'outweigh', 'stadium', 'heirloom', 'unapologet', 'to', 'stolen', 'passport', 'unimpress', 'chimichanga', 'evenli', 'race', 'pappardel', 'ragout', 'adrian', 'arch', 'valid', 'printer', 'cleanest', 'maker', 'ramada', 'sbraga', 'sum', 'delect', 'domin', 'wagyu', 'carpaccio', 'garlicki', 'bucatini', 'malt', 'semifreddo', 'confess', 'faux', 'distress', 'restaurateur', 'fraction', 'profus', 'outlook', 'gather', 'spoken', 'drawer', 'constant', 'stranger', 'mixologist', 'ricki', 'zydeco', 'ncaa', 'kelli', 'lump', 'mouss', 'underseason', 'floret', 'firm', 'aplenti', 'bash', 'exclaim', 'aloud', 'brick', 'cork', 'traci', 'entitl', 'luncheon', 'grader', 'baker', 'chad', 'danni', 'cutlet', 'carbonara', 'bailey', 'rucku', 'stench', 'breez', 'hanger', 'hunger', 'pint', 'hillsboro', 'curtain', 'tzatziki', 'pilaf', 'specul', 'northwest', 'macho', 'mermaid', 'muscl', 'chatti', 'l', 'escal', 'govern', 'veteran', 'interrog', 'stitch', 'copay', 'hawg', 'sharp', 'unreal', 'disgustingli', 'filler', 'sherbet', 'gigant', 'bs', 'jenkintown', 'wag', 'k', 'frat', 'exploit', 'altogeth', 'tryst', 'juli', '7th', 'outright', 'champaign', 'ft', 'nostalgia', 'mesa', 'mose', 'assumpt', 'nevertheless', 'congress', 'trolley', 'diablo', 'sicili', 'sammich', 'thoma', 'clump', 'vine', 'immacul', 'weaver', 'admiss', 'unsaf', 'chlorin', 'tear', 'bin', 'werent', 'goodi', 'misbehav', 'crutch', 'maneuv', 'be', 'mule', 'diagnost', 'immediatli', 'bullshit', 'supercut', '80', 'quibbl', 'nutti', 'classifi', 'velveeta', 'roman', 'restaraunt', 'cochon', 'mexicana', 'hasta', 'portabella', 'cord', 'crema', 'network', 'footwear', 'eb', 'david', 'gin', 'brule', 'creamer', 'prescript', 'bp', 'scope', 'qualifi', 'practition', 'interview', 'extent', 'pp', 'african', 'adopt', 'condom', 'eleg', 'willow', 'journey', 'nicol', 'sock', 'mysteri', 'dose', 'absinth', 'supplement', 'mystiqu', 'alongsid', 'lord', 'bead', 'sriracha', 'bagger', 'boogi', 'wal', 'mart', 'overdon', 'bk', 'popul', 'taint', 'scarv', 'brass', 'knuckl', 'crown', 'ooka', 'grandmoth', 'spotless', 'jaeger', 'schnitzel', 'tar', 'accessori', 'ybor', 'audac', 'sexual', 'greater', 'refurbish', 'plaster', 'remot', 'unexpect', 'beneath', 'complic', 'spontan', 'emot', 'thread', 'osteria', 'foo', 'affair', 'jordan', 'busboy', 'cannelloni', 'click', 'grandma', 'zumba', 'drummer', 'deodor', 'handprint', 'soap', 'scum', 'grout', 'bicycl', 'picnic', 'bloom', 'landscap', 'lawn', 'hawaii', 'skimpi', 'batman', 'dismay', 'jumbo', 'md', 'barrier', 'workmanship', 'shotti', 'uglier', 'kha', 'guin', 'sam', 'jamaica', 'whop', 'mb', '220', 'fraudul', 'makeov', 'japan', 'particip', 'prosecco', 'carl', 'diana', 'rudest', 'lent', 'proud', 'carolina', 'overhaul', 'struggl', 'smash', 'escap', 'tenni', 'lola', 'benihana', 'brio', 'jay', 'witt', 'frontenac', 'delciou', 'montreal', 'sammi', 'galor', 'awak', 'creameri', 'butterscotch', 'toffe', 'lusciou', 'endless', 'ahh', 'bookstor', 'autograph', 'roam', 'fifti', 'shortag', 'indiffer', 'tempeh', 'stout', 'porter', 'stronger', 'darker', 'spectrum', 'rees', 'sunda', 'dynamit', 'trattoria', 'marcella', 'hungrier', 're', 'miracl', 'cypriot', 'stainless', 'floresc', 'urban', 'aim', 'brewpub', 'nolib', 'rita', 'johnson', 'exit', 'extraordinair', 'glitz', 'fantasi', 'yah', 'southport', 'antiqu', 'junki', '37th', 'liberti', 'lyft', 'blogger', 'dd', 'basket', 'florida', 'transform', 'these', 'jug', 'blossom', 'langostin', 'carbonarra', 'blush', 'granola', 'karma', 'delmar', 'survey', 'cycl', 'pf', 'tso', 'rodent', 'extermin', 'lung', 'flank', 'baird', 'june', 'blazer', 'qti', 'delet', 'dunno', 'scrappl', 'spell', 'krab', 'ethopian', 'introduct', 'choosen', 'bull', '19th', 'avgolemono', 'orient', 'fewer', 'reciproc', 'basimo', 'israel', 'entrepreneur', 'freshest', 'ben', 'jamba', 'keg', '160', '12oz', 'kegerartor', 'over', '1pm', 'pend', 'serenad', 'sway', 'centuri', 'cocki', 'pitch', 'yup', 'fifth', 'mental', 'explos', 'omlett', 'croquet', '07', 'ect', 'homey', 'charbroil', 'godfath', 'spong', 'morsel', 'expos', 'boozi', 'mod', 'oro', 'az', 'fanat', 'timer', 'riki', 'capabl', 'getfit', '615', 'welfar', 'kombucha', 'apparel', '13th', 'primavera', 'nugget', 'ds', 'shack', 'manchest', 'szechuan', 'lone', 'chao', 'zhou', 'mandarin', 'born', 'abc', 'umsl', 'hong', 'ferment', 'playhous', 'karen', 'dll', 'yard', 'friggin', 'unreli', 'anticip', 'dumpster', 'lotaburg', 'throb', 'hybrid', 'whataburg', 'interestingli', 'divid', 'recap', 'mural', 'inattent', 'suburban', 'marriot', 'filter', 'hmm', 'plane', 'tendon', 'aromat', 'trick', 'viet', 'kaleigh', 'pinterest', 'getaway', 'tempt', 'orchid', 'pricier', 'unceremoni', 'lumber', 'ron', 'shrink', 'facilit', 'pig', 'cha', 'christ', 'cracker', 'daddi', 'fetish', 'sucker', 'certif', 'hoopla', 'jo', '699', '159', 'alot', 'intellig', 'abruptli', 'mt', 'ripoff', 'bleu', 'jones', 'intrus', '34', 'highest', 'hygien', 'dept', 'ex', 'seattlit', 'shuck', 'hoo', 'tripl', 'formerli', 'pope', 'lama', 'winco', 'yuppi', 'pretens', 'bellevu', 'pi', 'cago', 'brim', 'gino', 'mont', 'cristo', 'jame', 'koopl', 'holt', 'renfrew', 'unlimit', 'facad', 'plaza', 'roberto', 'weed', 'clumpi', 'herbi', 'visibl', 'beefi', 'medley', 'cornish', 'stat', 'alcov', 'etern', 'frantic', 'gestur', 'vow', 'ct', 'scan', 'disord', 'era', 'educ', 'victim', 'grumpi', 'bridal', 'op', 'skylin', 'skeevi', 'franc', 'mortgag', 'turnaround', 'blackhawk', 'monkey', 'malti', 'freshman', 'glaze', 'stem', 'staffer', 'unpretenti', 'cerrito', 'yay', 'ohmygod', 'hwk', 'farmhau', 'fave', 'resto', '102', 'jive', 'babysit', 'spi', 'midst', 'bow', 'warmli', 'revis', 'nix', 'gloriou', 'overdo', 'dove', 'leek', 'justin', 'exuber', 'thyme', 'compon', 'chunki', 'cheeri', 'silli', 'giddi', 'cumin', 'fragrant', 'basmati', 'gremolata', 'mistaken', 'rick', 'prais', 'intrigu', 'cassi', 'inexperienc', 'choo', 'samurai', 'wk', 'spoiler', 'bathtub', 'leaki', 'sewer', 'authentica', 'bingo', 'slosh', 'katrina', 'ritual', 'juju', 'tarot', 'eavesdrop', 'gaug', 'psychic', 'vagu', 'launch', 'seren', 'evil', 'rung', 'nit', 'drastic', 'horn', 'steadili', 'shrunk', 'malic', 'dunedin', 'allot', 'lex', 'solar', 'redo', 'victori', 'kink', 'ta', 'rey', 'aquarium', 'ceremoni', 'butteri', 'molten', 'burgundi', 'consol', 'du', 'jour', 'latter', 'driven', 'playroom', 'phx', 'delco', 'atmo', 'fusion', 'slack', 'oversight', 'jungl', 'flauta', 'richi', 'kia', '2002', 'letter', 'bbb', 'fb', 'guarante', 'dragon', 'volcano', 'nada', 'wallpap', 'negro', 'stylish', 'saucer', 'forno', 'sweeter', 'finicki', 'uncov', 'statement', 'rehears', 'grate', 'onsit', 'intercontinent', 'domino', 'tracker', 'soho', 'susan', 'playlist', 'energ', 'rathbon', 'reclin', 'concess', 'wesley', 'chapel', 'rink', 'skate', 'curl', 'influenc', 'eggrol', 'poutin', 'diggiti', 'flake', 'som', 'underdon', 'cardin', 'contemporari', 'gum', 'fame', 'unpeel', 'bib', 'decemb', 'hyperbol', '1970', 'idk', 'corona', 'lion', 'elmo', 'celiac', 'fig', 'pancetta', 'enhanc', 'uppiti', 'factori', 'acai', 'urgenc', '8th', 'bottomless', 'ping', 'shuffleboard', 'shuffl', 'gluttoni', 'lilli', 'lovingli', 'tackl', 'virgil', 'crouton', 'reassign', 'sabrina', 'approv', '4hour', '930', 'est', 'sinatra', 'franci', 'rizzo', 'goodby', 'snarki', 'astray', 'nuevo', 'vallarta', 'alaska', '175', 'michelada', 'poni', 'ewww', 'perogi', 'southsid', 'nitpick', 'snark', 'gain', 'esqu', 'rogu', 'tablesid', 'argentina', 'brunchi', 'ml', 'untru', 'vn', 'shortcut', 'wherev', 'repaint', 'varnish', 'downer', 'berat', 'rundown', 'pomm', 'euro', 'occasion', 'grisli', 'nathan', 'oblivi', 'secondari', 'thermostat', 'blind', 'monster', 'lait', 'backrib', 'thunder', '79', 'quart', 'peter', 'transplant', 'mullet', 'blvd', 'tragedi', 'fantas', 'limitless', 'optimist', 'ambiti', 'pursu', 'imperfect', 'saltwat', 'undoubtedli', 'contend', 'trend', 'duplic', 'procedur', '400', 'caviar', 'hairstyl', 'hairdress', 'actress', 'reluct', 'hamachi', 'jessica', 'beforehand', 'cucina', 'overhyp', 'irish', 'nine', 'mississippi', 'mud', 'mason', 'undeserv', 'supercent', 'kmart', 'ts', 'sofra', 'baklava', 'troop', 'mack', 'shore', 'glimps', 'convolut', 'whilst', 'agit', 'parchment', 'disabl', 'uneasi', 'invas', 'inaccess', 'sheer', 'maze', 'logist', 'nightmar', 'patronag', 'map', 'sentenc', 'einstein', 'categori', 'guilt', 'bru', '29pm', 'letdown', 'okinomiyaki', 'stuffi', 'tastier', 'worship', 'sanctuari', 'preach', 'winn', 'shrivel', 'scampi', 'putt', 'eatalia', 'relief', 'molli', 'fur', 'vito', 'rachel', 'tweek', 'uneth', 'pharmaci', 'med', 'unawar', 'bcb', 'employ', 'mayonnais', 'asthma', 'wheez', 'bleach', 'marshal', 'firework', 'oblig', 'movement', 'leah', 'kinder', '97', 'comedian', 'ellen', 'clich', 'vegaz', 'jaw', 'flatter', 'wth', 'empathi', 'chicharon', 'sponsor', 'fellini', 'damien', 'monoton', 'appal', 'aura', 'disdain', 'antsi', 'tick', 'defin', 'distinct', 'monk', 'london', 'fog', 'render', 'unders', 'nann', 'soil', 'jimmi', 'oakley', '30th', 'clone', 'customari', 'perish', 'coffin', 'doubletre', 'kim', 'benefit', 'cameron', 'shark', '320', 'wiggl', '412', 'mainlin', 'greec', 'broadway', 'coincid', 'fein', 'centric', 'dev', 'nicknam', 'portobello', 'ps3', 'knive', 'dual', 'teeni', 'liber', 'vegi', 'chuong', 'latoya', 'fam', 'mozz', 'quinta', 'daylight', 'depriv', 'moscato', 'reunit', 'campfir', 'hind', 'soupi', 'spous', 'slot', 'nonsmok', 'margherita', '59', 'riva', 'scammer', 'smug', 'deter', 'courtesi', 'painless', 'len', 'willingli', 'singapor', 'tabasco', 'brixx', 'sorta', 'shoddi', 'traine', 'charli', 'drexel', 'campu', 'dosa', 'makeshift', 'kebab', 'purifi', 'unbear', 'transact', 'laughter', 'craigslist', 'russ', '650', 'cl', 'pandora', 'aimlessli', 'minc', 'unflavor', 'heresi', 'duress', 'sprinkler', 'keeper', 'proshop', 'trailer', 'cluster', 'horton', 'director', 'lee', 'therapi', 'deck', 'lido', 'wobbl', 'pantri', 'wizard', 'medexpress', 'bronchiti', 'prescrib', 'steroid', 'antibiot', 'hinder', 'panic', 'suffer', 'er', 'zagol', 'walkway', 'permeat', 'stimul', 'ottoman', 'rectangl', 'tendenc', 'overeat', 'thigh', 'alicha', 'nectar', 'goldfish', 'westshor', 'ferri', '2005', 'tradewind', 'margin', 'minimalist', 'elsa', 'polic', 'decidedli', 'surrend', 'omit', 'diffus', 'digest', 'consign', 'summari', 'cayenn', 'whisper', 'fluid', 'untouch', 'plagu', 'ndulg', 'impli', 'feb', 'moo', 'recook', 'lend', 'bogo', 'squirt', 'kidney', 'fda', 'saigon', 'inconsider', 'expir', 'fate', 'snippi', 'marion', 'vastli', 'defeat', 'benni', 'facebook', 'password', 'wheat', 'doylestown', 'ditch', 'lab', 'pueblo', 'technician', 'toenail', 'shouldnt', 'brazilian', 'sanwich', 'dismal', 'shawn', 'shoo', 'cuss', 'bandera', 'seca', 'superbowl', 'te', 'andrea', 'tact', 'ed', 'handmad', 'ceaser', 'swung', 'calimari', 'reli', 'blackbird', 'awkwardli', 'creep', 'deadlift', 'coward', 'plainfield', 'attir', 'hotter', 'taker', 'foil', 'eg', 'fuss', 'drool', '10min', '5min', '10minut', 'waaaay', 'nightli', 'bing', 'grey', 'marvel', 'safelit', 'automobil', 'açaí', 'cruz', 'aaa', 'max', 'coma', 'crinkl', 'orderli', 'stroller', 'booster', 'passyunk', 'tale', 'plumb', 'mm', 'unschedul', 'latk', 'brie', 'nibbl', 'smili', 'apprehens', 'anyhow', 'roommat', 'smelt', 'dispos', 'pharmacist', 'flu', 'dosag', 'illeg', 'walgreen', 'deadli', 'restraint', 'unobtrus', 'moniqu', 'antic', 'wrinkli', 'escort', 'hunk', 'rumfish', 'sue', 'puzzl', 'novemb', 'pcp', 'doc', 'neurolog', 'scariest', 'brush', 'belittl', 'granul', 'daryl', 'massus', 'intuit', 'abroad', 'masseus', 'tissu', 'spruce', '11th', 'march', 'muster', 'motorcycl', 'gruel', 'compromis', 'overnight', 'congratul', 'jason', 'circumst', 'difficulti', 'roy', 'mobil', 'speech', 'nox', 'posol', 'drawn', 'ralph', 'nv', 'marti', 'underst', 'dissip', 'rapidli', 'sneak', 'shortcom', 'perfunctori', 'fuji', 'barley', 'overse', 'sin', 'cliff', 'flesh', 'overdress', 'inferior', 'obtain', 'hella', 'tarpon', 'refin', 'buster', 'ky', 'compli', 'unpolish', 'majest', 'cellphon', 'sicklervil', 'farther', 'bandana', 'turnoff', 'melissa', 'rust', 'supper', 'katsu', 'crazili', 'roe', 'toppl', 'geisha', 'leafi', 'bi', 'bim', 'bap', 'chopstick', 'streak', 'tiger', '108', 'isol', 'naiv', 'fresco', 'fava', 'pecorina', 'ayc', 'tens', 'fiasco', 'compact', '1400', 'overview', 'radiu', 'uni', 'flashi', 'soco', 'wilmington', 'crossroad', 'ballyhoo', 'splash', 'lutz', 'ceasar', 'wayn', 'grandchildren', 'tablecloth', 'cioppino', 'hardwar', 'usabl', 'leaf', 'gelateria', 'leon', 'coffeeshop', 'strung', 'nowaday', 'nich', 'disintegr', 'muse', 'lore', '3am', 'humanli', 'cd', 'housewar', 'drugstor', 'philosophi', 'perfum', 'handbag', 'housew', 'lauren', 'patisseri', 'botan', 'macaroon', 'judi', 'talli', 'ho', 'thief', 'radar', '01', 'un', 'dashboard', 'eat24', 'oppos', 'wiki', 'fatal', 'tactic', 'inadequ', 'alien', 'occur', 'weirdest', 'interrupt', 'intro', 'math', 'ashley', '22nd', 'interst', 'glare', 'upholst', 'plop', 'tp', 'inexcus', 'replica', 'puke', 'champion', 'chevi', 'speechless', 'drill', 'differenti', 'supposedli', 'integr', 'squeaki', 'disrupt', 'extern', 'elderli', 'dossant', 'asiago', 'smear', 'squishi', 'tangi', 'contract', 'richer', 'consent', 'withdrew', 'deceit', 'shipment', 'devast', 'crescent', 'saddest', 'knead', 'storag', 'macchiato', 'farfal', 'dian', 'snif', 'ohhh', 'christian', 'goal', 'dant', 'malley', 'backdoor', 'restraur', 'wss', 'renown', 'poppin', 'streamlin', 'geniu', 'gritti', 'ka', 'consult', 'gown', 'chiropractor', 'gall', 'overcrowd', 'snake', 'stephani', 'unnecessari', 'breadstick', 'hay', 'vampir', 'puerto', 'rican', 'invis', 'softshel', 'grandpar', 'lacklust', 'grandpa', 'stella', 'congrat', 'riot', 'nightcap', 'aussi', 'tex', 'mex', 'northeast', 'passabl', 'muffuletta', 'flavourless', '41', 'caviti', 'raven', 'inclin', 'jai', 'lai', 'dart', 'pac', 'disconcert', 'suffici', 'jingl', 'rocket', 'nm', 'hatch', 'judgement', 'cloud', 'mixx', 'spider', 'tamago', 'approxim', 'kickin', 'flush', 'papa', 'tablespoon', 'lauderdal', 'chix', 'beli', 'dous', 'zimco', 'unqualifi', 'opportunist', 'electrician', 'malvern', 'norton', 'ant', 'tiniest', 'upcharg', 'flanagan', 'goth', 'coco', 'keller', 'emporium', 'sixth', 'outcom', 'unconcern', 'sandpip', 'lodg', 'physician', 'sigh', 'reader', 'rode', 'megabu', 'swerv', 'dvd', 'headphon', 'silenc', 'climat', 'hummingbird', 'craftsman', 'tobi', 'hap', 'discontinu', 'overhear', 'pimm', 'oop', 'jone', 'fairview', 'fed', 'furnac', 'attic', 'deadlin', 'denni', 'fred', 'checker', 'aaron', 'alexand', 'brilliantli', 'platt', 'daytim', 'nighttim', 'mesmer', 'plat', 'munch', 'edamam', 'pinot', 'noir', 'humili', 'abid', 'unsympathet', 'nearest', '440', 'orgasm', 'bulgogi', 'froyo', 'predict', 'scatter', 'deer', 'demis', 'surpass', 'conjunct', 'nickel', 'nerd', 'canopi', 'crayfish', 'retrospect', 'eboni', 'ivori', 'frist', 'durat', 'playground', 'outfit', 'warmth', 'avaya', 'detour', 'resent', 'greenhous', 'atrium', 'delta', 'conservatori', 'waterfal', 'detest', 'mandatori', 'drippi', 'pediatrician', 'registr', 'pediatr', 'specialist', 'jacki', 'injur', 'sheraton', 'marijuana', 'argument', 'centenni', 'amateurish', 'hack', 'palac', 'bask', 'jb', 'adventuresom', 'sazerac', 'hyatt', 'parlor', 'coolest', 'dung', 'mainstream', 'friendliest', 'ungrat', 'forgiven', 'jake', 'union', 'zinfandel', 'nah', 'korma', 'cinnabon', 'chee', 'dishonest', 'casa', 'andi', 'empow', 'dial', 'circular', 'pointless', 'obsess', 'homework', 'baffl', 'weav', 'hunter', 'churro', 'thingi', 'webster', 'stray', 'largo', 'dorignac', 'crispier', 'zombi', 'bala', 'theyr', 'lt', 'humbl', 'vandi', 'scala', 'ipad', 'clay', 'toothpick', 'rous', 'sheryl', 'syrupi', 'dwarf', 'learnt', 'legend', 'mond', 'solidli', 'posh', 'seedi', 'glorifi', 'hooray', 'proactiv', 'hiccup', 'straighten', 'trace', 'protocol', 'angi', 'swift', 'bookmark', 'bellini', 'preliminari', 'rank', 'exton', 'xma', 'zesti', 'tiki', 'shwarma', 'ba', 'pallet', 'deed', 'pricelin', 'stripper', 'brothel', 'keurig', 'decaf', 'evacu', 'pj', 'thrive', 'skyway', 'smarter', '250', 'wherea', 'juggl', 'succeed', 'emili', 'souvenir', 'lloyd', 'janel', 'axxess', 'msg', 'keto', 'tantal', 'paleo', 'jenna', 'scold', 'convention', 'dubu', 'soondubu', 'haemul', 'somethin', 'dolsot', 'chore', 'blaze', 'solitari', 'thorn', 'porki', 'exert', 'charger', 'chargril', 'abita', 'mega', 'metro', 'cfa', 'gmo', 'lawyer', 'spraga', '180', 'rage', 'tgi', 'tangier', 'slightest', 'deterior', 'vinyl', 'vertic', 'hing', 'rope', 'ladl', 'gimm', 'imo', 'opri', 'biggi', 'mainstay', 'amend', 'esp', 'gargantuan', 'adobo', 'serrano', 'sneaker', 'core', 'hvac', 'flyer', 'décor', 'encrust', 'convert', 'gari', 'dynam', 'steakburg', 'nab', 'yahoo', 'usag', 'mana', 'montezuma', 'reveng', 'gut', 'ja', 'scrub', 'xxl', 'supplier', 'carniv', 'cruiser', 'aft', 'song', 'excurs', 'playa', 'carmen', 'beliz', 'here', 'pose', 'threat', 'cozumel', 'girli', 'parisian', 'ought', 'racism', 'artifici', 'cumberland', 'fiance', 'crabcak', 'briefli', 'miseri', 'fra', 'branzino', 'sec', 'vinni', 'upenn', 'collina', 'fettucin', 'tacoma', 'ladd', 'suv', 'configur', 'flimsi', 'meaningless', 'usb', 'sexi', 'shook', 'violent', 'sift', 'ornament', 'zeller', 'button', 'pierc', 'faint', 'wouldnt', 'lookin', 'carrollton', 'chug', 'preemptiv', 'repetit', 'irat', 'tandoor', 'mortifi', 'germ', 'disench', 'unhealthi', 'cohes', 'aftertast', 'uhhhh', 'michigan', 'miniatur', 'doodl', 'poodl', 'slop', 'kadai', 'goo', 'gimmick', 'distinguish', 'gap', 'zoo', 'midway', 'sooner', 'creeper', 'thiev', 'jeep', 'cheroke', 'ref', '94', 'jd', 'bienvil', 'hectic', 'retard', 'spacey', 'dosent', 'barb', 'pbr', '57', 'kaitlin', 'lindsay', 'zoey', 'redund', 'maximum', 'benjamin', 'dictat', 'gelatin', 'layla', 'noodley', 'confect', 'numb', 'trek', 'hai', 'slammin', 'tataki', 'romain', 'sushirito', 'eli', 'pompano', 'lemmon', 'fixin', 'sensibl', 'elbow', 'rins', 'implement', 'redefin', 'bacchann', 'souvlaki', 'kalamata', 'pungent', 'miga', 'squat', 'element', 'adorn', 'lookout', 'toxin', 'proven', 'silki', 'improperli', 'purveyor', 'ihg', 'peek', 'backspac', 'extract', 'speck', 'aesthet', 'cwe', 'starch', 'your', 'moorestown', 'waaaaaay', 'hershey', 'ikea', 'cow', 'inject', 'mesh', 'figueroa', 'insipid', 'unenthusiast', 'hearti', 'scour', 'stupidli', 'identifi', 'stomp', 'burbon', 'espec', 'mead', 'saki', 'fascin', 'mingl', 'miriam', 'clad', 'sleev', 'garb', 'madra', 'pleasent', 'cordial', 'backyard', 'impos', '15am', 'bella', 'dominican', 'intervent', 'firearm', 'ammo', 'reload', 'jerki', 'transluc', 'swallow', 'hum', 'oddli', 'cemeteri', 'dodg', 'shaken', 'scurri', 'bolt', 'drag', 'heartfelt', 'sundri', 'hookah', 'flirt', 'parma', 'elimin', 'breakdown', 'lengthi', 'morton', 'contamin', 'buffer', 'fungal', 'fungu', 'boudin', '86', 'hte', 'rt', 'hairdo', 'abomin', 'nirvana', 'absent', 'nepal', 'fucker', 'dinic', 'disclosur', 'rebrand', 'unchang', 'ambient', 'doom', 'sorbet', 'hazelnut', 'bevmo', 'braciol', 'charro', 'helen', 'tako', 'meaderi', 'jazzi', 'oregano', 'ludicr', 'aug', 'housemad', 'sourc', 'suspicion', 'malnati', 'unparallel', 'kanella', 'sho', 'harsh', 'william', 'fairless', 'calvin', '09', '53', 'tshirt', 'usa', 'stationari', 'incongru', 'outer', 'burb', 'goof', 'laura', 'complementari', 'aveda', 'spark', 'angelo', 'perez', 'promin', 'tent', 'cinco', 'aerob', 'lap', 'equat', 'perk', 'carpinteria', 'bryn', 'mawr', 'malai', 'kofta', 'tamarind', 'skanki', 'caffein', 'elvi', 'hunka', 'queue', 'alaskan', 'kalbi', 'mochi', 'vineyard', 'vat', 'reel', 'aldi', 'germani', 'limo', 'mighti', 'fever', 'unfamiliar', 'scent', 'bam', 'stream', 'uncanni', 'knack', 'froth', 'chess', 'premier', 'brook', 'jaclen', 'cutteri', 'incorpor', 'ripe', 'arrest', 'loco', 'mgmt', 'starwood', 'freaki', 'flashlight', 'denial', 'hau', 'scarc', 'inter', 'valv', 'instanc', 'stormi', 'fatten', 'agua', 'fresca', 'sommeli', 'abstain', 'ratatouil', 'unimagin', 'nest', 'oat', 'financi', 'recess', 'sanit', 'backstag', 'irt', 'portal', 'theatr', 'kinko', 'deco', 'timefram', 'vermouth', 'lima', 'milton', 'weeknight', 'meali', 'julep', 'spritz', 'sir', 'unrespons', 'counterpart', 'anchovi', 'insulin', 'phó', 'hipciti', 'groothi', 'dissuad', 'kiss', 'forehead', 'wield', 'vulner', 'crank', 'kra', 'dimension', 'tapioca', 'jiffi', 'julia', 'osaka', 'spanakopita', 'preorder', 'pumic', 'satur', 'spinner', 'heidi', 'rn', 'cremat', 'roadhous', 'chri', 'millenni', 'budweis', '11pm', 'mignon', 'ruth', 'grail', 'russel', 'solicit', 'awaken', 'whichev', 'hashbrown', 'wad', 'luggag', 'scorch', 'miller', 'brewster', 'baysid', 'nevermind', 'unannounc', 'plead', 'feeder', 'ldf', 'xochitl', 'vacant', 'cue', 'zaxbi', 'zax', 'pdq', 'jesu', 'sol', 'teas', 'novel', 'declar', 'roaster', 'jeez', 'perus', 'oftentim', 'role', 'macaron', 'ventura', 'truth', 'puck', 'concur', 'tweak', 'bahn', 'indecis', 'nifti', 'tallest', 'handcuff', 'unsettl', 'spicier', 'ehhh', 'jon', 'sicilian', 'emphas', 'tampon', 'cleanser', 'overestim', 'concierg', 'decatur', 'olivi', 'embarass', 'unattent', 'professor', 'grad', 'straightforward', 'inclus', 'walkthrough', 'moscow', 'resourc', 'bulldog', 'smack', 'dilig', 'scotti', 'paypal', 'margaritavil', 'colt', 'twiste', 'simpler', 'umai', 'rind', 'mc', 'popsicl', 'kernel', 'togo', 'pillar', 'septa', 'ancient', 'weari', 'frankford', 'sass', 'disregard', 'leash', 'iffi', '9th', 'mlk', 'theresa', '28th', 'ticklish', '120', 'swedish', 'sleepi', 'cranki', 'vh', 'subtitl', 'backup', 'readili', 'jennif', 'manageri', 'leadership', 'steward', 'andr', 'colour', 'helmet', 'nadia', 'sh', 'cvge', 'sept', 'messeng', 'esther', 'polyesth', 'corset', 'scottish', 'joey', 'modega', 'spedini', 'aggrav', 'habachi', 'perki', 'placemat', 'preciou', 'overseason', 'oversalt', 'cattl', 'dmv', 'homedal', 'splendid', 'sofia', 'roadsid', 'autom', 'gossip', 'popper', 'nitro', 'nuisanc', 'stern', 'plethora', 'ne', 'jacuzzi', 'electr', 'fireplac', 'lorna', 'slept', 'goodwil', 'sylvia', 'harlem', 'encompass', 'septemb', 'therapist', 'habit', 'livingsoci', 'keith', 'classroom', 'galleri', 'toronto', 'dq', 'jail', 'garcia', 'duke', 'dee', 'lish', 'artsi', 'majorli', 'lament', 'tinga', 'holli', 'lunchmeat', 'tue', 'northsid', 'ferragamo', 'acryl', 'liabl', 'tagliatel', '915', 'wholefood', 'bistec', 'gorg', 'dat', 'pun', 'feat', 'nuanc', 'surgeon', 'eyelid', 'stoke', 'hwi', 'derelict', 'premis', 'contrari', 'colder', 'panhandl', 'illustr', 'naruto', '911', 'pepperi', 'pamper', 'infin', 'colon', 'templ', 'prick', 'dab', 'sadist', 'salvadoran', 'pupusa', 'syberg', 'unforgett', 'agreeabl', 'moral', 'kafta', 'carrier', 'reimburs', 'twang', 'rendit', 'absenc', 'asinin', 'roadi', 'laughabl', 'idol', 'econom', 'nomin', 'aforement', 'cheapli', 'bullet', '230', 'walkabl', 'disfunct', 'unreason', 'moreso', 'ram', 'stab', 'spurt', 'minuscul', 'navig', 'devon', 'jw', 'facial', 'fattoush', 'techniqu', 'tonic', 'uned', '2x', 'dinki', 'bluepoint', 'alga', 'infest', 'outbreak', 'keeli', 'provencal', 'sidney', 'begun', 'displeas', 'devein', 'veer', 'foiegra', 'crackl', 'tat', 'bast', 'calcul', 'discret', 'hendersonvil', 'vista', 'pubic', 'pillowcas', 'yummm', 'rectangular', 'unnerv', 'twin', 'fairmount', 'sentiment', 'pajama', 'skordalia', '1980', 'abigail', 'tenderloin', 'citizen', 'inequ', 'dew', 'steer', 'sasha', 'kay', 'izakaya', 'ren', 'prawn', 'frog', 'soar', 'throat', 'amiss', 'unfil', '74', 'exasper', 'bleed', '86th', 'petsmart', 'gnaw', 'eco', 'chik', 'siracha', 'aoli', 'barbacoa', 'columbu', 'neil', 'mazda', 'tirelessli', 'sacrif', 'airbu', 'dodger', 'castl', 'crime', 'howi', 'translat', 'gordon', 'ramsey', 'coulda', 'membran', 'groov', 'farewel', 'beij', 'kai', 'paula', 'makhni', 'pearl', 'hue', 'lyche', 'vital', 'waitor', 'kiddi', 'bayou', 'hatr', 'deepli', 'curat', 'mao', 'kathi', 'agreement', 'quintessenti', 'grub', 'artisan', 'roar', 'asst', 'mgr', 'mover', 'mayflow', 'paltri', 'infant', 'corolla', 'camri', 'famoso', 'cpk', 'cineplex', 'whyte', 'actor', 'robust', 'taster', 'glycoliqu', 'bánh', 'cookwar', 'heed', 'blackout', 'geez', 'singleton', 'pavilion', 'versu', 'inaud', 'marinad', 'porterhous', 'notabl', 'coldest', 'swore', 'reson', 'raucou', 'terra', 'sur', 'pescado', 'lomo', 'saltado', 'sanitari', 'ford', 'healthiest', 'spout', 'idaho', 'ekta', 'sp', 'distinctli', 'cabana', 'standoffish', 'impact', 'livid', 'barra', 'hungari', 'tack', 'tardi', 'punctual', 'auditor', 'commot', 'someplac', 'replenish', 'strength', 'herald', 'funday', 'georg', 'brugger', 'hanoi', 'accustom', 'floriss', 'kindergarten', 'marketplac', 'slu', 'plantat', '45am', 'luckier', 'til', 'dicey', 'desol', 'detroit', 'retain', 'chard', 'engin', 'sandbox', 'hannah', 'skunki', 'moussaka', 'porno', 'uptight', 'minder', 'nap', '84', 'prosecut', 'wrestl', 'stamp', 'tijuana', 'flammenkuchen', 'atop', 'strewn', 'eerili', 'pulp', 'vitamin', 'eman', 'forese', 'lcd', 'cf', 'reccomend', 'focaccia', 'font', 'firmli', 'dare', '1100', 'astronom', 'tube', 'condo', 'rag', 'steamer', '330', 'apt', 'yaki', 'soba', 'patch', 'minded', 'gratitud', 'ehhhh', 'decept', 'baggi', 'stewart', 'oopsi', 'stinkin', 'icecream', 'dreamsicl', 'pb', 'sensat', 'nite', 'wagon', 'rejuven', 'ach', 'gentli', 'fleet', 'cherish', '98', 'wiper', 'blade', 'skewer', 'peasant', 'kennedi', 'coup', 'charcoal', 'sweeten', 'belov', 'rummag', 'artifact', 'grumbl', 'tatter', 'cotton', 'ti', 'sheesh', 'epiphani', 'lighten', 'plummet', 'cummin', 'outta', 'windi', 'dayum', 'trumpet', 'temporarili', 'matt', 'celeri', 'ethic', 'statewid', 'aperol', 'rotolo', 'mortadella', 'affogato', 'mmmmmmm', 'pissi', 'influx', 'frito', 'nuff', 'aficionado', 'snotti', 'snuck', 'kayak', 'seclud', 'wiz', 'gruyer', 'ration', 'tastey', 'mob', 'hangri', 'despic', 'halal', 'muslim', 'adher', 'watermark', 'reinvent', 'hugh', 'there', 'circu', 'fumbl', '23rd', 'merit', 'gothic', 'overfri', 'applesauc', 'irk', 'wyndham', 'wand', 'owl', 'edward', 'tapenad', 'sourdough', 'judgment', 'tumbler', 'marg', 'sassi', 'vez', 'copabanana', 'pal', 'flounder', 'insert', 'whatnot', 'peddler', 'pedestrian', 'strait', 'garner', 'lmao', '\\u200d', 'remoulad', 'theori', 'supervis', 'grasp', 'krystal', 'smoothli', 'em', 'redston', 'pacifico', 'tediou', 'manipul', 'hindsight', 'reconsid', 'solo', 'barrist', 'shiela', 'royersford', 'bravo', 'tummi', 'oriecchiett', 'mascarpon', 'conserv', 'carbon', 'glu', 'unattract', 'android', 'undertrain', 'knit', 'laveau', 'biriyani', 'vouch', 'tightli', 'unauthor', 'pixi', 'unicorn', 'o2', 'sensor', 'boggl', 'humidor', 'cob', 'cutter', 'tobacco', 'int', 'poorer', 'hawk', 'whack', 'loin', 'disapoint', 'resaur', 'casita', 'taqueria', 'fuzzi', 'copper', 'zilch', 'indign', 'dumbfound', 'lux', 'redhead', 'bruce', '350', '2010', 'relay', 'muddl', 'bitchi', 'remi', 'izumi', 'ox', 'recruit', 'saison', 'chesapeak', 'confit', 'gyp', 'therapeut', 'bimbimbop', 'banchan', 'rei', '450', 'hog', 'saunter', '6s', 'download', 'sympathet', 'billion', 'crystal', 'chandeli', 'unsweet', 'chiropract', 'goodland', 'sq', 'teow', 'uneaten', 'malaysia', 'eclips', 'deconstruct', 'wrigley', 'pakora', 'manchurian', 'plump', 'umami', 'cyrano', 'collin', 'flare', 'salari', 'thusli', 'makiman', 'boo', 'cushion', '730', 'spagetti', 'safeway', 'archer', 'fro', 'jackass', 'unmotiv', 'nat', 'saloon', 'aromatherapi', 'calmli', 'megu', 'mailer', 'unmemor', 'underground', 'brasil', 'pittsburgh', 'pauli', 'rocki', 'dafe', 'laundromat', 'remnant', 'distil', 'extraordinarili', 'exclusionari', 'demor', 'parker', 'poros', 'wwii', 'dani', 'streaki', 'thrifti', 'temper', 'tortellini', 'demolish', 'punish', 'institut', 'pointer', 'defend', 'scenario', 'treme', 'doorman', 'frazzl', 'domenica', 'meg', 'timeli', 'uncar', 'inept', 'cubano', 'frilli', 'juke', 'trophi', 'ahhh', 'suckl', 'morel', 'carton', 'italiano', 'gelati', 'candid', 'soulcycl', 'reckon', 'slat', 'mismatch', 'gradual', 'heinz', 'occup', 'hacienda', 'wreak', 'displeasur', 'gleam', 'tgif', 'yat', 'bloomington', 'undergrad', 'psych', 'jumbalaya', 'iou', 'dumber', 'wang', 'champ', 'input', 'oreganato', 'parmagiana', 'fusilli', 'frenchman', 'scallopini', 'phoenix', 'scout', 'unveil', 'milan', 'cheet', 'sauza', 'chihuahua', 'chicharron', 'unoccupi', 'lovabl', 'merchant', 'smh', 'eek', 'namesak', 'mum', 'carrollwood', 'youngest', 'zoma', 'ro', 'stump', 'subtract', 'skye', 'kajun', 'turbo', 'joann', 'lisa', 'grossli', 'barri', 'navi', 'sperri', 'clair', 'abdul', 'bounc', 'goodnight', 'mmmmmm', 'noooo', 'ness', 'unsmil', 'stark', 'radiat', 'nuclear', 'sunchok', 'farro', 'cottag', 'bastard', 'rimless', 'lens', 'melon', 'robberi', 'insol', 'hourli', 'mozza', 'tidi', 'ranchito', 'japcha', '210', 'wire', 'homefri', '51', 'cripsi', 'yuengl', 'hater', 'bleh', 'rider', 'pedal', 'linguin', 'writer', 'rembrandt', 'helena', 'imposit', 'digniti', 'plum', 'vedg', 'unforgiv', 'misstep', 'wimpi', 'rue', 'gravel', '125', 'motion', 'velveti', 'gyoza', 'canton', 'domest', 'ident', 'primo', 'oval', 'mei', 'tirzah', 'clearer', 'alberta', '195', 'mysor', 'inebri', 'wade', 'sichuan', 'taiwan', 'kong', 'gm', 'mckenzi', 'telephon', 'antipasto', 'distributor', 'chicki', 'nothin', 'linc', 'cation', 'kenneth', 'vicki', 'nathali', 'camper', 'babylon', 'nervous', 'vinegarett', 'samantha', 'soprano', 'khmer', 'boostin', 'guatemala', 'arroz', 'uptown', 'frenchi', 'sazarac', 'angela', 'rd', 'kitchenett', 'buzzer', 'bamboo', 'pillowi', 'undergo', 'diverg', 'goos', 'remiss', 'jess', 'barq', 'rene', 'witti', 'earthi', 'sullen', 'documentari', 'aj', 'shilpa', 'asia', 'smith', 'nostalg', 'hock', 'nilla', 'homerun', 'poop', 'filth', 'herbal', 'unisex', '429', '2003', 'coa', '1200', 'anni', '45pm', 'mixer', 'dp', 'missouri', 'barstool', 'armrest', 'lafayett', 'tailgat', 'fluff', 'shortrib', 'spike', 'cocoa', 'richard', 'berkshir', 'gouda', 'bellevil', 'slouch', 'verg', 'wrapper', 'burlington', 'ross', 'pleather', 'plight', 'ironi', 'ava', 'trevor', 'aria', 'marshmallow', 'bon', 'swarm', 'anjou', 'chilean', 'shard', 'unsuspect', 'innoc', 'barren', 'halv', 'blurt', 'taro', 'dome', 'blur', 'lysol', 'chequ', 'logic', 'multipli', 'lull', '6am', '69', 'ai', 'brochur', 'elitist', 'hoosier', 'amberjack', 'tai', 'singha', '82nd', 'cock', 'ragu', 'sadden', 'prejudic', 'disarray', 'provel', 'neapolitan', 'neon', 'eyebal', 'momo', 'demonstr', 'disgrac', 'represent', 'halt', 'plainli', 'unfortunatli', 'whew', 'wildlif', 'maui', 'household', 'inaccur', '116th', 'hover', 'snorkel', '1997', 'fruiti', 'gabe', 'rekey', 'woohoo', 'ew', 'motor', 'uncook', 'mexicali', 'skeleton', 'nanci', 'rec', 'nightlif', 'parallel', 'maîtr', 'cooker', 'dissatisfact', 'garland', 'arancini', 'panzanella', 'complac', 'villa', 'awn', 'silent', 'midciti', 'album', 'oversold', 'prepay', 'roller', 'kampai', 'pistol', 'surf', 'turf', 'malaysian', 'crafter', 'contribut', 'defrost', 'brava', 'mezcal', 'tequilla', 'siren', 'climb', 'pill', 'wahoo', 'unappreci', 'unavail', 'beyoncé', 'berger', 'priu', 'panel', 'occurr', 'tsb', 'advisor', 'mea', 'culpa', 'drumstick', 'hero', '189', 'jill', 'ciao', 'scalp', 'looooov', 'bumbl', 'sleek', 'revers', 'invoic', '72', 'newest', 'carol', 'cape', 'strive', 'rapport', 'xfiniti', 'regul', 'reveillon', '31st', 'keyboard', 'tanya', 'surgic', 'graham', 'rothman', 'presid', 'snot', 'shea', 'damp', 'swap', 'toxic', 'hardwood', 'ramp', 'certifi', 'patach', '2lb', 'nonchal', 'huf', 'sooooooo', 'strangest', 'belt', 'divey', 'clutch', 'immens', 'wildli', '960', 'npr', 'wich', 'deeper', 'spine', 'fingernail', 'pec', 'tourism', 'tension', 'lite', 'sid', 'intric', 'fillipa', 'seamless', 'ada', 'compliant', 'norristown', 'accumul', 'homestyl', 'camaron', 'sauv', 'departur', 'evidenc', 'whore', 'techno', 'botox', 'shortest', 'merci', 'whimsi', 'calico', 'saganaki', 'flame', 'taramosolata', 'arguabl', 'statesid', 'greektown', 'opa', 'simplest', 'reappear', 'rebook', 'command', 'narr', 'commentari', 'multigrain', 'envis', 'ambrosia', '12am', 'charmingli', 'brad', 'retrain', 'tipper', 'blackboard', 'tuscon', 'jumper', 'bruh', 'detach', 'gulch', 'redid', 'loaf', 'garth', 'consecut', 'uninform', 'compos', 'administr', '30ish', 'circul', 'greyhound', 'dobb', 'yakisoba', 'tomo', 'phoenixvil', 'easiest', 'chatham', 'epitom', 'ef', 'blu', 'saffron', 'softer', 'cakey', 'overstuf', 'mai', 'troublesom', 'buzzi', 'ropa', 'vieja', 'channelsid', '62', 'lansdal', 'chipolt', 'unload', 'lug', 'smugli', 'painstakingli', 'tchoup', 'dolc', 'meridian', 'besti', 'nelson', 'unfairli', 'isla', 'savour', 'habanero', 'celina', 'hendrick', 'confin', 'potti', '20th', 'vietnam', 'helicopt', 'inconvenienc', 'lyric', 'hearo', 'wore', 'headlin', 'yield', 'attende', 'exacerb', 'freedom', 'racial', '30k', 'paseo', 'girard', 'sail', '1682', 'squad', 'jarrito', '130', 'transmiss', '87', 'comb', 'stanton', 'medallion', 'tractor', 'blondi', 'maxim', 'worsen', 'exclud', 'headquart', 'upcom', 'bensalem', 'picatta', 'dirtiest', 'brine', 'sewag', 'global', 'mortar', 'moana', '26th', 'ooey', 'flourish', 'startup', 'swipe', 'conway', 'replet', 'overh', 'guardian', 'h2o', 'underli', 'virgin', 'firehous', 'mouthwat', '76', 'horizon', 'walker', 'alic', 'trenton', 'sfogliatella', 'mario', 'coral', 'chelsea', 'yr', 'audienc', 'vacanc', 'scroll', 'canist', 'resurfac', 'rotor', 'calibr', 'spite', 'ewe', 'penang', 'debbi', 'edison', 'teddi', '43', 'crane', 'gang', 'pastur', 'starvat', 'snooz', 'ralli', 'southtown', 'down', 'ofallon', 'kiosk', 'whimsic', 'restuar', 'symbol', 'restraunt', 'taziki', 'unrealist', 'nautic', 'handlebar', 'mustach', 'convo', 'canva', 'shaun', 'achiev', 'wan', 'tennessean', 'civil', 'dijon', 'mel', 'sprint', 'regenc', 'facelift', 'undershav', 'shadow', 'granni', 'cutest', 'havent', 'den', 'eggi', 'suspici', 'rockin', 'inning', 'hitter', 'entryway', 'malena', 'rockabilli', 'ray', 'hor', 'oeuvr', 'abysm', 'erni', 'hablo', 'conclud', 'goober', 'bachelor', 'monopoli', 'mendenhal', 'hoot', 'crib', 'waddl', 'humidifi', 'razor', 'snicker', 'restock', 'constitut', 'stud', 'apricot', 'illus', 'shandi', 'gobi', 'reportedli', 'sling', 'virago', 'napoleon', 'bacteria', 'harri', 'izzi', 'prey', 'ramsay', 'schlafli', 'hotwir', 'tarter', 'dem', 'scowl', 'prohibit', 'taproom', 'nourish', 'cutleri', 'thi', 'expans', 'maid', 'oldest', 'nonna', 'europ', 'se', 'landlord', 'twit', 'anheus', 'gose', 'michelin', 'exorbit', 'semblanc', 'similarli', 'incarn', 'tavola', 'mista', 'sorrentino', 'glitch', 'liveri', 'savannah', 'astoria', 'woth', '77', 'disori', 'scribbl', 'plexiglass', 'wool', 'puni', 'youd', 'standpoint', 'sitio', 'unmark', 'lather', 'margarin', 'alabama', 'nativ', 'queasi', 'popov', 'terrier', 'chez', 'spasso', 'toaster', 'harvest', 'vgfoh', 'superfresh', 'grocer', 'matrix', 'perpetu', 'nutrit', 'omlet', 'bounci', 'scald', 'birth', 'comcast', 'abd', 'sprimp', 'brutal', 'jfk', 'bothersom', 'roger', 'wickedli', 'jag', 'carriag', 'vortex', 'coloni', 'swill', 'playin', 'weigh', 'paella', 'spain', 'carpenteria', 'calif', '117', 'checklist', 'riverfront', 'antenna', 'devoid', 'hickori', 'hollow', 'afloat', 'taylor', 'breed', 'alto', 'scruffi', 'airplan', 'shucker', 'bobba', 'randomli', 'unprocess', 'wholesom', 'bout', 'motherfuck', 'boost', 'touchscreen', 'hipsteri', 'frier', 'miniscul', 'scant', 'shane', 'flown', 'sno', '20oz', 'puh', 'stockton', 'russian', 'insect', '05', 'handwash', 'prix', 'compound', 'martha', 'rehabilit', 'derbi', 'cring', 'trickl', '3x', 'lanna', 'gai', 'sonni', 'zen', 'albanian', 'gogh', 'moor', 'mount', 'compass', 'frig', 'pathmark', 'pen', 'reboot', 'hardcor', 'moylan', 'unbalanc', 'goopi', 'sara', 'kani', 'sopa', 'privi', 'simmer', 'marc', 'quest', 'cassett', 'nolensvil', 'stroll', '630', '830', 'von', 'disadvantag', '2001', 'wildflow', 'muesli', 'thompson', 'gulp', 'cathedr', 'angrili', 'wealthi', 'vege', 'ty', 'hospic', 'giver', 'msi', 'numchok', 'wilai', 'washroom', 'sombal', 'exper', 'reddi', 'loath', 'kitten', 'sakana', 'shimp', 'waft', 'claustrophob', 'slant', 'songwrit', 'defens', 'magrogan', 'waiv', 'catsup', 'rooki', 'mcnabb', 'grandfath', 'contrapt', 'bartley', 'cyclist', 'porchetta', 'pepperoncini', 'ea', 'tahini', 'verdict', 'ooooh', 'aji', 'gallina', 'musselman', 'stickler', '20minut', 'kart', 'contin', 'ulta', 'disastr', 'dinardo', 'burden', 'barclay', 'permit', 'incident', 'ganach', 'pilsner', 'java', 'di', 'vino', 'cinema', 'southwestern', 'montana', 'almighti', 'lifestyl', 'vie', 'loudspeak', 'ravello', 'powderi', 'bleakest', 'galaxi', 'hunki', 'multitask', 'safest', 'ettouffe', 'drafti', 'necklac', 'olden', 'fring', 'ken', 'avg', 'overdraft', 'td', 'insuffici', 'domain', 'spiral', 'staircas', 'eeri', 'marmont', 'cosmo', 'intermitt', 'default', 'undisput', '201', 'floppi', 'gloppi', 'yaya', 'dank', 'bucco', 'ruben', 'trainwreck', 'agedashi', 'croquett', 'onigiri', 'quail', 'mackerel', 'suuuuuper', 'westmont', 'goto', 'indonesian', 'ming', 'kee', 'suzanna', 'append', 'notion', 'birchtre', 'preview', 'sob', 'nastili', 'jen', 'grandson', 'chitown', 'carousel', 'longtim', 'rosi', 'tortia', 'sang', 'cum', 'cheapo', 'dolmad', 'mcmuffin', 'mcrib', 'marigni', 'thunk', 'soror', 'muggi', 'smog', 'floridian', 'footprint', 'amura', 'ru', 'clipboard', 'cartoon', 'expedia', '18th', 'plume', 'armchair', 'airbnb', 'obscen', 'feather', 'consensu', 'potent', 'turnip', 'lewi', 'davi', 'blunt', 'lethal', 'weapon', 'fawn', 'diva', 'unpronounc', 'rc', 'kitti', 'cosmet', 'yearli', 'checkup', 'mcd', 'strateg', 'bewild', 'fortuit', 'accomad', 'disc', 'orthoped', 'screech', 'cricket', 'conceal', '27th', 'mop', 'dilut', 'stacey', 'overlap', 'padaro', 'spicey', 'topopo', 'dustin', 'tuscani', 'newbi', 'kohl', 'chirp', 'quasi', 'morocco', 'webpag', 'pdf', 'raunchi', 'airbag', 'reset', '83', 'prepaid', 'beast', 'insul', 'kenji', 'chae', 'cho', 'sal', 'apiec', 'cautiou', 'micha', 'tepid', 'arent', 'intox', 'daikon', 'gochujung', 'chedder', 'priceless', 'robbin', 'discolor', 'prepackag', 'pantano', 'vanderbilt', 'mildew', 'raphael', 'blackjack', 'olio', 'snub', 'holland', 'cuba', 'masa', 'bog', 'drinkabl', 'career', 'dorothi', 'nondescript', 'keyston', 'hangar', 'beco', 'visa', 'flatli', 'semest', 'sightse', 'protect', 'ff', 'shellfish', 'ingest', 'ar', 'hankerin', '06', 'clown', 'blizzard', 'optic', 'buse', 'ahem', 'subscrib', 'ciabatta', '82', 'conspiraci', 'courag', 'ploy', 'twitter', 'mtg', 'gringo', 'fido', 'crayon', 'splinter', 'revolt', 'juri', 'hyde', '52', 'restrain', 'trespass', 'pennhurst', 'rite', 'paitient', 'deviat', 'admin', 'tunnel', 'expo', 'axl', '199', 'blacklist', 'collabor', 'outgo', 'gorilla', 'scorpion', 'lemoni', 'fitz', '64', 'verizon', 'inexplic', 'obstruct', 'br', 'disgruntl', 'a1', 'undocu', 'identif', 'ego', 'homeland', 'tsa', 'underag', 'keswick', 'apprais', 'fuse', 'bearer', 'palomar', 'banner', 'rewind', 'xo', 'streetcar', 'pei', 'wei', 'liner', 'byot', 'mamacita', 'calient', 'ziggi', 'hillbilli', 'ami', 'republ', 'snail', 'cypru', 'bevan', 'chronic', 'neatli', 'sweatshirt', 'slim', 'homer', 'caveat', 'canola', 'richmond', 'depict', 'sublim', 'widen', 'fought', 'uniform', 'botch', 'condemn', 'nutmeg', '45min', '10th', 'amp', 'timelin', 'percept', 'tacoria', 'masterpiec', 'veloc', 'rebat', 'timpano', 'chophous', 'muff', 'craig', 'boom', 'twelv', 'westsid', 'brighter', 'bloomin', '715', 'explod', 'worm', 'seizur', 'dolli', 'parton', 'meringu', 'wafer', 'wrangler', 'defect', 'youll', 'sach', 'tripe', 'cholesterol', 'rh', 'thereof', 'biscardi', 'leiper', 'uhaul', 'fgt', 'bled', 'harde', 'intersect', 'abv', 'ultra', 'stanki', 'geriatr', 'patrol', 'phf', 'loav', 'lib', 'signifi', 'mosquito', 'chardonnay', 'suitabl', 'flatwar', 'metabol', 'moto', 'tether', 'samsung', 'broom', 'gibb', 'gauch', 'paddl', 'nurtur', 'invalu', 'prenat', 'tiffani', 'broadcast', 'wive', 'divis', '93', 'heavyweight', 'thickli', 'sli', 'pim', 'dumpi', 'conge', 'paragon', 'kickbox', 'pinocchio', 'eiteljorg', 'canyon', 'chief', 'heritag', 'abraham', 'luster', 'allegedli', 'revolucion', 'irrespons', 'charley', 'miner', 'headset', 'mikey', 'deactiv', 'cyclebar', '1999', 'culver', 'vote', 'overshadow', 'shorten', 'document', 'whiz', 'caitlin', 'firemen', 'hostel', 'sarcasm', 'waiver', 'suegra', 'illumin', 'pewter', 'frijol', 'timid', 'tomatillo', 'knockout', 'elot', 'maduro', 'picant', 'retreat', 'council', 'protest', 'antisept', 'cumbersom', 'gran', 'mariachi', '312', 'bff', 'suzi', '\\u200b', 'dean', 'coff', 'slime', 'cocott', 'renaiss', 'poo', 'withhold', 'loom', 'porcelain', 'registri', 'pastel', 'glitter', 'awe', 'spam', 'gush', 'caucasian', 'tao', 'flaw', 'cello', 'nypd', 'wynnewood', 'compat', 'butler', 'cocker', 'spaniel', 'disingenu', 'preppi', 'wannab', 'italia', 'mutter', 'georgia', 'fla', 'sober', 'halwa', 'tuscan', 'shtick', 'pu', 'shenanigan', 'nova', 'culprit', 'incess', 'sterl', 'placement', 'krispi', 'ichiban', 'ninki', 'homini', 'acadian', 'typo', 'sambar', 'bryan', 'riesl', 'farmhous', 'spreadabl', 'nom', 'ivi', 'cbp', 'tsunami', 'fiber', 'curbsid', 'usf', 'louisvil', 'feisti', 'fin', 'vaniti', 'firstli', 'crop', 'mercado', 'cubana', 'fo', 'nuke', 'parish', 'talker', 'circa', 'marmalad', 'sysco', 'trp', 'yanke', 'rustica', '202', 'hallibut', '6th', 'prefect', 'vinc', 'carmelo', 'fu', 'peco', 'eighteen', '4am', 'firetruck', 'asplundh', 'flatb', 'embrac', 'gravit', 'copa', 'primanti', 'cub', 'pirat', 'gig', 'carefre', 'substandard', '96', '1800', 'gill', 'hodgepodg', 'mayhem', 'bibb', 'tweeti', 'commemor', 'doy', 'needl', 'swag', 'darkest', 'saracha', 'scone', 'ethiopia', 'tyisha', 'aesthetician', 'caleco', 'phil', 'fq', 'shoulda', 'aluminum', 'dinnertim', 'squagel', 'slogan', 'baskin', 'amazebal', 'waitr', 'hammock', 'hd', 'fireston', 'yolklor', 'ick', 'latch', 'corkag', 'pont', 'franchise', 'maam', 'brothi', 'appeas', 'simultan', 'ambigu', 'kreme', 'unmelt', 'untoast', 'bend', 'boooooo', 'über', 'hula', 'hoop', 'roulett', 'ghini', 'florentin', 'monsieur', 'laden', 'bastil', 'oasi', 'beam', 'amid', 'schrempp', 'vinyasa', 'hatha', 'intermedi', 'yogi', 'sobro', 'leari', 'gent', 'nomad', 'decker', 'prospect', 'bypass', 'unseat', 'indiqu', 'jog', 'immers', 'gambler', 'munchi', 'dooner', 'scantili', 'belmont', 'pringl', 'cheesey', 'souffl', 'butternut', 'kristin', 'marina', 'sarcast', 'residu', 'itch', 'ped', 'dillard', 'enrol', 'pregnanc', 'synthet', 'breadi', 'cavatelli', 'rarer', 'insensit', 'venison', 'uciti', 'foolish', 'decant', 'yesteryear', 'grungi', 'instantan', 'ferguson', 'knowleg', '313', 'vestibul', 'monaco', 'anthropologi', 'unnecessarili', 'incorrectli', 'bloomingdal', 'dishwat', 'tabbouleh', 'bulgur', 'puss', 'jule', 'polar', 'superl', 'guesstim', 'glop', 'lantern', 'holler', 'californian', 'markup', 'fertil', 'caller', 'aqua', 'havana', 'pastelito', 'danish', 'cafecito', 'foami', 'waitlist', 'withdraw', 'strep', 'widespread', 'rockstar', 'handshak', 'tagin', 'panaderia', 'linda', 'curios', 'guatemalan', 'cortado', 'pinella', 'simplic', 'manufactur', 'blinker', 'troubleshoot', 'silicon', 'glen', 'moron', 'godiva', 'slate', 'bricksid', 'mutual', 'dehydr', 'landri', 'tripadvisor', 'globe', 'stil', 'homi', 'myrtl', 'exfoli', 'complexion', 'protion', 'amont', 'deff', 'iam', 'untidi', 'unkempt', 'freeli', 'endlessli', 'dapper', 'uncontrol', 'poet', 'upbring', 'dope', 'hail', 'franki', 'vest', 'stairway', 'meticul', 'veranda', 'campechana', 'morrow', 'kusshi', 'carlota', 'hallmark', 'commend', 'apa', 'shelter', 'mixto', 'vape', 'microbrew', 'clark', 'slimm', 'jumbl', '10p', 'yank', 'donkey', 'seater', 'flawless', 'harley', '66th', 'pow', 'plz', 'she', 'taquito', 'pyramid', 'guacomol', 'barback', 'texan', 'cemita', 'achiot', 'oaxaca', 'distribut', 'apathi', 'worthless', 'nashvega', 'cassoulet', 'descend', 'cindi', 'eege', 'envi', 'parkinson', 'grenadin', 'maraschino', 'shirley', 'peppermint', 'seam', 'jerom', 'soundproof', 'fart', 'frickin', 'mindless', 'carcinogen', 'cin', 'pester', 'chumley', 'ibj', 'helper', 'felix', 'coin', 'harahan', 'siames', 'princess', 'mizu', 'eccentr', 'toasti', 'plymouth', 'ly', 'habitat', 'diehard', 'entr', 'courtney', 'trusti', 'earhart', 'kimche', 'vein', 'edgi', 'unk', 'murphi', 'glisten', 'simplist', 'rodney', 'dizzi', 'refrain', 'microsoft', 'chit', 'untrain', 'eddi', 'jenga', 'categor', 'sham', 'rv', 'borst', 'christo', 'piqu', 'alexa', 'leader', 'reyou', 'parilla', 'foi', 'arctic', 'kabloom', 'relic', 'volvo', '165', 'polyest', 'cmon', 'payrol', 'tzin', 'kerri', 'meld', 'crostini', 'guero', 'nooooo', 'forearm', 'ewwww', 'kentucki', 'xray', 'emerald', '6oz', 'mock', 'deptford', 'kitchenaid', 'shed', 'naf', 'plot', 'beth', 'axi', 'tl', 'yokohama', 'disco', 'adelaid', 'shoprit', 'phoni', 'whitefish', 'clementin', 'sporad', 'discoveri', 'havarti', 'unwind', 'falcon', 'paw', 'virtu', 'akin', 'empress', 'ranger', 'cazuela', 'unsweeten', 'lactos', '14th', 'standbi', 'gadget', '317', 'uk', 'yardley', 'debon', 'panna', 'cotta', 'whoopi', 'congeni', 'fettucini', 'waaaaay', 'brennan', 'formal', 'remors', 'fletcher', 'outward', 'bodywork', 'chock', 'annex', 'doan', 'vinegari', 'fuzz', 'conni', 'buddha', 'todd', 'kimberton', 'bandwagon', 'hummm', 'ruder', 'imperi', 'onda', 'citrusi', 'hypothesi', 'endors', 'badass', 'thoroughbr', 'truecar', 'coli', 'absurdli', 'hotspot', 'empathet', 'imho', 'levelup', 'overpay', 'poco', 'chastis', 'rico', 'costa', 'rica', 'drift', 'cylind', 'vegtabl', 'sauerkraut', 'rejoic', 'gia', 'noddl', 'frugal', 'matern', 'perrier', 'sw', 'blech', 'throwback', 'bonni', 'sonic', 'cincinnati', 'breathtak', 'flora', 'salespeopl', 'multitud', 'ohio', 'utter', 'cowlick', 'gc', 'lojito', 'termini', 'soni', 'msrp', 'euthan', 'liborio', 'slew', 'fantastico', 'carrabba', 'cliqu', 'modicum', 'fleme', 'dk', 'outpost', 'nampa', 'crueller', 'undrink', 'trigger', '12pc', 'broccolini', '249', 'bellman', 'outnumb', 'rewound', 'stammer', 'profici', 'possess', 'immun', 'builder', '32oz', 'dweller', 'nashvillian', 'remeb', '397', '283', 'transmit', 'surcharg', 'whem', 'shawarma', 'tabouli', 'disappointingli', 'harm', 'waterless', 'coop', 'yadda', 'hassan', 'sacramento', 'offramp', 'oakland', 'pare', 'ripassa', 'corridor', 'unknown', 'dysfunct', 'pc', 'passerbi', 'watercress', 'haphazardli', 'notif', 'su', 'trailhead', 'moli', 'queri', 'statur', 'dogfish', 'mbsc', 'sled', 'demograph', 'introductori', 'crude', 'discrep', 'jasmin', 'littlejohn', 'marsh', 'oldsmar', 'wegman', 'transmitt', 'montgomeri', 'spca', 'liabil', 'evalu', 'ocass', 'yarn', 'pattern', 'usaa', 'houston', 'codfish', 'millennium', 'pluse', 'seamstress', 'columbia', 'memorabilia', 'jefferson', 'rearrang', 'murki', 'curious', 'sideway', 'lindsey', 'neighbourhood', 'alton', 'olin', 'haddonfield', 'petito', 'vin', 'mmmmmmmmmm', 'blackforest', 'kolsch', 'nate', 'hipper', 'döner', 'eff', 'saladwork', 'cu', 'edventur', 'zocalo', 'pol', 'aww', 'restauranteur', 'yong', 'crumpl', 'sunglass', 'fairfield', 'scoot', 'comer', 'aloft', 'remix', 'mashup', 'platform', 'congreg', 'amor', 'reginelli', '259', 'muy', 'mal', 'servicio', 'orden', 'persona', 'uno', 'haggen', 'herd', 'uncal', 'scof', 'elantra', 'trudg', 'comma', 'oracl', 'township', 'havertown', 'eatabl', 'hastili', 'crisper', 'worcestershir', 'propel', 'glenn', 'renata', 'veterinarian', 'coil', 'yai', 'coffeehous', 'credo', 'cookin', 'dangl', 'thier', 'bastilla', 'sixteen', 'unbeknownst', 'woodstock', 'cal', 'giardino', 'bacco', 'spectacularli', 'serendip', 'hooker', 'belay', 'novic', 'blogspot', 'kabuki', 'html', 'sakura', 'unagi', '2008', 'oddest', 'conced', 'num', 'haze', 'nook', 'kingsway', 'jacob', 'gloopi', 'baseboard', 'graze', 'segment', 'lttle', 'assert', 'koa', 'heroin', 'oystercatch', 'pristin', 'dire', 'christin', 'yale', 'stevi', 'minado', 'surmis', 'pennypack', 'gee', 'glasswar', 'parfait', 'shopp', 'kk', 'cudo', 'hatteri', 'phl', 'beep', 'es', 'unheard', 'pond', 'cabildo', '2am', 'bellmen', 'courier', 'fetch', 'deathli', 'pamela', 'brave', 'sc', 'tranquil', 'chord', 'tucker', 'explicitli', 'rad', 'jub', 'taneaka', 'yeh', 'knick', 'protector', 'capo', 'changer', 'annnnd', 'hermitag', 'mesquit', 'costli', 'cassidi', 'billow', 'paddywhack', 'acclaim', 'funnel', 'bec', 'tinto', 'quizno', 'barbari', 'rollaway', 'goi', 'cuon', 'kho', 'swat', 'claustrophobia', 'pothol', 'wob', 'flop', 'indigo', 'sd', 'sdge', 'soonest', '29th', 'poydra', 'preced', 'laney', 'unpack', 'incomplet', 'ernesto', 'utmost', 'rangun', 'whirlpool', 'catti', 'hone', 'phyllo', 'unwash', 'thereaft', '4000', 'choc', 'ponder', 'navel', 'enamor', 'makefield', 'poultri', 'obstacl', 'barg', 'victor', 'tore', 'azteca', 'homag', 'condon', 'tito', 'beelin', 'allur', 'priciest', 'bavarian', 'enclosur', 'rot', 'stumptown', 'loudest', 'quack', 'roundin', 'ambival', 'jefferi', 'splitter', 'ticketbiscuit', 'penal', 'recoup', 'heartburn', 'enzo', 'deem', 'sox', 'underwear', 'lgbt', 'rollin', 'jin', 'zipper', 'hydrogen', 'garment', 'pari', 'bangkok', 'phuket', 'milki', 'guava', 'logo', 'briley', 'odditi', '235', 'guidelin', 'culmin', 'flawlessli', 'octupu', 'unpalat', 'bae', 'brandt', 'porn', 'daunt', 'tina', 'serivc', 'diavolo', 'overcom', 'lyndel', 'avalon', 'myron', 'ridg', 'hoisin', 'hs', 'merri', 'granit', 'glanzmann', 'legaci', 'subaru', 'snola', 'crudo', 'antipasta', 'secondi', 'guana', 'pube', 'drone', 'dna', 'analysi', 'stepmoth', '66', 'cuenelli', 'brasa', 'chimichurri', 'herbac', 'have', 'inca', 'chicha', 'limena', 'clove', 'linley', 'drummi', 'theft', 'creamiest', 'lego', 'bonut', 'moul', 'ipod', 'naman', 'por', 'shepherd', 'grimi', 'jax', 'ouch', 'govinda', 'whisk', 'cinder', 'medit', 'spiritu', 'unmiss', 'sukho', 'coaster', 'balayag', 'balli', 'huarach', 'nosh', 'enchant', 'swollen', 'pellegrino', 'warp', '530', 'caipirinha', 'unintellig', 'stutter', 'uhhh', 'canneloni', 'glori', 'mimic', 'triangl', 'shay', 'phili', 'satellit', 'fiend', 'noteworthi', 'exposur', 'tyson', 'ash', 'staten', 'index', 'parksid', 'spay', 'waist', 'kbbq', 'hotpot', '7p', 'footag', 'delud', 'aspir', '2hr', 'overfil', 'junip', 'harrissa', 'pimiento', 'bream', 'appi', 'prank', 'antelop', '16th', 'zio', 'sou', 'como', 'easton', 'finer', '67', 'springer', 'collector', 'dammit', 'tung', 'driveway', 'saniti', 'alyssa', 'downingtown', 'ocharley', 'gordita', 'taverna', 'broadrippl', 'patricia', 'guyang', 'nevi', 'teapot', 'raquet', 'backsid', 'tarnish', 'murder', 'wwe', 'unnot', 'atleast', 'baltimor', 'dooki', 'everynight', 'tram', 'suicid', 'needlepoint', 'idiosyncrat', 'discreet', 'coor', 'dragoon', 'lea', 'malisan', 'chatt', 'seinfeld', 'castillo', 'pail', 'widow', 'omnivor', 'snuggl', 'raley', 'muss', 'contempt', 'abras', 'ziti', 'sabino', 'salvadorian', 'tame', 'keratin', 'drea', 'sambucca', 'settlement', 'randi', '24th', 'until', 'caff', 'mooberri', 'boursin', 'potstick', 'unblock', 'countertop', 'eyelash', 'omni', 'kinki', 'chloe', 'tabbi', 'ombr', 'gianna', 'wilson', 'spaetzl', 'dresser', 'rem', 'inflict', 'mejillon', 'skippack', 'chicori', 'saeco', 'doser', 'nonfunct', 'guru', 'concis', 'gracia', 'hah', 'swig', 'bimini', 'overpric', 'gsr', 'augi', 'valeri', 'secretari', '60th', 'ballet', 'phileo', 'halloumi', 'bibimap', 'uneat', 'rosco', 'cherrio', 'plush', 'pima', 'undecid', 'racquetbal', 'upland', 'wineglass', 'kibitz', 'granada', 'slutti', 'loooong', 'momentarili', 'halo', 'barako', 'pbj', 'brandywin', 'chadd', 'startl', 'huffi', 'loooooong', 'nosi', 'fluster', 'triag', 'oxygen', 'mytho', 'vanessa', 'testament', 'excelent', 'sidenot', 'disclos', 'covert', 'ceo', 'noboru', 'jello', 'dallesandro', 'snuff', 'tenur', 'repurpos', 'bours', 'dorm', 'necess', 'followup', 'snippili', 'caden', '410', 'bún', 'puckett', 'riddl', 'jeremi', 'panda', 'homegrown', 'showroom', 'endiv', 'stirfri', 'papusa', 'frown', 'racoon', 'wifey', 'spilt', 'dsl', 'overpass', 'unconvent', 'scot', 'with', '50pm', '57pm', 'jalisco', 'replic', 'procrastin', 'shoji', 'bodic', 'hem', 'demitru', 'evansvil', 'inner', 'predatori', 'storquest', 'capicola', 'athen', 'tanqu', 'legendari', 'proudli', 'rond', 'hainanes', 'sparerib', 'sarasota', 'stroganoff', 'weiner', 'straddl', 'landlock', 'fingerprint', 'beaker', 'patina', 'juiciest', 'fabric', 'bisteck', 'pobr', 'orangina', 'avec', 'unfinish', 'dum', 'fax', 'sleazi', 'rapid', 'midday', 'castor', 'impromptu', 'nosed', 'bodega', 'biweekli', 'solvang', 'percentag', 'caraf', 'paddleboard', 'conveyor', 'thit', 'nguoi', 'shaki', 'saus', 'headboard', 'unknowledg', 'rambl', 'flourtown', 'pokemon', 'ger', 'formul', 'despina', 'plessi', 'buri', 'token', 'monetari', 'ukrainian', 'kielbasa', 'galubki', 'gallagh', 'appetis', 'mcnugget', 'gofobo', 'sitter', 'ishkibbl', 'chink', '711', 'upmost', 'pumpernickel', 'keho', 'magasin', 'soundtrack', 'ogl', 'centr', 'doughssant', 'cronut', 'mvp', 'mosaic', 'beater', 'keva', 'dressi', 'gob', 'ensu', 'campylobact', 'kali', 'hibiscu', 'sabbat', 'domo', 'pam', 'tighten', 'arepa', 'gump', 'delosa', 'walt', 'sculley', 'driftwood', 'unexcept', 'towne', 'wink', 'carlo', 'inhospit', 'econo', 'patel', 'seanc', 'sahara', 'zaalouk', 'edm', 'heheh', 'notr', 'dame', 'abt', 'juicer', 'bub', 'shooter', 'talkin', 'changeov', 'platoon', 'tbell', 'combat', 'tentacl', 'sloan', 'honk', 'billboard', 'craveabl', 'reed', 'barnhart', 'sympathi', 'pew', 'australian', 'bien', 'izzo', 'gasp', 'threshold', 'robbi', 'natali', 'react', 'mohawk', 'germain', 'folger', 'neglig', 'furtur', 'termit', 'alittl', 'pepperloin', 'consumpt', 'tyron', 'nauseou', 'sacrific', 'incas', 'dearth', 'hord', 'backstori', 'barbel', 'loosen', 'kilauea', 'brightli', 'mariann', 'ratti', 'armi', 'kensington', 'distast', 'bourn', 'craftsmen', 'elat', 'australia', 'zinger', 'kristoff', 'mrsa', '109', '169', 'libertin', '45th', 'aloo', 'awok', 'emiss', 'firebal', 'empir', 'fermentaria', 'kien', 'giang', 'condescens', 'kathryn', 'emperor', 'skunk', 'souza', 'harp', 'countdown', 'gussi', '5000', 'minetta', 'tastless', 'postcard', 'dibruno', 'shite', 'twosom', 'nina', '34th', 'fettuccini', 'bridgett', 'redecor', 'kirkwood', 'chrysanthemum', 'reiki', 'siberia', 'refinish', 'denis', 'lint', 'sketch', 'chateau', 'eller', 'bene', 'woodi', 'simplifi', 'skywalk', 'pronto', 'twisti', 'eyesor', 'f250', 'monro', 'tsao', 'satco', 'rr', 'sandl', 'waver', 'flinch', 'satiat', 'sher', 'punjab', 'amish', 'barnum', 'grid', 'anem', 'cackl', 'bimmerwork', '2007', 'vide', 'cb', 'retribut', 'filthiest', 'malawa', 'mapo', 'phillip', 'strut', 'jessi', 'husbeast', 'crest', 'newcom', 'olney', 'toi', 'levittown', 'castleton', 'lawsuit', 'gmail', 'zarzuela', 'clo', 'boi', 'oktoberfest', 'bratwurst', 'bollywood', 'idli', 'vada', 'mangia', 'someday', 'hyper', 'woodstown', 'walkin', 'audubon', '5x', 'outsourc', 'astonish', 'tel', 'verdi', 'tyler', 'bakehous', 'rossa', 'newk', 'cpa', 'jetta', 'latitud', 'legum', 'adren', 'fatigu', '6800', 'candida', 'milag', 'pursuit', 'reconstruct', 'ina', 'boomer', 'matine', 'academi', 'tootsi', 'unchew', 'bouquet', 'donair', 'bra', 'vender', 'ucsb', 'lax', 'juan', 'dal', 'jane', 'unplug', 'jackpot', 'tournament', '301', 'paddi', 'hoarder', 'pillaw', 'deuc', 'sculli', 'disrepair', 'gullifti', 'saver', 'allyson', 'faouzi', 'montgomeryvil', 'pilat', 'spec', 'discern', 'goood', 'hie', '243', 'resel', 'chan', 'tanner', 'firsthand', 'ymca', 'cora', 'pablano', 'og', 'forthcom', 'commonli', 'stunk', 'bio', 'koi', 'mgm', 'monfongo', 'gaga', 'smuggl', 'buckey', 'milli', 'pyrex', 'wayyyi', 'zapata', 'neighborli', 'unkind', 'snobberi', 'kona', 'nanni', 'rightli', 'saqqara', 'orvi', 'autotrad', 'munchkin', 'baba', 'wcsp', 'titusvil', 'irresist', 'lager', 'thug', 'veracruz', 'spanikopita', 'childish', 'scratchi', 'colorist', 'org', 'troco', 'doug', 'sculptur', 'kathleen', 'uphold', 'grandkid', 'ivan', 'smush', 'travi', 'destini', 'carmin', 'willi', 'haslam', 'kartofelknudel', 'afro', 'deliveryman', 'lg', 'poon', 'lynn', 'gash', 'funniest', 'veffrez4iwaecrqg6eq4cg', 'pirlou', 'malbec', 'ilya', 'postmat', 'clot', 'keel', 'schaffer', 'wimp', 'unfilt', 'cambodian', 'bop', 'juliet', 'contagi', 'kat', 'lugar', 'esposa', 'otra', 'pero', 'estaba', 'cerrado', 'no', 'comida', 'lanc', 'hartman', 'gmc', 'hibatchi', 'fook', 'ribbon', 'parrot', '507', 'wf', 'itwork', 'bobbi', '140', 'elus', 'lices', 'provenc', 'rebuelta', 'makhani', 'retali', 'hansen', 'snobal', 'shakshuka', 'jk', 'dm', 'frizzi', 'sav', 'goooood', 'maitr', 'rifl', 'shotgun', 'burli', 'gynecologist', 'catalog', 'vick', 'pleaser', 'marshmellow', 'appolog', 'superstor', 'sailor', 'misti', 'cruel', 'monoxid', 'catbird', 'brock', 'clichi', 'passcod', 'hobnob', 'chanh', 'capelli', 'lenscraft', 'celin', 'sonora', 'yall', 'glowplug', 'effortless', 'fior', 'tapan', 'notepad', 'casey', 'infrar', 'panaang', 'gilbert', 'peacock', 'desere', 'bridget', 'loveseat', 'frighten', 'overstaf', 'piranha', 'bev', 'maddio', 'gauc', 'copiou', 'selfi', 'bracelet', 'exemplari', 'amiabl', 'baron', 'miscount', 'uncharacterist', 'susi', 'rape', 'lemoncello', 'neopolitan', 'pecorino', 'abnorm', 'merritt', 'dork', 'pennsport', 'onesi', 'homebrew', 'spur', 'stuffer', 'postpon', 'choppi', 'ewwwwww', 'skew', 'favour', 'sophi', 'dixieland', 'divvi', 'mozzerela', '7021', 'tsp', 'bri', 'gruffli', 'manni', 'fairi', 'authentico', 'audi', '4matic', 'gryphon', 'petti', 'exce', 'veil', 'acct', 'doabl', 'babe', 'pager', 'dainti', 'wacki', 'gene', 'ineffici', 'squawk', 'leeri', 'karag', 'bibou', 'rochioli', 'chateauneuf', 'pape', 'pegau', 'spaetzel', 'rainforest', 'indigest', 'rendang', 'paulan', 'hearthsid', 'patriot', 'weber', 'reappli', 'coriand', 'yakuza', 'meinek', 'wrongdo', 'carnat', 'daisi', 'noob', 'hightop', 'morgan', 'ombré', 'inbr', 'haggl', 'drywal', 'fingertip', 'nutcrack', 'jtr', 'loader', 'torresdal', 'avrit', 'bridgewat', 'jhonni', 'watt', 'moni', 'galaga', 'pacman', 'academ', 'hondura', 'apolig', 'gianino', 'oregon', 'macadamia', 'matzo', 'frappa', 'hotshot', 'couger', 'pom', 'blackfinn', 'slum', 'mosi', 'superwok', 'teresa', 'resnick', 'plunger', 'prestigi', 'perm', 'hiatu', 'kitchi', 'horsham', 'cru', 'parkway', 'socioeconom', 'shampooer', 'genoa', '20dll', 'stiletto', 'housewarm', 'floyd', 'bant', 'beachi', 'wingz', 'jhana', 'flapjack', 'cravin', 'jargon', 'aliza', 'southpoint', 'tiguan', 'wareh', 'gw', 'venezuelan', 'tequeño', 'ooh', 'padero', 'eric', 'brasseri', 'westi', 'athena', 'matzoh', 'nadhir', 'mesclun', 'abbrevi', 'resturaunt', 'deciev', 'slurp', 'borsodi', 'betti', 'billingsg', 'hote', 'att', 'jovial', 'lucches', 'pastavino', 'poca', 'cosa', 'nam', 'deja', 'autist', 'snowbird', 'bluetooth', 'foh', 'moham', 'burtucci', 'candic', 'breakag', 'lenz', 'nicholett', 'sando', 'giardinara', 'indonesia', 'nasi', 'jaleel', 'grandeur', 'nazareth', 'hemp', 'miscellan', '3j', 'sharyn', 'greg', 'sleet', 'cappucino', 'blimpi', 'fenza', 'tribe', 'tallahasse', 'sooki', 'iowa', 'tsk', 'ganoug', 'schwarma', 'freshmen', 'littlehead', 'francesca', 'hairfre', 'goggl', 'manor']\n",
            "11624\n"
          ]
        }
      ]
    },
    {
      "cell_type": "code",
      "source": [
        "print(model_w2v.wv.most_similar(\"food\"))"
      ],
      "metadata": {
        "colab": {
          "base_uri": "https://localhost:8080/"
        },
        "id": "jM-t61RLbwXG",
        "outputId": "03089094-458e-4d1f-f8e4-f4c02f6933db"
      },
      "execution_count": null,
      "outputs": [
        {
          "output_type": "stream",
          "name": "stdout",
          "text": [
            "[('mediocr', 0.7179396748542786), ('meal', 0.6965236067771912), ('sushi', 0.6805679798126221), ('fast', 0.6784641146659851), ('unmemor', 0.6660317182540894), ('pretti', 0.6659749746322632), ('averag', 0.6612766981124878), ('slow', 0.6560137271881104), ('okinomiyaki', 0.6530337333679199), ('og', 0.6441921591758728)]\n"
          ]
        }
      ]
    },
    {
      "cell_type": "code",
      "source": [
        "num_words = len(vocs)\n",
        "embedding_matrix_w2v = np.zeros((num_words, word_vec_size))\n",
        "for word, i in words.items():\n",
        "  if i < num_words:\n",
        "    embedding_vector = model_w2v[word]\n",
        "    if embedding_vector is not None:\n",
        "      embedding_matrix_w2v[i] = embedding_vector\n",
        "#example \n",
        "print(embedding_matrix_w2v[139])"
      ],
      "metadata": {
        "colab": {
          "base_uri": "https://localhost:8080/"
        },
        "id": "yIMeFNBDe1MA",
        "outputId": "fa38a551-3bff-4dca-f2c4-ad52b35ab200"
      },
      "execution_count": null,
      "outputs": [
        {
          "output_type": "stream",
          "name": "stdout",
          "text": [
            "[ 1.92469075e-01 -1.17801225e+00 -2.47474954e-01 -1.11693478e+00\n",
            "  6.62574530e-01  1.15619600e+00  2.44506165e-01 -5.71349740e-01\n",
            "  1.01484120e+00 -3.19186091e-01  5.80986917e-01 -4.40786868e-01\n",
            "  3.91332626e-01 -3.09438668e-02 -1.03984937e-01 -2.18946409e+00\n",
            " -1.52988839e+00  1.62380219e-01 -5.27331717e-02  3.51681799e-01\n",
            " -6.33964956e-01  8.19543064e-01  1.36018753e-01 -1.11400420e-02\n",
            "  1.20924079e+00  1.59854293e+00 -7.18247652e-01  1.25051284e+00\n",
            "  1.41187131e-01 -8.16629469e-01 -2.04071864e-01 -2.98759639e-01\n",
            " -4.91380960e-01 -5.22248387e-01  2.53374241e-02 -3.43104787e-02\n",
            "  9.40915048e-01 -2.83278435e-01 -1.52462542e+00 -6.29243195e-01\n",
            "  3.83757472e-01  6.30444705e-01  9.34543967e-01  6.92725360e-01\n",
            " -4.69506544e-04  3.82283181e-01  1.83480811e+00 -6.43104672e-01\n",
            "  1.81330174e-01  1.42926618e-01  9.57469046e-01  5.82436800e-01\n",
            "  7.25558341e-01  4.34256136e-01  6.02196395e-01 -6.19040318e-02\n",
            " -6.60597384e-01  3.66046667e-01  4.31912690e-02  6.47805810e-01\n",
            " -6.17813528e-01 -2.02132374e-01  3.81804585e-01 -9.47111189e-01\n",
            " -1.89869642e-01 -6.25575960e-01 -5.32937765e-01 -3.13100964e-01\n",
            "  5.38534045e-01  2.07069572e-02  9.62670147e-01  1.28589436e-01\n",
            " -8.51240337e-01  9.57652181e-02 -7.64741123e-01  6.16288424e-01\n",
            " -7.61329830e-01  8.12627375e-01  1.85037553e-01  7.32350767e-01\n",
            "  5.09239852e-01 -1.50575727e-01 -7.02121615e-01  9.21227261e-02\n",
            "  1.90114707e-01 -2.93062776e-01  7.08255768e-01 -2.33157337e-01\n",
            "  5.46501815e-01  1.10083401e+00 -3.00635010e-01 -2.79144943e-01\n",
            " -1.00698638e+00 -8.83569837e-01  9.57483888e-01  8.76515865e-01\n",
            " -1.27829111e+00 -5.23506366e-02  7.84238636e-01 -1.44603819e-01]\n"
          ]
        }
      ]
    },
    {
      "cell_type": "code",
      "source": [
        "# find max sequence length\n",
        "print(cnn_bt_train_seqs[3])\n",
        "max_seq_len = max([len(x) for x in train_seq])\n",
        "print(max_seq_len)"
      ],
      "metadata": {
        "colab": {
          "base_uri": "https://localhost:8080/"
        },
        "id": "Oq8M2_b4iXBU",
        "outputId": "c597c62c-513e-401f-d6ec-d5ba9f950552"
      },
      "execution_count": null,
      "outputs": [
        {
          "output_type": "stream",
          "name": "stdout",
          "text": [
            "['start', 'say', 'coffe', 'buff', 'certainli', 'enjoy', 'nice', 'cup', 'coffe', 'say', 'wow', 'cafe', 'mocha', 'americano', 'still', 'go', 'back', 'grab', 'go', 'neighborhood', 'grab', 'go', 'way', 'go', 'opinion', 'last', 'time', 'stop', 'least', 'two', 'dog', 'sit', 'obedi', 'owner', 'laptop', 'pretti', 'full', 'never', 'realli', 'type', 'linger', 'coffe', 'shop', 'alon', 'though', 'notic', 'set', 'rule', 'post', 'milk', 'sugar', 'realli', 'made', 'feel', 'welcom', 'invit', 'set', 'rule', 'appreci', 'custom', '']\n",
            "510\n"
          ]
        }
      ]
    },
    {
      "cell_type": "code",
      "source": [
        "# Predicting test cases - Word2Vec\n",
        "cnn_bt_r_w2v = buildBinaryCNNModel(train_seq, cnn_bt_train[\"label\"].values, val_seq_pad, cnn_bt_val[\"label\"].values , num_words-1, embedding_matrix_w2v, epoch = 12, window = max_prop[0], kernel = max_prop[1], dense = max_prop[2])\n",
        "print(\"train acc:\",cnn_bt_r_w2v.history[\"accuracy\"][11])\n",
        "print(\"validation acc:\",cnn_bt_r_w2v.history[\"val_accuracy\"][11])\n",
        "bt_test_acc_w2v = models[-1].evaluate(test_seq_bt_pad,binary_test[\"label\"].values)\n",
        "print(\"Test accuracy:\",bt_test_acc_w2v)"
      ],
      "metadata": {
        "colab": {
          "base_uri": "https://localhost:8080/"
        },
        "id": "uOH6I7GVDCQc",
        "outputId": "57efd6a0-cdc5-44e7-ba36-9d00b9e354a0"
      },
      "execution_count": null,
      "outputs": [
        {
          "output_type": "stream",
          "name": "stdout",
          "text": [
            "Model: \"model_10\"\n",
            "_________________________________________________________________\n",
            " Layer (type)                Output Shape              Param #   \n",
            "=================================================================\n",
            " input_14 (InputLayer)       [(None, 100)]             0         \n",
            "                                                                 \n",
            " embedding_13 (Embedding)    (None, 100, 100)          1162400   \n",
            "                                                                 \n",
            " conv1d_30 (Conv1D)          (None, 95, 128)           76928     \n",
            "                                                                 \n",
            " max_pooling1d_20 (MaxPoolin  (None, 31, 128)          0         \n",
            " g1D)                                                            \n",
            "                                                                 \n",
            " conv1d_31 (Conv1D)          (None, 27, 64)            41024     \n",
            "                                                                 \n",
            " max_pooling1d_21 (MaxPoolin  (None, 9, 64)            0         \n",
            " g1D)                                                            \n",
            "                                                                 \n",
            " conv1d_32 (Conv1D)          (None, 5, 64)             20544     \n",
            "                                                                 \n",
            " global_max_pooling1d_10 (Gl  (None, 64)               0         \n",
            " obalMaxPooling1D)                                               \n",
            "                                                                 \n",
            " dense_20 (Dense)            (None, 32)                2080      \n",
            "                                                                 \n",
            " dense_21 (Dense)            (None, 1)                 33        \n",
            "                                                                 \n",
            "=================================================================\n",
            "Total params: 1,303,009\n",
            "Trainable params: 140,609\n",
            "Non-trainable params: 1,162,400\n",
            "_________________________________________________________________\n",
            "None\n",
            "Epoch 1/12\n",
            "325/325 [==============================] - 6s 11ms/step - loss: 0.4126 - accuracy: 0.8130 - val_loss: 0.3183 - val_accuracy: 0.8591\n",
            "Epoch 2/12\n",
            "325/325 [==============================] - 3s 9ms/step - loss: 0.3399 - accuracy: 0.8563 - val_loss: 0.3132 - val_accuracy: 0.8681\n",
            "Epoch 3/12\n",
            "325/325 [==============================] - 2s 7ms/step - loss: 0.3070 - accuracy: 0.8702 - val_loss: 0.3359 - val_accuracy: 0.8577\n",
            "Epoch 4/12\n",
            "325/325 [==============================] - 2s 5ms/step - loss: 0.2711 - accuracy: 0.8906 - val_loss: 0.3252 - val_accuracy: 0.8598\n",
            "Epoch 5/12\n",
            "325/325 [==============================] - 2s 6ms/step - loss: 0.2376 - accuracy: 0.9039 - val_loss: 0.4703 - val_accuracy: 0.8508\n",
            "Epoch 6/12\n",
            "325/325 [==============================] - 2s 5ms/step - loss: 0.2042 - accuracy: 0.9188 - val_loss: 0.3249 - val_accuracy: 0.8723\n",
            "Epoch 7/12\n",
            "325/325 [==============================] - 2s 5ms/step - loss: 0.1662 - accuracy: 0.9335 - val_loss: 0.3885 - val_accuracy: 0.8668\n",
            "Epoch 8/12\n",
            "325/325 [==============================] - 2s 5ms/step - loss: 0.1370 - accuracy: 0.9481 - val_loss: 0.4224 - val_accuracy: 0.8515\n",
            "Epoch 9/12\n",
            "325/325 [==============================] - 2s 5ms/step - loss: 0.1053 - accuracy: 0.9600 - val_loss: 0.5199 - val_accuracy: 0.8459\n",
            "Epoch 10/12\n",
            "325/325 [==============================] - 2s 5ms/step - loss: 0.0890 - accuracy: 0.9677 - val_loss: 0.5253 - val_accuracy: 0.8522\n",
            "Epoch 11/12\n",
            "325/325 [==============================] - 2s 5ms/step - loss: 0.0801 - accuracy: 0.9723 - val_loss: 0.5843 - val_accuracy: 0.8536\n",
            "Epoch 12/12\n",
            "325/325 [==============================] - 2s 5ms/step - loss: 0.0738 - accuracy: 0.9742 - val_loss: 0.6896 - val_accuracy: 0.8612\n",
            "train acc: 0.9742403030395508\n",
            "validation acc: 0.8612074851989746\n",
            "50/50 [==============================] - 0s 3ms/step - loss: 0.6660 - accuracy: 0.8600\n",
            "Test accuracy: [0.6659803986549377, 0.8600125312805176]\n"
          ]
        }
      ]
    },
    {
      "cell_type": "markdown",
      "source": [
        "### Vector Weights from Gimsim Api"
      ],
      "metadata": {
        "id": "bc89DVtUFNzv"
      }
    },
    {
      "cell_type": "code",
      "source": [
        "# Gensim Model Embedding Matrix\n",
        "import gensim.downloader as api\n",
        "model_gensim = api.load(\"glove-wiki-gigaword-100\")\n",
        "embedding_matrix_gensim = np.zeros((len(words), word_vec_size))\n",
        "for word, i in words.items():\n",
        "  if i < len(words):\n",
        "    if word in model_gensim:\n",
        "      embedding_matrix_gensim[i] = model_gensim[word]"
      ],
      "metadata": {
        "id": "rdO-3XbA3Vn0"
      },
      "execution_count": null,
      "outputs": []
    },
    {
      "cell_type": "code",
      "source": [
        "# Predicting test cases - Gensim API\n",
        "cnn_bt_r_gensim = buildBinaryCNNModel(train_seq, cnn_bt_train[\"label\"].values, val_seq_pad, cnn_bt_val[\"label\"].values , len(words)-1, embedding_matrix_gensim, epoch = 12, window = max_prop[0], kernel = max_prop[1], dense = max_prop[2])\n",
        "print(\"train acc:\",cnn_bt_r_gensim.history[\"accuracy\"][11])\n",
        "print(\"validation acc:\",cnn_bt_r_gensim.history[\"val_accuracy\"][11])\n",
        "bt_test_acc_gensim = models[-1].evaluate(test_seq_bt_pad,binary_test[\"label\"].values)\n",
        "print(\"Test accuracy:\",bt_test_acc_gensim)"
      ],
      "metadata": {
        "colab": {
          "base_uri": "https://localhost:8080/"
        },
        "id": "gANZuOfgIVA4",
        "outputId": "f59302ae-58f2-49d6-ebc7-5cc77e547463"
      },
      "execution_count": null,
      "outputs": [
        {
          "output_type": "stream",
          "name": "stdout",
          "text": [
            "Model: \"model_9\"\n",
            "_________________________________________________________________\n",
            " Layer (type)                Output Shape              Param #   \n",
            "=================================================================\n",
            " input_13 (InputLayer)       [(None, 100)]             0         \n",
            "                                                                 \n",
            " embedding_12 (Embedding)    (None, 100, 100)          1916400   \n",
            "                                                                 \n",
            " conv1d_27 (Conv1D)          (None, 95, 128)           76928     \n",
            "                                                                 \n",
            " max_pooling1d_18 (MaxPoolin  (None, 31, 128)          0         \n",
            " g1D)                                                            \n",
            "                                                                 \n",
            " conv1d_28 (Conv1D)          (None, 27, 64)            41024     \n",
            "                                                                 \n",
            " max_pooling1d_19 (MaxPoolin  (None, 9, 64)            0         \n",
            " g1D)                                                            \n",
            "                                                                 \n",
            " conv1d_29 (Conv1D)          (None, 5, 64)             20544     \n",
            "                                                                 \n",
            " global_max_pooling1d_9 (Glo  (None, 64)               0         \n",
            " balMaxPooling1D)                                                \n",
            "                                                                 \n",
            " dense_18 (Dense)            (None, 32)                2080      \n",
            "                                                                 \n",
            " dense_19 (Dense)            (None, 1)                 33        \n",
            "                                                                 \n",
            "=================================================================\n",
            "Total params: 2,057,009\n",
            "Trainable params: 140,609\n",
            "Non-trainable params: 1,916,400\n",
            "_________________________________________________________________\n",
            "None\n",
            "Epoch 1/12\n",
            "325/325 [==============================] - 3s 6ms/step - loss: 0.5538 - accuracy: 0.7119 - val_loss: 0.4706 - val_accuracy: 0.7828\n",
            "Epoch 2/12\n",
            "325/325 [==============================] - 2s 5ms/step - loss: 0.4325 - accuracy: 0.8057 - val_loss: 0.5002 - val_accuracy: 0.7654\n",
            "Epoch 3/12\n",
            "325/325 [==============================] - 2s 5ms/step - loss: 0.3510 - accuracy: 0.8487 - val_loss: 0.4405 - val_accuracy: 0.7856\n",
            "Epoch 4/12\n",
            "325/325 [==============================] - 2s 5ms/step - loss: 0.2704 - accuracy: 0.8919 - val_loss: 0.4526 - val_accuracy: 0.8196\n",
            "Epoch 5/12\n",
            "325/325 [==============================] - 2s 5ms/step - loss: 0.1983 - accuracy: 0.9220 - val_loss: 0.4236 - val_accuracy: 0.8307\n",
            "Epoch 6/12\n",
            "325/325 [==============================] - 2s 5ms/step - loss: 0.1410 - accuracy: 0.9505 - val_loss: 0.4861 - val_accuracy: 0.8272\n",
            "Epoch 7/12\n",
            "325/325 [==============================] - 2s 5ms/step - loss: 0.1040 - accuracy: 0.9658 - val_loss: 0.5481 - val_accuracy: 0.8230\n",
            "Epoch 8/12\n",
            "325/325 [==============================] - 2s 5ms/step - loss: 0.0780 - accuracy: 0.9769 - val_loss: 0.6608 - val_accuracy: 0.8300\n",
            "Epoch 9/12\n",
            "325/325 [==============================] - 2s 5ms/step - loss: 0.0690 - accuracy: 0.9801 - val_loss: 0.6999 - val_accuracy: 0.8182\n",
            "Epoch 10/12\n",
            "325/325 [==============================] - 2s 5ms/step - loss: 0.0594 - accuracy: 0.9825 - val_loss: 0.7967 - val_accuracy: 0.8203\n",
            "Epoch 11/12\n",
            "325/325 [==============================] - 2s 5ms/step - loss: 0.0548 - accuracy: 0.9841 - val_loss: 1.2443 - val_accuracy: 0.7717\n",
            "Epoch 12/12\n",
            "325/325 [==============================] - 2s 5ms/step - loss: 0.0565 - accuracy: 0.9853 - val_loss: 0.7976 - val_accuracy: 0.8272\n",
            "train acc: 0.9853463172912598\n",
            "validation acc: 0.8272033333778381\n",
            "50/50 [==============================] - 0s 3ms/step - loss: 0.8675 - accuracy: 0.8098\n",
            "Test accuracy: [0.8675410747528076, 0.8097928166389465]\n"
          ]
        }
      ]
    },
    {
      "cell_type": "code",
      "source": [
        "# Prepare your dataset for CNN classifier"
      ],
      "metadata": {
        "id": "gAiCuA7G3S06"
      },
      "execution_count": null,
      "outputs": []
    },
    {
      "cell_type": "code",
      "source": [
        "# Create Embedding Matrices and Layers\n"
      ],
      "metadata": {
        "id": "M3N9xaLY3UHd"
      },
      "execution_count": null,
      "outputs": []
    },
    {
      "cell_type": "markdown",
      "source": [
        "### Building the Model: Multi-class"
      ],
      "metadata": {
        "id": "cEcK2U7oviVN"
      }
    },
    {
      "cell_type": "code",
      "source": [
        "#Tokenize the sentences\n",
        "mTokenizer = Tokenizer()\n",
        "\n",
        "mTokenizer.fit_on_texts(list(cnn_multi_train[\"text\"]))\n",
        "                            \n",
        "train_seq_m  = mTokenizer.texts_to_sequences(list(cnn_multi_train[\"text\"])) \n",
        "val_seq_m = mTokenizer.texts_to_sequences(list(cnn_multi_val[\"text\"]))\n",
        "\n",
        "#find max sequence length\n",
        "max_seq_len_m = max([len(x) for x in train_seq_m])\n",
        "word_vec_size = 100\n",
        "#padding to prepare sequences of same length\n",
        "train_seq_mpad  = pad_sequences(train_seq_m, maxlen=word_vec_size)\n",
        "val_seq_mpad = pad_sequences(val_seq_m, maxlen=word_vec_size)\n",
        "\n",
        "\n",
        "\n",
        "words = mTokenizer.word_index\n",
        "print(len(words))"
      ],
      "metadata": {
        "colab": {
          "base_uri": "https://localhost:8080/"
        },
        "id": "PXkRRk0cMhv0",
        "outputId": "a26e608e-4fef-49e8-bdfc-7a8e34ba1148"
      },
      "execution_count": null,
      "outputs": [
        {
          "output_type": "stream",
          "name": "stdout",
          "text": [
            "20967\n"
          ]
        }
      ]
    },
    {
      "cell_type": "code",
      "source": [
        "#One hot encoding of labels\n",
        "cnn_multi_tr_labels = cnn_multi_train[\"label\"].values\n",
        "cnn_multi_tr_labels = tf.keras.utils.to_categorical(cnn_multi_tr_labels, num_classes = 5)\n",
        "\n",
        "cnn_multi_val_labels = cnn_multi_val[\"label\"].values\n",
        "cnn_multi_val_labels = tf.keras.utils.to_categorical(cnn_multi_val_labels, num_classes = 5)\n",
        "\n",
        "cnn_multi_ts_labels = multi_ts[\"label\"].values\n",
        "cnn_multi_ts_labels = tf.keras.utils.to_categorical(cnn_multi_ts_labels, num_classes = 5)\n",
        "print(cnn_multi_tr_labels)"
      ],
      "metadata": {
        "colab": {
          "base_uri": "https://localhost:8080/"
        },
        "id": "6H_PE9juPEZL",
        "outputId": "80e43816-805a-4ad1-e7b2-787d4caed64c"
      },
      "execution_count": null,
      "outputs": [
        {
          "output_type": "stream",
          "name": "stdout",
          "text": [
            "[[0. 0. 1. 0. 0.]\n",
            " [0. 0. 1. 0. 0.]\n",
            " [0. 0. 0. 0. 1.]\n",
            " ...\n",
            " [0. 0. 1. 0. 0.]\n",
            " [0. 0. 0. 0. 1.]\n",
            " [1. 0. 0. 0. 0.]]\n"
          ]
        }
      ]
    },
    {
      "cell_type": "code",
      "source": [
        "\n",
        "def buildMultiCNNModel(train_seq, tr_labels, val_seq_pad, val_labels , word_count, embed_matrix, vec_size=100, window = 128, kernel = 4, pool = 3, dense = 64, loss='categorical_crossentropy', optimizer='rmsprop', metrics=['accuracy'], epoch = 10):\n",
        "  max_len = max([len(x) for x in train_seq])\n",
        "  train_seq_pad = pad_sequences(train_seq, vec_size)\n",
        " #print(len(train_seq_pad[0]))\n",
        "  embedding_layer = Embedding(\n",
        "    word_count,\n",
        "    vec_size,\n",
        "    weights=[embed_matrix],\n",
        "    input_length=max_len,\n",
        "    trainable=False\n",
        "  )\n",
        "\n",
        "  #Set up the network with cnn\n",
        "  input_shape = Input(shape = (len(train_seq_pad[0]),))\n",
        "\n",
        "  \n",
        "  cnn_bt=embedding_layer(input_shape)\n",
        "\n",
        "  cnn_bt=Conv1D(window,kernel,activation=\"relu\")(cnn_bt)\n",
        "  cnn_bt=MaxPooling1D(pool)(cnn_bt)\n",
        "\n",
        "  cnn_bt=Conv1D(window/2,kernel-1,activation=\"relu\")(cnn_bt)\n",
        "  cnn_bt=MaxPooling1D(pool)(cnn_bt)\n",
        "\n",
        "  cnn_bt=Conv1D(window/2,kernel-1,activation=\"relu\")(cnn_bt)\n",
        "  cnn_bt=GlobalMaxPooling1D()(cnn_bt)\n",
        "\n",
        "  cnn_bt=Dense(dense,activation=\"relu\")(cnn_bt)\n",
        "  cnn_bt_out = Dense(5, activation=\"softmax\")(cnn_bt)\n",
        "\n",
        "  cnn_bt_model = tf.keras.Model(input_shape, cnn_bt_out)\n",
        "  cnn_bt_model.compile(\n",
        "    loss=loss, optimizer=optimizer, metrics=metrics\n",
        "  )\n",
        "  [print(i.shape, i.dtype) for i in cnn_bt_model.inputs]\n",
        "  [print(o.shape, o.dtype) for o in cnn_bt_model.outputs]\n",
        "  print(cnn_bt_model.output.shape)\n",
        "  print(type(cnn_bt_model.output))\n",
        "  print(cnn_bt_model.summary())\n",
        "\n",
        "  #train_seq_m = np.asarray(train_seq_m)\n",
        "  #val_seq_mpad = np.asarray(val_seq_mpad)\n",
        "\n",
        "  cnn_bt_res = cnn_bt_model.fit(train_seq_pad, cnn_multi_tr_labels , validation_data = (val_seq_mpad, cnn_multi_val_labels ), batch_size = 40, epochs = epoch, verbose = 1) \n",
        "  models_m.append(cnn_bt_model)\n",
        "  return cnn_bt_res\n"
      ],
      "metadata": {
        "id": "gEgk1Jc0QltA"
      },
      "execution_count": null,
      "outputs": []
    },
    {
      "cell_type": "code",
      "source": [
        "# Randomly initialized embedding matrix \n",
        "embedding_matrix = np.zeros((len(words), word_vec_size))\n",
        "for word, i in words.items():\n",
        "  if i < len(words):\n",
        "    embedding_vector = np.random.rand(word_vec_size)*2 - 1\n",
        "    if embedding_vector is not None:\n",
        "      embedding_matrix[i] = embedding_vector\n",
        "#example \n",
        "print(embedding_matrix[3])"
      ],
      "metadata": {
        "colab": {
          "base_uri": "https://localhost:8080/"
        },
        "id": "YHcW1_hcOt4T",
        "outputId": "5ff1ca6b-ce04-4a48-8a12-62ac54aa86f2"
      },
      "execution_count": null,
      "outputs": [
        {
          "output_type": "stream",
          "name": "stdout",
          "text": [
            "[ 0.84034495  0.38261029 -0.82369958  0.62283821 -0.59603242 -0.81288771\n",
            "  0.98782068 -0.38523925  0.70136272 -0.33212833 -0.41839452 -0.93071217\n",
            "  0.55807187 -0.04418994 -0.09514495 -0.55350952 -0.51330159 -0.28370699\n",
            " -0.31993593 -0.71021001 -0.45393319 -0.75479415  0.44023108  0.83273806\n",
            " -0.42714801 -0.50195097  0.01563235  0.26604552  0.93165244 -0.31284359\n",
            " -0.37907894 -0.95748224 -0.13726384 -0.45917752 -0.8567974   0.79342736\n",
            " -0.71253576 -0.13164182 -0.48004965 -0.24270618 -0.40409183 -0.36621945\n",
            " -0.85105712 -0.57944425 -0.39036817  0.13317692  0.34324354  0.52589927\n",
            " -0.17070688 -0.68090873 -0.02527034 -0.69002858  0.99993002 -0.5894791\n",
            "  0.13343411  0.97035647 -0.57915687  0.5409738   0.78891478 -0.72688473\n",
            "  0.21705982  0.94826743 -0.28868773  0.15016659  0.48927734  0.37278889\n",
            " -0.90582353  0.79586885 -0.18194034  0.1880293  -0.81738349  0.89916038\n",
            " -0.06919044 -0.96572878  0.84570551  0.28209523 -0.76579173 -0.3813534\n",
            "  0.38020938 -0.68271396 -0.86872649 -0.88561393 -0.50719215  0.18455074\n",
            " -0.80735405  0.19929628  0.04493771 -0.90814538  0.56984398  0.71878911\n",
            "  0.99832149 -0.43120605 -0.67621638  0.77862494 -0.68544682 -0.22267176\n",
            " -0.78120386 -0.70349548 -0.93305171 -0.54892622]\n"
          ]
        }
      ]
    },
    {
      "cell_type": "code",
      "source": [
        "import itertools\n",
        "\n",
        "######## HYPERPARAMETER TUNING ########\n",
        "# with w2v matrix\n",
        "\n",
        "w = [256, 128]\n",
        "k = [6,4]\n",
        "d = [64,32]\n",
        "\n",
        "models_m = []\n",
        "props_m = []\n",
        "index = 0\n",
        "max_accs_m = []\n",
        "max_accs_val_m = []\n",
        "\n",
        "print(\"***** For randomly initialized embedding matrix (Binary)\")\n",
        "for l in list(itertools.product(*[w,k,d])):\n",
        "  epoch = 10\n",
        "  cnn_bt_r = buildMultiCNNModel(train_seq_m, cnn_multi_tr_labels, val_seq_mpad, cnn_multi_val_labels, num_words_m, embedding_matrix_w2v_m, vec_size=word_vec_size, epoch = epoch, window = l[0], kernel = l[1], dense = l[2])\n",
        "  print(\"window:\",l[0],\"kernel:\",l[1],\"hidden-layer:\",l[2],sep=\" \")\n",
        "  props_m.append(l)\n",
        "  print(\"train acc:\",cnn_bt_r.history[\"accuracy\"][epoch-1])\n",
        "  max_accs_m.append(cnn_bt_r.history[\"accuracy\"][epoch-1])\n",
        "  print(\"validation acc:\",cnn_bt_r.history[\"val_accuracy\"][epoch-1])\n",
        "  max_accs_val_m.append(cnn_bt_r.history[\"val_accuracy\"][epoch-1])\n",
        "  index+=1\n"
      ],
      "metadata": {
        "colab": {
          "base_uri": "https://localhost:8080/"
        },
        "id": "DU2yYEW4QGx0",
        "outputId": "1666fff1-e8b1-4ee7-e6e8-4eef218e9cb4"
      },
      "execution_count": null,
      "outputs": [
        {
          "output_type": "stream",
          "name": "stdout",
          "text": [
            "***** For randomly initialized embedding matrix (Binary)\n",
            "(None, 100) <dtype: 'float32'>\n",
            "(None, 5) <dtype: 'float32'>\n",
            "(None, 5)\n",
            "<class 'keras.engine.keras_tensor.KerasTensor'>\n",
            "Model: \"model\"\n",
            "_________________________________________________________________\n",
            " Layer (type)                Output Shape              Param #   \n",
            "=================================================================\n",
            " input_2 (InputLayer)        [(None, 100)]             0         \n",
            "                                                                 \n",
            " embedding_1 (Embedding)     (None, 100, 100)          1263200   \n",
            "                                                                 \n",
            " conv1d (Conv1D)             (None, 95, 256)           153856    \n",
            "                                                                 \n",
            " max_pooling1d (MaxPooling1D  (None, 31, 256)          0         \n",
            " )                                                               \n",
            "                                                                 \n",
            " conv1d_1 (Conv1D)           (None, 27, 128)           163968    \n",
            "                                                                 \n",
            " max_pooling1d_1 (MaxPooling  (None, 9, 128)           0         \n",
            " 1D)                                                             \n",
            "                                                                 \n",
            " conv1d_2 (Conv1D)           (None, 5, 128)            82048     \n",
            "                                                                 \n",
            " global_max_pooling1d (Globa  (None, 128)              0         \n",
            " lMaxPooling1D)                                                  \n",
            "                                                                 \n",
            " dense (Dense)               (None, 64)                8256      \n",
            "                                                                 \n",
            " dense_1 (Dense)             (None, 5)                 325       \n",
            "                                                                 \n",
            "=================================================================\n",
            "Total params: 1,671,653\n",
            "Trainable params: 408,453\n",
            "Non-trainable params: 1,263,200\n",
            "_________________________________________________________________\n",
            "None\n",
            "Epoch 1/10\n",
            "405/405 [==============================] - 20s 12ms/step - loss: 1.2950 - accuracy: 0.4391 - val_loss: 1.1732 - val_accuracy: 0.4778\n",
            "Epoch 2/10\n",
            "405/405 [==============================] - 4s 11ms/step - loss: 1.1598 - accuracy: 0.4952 - val_loss: 1.1944 - val_accuracy: 0.4572\n",
            "Epoch 3/10\n",
            "405/405 [==============================] - 4s 11ms/step - loss: 1.0922 - accuracy: 0.5248 - val_loss: 1.3163 - val_accuracy: 0.4594\n",
            "Epoch 4/10\n",
            "405/405 [==============================] - 4s 11ms/step - loss: 1.0111 - accuracy: 0.5606 - val_loss: 1.2842 - val_accuracy: 0.4906\n",
            "Epoch 5/10\n",
            "405/405 [==============================] - 4s 11ms/step - loss: 0.9176 - accuracy: 0.6114 - val_loss: 1.2504 - val_accuracy: 0.4578\n",
            "Epoch 6/10\n",
            "405/405 [==============================] - 5s 11ms/step - loss: 0.7982 - accuracy: 0.6641 - val_loss: 1.2502 - val_accuracy: 0.4967\n",
            "Epoch 7/10\n",
            "405/405 [==============================] - 4s 11ms/step - loss: 0.6700 - accuracy: 0.7290 - val_loss: 1.5837 - val_accuracy: 0.4750\n",
            "Epoch 8/10\n",
            "405/405 [==============================] - 4s 11ms/step - loss: 0.5484 - accuracy: 0.7820 - val_loss: 1.7897 - val_accuracy: 0.4733\n",
            "Epoch 9/10\n",
            "405/405 [==============================] - 4s 11ms/step - loss: 0.4464 - accuracy: 0.8280 - val_loss: 2.0680 - val_accuracy: 0.4528\n",
            "Epoch 10/10\n",
            "405/405 [==============================] - 4s 11ms/step - loss: 0.3678 - accuracy: 0.8616 - val_loss: 2.1349 - val_accuracy: 0.4711\n",
            "window: 256 kernel: 6 hidden-layer: 64\n",
            "train acc: 0.8616049289703369\n",
            "validation acc: 0.47111111879348755\n",
            "(None, 100) <dtype: 'float32'>\n",
            "(None, 5) <dtype: 'float32'>\n",
            "(None, 5)\n",
            "<class 'keras.engine.keras_tensor.KerasTensor'>\n",
            "Model: \"model_1\"\n",
            "_________________________________________________________________\n",
            " Layer (type)                Output Shape              Param #   \n",
            "=================================================================\n",
            " input_3 (InputLayer)        [(None, 100)]             0         \n",
            "                                                                 \n",
            " embedding_2 (Embedding)     (None, 100, 100)          1263200   \n",
            "                                                                 \n",
            " conv1d_3 (Conv1D)           (None, 95, 256)           153856    \n",
            "                                                                 \n",
            " max_pooling1d_2 (MaxPooling  (None, 31, 256)          0         \n",
            " 1D)                                                             \n",
            "                                                                 \n",
            " conv1d_4 (Conv1D)           (None, 27, 128)           163968    \n",
            "                                                                 \n",
            " max_pooling1d_3 (MaxPooling  (None, 9, 128)           0         \n",
            " 1D)                                                             \n",
            "                                                                 \n",
            " conv1d_5 (Conv1D)           (None, 5, 128)            82048     \n",
            "                                                                 \n",
            " global_max_pooling1d_1 (Glo  (None, 128)              0         \n",
            " balMaxPooling1D)                                                \n",
            "                                                                 \n",
            " dense_2 (Dense)             (None, 32)                4128      \n",
            "                                                                 \n",
            " dense_3 (Dense)             (None, 5)                 165       \n",
            "                                                                 \n",
            "=================================================================\n",
            "Total params: 1,667,365\n",
            "Trainable params: 404,165\n",
            "Non-trainable params: 1,263,200\n",
            "_________________________________________________________________\n",
            "None\n",
            "Epoch 1/10\n",
            "405/405 [==============================] - 6s 12ms/step - loss: 1.3098 - accuracy: 0.4295 - val_loss: 1.2300 - val_accuracy: 0.4672\n",
            "Epoch 2/10\n",
            "405/405 [==============================] - 4s 11ms/step - loss: 1.1663 - accuracy: 0.4886 - val_loss: 1.1678 - val_accuracy: 0.4867\n",
            "Epoch 3/10\n",
            "405/405 [==============================] - 4s 11ms/step - loss: 1.0946 - accuracy: 0.5208 - val_loss: 1.1426 - val_accuracy: 0.4900\n",
            "Epoch 4/10\n",
            "405/405 [==============================] - 4s 11ms/step - loss: 1.0123 - accuracy: 0.5670 - val_loss: 1.1581 - val_accuracy: 0.5039\n",
            "Epoch 5/10\n",
            "405/405 [==============================] - 4s 11ms/step - loss: 0.9067 - accuracy: 0.6167 - val_loss: 1.2680 - val_accuracy: 0.5050\n",
            "Epoch 6/10\n",
            "405/405 [==============================] - 4s 11ms/step - loss: 0.7904 - accuracy: 0.6735 - val_loss: 1.3269 - val_accuracy: 0.4994\n",
            "Epoch 7/10\n",
            "405/405 [==============================] - 4s 10ms/step - loss: 0.6583 - accuracy: 0.7368 - val_loss: 1.3021 - val_accuracy: 0.4967\n",
            "Epoch 8/10\n",
            "405/405 [==============================] - 4s 11ms/step - loss: 0.5258 - accuracy: 0.7977 - val_loss: 1.6739 - val_accuracy: 0.4711\n",
            "Epoch 9/10\n",
            "405/405 [==============================] - 4s 11ms/step - loss: 0.4238 - accuracy: 0.8391 - val_loss: 1.8196 - val_accuracy: 0.4544\n",
            "Epoch 10/10\n",
            "405/405 [==============================] - 4s 10ms/step - loss: 0.3427 - accuracy: 0.8749 - val_loss: 2.3646 - val_accuracy: 0.4694\n",
            "window: 256 kernel: 6 hidden-layer: 32\n",
            "train acc: 0.8749382495880127\n",
            "validation acc: 0.4694444537162781\n",
            "(None, 100) <dtype: 'float32'>\n",
            "(None, 5) <dtype: 'float32'>\n",
            "(None, 5)\n",
            "<class 'keras.engine.keras_tensor.KerasTensor'>\n",
            "Model: \"model_2\"\n",
            "_________________________________________________________________\n",
            " Layer (type)                Output Shape              Param #   \n",
            "=================================================================\n",
            " input_4 (InputLayer)        [(None, 100)]             0         \n",
            "                                                                 \n",
            " embedding_3 (Embedding)     (None, 100, 100)          1263200   \n",
            "                                                                 \n",
            " conv1d_6 (Conv1D)           (None, 97, 256)           102656    \n",
            "                                                                 \n",
            " max_pooling1d_4 (MaxPooling  (None, 32, 256)          0         \n",
            " 1D)                                                             \n",
            "                                                                 \n",
            " conv1d_7 (Conv1D)           (None, 30, 128)           98432     \n",
            "                                                                 \n",
            " max_pooling1d_5 (MaxPooling  (None, 10, 128)          0         \n",
            " 1D)                                                             \n",
            "                                                                 \n",
            " conv1d_8 (Conv1D)           (None, 8, 128)            49280     \n",
            "                                                                 \n",
            " global_max_pooling1d_2 (Glo  (None, 128)              0         \n",
            " balMaxPooling1D)                                                \n",
            "                                                                 \n",
            " dense_4 (Dense)             (None, 64)                8256      \n",
            "                                                                 \n",
            " dense_5 (Dense)             (None, 5)                 325       \n",
            "                                                                 \n",
            "=================================================================\n",
            "Total params: 1,522,149\n",
            "Trainable params: 258,949\n",
            "Non-trainable params: 1,263,200\n",
            "_________________________________________________________________\n",
            "None\n",
            "Epoch 1/10\n",
            "405/405 [==============================] - 7s 13ms/step - loss: 1.2794 - accuracy: 0.4372 - val_loss: 1.1613 - val_accuracy: 0.4894\n",
            "Epoch 2/10\n",
            "405/405 [==============================] - 4s 9ms/step - loss: 1.1510 - accuracy: 0.5006 - val_loss: 1.1083 - val_accuracy: 0.5089\n",
            "Epoch 3/10\n",
            "405/405 [==============================] - 4s 9ms/step - loss: 1.0871 - accuracy: 0.5254 - val_loss: 1.1198 - val_accuracy: 0.5150\n",
            "Epoch 4/10\n",
            "405/405 [==============================] - 4s 9ms/step - loss: 1.0303 - accuracy: 0.5512 - val_loss: 1.1822 - val_accuracy: 0.4939\n",
            "Epoch 5/10\n",
            "405/405 [==============================] - 4s 9ms/step - loss: 0.9568 - accuracy: 0.5898 - val_loss: 1.2453 - val_accuracy: 0.4939\n",
            "Epoch 6/10\n",
            "405/405 [==============================] - 4s 10ms/step - loss: 0.8775 - accuracy: 0.6245 - val_loss: 1.2991 - val_accuracy: 0.4972\n",
            "Epoch 7/10\n",
            "405/405 [==============================] - 4s 9ms/step - loss: 0.7756 - accuracy: 0.6726 - val_loss: 1.3341 - val_accuracy: 0.4789\n",
            "Epoch 8/10\n",
            "405/405 [==============================] - 4s 9ms/step - loss: 0.6813 - accuracy: 0.7192 - val_loss: 1.3991 - val_accuracy: 0.4944\n",
            "Epoch 9/10\n",
            "405/405 [==============================] - 4s 10ms/step - loss: 0.5894 - accuracy: 0.7623 - val_loss: 1.6095 - val_accuracy: 0.5100\n",
            "Epoch 10/10\n",
            "405/405 [==============================] - 4s 9ms/step - loss: 0.4958 - accuracy: 0.8015 - val_loss: 1.8569 - val_accuracy: 0.4700\n",
            "window: 256 kernel: 4 hidden-layer: 64\n",
            "train acc: 0.8015432357788086\n",
            "validation acc: 0.4699999988079071\n",
            "(None, 100) <dtype: 'float32'>\n",
            "(None, 5) <dtype: 'float32'>\n",
            "(None, 5)\n",
            "<class 'keras.engine.keras_tensor.KerasTensor'>\n",
            "Model: \"model_3\"\n",
            "_________________________________________________________________\n",
            " Layer (type)                Output Shape              Param #   \n",
            "=================================================================\n",
            " input_5 (InputLayer)        [(None, 100)]             0         \n",
            "                                                                 \n",
            " embedding_4 (Embedding)     (None, 100, 100)          1263200   \n",
            "                                                                 \n",
            " conv1d_9 (Conv1D)           (None, 97, 256)           102656    \n",
            "                                                                 \n",
            " max_pooling1d_6 (MaxPooling  (None, 32, 256)          0         \n",
            " 1D)                                                             \n",
            "                                                                 \n",
            " conv1d_10 (Conv1D)          (None, 30, 128)           98432     \n",
            "                                                                 \n",
            " max_pooling1d_7 (MaxPooling  (None, 10, 128)          0         \n",
            " 1D)                                                             \n",
            "                                                                 \n",
            " conv1d_11 (Conv1D)          (None, 8, 128)            49280     \n",
            "                                                                 \n",
            " global_max_pooling1d_3 (Glo  (None, 128)              0         \n",
            " balMaxPooling1D)                                                \n",
            "                                                                 \n",
            " dense_6 (Dense)             (None, 32)                4128      \n",
            "                                                                 \n",
            " dense_7 (Dense)             (None, 5)                 165       \n",
            "                                                                 \n",
            "=================================================================\n",
            "Total params: 1,517,861\n",
            "Trainable params: 254,661\n",
            "Non-trainable params: 1,263,200\n",
            "_________________________________________________________________\n",
            "None\n",
            "Epoch 1/10\n",
            "405/405 [==============================] - 5s 11ms/step - loss: 1.2809 - accuracy: 0.4340 - val_loss: 1.1505 - val_accuracy: 0.4978\n",
            "Epoch 2/10\n",
            "405/405 [==============================] - 4s 10ms/step - loss: 1.1498 - accuracy: 0.4998 - val_loss: 1.1541 - val_accuracy: 0.4989\n",
            "Epoch 3/10\n",
            "405/405 [==============================] - 4s 10ms/step - loss: 1.0906 - accuracy: 0.5257 - val_loss: 1.2064 - val_accuracy: 0.4694\n",
            "Epoch 4/10\n",
            "405/405 [==============================] - 4s 10ms/step - loss: 1.0285 - accuracy: 0.5537 - val_loss: 1.1357 - val_accuracy: 0.5050\n",
            "Epoch 5/10\n",
            "405/405 [==============================] - 4s 10ms/step - loss: 0.9643 - accuracy: 0.5843 - val_loss: 1.1725 - val_accuracy: 0.5039\n",
            "Epoch 6/10\n",
            "405/405 [==============================] - 4s 9ms/step - loss: 0.8972 - accuracy: 0.6207 - val_loss: 1.2183 - val_accuracy: 0.5028\n",
            "Epoch 7/10\n",
            "405/405 [==============================] - 4s 9ms/step - loss: 0.8019 - accuracy: 0.6643 - val_loss: 1.2401 - val_accuracy: 0.4911\n",
            "Epoch 8/10\n",
            "405/405 [==============================] - 4s 9ms/step - loss: 0.7057 - accuracy: 0.7119 - val_loss: 1.2794 - val_accuracy: 0.4906\n",
            "Epoch 9/10\n",
            "405/405 [==============================] - 4s 10ms/step - loss: 0.6064 - accuracy: 0.7565 - val_loss: 1.6599 - val_accuracy: 0.4633\n",
            "Epoch 10/10\n",
            "405/405 [==============================] - 4s 9ms/step - loss: 0.5222 - accuracy: 0.7933 - val_loss: 1.7295 - val_accuracy: 0.4806\n",
            "window: 256 kernel: 4 hidden-layer: 32\n",
            "train acc: 0.7933333516120911\n",
            "validation acc: 0.48055556416511536\n",
            "(None, 100) <dtype: 'float32'>\n",
            "(None, 5) <dtype: 'float32'>\n",
            "(None, 5)\n",
            "<class 'keras.engine.keras_tensor.KerasTensor'>\n",
            "Model: \"model_4\"\n",
            "_________________________________________________________________\n",
            " Layer (type)                Output Shape              Param #   \n",
            "=================================================================\n",
            " input_6 (InputLayer)        [(None, 100)]             0         \n",
            "                                                                 \n",
            " embedding_5 (Embedding)     (None, 100, 100)          1263200   \n",
            "                                                                 \n",
            " conv1d_12 (Conv1D)          (None, 95, 128)           76928     \n",
            "                                                                 \n",
            " max_pooling1d_8 (MaxPooling  (None, 31, 128)          0         \n",
            " 1D)                                                             \n",
            "                                                                 \n",
            " conv1d_13 (Conv1D)          (None, 27, 64)            41024     \n",
            "                                                                 \n",
            " max_pooling1d_9 (MaxPooling  (None, 9, 64)            0         \n",
            " 1D)                                                             \n",
            "                                                                 \n",
            " conv1d_14 (Conv1D)          (None, 5, 64)             20544     \n",
            "                                                                 \n",
            " global_max_pooling1d_4 (Glo  (None, 64)               0         \n",
            " balMaxPooling1D)                                                \n",
            "                                                                 \n",
            " dense_8 (Dense)             (None, 64)                4160      \n",
            "                                                                 \n",
            " dense_9 (Dense)             (None, 5)                 325       \n",
            "                                                                 \n",
            "=================================================================\n",
            "Total params: 1,406,181\n",
            "Trainable params: 142,981\n",
            "Non-trainable params: 1,263,200\n",
            "_________________________________________________________________\n",
            "None\n",
            "Epoch 1/10\n",
            "405/405 [==============================] - 4s 8ms/step - loss: 1.2880 - accuracy: 0.4346 - val_loss: 1.2633 - val_accuracy: 0.4606\n",
            "Epoch 2/10\n",
            "405/405 [==============================] - 3s 8ms/step - loss: 1.1608 - accuracy: 0.4899 - val_loss: 1.1937 - val_accuracy: 0.4700\n",
            "Epoch 3/10\n",
            "405/405 [==============================] - 4s 9ms/step - loss: 1.0969 - accuracy: 0.5182 - val_loss: 1.1358 - val_accuracy: 0.5072\n",
            "Epoch 4/10\n",
            "405/405 [==============================] - 4s 9ms/step - loss: 1.0287 - accuracy: 0.5574 - val_loss: 1.1605 - val_accuracy: 0.5061\n",
            "Epoch 5/10\n",
            "405/405 [==============================] - 4s 9ms/step - loss: 0.9399 - accuracy: 0.5993 - val_loss: 1.1856 - val_accuracy: 0.4894\n",
            "Epoch 6/10\n",
            "405/405 [==============================] - 4s 9ms/step - loss: 0.8624 - accuracy: 0.6346 - val_loss: 1.3119 - val_accuracy: 0.4506\n",
            "Epoch 7/10\n",
            "405/405 [==============================] - 4s 9ms/step - loss: 0.7590 - accuracy: 0.6875 - val_loss: 1.4607 - val_accuracy: 0.4567\n",
            "Epoch 8/10\n",
            "405/405 [==============================] - 4s 9ms/step - loss: 0.6665 - accuracy: 0.7304 - val_loss: 1.4486 - val_accuracy: 0.4639\n",
            "Epoch 9/10\n",
            "405/405 [==============================] - 4s 10ms/step - loss: 0.5797 - accuracy: 0.7676 - val_loss: 1.7139 - val_accuracy: 0.4706\n",
            "Epoch 10/10\n",
            "405/405 [==============================] - 4s 9ms/step - loss: 0.5035 - accuracy: 0.8002 - val_loss: 1.8674 - val_accuracy: 0.4411\n",
            "window: 128 kernel: 6 hidden-layer: 64\n",
            "train acc: 0.8002468943595886\n",
            "validation acc: 0.44111111760139465\n",
            "(None, 100) <dtype: 'float32'>\n",
            "(None, 5) <dtype: 'float32'>\n",
            "(None, 5)\n",
            "<class 'keras.engine.keras_tensor.KerasTensor'>\n",
            "Model: \"model_5\"\n",
            "_________________________________________________________________\n",
            " Layer (type)                Output Shape              Param #   \n",
            "=================================================================\n",
            " input_7 (InputLayer)        [(None, 100)]             0         \n",
            "                                                                 \n",
            " embedding_6 (Embedding)     (None, 100, 100)          1263200   \n",
            "                                                                 \n",
            " conv1d_15 (Conv1D)          (None, 95, 128)           76928     \n",
            "                                                                 \n",
            " max_pooling1d_10 (MaxPoolin  (None, 31, 128)          0         \n",
            " g1D)                                                            \n",
            "                                                                 \n",
            " conv1d_16 (Conv1D)          (None, 27, 64)            41024     \n",
            "                                                                 \n",
            " max_pooling1d_11 (MaxPoolin  (None, 9, 64)            0         \n",
            " g1D)                                                            \n",
            "                                                                 \n",
            " conv1d_17 (Conv1D)          (None, 5, 64)             20544     \n",
            "                                                                 \n",
            " global_max_pooling1d_5 (Glo  (None, 64)               0         \n",
            " balMaxPooling1D)                                                \n",
            "                                                                 \n",
            " dense_10 (Dense)            (None, 32)                2080      \n",
            "                                                                 \n",
            " dense_11 (Dense)            (None, 5)                 165       \n",
            "                                                                 \n",
            "=================================================================\n",
            "Total params: 1,403,941\n",
            "Trainable params: 140,741\n",
            "Non-trainable params: 1,263,200\n",
            "_________________________________________________________________\n",
            "None\n",
            "Epoch 1/10\n",
            "405/405 [==============================] - 5s 10ms/step - loss: 1.2843 - accuracy: 0.4273 - val_loss: 1.2263 - val_accuracy: 0.4856\n",
            "Epoch 2/10\n",
            "405/405 [==============================] - 4s 9ms/step - loss: 1.1644 - accuracy: 0.4891 - val_loss: 1.2291 - val_accuracy: 0.4361\n",
            "Epoch 3/10\n",
            "405/405 [==============================] - 4s 9ms/step - loss: 1.1007 - accuracy: 0.5180 - val_loss: 1.2246 - val_accuracy: 0.4828\n",
            "Epoch 4/10\n",
            "405/405 [==============================] - 4s 9ms/step - loss: 1.0362 - accuracy: 0.5500 - val_loss: 1.1311 - val_accuracy: 0.5083\n",
            "Epoch 5/10\n",
            "405/405 [==============================] - 4s 9ms/step - loss: 0.9705 - accuracy: 0.5810 - val_loss: 1.2423 - val_accuracy: 0.4783\n",
            "Epoch 6/10\n",
            "405/405 [==============================] - 4s 10ms/step - loss: 0.8983 - accuracy: 0.6199 - val_loss: 1.4341 - val_accuracy: 0.4200\n",
            "Epoch 7/10\n",
            "405/405 [==============================] - 4s 10ms/step - loss: 0.8159 - accuracy: 0.6585 - val_loss: 1.2767 - val_accuracy: 0.5144\n",
            "Epoch 8/10\n",
            "405/405 [==============================] - 4s 10ms/step - loss: 0.7168 - accuracy: 0.7099 - val_loss: 1.4032 - val_accuracy: 0.4828\n",
            "Epoch 9/10\n",
            "405/405 [==============================] - 4s 10ms/step - loss: 0.6269 - accuracy: 0.7469 - val_loss: 1.4575 - val_accuracy: 0.4828\n",
            "Epoch 10/10\n",
            "405/405 [==============================] - 4s 10ms/step - loss: 0.5322 - accuracy: 0.7894 - val_loss: 1.6675 - val_accuracy: 0.4772\n",
            "window: 128 kernel: 6 hidden-layer: 32\n",
            "train acc: 0.7894444465637207\n",
            "validation acc: 0.4772222340106964\n",
            "(None, 100) <dtype: 'float32'>\n",
            "(None, 5) <dtype: 'float32'>\n",
            "(None, 5)\n",
            "<class 'keras.engine.keras_tensor.KerasTensor'>\n",
            "Model: \"model_6\"\n",
            "_________________________________________________________________\n",
            " Layer (type)                Output Shape              Param #   \n",
            "=================================================================\n",
            " input_8 (InputLayer)        [(None, 100)]             0         \n",
            "                                                                 \n",
            " embedding_7 (Embedding)     (None, 100, 100)          1263200   \n",
            "                                                                 \n",
            " conv1d_18 (Conv1D)          (None, 97, 128)           51328     \n",
            "                                                                 \n",
            " max_pooling1d_12 (MaxPoolin  (None, 32, 128)          0         \n",
            " g1D)                                                            \n",
            "                                                                 \n",
            " conv1d_19 (Conv1D)          (None, 30, 64)            24640     \n",
            "                                                                 \n",
            " max_pooling1d_13 (MaxPoolin  (None, 10, 64)           0         \n",
            " g1D)                                                            \n",
            "                                                                 \n",
            " conv1d_20 (Conv1D)          (None, 8, 64)             12352     \n",
            "                                                                 \n",
            " global_max_pooling1d_6 (Glo  (None, 64)               0         \n",
            " balMaxPooling1D)                                                \n",
            "                                                                 \n",
            " dense_12 (Dense)            (None, 64)                4160      \n",
            "                                                                 \n",
            " dense_13 (Dense)            (None, 5)                 325       \n",
            "                                                                 \n",
            "=================================================================\n",
            "Total params: 1,356,005\n",
            "Trainable params: 92,805\n",
            "Non-trainable params: 1,263,200\n",
            "_________________________________________________________________\n",
            "None\n",
            "Epoch 1/10\n",
            "405/405 [==============================] - 5s 9ms/step - loss: 1.2743 - accuracy: 0.4407 - val_loss: 1.1506 - val_accuracy: 0.5144\n",
            "Epoch 2/10\n",
            "405/405 [==============================] - 4s 9ms/step - loss: 1.1542 - accuracy: 0.4880 - val_loss: 1.1288 - val_accuracy: 0.5106\n",
            "Epoch 3/10\n",
            "405/405 [==============================] - 4s 9ms/step - loss: 1.0973 - accuracy: 0.5213 - val_loss: 1.1398 - val_accuracy: 0.4933\n",
            "Epoch 4/10\n",
            "405/405 [==============================] - 4s 9ms/step - loss: 1.0458 - accuracy: 0.5481 - val_loss: 1.1247 - val_accuracy: 0.5189\n",
            "Epoch 5/10\n",
            "405/405 [==============================] - 4s 9ms/step - loss: 0.9873 - accuracy: 0.5731 - val_loss: 1.1210 - val_accuracy: 0.5200\n",
            "Epoch 6/10\n",
            "405/405 [==============================] - 4s 9ms/step - loss: 0.9352 - accuracy: 0.6020 - val_loss: 1.1959 - val_accuracy: 0.4794\n",
            "Epoch 7/10\n",
            "405/405 [==============================] - 4s 9ms/step - loss: 0.8690 - accuracy: 0.6323 - val_loss: 1.2491 - val_accuracy: 0.4806\n",
            "Epoch 8/10\n",
            "405/405 [==============================] - 4s 9ms/step - loss: 0.8012 - accuracy: 0.6612 - val_loss: 1.3143 - val_accuracy: 0.4794\n",
            "Epoch 9/10\n",
            "405/405 [==============================] - 4s 9ms/step - loss: 0.7359 - accuracy: 0.6944 - val_loss: 1.3865 - val_accuracy: 0.4878\n",
            "Epoch 10/10\n",
            "405/405 [==============================] - 4s 9ms/step - loss: 0.6706 - accuracy: 0.7266 - val_loss: 1.7431 - val_accuracy: 0.4556\n",
            "window: 128 kernel: 4 hidden-layer: 64\n",
            "train acc: 0.7266049385070801\n",
            "validation acc: 0.4555555582046509\n",
            "(None, 100) <dtype: 'float32'>\n",
            "(None, 5) <dtype: 'float32'>\n",
            "(None, 5)\n",
            "<class 'keras.engine.keras_tensor.KerasTensor'>\n",
            "Model: \"model_7\"\n",
            "_________________________________________________________________\n",
            " Layer (type)                Output Shape              Param #   \n",
            "=================================================================\n",
            " input_9 (InputLayer)        [(None, 100)]             0         \n",
            "                                                                 \n",
            " embedding_8 (Embedding)     (None, 100, 100)          1263200   \n",
            "                                                                 \n",
            " conv1d_21 (Conv1D)          (None, 97, 128)           51328     \n",
            "                                                                 \n",
            " max_pooling1d_14 (MaxPoolin  (None, 32, 128)          0         \n",
            " g1D)                                                            \n",
            "                                                                 \n",
            " conv1d_22 (Conv1D)          (None, 30, 64)            24640     \n",
            "                                                                 \n",
            " max_pooling1d_15 (MaxPoolin  (None, 10, 64)           0         \n",
            " g1D)                                                            \n",
            "                                                                 \n",
            " conv1d_23 (Conv1D)          (None, 8, 64)             12352     \n",
            "                                                                 \n",
            " global_max_pooling1d_7 (Glo  (None, 64)               0         \n",
            " balMaxPooling1D)                                                \n",
            "                                                                 \n",
            " dense_14 (Dense)            (None, 32)                2080      \n",
            "                                                                 \n",
            " dense_15 (Dense)            (None, 5)                 165       \n",
            "                                                                 \n",
            "=================================================================\n",
            "Total params: 1,353,765\n",
            "Trainable params: 90,565\n",
            "Non-trainable params: 1,263,200\n",
            "_________________________________________________________________\n",
            "None\n",
            "Epoch 1/10\n",
            "405/405 [==============================] - 5s 9ms/step - loss: 1.2824 - accuracy: 0.4377 - val_loss: 1.1810 - val_accuracy: 0.4839\n",
            "Epoch 2/10\n",
            "405/405 [==============================] - 4s 9ms/step - loss: 1.1475 - accuracy: 0.5012 - val_loss: 1.1793 - val_accuracy: 0.4778\n",
            "Epoch 3/10\n",
            "405/405 [==============================] - 4s 9ms/step - loss: 1.0943 - accuracy: 0.5232 - val_loss: 1.1767 - val_accuracy: 0.4900\n",
            "Epoch 4/10\n",
            "405/405 [==============================] - 4s 9ms/step - loss: 1.0405 - accuracy: 0.5459 - val_loss: 1.1275 - val_accuracy: 0.4956\n",
            "Epoch 5/10\n",
            "405/405 [==============================] - 4s 9ms/step - loss: 0.9884 - accuracy: 0.5738 - val_loss: 1.1542 - val_accuracy: 0.5100\n",
            "Epoch 6/10\n",
            "405/405 [==============================] - 4s 9ms/step - loss: 0.9303 - accuracy: 0.6061 - val_loss: 1.1456 - val_accuracy: 0.5000\n",
            "Epoch 7/10\n",
            "405/405 [==============================] - 4s 9ms/step - loss: 0.8729 - accuracy: 0.6260 - val_loss: 1.2164 - val_accuracy: 0.4828\n",
            "Epoch 8/10\n",
            "405/405 [==============================] - 4s 9ms/step - loss: 0.8069 - accuracy: 0.6560 - val_loss: 1.2424 - val_accuracy: 0.4922\n",
            "Epoch 9/10\n",
            "405/405 [==============================] - 4s 9ms/step - loss: 0.7390 - accuracy: 0.6908 - val_loss: 1.3033 - val_accuracy: 0.4978\n",
            "Epoch 10/10\n",
            "405/405 [==============================] - 4s 9ms/step - loss: 0.6776 - accuracy: 0.7223 - val_loss: 1.4628 - val_accuracy: 0.4972\n",
            "window: 128 kernel: 4 hidden-layer: 32\n",
            "train acc: 0.7223456501960754\n",
            "validation acc: 0.4972222149372101\n"
          ]
        }
      ]
    },
    {
      "cell_type": "code",
      "source": [
        "max_ind_m=max_accs_val_m.index(max(max_accs_val_m))\n",
        "max_model_m = models_m[max_ind_m]\n",
        "max_prop_m = props_m[max_ind_m]\n",
        "\n",
        "print(\"***********\")\n",
        "print(\"max train acc:\", max(max_accs_m))\n",
        "print(\"validation acc:\", max(max_accs_val_m))\n",
        "print(\"max val model properties:\", max_prop_m)\n",
        "print(\"***********\")"
      ],
      "metadata": {
        "colab": {
          "base_uri": "https://localhost:8080/"
        },
        "id": "4TlA6qM8R4j7",
        "outputId": "6be9ba91-c9fa-4754-a955-485ab01762ee"
      },
      "execution_count": null,
      "outputs": [
        {
          "output_type": "stream",
          "name": "stdout",
          "text": [
            "***********\n",
            "max train acc: 0.8749382495880127\n",
            "validation acc: 0.4972222149372101\n",
            "max val model properties: (128, 4, 32)\n",
            "***********\n"
          ]
        }
      ]
    },
    {
      "cell_type": "code",
      "source": [
        "cnn_multi_train_seqs = [x.split(\" \") for x in list(cnn_multi_train[\"text\"])]\n",
        "\n",
        "model_w2v_m = Word2Vec(cnn_multi_train_seqs, size = word_vec_size, window = 10, workers = 10, min_count = 2)\n",
        "vocs_m = list(model_w2v_m.wv.vocab)\n",
        "print(vocs_m)\n",
        "print(len(vocs_m))"
      ],
      "metadata": {
        "colab": {
          "base_uri": "https://localhost:8080/"
        },
        "id": "q3pSBllqNPrI",
        "outputId": "b478a1e7-4b2d-43e1-f14d-cf84893e3b6c"
      },
      "execution_count": null,
      "outputs": [
        {
          "output_type": "stream",
          "name": "stdout",
          "text": [
            "['think', 'drink', 'water', 'everi', 'night', 'club', 'go', 'expect', 'guess', 'unfortun', 'might', 'suggest', 'dive', 'bar', 'littl', 'nugget', 'hook', 'haha', 'like', 'music', 'play', 'time', 'get', 'crowd', 'throw', 'elbow', 'herd', 'move', 'long', 'dancer', 'semi', 'trashi', 'next', 'step', 'strip', 'reno', '', 'pedicur', 'excel', 'problem', 'servic', 'offer', 'howev', 'walk', 'differ', 'day', 'fill', 'staff', 'basic', 'ignor', 'guy', 'actual', 'seem', 'annoy', 'told', 'wait', 'never', 'got', 'back', 'sat', 'least', '10', 'minut', 'without', 'word', 'left', 'good', 'somewher', 'els', 'someon', 'valu', 'busi', 'tri', 'quit', 'strang', 'donut', 'delici', 'interest', 'favorit', 'bacon', 'fritter', 'typic', 'shop', 'bother', 'uniqu', 'ingredi', 'friendli', 'face', 'color', 'decor', 'reviv', 'great', 'neighborhood', 'lectur', 'class', 'hit', 'miss', 'depend', 'instructor', 'style', 'read', 'along', 'scribbl', 'board', 'type', 'lot', 'review', 'rave', 'julio', 'wonder', 'anoth', 'much', 'want', '7', 'intens', 'right', 'allow', 'switch', 'onlin', 'unless', 'paid', '249', 'take', 'twice', 'expens', 'program', 'half', 'care', 'definit', 'starr', 'restaur', 'option', 'price', 'point', 'jone', 'nearbi', 'dont', 'usual', 'travel', 'citi', 'eat', 'food', 'qualiti', 'use', 'better', 'year', 'ago', 'realli', 'fallen', 'late', 'cc', 'mocha', 'except', 'place', 'spend', 'work', 'studi', 'especi', 'cushion', 'seat', 'plenti', 'power', 'outlet', 'bench', 'area', 'man', 'keep', 'cold', 'coldest', 'coffe', 'seen', 'peopl', 'leav', 'cu', 'feel', 'hand', 'would', 'make', 'buy', 'hot', 'internet', 'slow', 'reliabl', 'super', 'speed', 'may', 'updat', 'router', 'hardwar', 'came', 'birthday', 'probabl', 'come', 'follow', 'caus', 'worth', 'boyfriend', 'order', 'cours', 'tast', 'menu', 'hell', 'portion', 'meal', 'culmin', 'perfectli', 'ehhh', 'full', 'chef', 'child', 'letharg', 'complet', 'satisfi', 'discomfort', 'treat', 'give', 'enough', 'digest', 'dish', 'rare', 'two', 'hour', 'overal', 'minu', 'one', 'execut', 'flawlessli', 'delic', 'flavor', 'made', 'sens', 'singl', 'spice', 'textur', 'open', 'mind', 'varieti', 'way', 'prepar', 'term', 'escargot', 'butter', 'bowl', 'crab', 'snake', 'pasta', 'red', 'sauc', 'duck', 'rabbit', 'thick', 'white', 'squid', 'ink', 'mysteri', 'appet', 'thing', 'sea', 'bass', 'celeri', 'appl', 'cake', 'whiskey', 'chip', 'look', 'banana', 'fact', 'sangria', 'though', 'weak', 'warm', 'truffl', 'oil', 'bread', 'muffin', 'holi', 'crap', 'dig', 'surf', 'turf', 'pork', 'octupu', 'heavili', 'lentil', 'rice', 'mani', 'peppercorn', 'worst', 'person', 'prefer', 'chicken', 'liver', 'mouss', 'serv', 'papaya', 'chunk', 'peanut', 'unpalat', 'felt', 'wrong', 'level', 'carcass', 'squeez', 'past', 'wateri', 'awesom', 'alley', 'expos', 'stagger', 'brick', 'bathroom', 'cool', 'drop', 'star', 'perman', 'bad', 'brain', 'whisper', 'princ', 'server', 'introduc', 'went', 'marrakesh', 'first', 'saturday', 'dislik', 'experi', 'deserv', '3', '5', 'round', 'authent', 'dine', 'atmospher', 'insid', 'absolut', 'amaz', 'live', 'room', 'home', 'cook', 'well', 'segreg', 'parti', 'privat', 'drape', 'cover', 'wall', 'fun', 'belli', 'also', 'eggplant', 'salad', 'best', 'ever', 'lamb', 'tender', 'fell', 'shank', 'couscou', 'whole', 'roast', 'fall', 'bone', 'arriv', 'group', '15', 'stand', 'outsid', '20', 'degre', 'weather', 'member', 'freez', 'could', 'set', 'heat', 'lamp', 'sinc', 'happen', 'everyon', 'took', 'receiv', 'wine', 'bottl', 'booz', 'tabl', 'brought', 'glass', 'ask', 'wish', 'straight', 'napkin', 'towel', 'silverwar', 'item', 'beef', 'far', 'hard', 'chew', 'entir', 'length', 'paragraph', 'mislead', '4', 'mention', 'outweigh', 'recommend', 'note', 'cash', 'byob', '25', 'tip', 'base', 'friend', 'reccomend', 'stop', 'today', 'almost', 'sandwhich', 'avoid', 'chose', 'non', 'italian', 'chicago', 'meat', 'essenti', 'top', 'pepper', 'carrot', 'sandwich', 'dip', 'seper', 'compel', 'car', 'ride', 'moist', 'said', 'return', 'easili', 'fishtown', 'small', 'cup', '2', 'ad', 'cream', 'sugar', 'near', 'perfect', 'brew', 'mistak', 'modern', 'space', 'spars', 'encourag', 'focu', 'book', 'homework', 'posit', 'decid', 'sam', 'shortli', 'pm', 'weekday', '65', 'start', 'light', 'wood', 'slat', 'high', 'ceil', 'somewhat', 'mismatch', 'booth', 'reminisc', 'ski', 'lodg', 'albeit', 'close', 'togeth', 'promptli', 'greet', 'fresh', 'ice', 'tea', 'began', 'brows', 'burger', 'grill', 'concoct', 'thanksgiv', 'french', 'roll', 'side', 'includ', 'onion', 'ring', 'walnut', 'fri', 'applesauc', 'honey', 'flake', 'bit', 'min', 'later', 'diner', 'gradual', 'establish', 'fortun', 'choos', 'ketchup', 'creat', 'pool', 'plate', 'notic', 'label', 'oddli', 'fade', 'wash', 'heinz', 'either', 'break', 'soft', 'crusti', 'edg', 'cut', 'sit', 'around', 'turkey', 'dri', 'supposedli', 'site', 'stuf', 'bland', 'redeem', 'cranberri', 'pre', 'packag', 'idea', 'lack', 'mountain', 'shoestr', 'evenli', 'season', 'appear', 'cajun', 'clear', 'lace', 'jelli', 'ok', 'salvag', 'less', 'money', 'bill', '33', 'simpl', 'attent', 'detail', 'obviou', 'weekli', 'supplier', 'put', 'effort', 'possibl', 'call', 'joint', 'applebe', 'subway', 'across', 'street', 'even', 'yet', 'fire', 'wors', 'loss', 'real', 'foodi', 'found', 'ben', 'bbq', 'beer', 'via', 'yelp', 'driven', 'hotel', 'dozen', 'knew', 'exist', 'rub', 'brisket', 'phenomen', 'afford', 'sweet', 'potato', 'regular', 'mac', 'n', 'chees', 'cornbread', 'tasti', 'tini', 'corn', 'select', 'juli', 'bartend', 'waitress', 'cashier', 'help', 'forward', 'dinner', 'nashvil', 'mediocr', 'horribl', 'oh', 'plu', 'glasswar', 'speak', 'need', 'opportun', 'puerto', 'rican', 'warn', 'eaten', 'coupl', 'gianna', 'jr', 'thread', 'longer', 'relev', 'locat', 'gotten', 'vegetarian', 'vegan', 'cheesesteak', 'deliv', 'bunch', 'deliveri', 'bike', 'west', 'philadelphia', 'veg', 'pretti', 'perhap', 'indic', 'big', 'cost', 'consist', 'fake', 'china', 'town', 'govinda', 'broad', 'south', 'st', 'mimic', 'oppos', 'version', 'nail', 'salon', 'connoisseur', 'impress', 'acknowledg', 'champagn', 'refil', 'averag', 'rush', 'ambienc', 'nice', 'tool', 'steril', 'firm', 'believ', 'custom', '50', 'futur', 'vibe', 'adult', 'children', 'bank', 'corpor', 'mainten', 'clean', 'clue', 'pizza', 'meatbal', 'sub', 'wrap', 'rangoon', 'eel', 'spot', 'block', 'approxim', '30pm', '1', '29', '16', 'husband', 'charli', 'brown', 'springfield', 'pa', 'instantli', 'sever', 'host', 'readili', 'avail', 'apolog', 'upon', 'us', 'mike', 'satisfactori', 'neglect', 'lemon', 'diet', 'soda', 'none', 'cheeseburg', 'condiment', 'forgot', 'check', 'observ', 'patron', 'african', 'american', 'mayb', 'influenc', 'request', 'manag', 'jennif', 'explain', 'concern', 'immedi', 'fix', 'pay', 'tab', 'inform', 'complaint', 'poor', 'reput', 'insult', 'manageri', 'leadership', 'thought', 'know', 'pro', 'stay', 'tower', 'imperi', 'suit', 'killer', 'origin', '60', 'upgrad', '210', 'free', 'find', 'com', 'casino', 'gener', 'theme', 'old', 'fashion', 'major', 'neon', 'reason', 'new', 'con', 'smoke', 'front', 'desk', 'middl', 'park', 'empti', 'machin', 'floor', 'sign', 'key', 'unfriendli', 'noisi', '8am', 'terribl', 'sleep', '4am', 'wake', 'mile', 'away', 'downtown', 'char', 'teow', 'flat', 'noodl', 'disintegr', 'oili', 'tofu', 'burnt', 'greasi', 'uneaten', 'mee', 'siam', 'pad', 'thai', 'rememb', 'malaysia', 'poorli', 'done', 'easi', 'lunch', 'gave', 'unbeliev', 'pull', 'slaw', '57', 'buffet', '49', 'pound', 'tampa', 'jazz', 'hesit', 'boy', 'figur', 'loung', 'bryce', 'eas', 'fine', 'youngster', 'poke', 'nose', 'milk', 'cooki', 'grab', 'homemad', 'sip', 'listen', 'lull', '8pm', 'simmer', 'rendit', 'sentiment', 'journey', 'truli', 'compliment', 'biz', 'brand', 'temp', 'hope', 'lock', 'multi', 'contract', 'serious', 'hospit', 'sincer', 'highli', 'effect', 'genuin', 'eager', 'sure', 'guest', 'snug', 'bug', 'rug', 'subject', 'andrew', '6', 'brunch', 'horn', 'disappoint', 'mimosa', 'proport', '8', 'oz', 'size', 'last', 'rob', 'waffl', 'declar', 'egg', 'love', 'choic', 'crawfish', 'grit', 'let', 'spici', 'biscuit', 'accompani', 'local', 'eateri', 'blt', 'crumbl', 'shred', 'lettuc', 'mean', 'didnt', 'wont', 'standard', 'fro', 'yo', 'noth', 'complain', 'write', 'seriou', 'crave', 'visit', 'tucson', 'recent', 'agustin', 'brasseri', 'met', 'beauti', 'classic', 'stylish', 'welcom', 'comfort', 'enter', 'notch', 'knowledg', 'woman', 'name', 'heidi', 'question', 'salmon', 'pair', 'say', 'seattl', 'fantast', 'stellar', 'sad', 'frequent', 'happi', 'thank', 'famili', 'invit', 'renaiss', 'art', 'orlean', 'la', 'essenc', 'festiv', 'conveni', 'alway', 'enjoy', '9', '2018', 'daughter', 'turn', 'disturb', 'housekeep', 'still', 'polit', 'justin', 'associ', 'rude', 'shock', 'respons', 'similar', 'marriott', 'kindli', 'accommod', 'state', 'refus', 'contact', 'determin', 'failur', 'pride', 'provid', 'reward', 'properti', 'variou', 'throughout', 'world', 'meet', 'matter', 'andi', 'king', 'hear', 'inquir', 'statu', 'email', 'respond', 'morn', 'offic', 'address', 'heard', 'behav', '40', 'breakfast', 'sausag', 'link', 'send', 'medium', 'runni', 'apathet', 'finish', 'post', 'brother', 'sister', 'four', 'dumpl', 'momma', 'mine', 'fish', 'fillet', 'hong', 'kong', 'oyster', 'black', 'bean', 'chili', 'salti', 'batter', 'doughi', 'glop', 'kung', 'pao', 'scallop', 'panda', 'express', 'drift', 'remind', 'court', 'fat', 'liter', 'swim', 'pond', 'syrup', 'cring', 'e', 'kinda', 'steel', 'fast', 'combo', 'chrysanthemum', 'jasmin', 'novel', 'competitor', 'um', 'chines', 'trip', 'end', 'river', 'plan', 'explor', 'hate', 'bearer', 'news', 'excus', 'palomar', 'banner', 'scienc', 'museum', 'kimpton', 'rewind', '17th', 'see', 'plastic', 'vertic', 'hang', 'ew', 'human', 'bodi', 'franklin', 'institut', 'zero', 'inn', 'portland', 'main', 'honestli', 'ugh', 'angri', 'market', 'director', 'xo', 'layov', 'philli', 'prevent', 'sound', 'silli', 'hoagi', 'etc', 'number', 'minor', 'sashimi', 'piec', 'smaller', 'pinki', 'everyth', 'overpr', 'sushi', 'apart', 'someth', 'surprisingli', 'soup', 'cheap', 'green', 'bento', 'fork', 'besid', 'broke', 'smile', 'profession', 'casual', 'shopper', 'wem', 'kombucha', 'decent', 'snack', 'quiet', 'chill', 'wifi', 'consid', 'girl', 'shove', 'pricey', 'allergi', 'line', 'separ', 'section', 'watch', 'employe', 'frazzl', 'realiz', 'five', 'cinnamon', 'vanilla', 'nut', 'sunda', 'heart', 'summer', 'tub', 'equip', 'son', 'ten', 'refund', 'wast', 'insensit', 'abl', 'nobodi', 'reach', 'owner', 'run', 'sloppi', 'prep', 'present', 'box', 'age', 'sensit', 'alien', 'demograph', 'waterwheel', 'icon', 'upstair', 'gather', 'romant', 'basement', 'addit', 'environ', 'downstair', 'kid', 'rout', 'whether', 'ginger', 'ale', 'special', 'dessert', 'pud', 'beyond', 'ventur', 'paul', 'pleasant', 'creativ', 'helluva', 'neg', 'sunday', 'often', 'partak', 'penni', '2015', 'purchas', 'vehicl', 'dealership', 'loaner', 'warranti', 'cleanli', 'issu', 'quick', 'toenail', 'trim', 'smell', 'dog', 'dust', 'hair', 'other', 'websit', 'contain', 'slim', 'fewer', 'appeal', 'wing', 'blah', 'must', 'chang', 'month', 'crunchi', 'sent', 'screw', 'final', 'remov', 'meh', 'bay', 'indian', 'wallet', 'grouper', 'shrimp', 'flea', 'wed', 'wagon', 'wheel', 'pink', 'shimp', 'fresher', 'wow', 'mark', 'waiter', 'aw', 'bring', 'utensil', 'eventu', 'liquor', 'plain', 'steak', 'rubber', 'flavorless', 'okay', 'nacho', 'frustrat', 'gross', 'slice', 'oprah', 'loveee', 'fond', 'dirti', 'placemat', 'thoroughli', 'twist', 'arm', 'discard', 'cheesecak', 'factori', 'view', 'craft', 'cocktail', 'head', 'young', 'ladi', 'door', 'clair', 'assist', 'patient', 'phone', 'process', 'extrem', 'skeptic', 'wise', 'shot', 'joe', 'melt', 'wiz', 'bottom', 'job', 'jalapeno', 'surpris', 'deal', 'kind', 'bite', 'bigger', 'bake', 'crumb', 'heaven', 'guilti', 'hey', 'pleasur', 'three', 'talk', 'yorker', 'picki', 'passabl', 'coloni', 'reheat', 'obsess', 'compani', 'vacat', 'glad', 'sale', 'erin', 'rais', 'sampl', 'product', 'excit', 'incred', 'tell', 'natur', 'passion', 'sticki', 'filthi', 'jazmin', 'drown', 'ton', 'grisli', 'steam', 'rip', 'nathan', '17', 'disgust', 'given', 'oblivi', 'wear', 'common', 'elev', 'doubletre', 'experienc', 'destin', 'mixx', 'cant', 'compet', 'takeout', 'ridicul', 'amount', 'specialti', 'bright', 'dragon', 'that', 'blend', 'peak', 'aloof', 'clueless', 'part', 'pack', 'sardin', 'fist', 'pump', 'slug', 'paradis', 'bore', 'learn', 'depth', 'histori', 'boat', 'oper', 'fanci', 'trick', 'touristi', 'tour', 'rather', 'sceneri', 'pitch', 'dark', 'tourist', 'total', 'recov', 'hangov', 'yike', 'english', 'drove', 'grandson', 'promis', 'yummi', 'regist', 'remot', 'catch', 'eye', 'pick', 'chocol', 'berri', 'bag', 'carri', 'receipt', '27', '54', 'crazi', 'encount', 'handl', '73', '00', 'per', 'campground', 'shuttl', 'grant', 'washington', 'akin', 'flapjack', 'wife', 'skillet', 'gravi', 'toast', 'pancak', 'underneath', 'hash', 'hardli', 'alreadi', 'split', 'ye', 'tasteless', 'subpar', 'industri', 'bud', 'knock', 'forev', 'germantown', 'pub', 'trivia', 'snob', 'feet', 'disorgan', 'gyro', 'omelet', 'station', 'attach', 'weekend', 'suck', '12', 'guacamol', 'focus', 'scatter', 'spendi', 'mexican', 'rate', 'week', 'broken', 'shower', 'toilet', 'margin', 'attitud', 'favor', 'strong', 'quot', 'text', 'system', 'low', 'taken', 'within', 'kept', 'soon', '100', 'taco', 'mahi', 'salsa', 'attempt', 'guac', 'weird', 'tooth', 'agre', 'anytim', 'delight', 'mid', 'afternoon', 'farmer', 'kitchen', 'store', 'bought', 'macaroon', 'delicaci', 'impecc', 'doorman', 'valet', 'carousel', 'furnish', 'older', 'spaciou', 'although', 'doubl', 'quantiti', 'construct', 'european', 'sophist', 'adjac', 'garag', 'indulg', 'monteleon', 'corner', 'sheep', 'everytim', 'yeah', 'plethora', 'notabl', 'monk', 'tangier', 'mcglinchey', 'hostess', 'clientel', 'exactli', 'whatev', 'draw', 'younger', 'cross', 'bridg', 'quesadilla', 'stori', 'short', 'lobbi', 'awkward', 'workout', 'stink', 'solid', 'save', 'grace', 'understand', 'luck', 'spoon', 'gp', 'fail', 'anyway', 'drab', 'apologet', 'fruit', 'froyo', 'trader', 'closer', 'equal', 'inconveni', 'fan', 'freshli', 'veggi', 'gone', 'hill', 'nann', 'stale', 'previou', 'beverag', 'rule', 'certainli', 'search', 'comparison', 'prussia', 'schnuck', 'damag', 'bumper', 'stupid', 'cart', 'groceri', 'dierberg', 'histor', 'liberti', 'bell', 'independ', 'hall', 'tight', 'fit', 'quickli', 'difficult', 'share', 'cubano', 'panini', 'buffalo', 'rehydr', 'feed', 'gut', 'mass', 'ave', 'list', 'pint', 'autograph', 'collect', 'access', 'luckili', 'dead', 'bolt', 'otherwis', 'nude', 'amen', 'vend', '3rd', 'thin', 'neighbor', 'chic', 'courtyard', 'relax', 'massag', 'spent', 'therapist', 'train', 'clam', 'chowder', 'fair', 'blow', 'fishi', 'saw', 'lobster', 'saliv', 'shellfish', 'indoor', 'limit', 'shack', 'pier', 'windi', 'valid', 'ambianc', 'terrif', 'primari', 'unappet', 'empanada', 'mango', 'mission', 'modesto', 'soggi', 'spinach', 'pastri', 'suppos', 'garlic', 'aioli', 'flour', 'tapa', 'continu', 'asparagu', 'thrown', 'drench', 'goodwil', 'cloth', 'catfish', 'poboy', 'raw', 'desir', 'louisiana', 'grandma', 'shoe', 'normal', 'women', 'wide', 'pleas', 'eh', 'tradit', 'croissant', 'mozzarella', 'pesto', 'ham', '18', 'outstand', 'hillsboro', 'villag', 'tv', 'screen', 'match', 'fairli', 'sometim', 'escap', 'pour', 'ybor', 'zombi', 'self', 'build', 'huge', 'cafe', 'behind', 'barista', 'activ', 'wander', 'relat', 'gift', 'brisk', 'hardwork', 'lech', 'plagu', 'northern', 'wanna', 'burrito', 'hold', 'do', 'segundo', 'gotta', 'eleph', 'hype', 'hipster', 'baja', 'thompson', 'lane', 'organ', 'stuff', 'btw', 'asian', 'clockwork', 'support', 'awar', 'lol', 'ident', 'known', 'reflect', 'assum', 'attend', 'unev', 'simpli', 'tough', 'chewi', 'cube', 'onto', 'duke', 'game', 'colleagu', 'spring', 'fgt', 'remoulad', 'po', 'concret', 'nay', 'univers', 'strawberri', 'christi', 'giant', 'browni', 'anyth', 'cardin', 'cap', 'rees', 'endless', 'pressur', 'copi', 'christma', 'sell', 'tree', 'april', 'saint', 'loui', 'decreas', 'consider', 'accept', 'credit', 'card', 'payment', 'shane', 'bachelorett', 'funni', 'lucki', 'healthi', 'qdoba', 'par', 'upscal', 'tacoria', 'pop', 'lunchtim', 'masterpiec', 'deep', 'concentr', 'ensur', 'lime', 'tequila', 'refresh', 'cilantro', 'pico', 'romain', 'forget', 'queso', '90', 'survey', 'checkout', 'margarita', 'greek', 'bakeri', 'hella', 'charm', 'tarpon', 'spong', 'appreci', 'larg', 'desert', 'shallow', 'tuesday', '30', 'ahead', 'souvenir', 'juic', 'opt', 'stronger', 'elsewher', 'halloween', 'costum', 'buck', 'girlfriend', 'show', 'sold', 'ticket', 'code', 'violat', 'unsuccess', 'exagger', 'mouth', 'pho', 'saigon', 'deli', 'opinion', 'sour', 'hoa', 'confer', 'bed', 'instead', 'tire', 'stair', 'din', 'sandwitch', 'soso', 'frozen', 'defrost', 'mall', 'distanc', 'seminar', 'hallway', 'friendlier', 'unpleas', 'soak', 'jacuzzi', 'chri', 'piggi', 'rich', 'gouda', 'sprinkl', 'panko', 'crispi', 'add', 'puckett', 'juici', 'eight', 'teen', 'ate', 'earli', 'occas', 'frothi', 'monkey', 'jamaican', 'extra', 'oxtail', 'carn', 'asada', 'torta', 'nearli', 'horchata', 'wipe', 'sanit', 'supervis', '2star', 'admiss', 'playground', 'potenti', 'rim', 'god', 'sooo', 'voucher', 'neither', 'flag', 'convers', 'feedback', 'band', 'breaker', 'ps', 'umbrella', 'patio', 'sun', 'fare', 'tikka', 'masala', 'tandoori', 'basmati', 'samosa', 'naan', '11', '30am', '3pm', 'montecito', 'hike', 'cramp', 'cough', 'basket', 'variat', 'tad', 'mess', 'rest', '13', 'flight', 'suppli', 'chanc', 'partial', 'fault', 'butteri', 'sort', 'tomato', 'app', 'crust', 'rib', 'forgiv', 'adventur', 'tart', 'vomit', 'embarass', 'companion', 'boutiqu', 'ish', 'dens', 'nyc', 'nola', '69', 'involv', 'shitti', 'case', 'somebodi', 'multipl', 'atroci', 'penalti', 'fuck', 'strike', 'describ', 'familiar', 'clearli', 'guarante', 'ownership', 'result', 'inept', 'uninterest', 'anybodi', 'drive', 'ground', 'faster', 'heavi', 'anem', 'skimpi', 'understood', 'confus', 'hint', 'oregano', 'ined', 'brini', 'coat', 'rant', 'asid', 'begun', 'suffer', 'cowork', 'prosciutto', 'capicola', 'genoa', 'salami', 'proceed', 'argu', 'visual', 'practic', 'dictat', 'nope', 'defens', 'fuss', 'appar', 'solv', 'satisfact', 'approach', 'insist', 'remak', 'reimburs', 'labor', 'lost', 'skimp', 'downhil', 'hurri', 'advic', 'asshol', 'advertis', 'roughli', '97', 'vote', 'unapologet', 'dick', 'f', 'ing', 'barbecu', 'secur', 'downsid', 'rent', 'cop', 'scari', 'upset', 'situat', 'travi', 'team', 'bf', 'destini', 'shift', 'midnight', 'releas', 'unabl', 'preorder', 'accessori', 'nerd', 'due', 'polici', 'insuffici', 'evid', 'gang', 'x', 'client', 'second', 'transfer', 'account', 'led', 'twitter', 'altern', 'creami', 'velvet', 'mint', 'oreo', 'chain', 'finest', 'suburb', 'period', 'hous', 'prime', 'filet', '99', 'alon', 'strongest', 'pleasantli', 'resort', 'retrospect', 'despit', 'veranda', 'third', 'overlook', 'design', 'directli', 'smokey', 'exceed', 'talent', 'comedian', 'bizarr', 'perform', 'act', 'goleta', 'outdoor', 'couch', 'pit', 'danc', 'bloodi', 'mari', 'stone', 'creek', 'seafood', 'broil', 'greeter', 'summar', 'date', 'arch', 'elabor', 'hyatt', 'regenc', 'unexpect', 'complimentari', 'tap', 'sport', 'interior', 'facelift', 'traffic', 'nois', 'freeway', 'background', 'loud', 'kiosk', 'entranc', 'content', 'remark', 'entre', 'highlight', 'souffl', 'dollar', 'calori', 'regard', 'eater', 'disast', 'friday', 'hello', 'chop', 'mignon', 'mash', 'beet', 'drumstick', 'bled', 'blood', 'overheard', 'appli', 'ruin', 'divers', 'caleco', 'golden', 'tee', 'golf', 'maplewood', 'hungri', 'veget', 'arugula', 'bare', 'über', 'dress', 'veal', 'aggress', 'polenta', 'shareabl', 'panna', 'cotta', 'jello', 'video', 'damn', 'boot', 'imagin', 'scenario', 'extens', 'footbal', 'eagl', 'pittsburgh', 'raven', 'resid', 'bum', 'impact', 'chase', 'forc', 'fed', 'chicki', 'graze', 'fals', 'ounc', 'trusti', 'bitter', 'grossli', 'mistreat', 'particularli', 'breathtak', 'sofa', 'mattress', 'stain', 'dot', 'shame', 'ac', 'control', 'bedroom', '429', 'monday', 'haunt', 'mini', 'yorki', 'scrumptiou', 'project', 'adopt', 'scottish', 'hurrican', 'lantern', 'surround', 'thu', 'comic', 'instal', 'monstros', 'gigant', 'hd', 'ace', 'greatest', 'impart', 'facil', 'restroom', 'built', 'lake', 'januari', 'washroom', '2nd', 'lastli', 'model', 'moment', 'slide', 'prior', 'remain', 'trophi', 'alcohol', 'robin', 'foot', 'privaci', 'uncomfort', 'morningstar', 'boca', 'carmel', 'zucchini', 'patti', 'pipe', 'leftov', 'maria', 'al', 'snap', 'signag', 'plant', 'hubbi', '19', 'p', 'entri', 'goe', 'latter', 'heck', 'soupi', 'dreami', 'luci', 'district', 'unbeknownst', 'massiv', 'cockroach', 'crawl', 'freak', 'explos', 'soooo', 'anyon', 'commit', 'erzuli', 'life', 'spoke', 'practition', 'guid', 'goat', 'soap', 'climb', 'cozi', 'shoulder', 'stranger', 'frankli', 'moo', 'empathet', 'scene', 'factor', 'coff', 'sabrina', 'latka', 'groupon', 'horrend', 'avocado', 'ripe', 'cardboard', 'comp', 'hop', 'cab', 'jerom', 'driver', 'air', 'claim', 'harri', 'scam', 'lousi', 'hashbrown', 'weirdli', 'oat', 'seed', 'skip', 'countri', 'panera', 'wherev', 'cobb', 'chair', 'easier', 'ha', 'benedict', 'peppermil', 'overbook', 'downgrad', 'risk', 'grand', 'spa', 'confirm', 'remodel', 'slap', 'fucktard', 'comput', 'nervou', 'proce', 'bullshit', 'anymor', 'discount', 'reserv', 'stood', 'russel', 'interrupt', 'ought', 'therefor', 'push', 'web', 'advis', 'retali', 'steer', '80', 'reveng', 'constantli', 'tonight', 'mad', 'tie', 'happili', 'udon', '45', 'mold', 'arent', 'masquerad', 'blue', 'sage', 'hearti', 'cousin', 'vast', 'puddl', 'debri', 'honest', 'tune', '600', 'coil', 'replac', '500', 'adjust', 'belt', 'own', 'diesel', 'truck', 'boom', 'engin', '000', 'mom', 'auto', 'fajita', 'cheapest', 'pass', 'skirt', 'fresco', 'cotija', 'kraft', 'cheddar', 'mix', 'tortur', 'bang', 'bourbon', 'rel', 'taiwan', 'task', 'voic', 'yat', 'radio', 'commerci', 'ya', 'celebr', 'imo', 'eavesdrop', 'constant', 'checkup', 'intuit', 'commun', 'languag', 'lumpi', 'skin', 'pinto', 'charg', 'louder', 'muse', 'strict', 'falafel', 'tempura', 'mushi', 'fyi', 'sprite', 'rotisseri', 'ribey', 'overli', 'salt', 'higher', 'pictur', 'vari', 'profil', 'bailey', 'rang', 'overcook', 'row', 'umm', 'toward', 'sigh', 'unaccept', 'everybodi', 'amateur', 'mechan', 'vw', 'jetta', 'align', 'toe', 'oxford', 'exchang', 'meatloaf', 'cooler', '9pm', '11pm', 'ect', 'queri', 'whilst', 'flavour', 'scoop', 'discov', 'affili', 'shell', 'squar', 'subtl', 'curri', 'cabbag', 'mushroom', 'slightli', 'progress', 'absorb', 'becom', 'noodley', 'cucumb', 'plum', 'likewis', 'porch', 'renov', 'uptown', 'effici', 'succeed', 'lo', 'behold', 'incorrect', 'amici', 'proxim', 'current', 'beach', 'east', 'coast', 'fl', 'tech', 'pumic', 'obvious', 'rough', 'scream', 'hurt', 'bleed', 'dunk', 'gash', 'pain', 'begin', 'worri', 'unclean', 'infect', 'antisept', 'bandaid', 'paint', 'affect', 'ocean', 'fear', 'hilari', 'musician', 'singer', 'latest', 'throwback', 'laugh', 'waitr', 'silenc', 'yesterday', 'pickup', 'readi', 'import', 'intim', 'gluten', 'patata', 'brava', 'chick', 'pea', 'hunt', 'paycheck', 'nowher', 'mein', 'msg', 'eventhough', 'miso', 'to', 'broth', 'there', 'absurd', 'seawe', 'dewey', 'momo', 'mediterranean', 'cuisin', 'frutti', 'string', 'speaker', 'hangout', 'yogurt', 'fav', 'peach', 'reduc', 'wax', 'lee', 'manicur', 'puck', 'impli', 'notori', 'g', 'rotat', 'cobia', 'boil', 'pamela', 'durat', 'royal', 'vibrat', '70', 'regul', 'dude', 'brave', 'wind', 'sideway', 'rain', 'hail', 'victim', 'storm', 'spin', 'roof', 'sunset', 'spill', 'john', 'sc', '2009', 'charbroil', 'tavern', 'church', 'midtown', '12south', 'teeter', 'forth', 'blurt', 'skew', 'verdict', 'milano', 'unnecessarili', 'stuffi', 'june', '26', '2011', 'teenag', 'pan', 'iron', 'scare', 'mild', 'temperatur', 'mildli', 'crush', 'greater', 'central', 'quieter', 'comment', 'decad', 'proof', 'tallahasse', 'hole', 'suuuuuper', 'barbacoa', 'chorizo', 'alex', 'patch', 'fluid', 'filter', '85', 'pecan', 'worker', 'seedi', 'perus', 'beforehand', 'anniversari', 'extraordinari', 'eleg', 'ninja', 'tablesid', 'delish', 'certain', 'fundido', 'sopa', 'azteca', 'mayo', 'bonu', 'everyday', 'trust', 'regret', 'wond', 'pal', 'dirt', 'superb', 'smother', 'amazingli', 'lenten', 'blacken', 'allig', 'alright', 'tray', 'smh', 'stomach', 'regardless', 'ramen', 'tuna', 'kabob', 'babi', 'creol', 'toyota', 'santa', 'barbara', '2016', 'tacoma', '4x4', 'ladd', 'prove', 'veteran', 'initi', 'suv', 'settl', 'road', 'configur', 'track', 'region', 'sb', 'competit', 'dealer', 'l', 'earn', 'crisp', 'load', 'stylist', 'susi', 'jealou', 'jk', 'sink', 'poni', 'awhil', 'moscow', 'mule', 'excess', 'overkil', 'calamari', 'rubberi', 'introduct', 'die', 'burg', 'barber', 'estat', 'agent', 'pete', 'kick', 'chalkboard', 'dough', 'ador', 'architectur', 'ampl', 'wendi', 'jersey', 'aunti', 'ann', 'cutest', 'flower', 'dock', 'happiest', 'hectic', 'gem', 'dim', 'sliver', '74', 'yuck', 'lift', 'shadi', 'comedi', 'cheer', 'banquet', 'marrow', 'segment', 'core', 'finger', 'extract', 'undercook', 'larger', 'metal', 'adequ', 'toss', 'stick', 'shishito', 'solstic', 'error', 'justifi', 'jalepeno', 'tortilla', 'combin', 'rum', 'raisin', 'underwhelm', 'chemic', 'shelf', 'barn', 'jewish', 'cafeteria', 'surgeri', 'parmesan', 'trenton', 'nj', 'enthusiast', 'quattro', 'formaggi', 'parm', 'sin', 'ratio', 'grew', 'papa', 'stress', 'curs', 'breath', 'yell', 'carlo', 'instruct', 'counter', 'ocassion', 'random', 'beat', 'shade', 'window', 'grizzl', 'texa', 'afterward', 'minim', 'b', 'uninform', 'marri', 'vega', 'plymouth', 'ship', 'men', 'warehous', 'fq', 'potstick', 'gumbo', 'smallest', '0', 'tactic', 'bubbl', 'assess', 'mother', 'matine', 'movi', 'preview', 'popcorn', 'squeaki', 'maintain', 'convent', 'center', 'cuban', 'pedi', '24', 'yr', 'atleast', '35', 'polish', 'beignet', 'legend', 'repriev', 'hustl', 'bustl', 'slush', 'compar', 'du', 'mond', 'snag', 'mostli', 'distract', 'bask', 'southern', 'solidli', 'caesar', 'knot', 'becam', 'ill', 'lay', 'surrend', 'cater', 'fourth', 'pushi', 'brass', 'tax', 'benefit', 'gob', 'orang', 'pow', 'unsatisfi', 'paper', 'mussel', 'belgian', 'mr', 'outer', 'lump', 'ordinari', 'properli', 'hollandais', 'gelatin', 'risotto', 'brussel', 'sprout', 'marmont', 'shallot', 'lower', 'mole', 'liveri', 'hip', 'caramel', 'macchiato', 'starbuck', 'wrinkl', 'hidden', 'prioriti', 'trash', 'deck', 'straw', 'wrapper', 'blew', 'waterfront', 'fenc', 'partner', 'carryout', 'tablet', 'connect', 'devic', 'data', 'assur', 'inde', 'headach', 'cancel', 'schedul', 'unhelp', 'anywher', 'bewar', 'cigarett', 'butt', 'convinc', 'rotten', 'ralph', 'borderlin', 'moon', 'colt', 'previous', 'microwav', 'burn', 'seldom', 'slower', 'california', 'innov', 'grain', '89', 'embarrass', 'brioch', 'mcdonald', 'fraction', 'america', 'deposit', 'scammer', 'retard', 'teller', 'wtf', 'union', 'branch', 'ass', 'classi', '8oz', 'dental', 'dentist', 'appoint', 'emerg', 'messag', 'answer', 'reschedul', 'excruci', 'doctor', 'unprofession', 'standpoint', 'estim', 'bath', 'intend', 'petersburg', 'holland', 'walkabl', 'garden', 'entertain', '1932', 'stairway', 'poster', 'meticul', 'troubl', 'thermostat', 'clerk', 'co', 'café', 'daili', 'inexpens', 'incid', 'awaken', 'ordin', 'longhorn', 'firstli', 'beard', 'laura', 'suegra', 'anticip', 'articl', 'farm', 'jame', 'award', 'win', 'realiti', '150', 'invest', 'convert', 'former', 'integr', 'nonetheless', 'illumin', 'trio', 'pewter', 'pot', 'tout', 'frijol', 'refri', 'vagu', 'timid', 'tomatillo', 'verd', 'snapper', 'cevich', 'peruvian', 'spanish', 'deconstruct', 'slight', 'marin', 'citru', 'habanero', 'individu', 'sum', 'sway', 'chipotl', 'knockout', 'uninspir', 'interpret', 'heritag', 'en', 'adobo', 'biggest', 'clunki', 'concept', 'conduc', 'plantain', 'googl', 'direct', 'elot', 'cob', 'crema', 'magic', 'inspir', 'maduro', 'picant', 'anim', 'clinic', '1994', 'cat', 'ear', 'unwil', '530', 'jump', 'honesti', 'eastern', 'shwarma', 'grape', 'jam', 'judg', 'blackberri', 'sorri', 'calzon', 'zeppoli', 'mug', 'congress', 'alleyway', 'libat', 'decidedli', 'specif', 'diablo', 'pickl', 'yum', '5pm', 'promot', '23', 'numer', 'mapl', 'occasion', 'atm', 'grandmoth', '14', '95', 'sake', 'sooner', 'dresser', 'telephon', 'overdon', 'jerki', 'passiv', 'lose', 'loyal', 'critic', 'gear', 'candi', 'gari', 'dad', 'barrel', 'faux', 'leather', 'jacket', 'toy', 'polo', 'armi', 'thrift', 'yard', 'betti', 'drunk', 'starter', 'jerk', 'disagre', 'bullet', 'privi', 'advantag', 'count', 'berat', 'argument', 'aforement', 'debacl', 'regularli', 'tennessean', 'legit', 'fianc', 'mexico', 'angel', 'yelper', 'doesnt', 'commend', 'stir', 'ahhh', 'hawaiian', 'mmmm', 'idk', 'signific', 'colleg', 'michel', 'tailgat', 'reciev', 'mai', 'tai', 'bloomin', 'chow', 'mood', 'thunder', '715', 'explod', 'godfath', 'sadli', 'busser', 'stare', 'halfway', 'belong', 'judgement', 'rose', '21', 'tripl', 'cheat', 'alarm', 'tame', 'pie', 'tin', 'odd', 'disappear', 'ball', 'dart', 'hainanes', 'yellow', 'leaf', 'chesterfield', 'charl', 'rock', 'admit', 'prompt', 'floriss', 'ideal', 'ferri', 'popular', 'poydra', 'mardi', 'gra', 'turtl', 'hi', 'helzberg', 'social', 'media', 'maci', 'valentin', 'gutter', 'diamond', '800', 'gold', 'negoti', 'unsur', 'noon', 'decis', 'earlier', 'tall', 'commiss', 'unwant', 'what', 'snobbish', '3000', 'condescend', 'tone', 'refer', '299', 'mail', '900', '300', 'imag', 'cultur', 'mindset', 'sicken', 'societi', 'vision', 'sriracha', 'carrow', 'nostalg', 'fool', 'tore', 'hunki', 'jason', 'engag', 'gaze', 'hubba', 'drier', 'playa', 'august', 'grow', 'fairview', 'height', 'everywher', 'upfront', 'fifteen', 'accur', 'recogn', 'lead', 'unreason', 'loudli', 'midwest', 'recal', 'miami', 'technician', 'lotion', 'leg', 'breadstick', 'packet', 'touch', 'avenu', 'page', 'declin', '2000', 'tractor', 'rescu', 'monitor', 'chaperon', 'unfair', 'oe', 'blare', 'latin', 'candl', 'protein', 'aka', 'ancho', 'de', 'gallo', 'blister', 'whatsoev', 'aspect', 'almond', 'refriger', 'recip', 'howard', 'miguel', 'sole', 'appropri', 'thumb', 'overwhelm', 'omelett', 'flesh', 'arteri', 'ran', 'sauté', 'breezi', 'wooden', 'layout', 'event', 'yay', 'adina', 'bridal', 'trial', 'facebook', 'panic', 'frantic', 'somehow', 'imposs', 'deni', 'accus', 'scheme', 'invis', 'irrespons', '44', 'precis', 'unmemor', 'zing', 'quirki', 'displeas', 'racist', 'enemi', 'blankli', 'florentin', 'poach', 'liquid', 'unseason', 'k', 'overload', 'balsam', 'glaze', 'pic', 'wheat', 'pathet', 'gladli', 'theo', '2010', 'folk', 'bandwagon', 'phileo', 'pinkberri', 'trend', 'aesthet', 'school', 'reunion', 'ihop', 'milton', 'weeknight', 'lone', 'meali', 'julep', 'lemonad', 'spritz', 'descript', 'sir', 'fam', 'stroganoff', 'rigatoni', 'law', 'mosi', 'piccata', 'spirit', 'cayenn', 'ranch', 'lil', 'cute', 'narrow', 'airi', 'twenti', 'fabul', 'infact', 'closet', 'materi', 'hover', 'oven', 'pretzel', 'messi', 'infant', 'cloudi', 'disregard', 'rack', 'vietnames', 'vermicelli', 'lyche', 'mojito', 'unorgan', 'leak', 'moroccan', 'expertli', 'scale', 'calibr', 'display', 'dan', 'pimento', 'lie', 'raspberri', 'cobbler', 'gentleman', 'unnot', 'vocal', 'acm', 'oliv', 'waaay', 'chardonnay', 'fanfar', 'ach', 'nausea', 'occur', 'baskin', 'robbin', 'sugari', 'slam', 'pbj', 'dunkin', 'cell', 'barbra', 'meant', 'pb', 'j', 'memor', 'ohh', 'repeat', 'border', 'substitut', 'stuck', 'illus', 'starv', 'nasti', 'indianapoli', 'chilaquil', 'pollo', 'layer', 'thinner', 'dice', 'mutter', 'improperli', 'rippl', 'boneless', 'substanc', 'suspect', 'surviv', 'chalk', 'u', '31', 'el', 'field', 'ray', 'artist', 'gravel', 'picnic', 'peac', 'maynard', 'irrit', 'proper', 'necessari', 'lesson', 'hourli', 'motiv', 'hire', 'craigslist', 'crank', 'danger', 'avon', 'stapl', 'trainer', '45pm', 'fame', 'offici', 'christo', 'gu', 'charcoal', 'styrofoam', 'specifi', 'tropic', 'identifi', 'palat', 'unlik', 'herb', 'unusu', 'whip', 'mixtur', 'enchilada', 'threw', 'vault', 'soul', 'crappi', 'pepperoni', 'report', 'scarc', 'spinner', 'parent', 'daylight', 'capres', 'pillar', 'dare', 'arado', 'octopu', 'explan', 'expert', 'tank', 'relationship', 'chore', 'blanket', 'complementari', 'scorch', 'student', 'health', 'joke', 'mainli', 'c', 'sick', 'urgent', 'dr', 'diagnosi', 'rx', 'necessarili', 'drug', 'arrang', 'jalapeño', 'cliff', 'medic', 'fought', 'receptionist', 'insur', 'copay', '200', 'physician', 'uc', 'gyoza', 'cali', 'disclosur', 'japanes', 'contemporari', 'particular', 'subsequ', 'soy', 'wore', 'net', 'whatnot', 'hygien', 'improv', 'laid', 'goal', 'bruschetta', 'featur', 'pup', 'among', 'ga', 'militari', 'shake', 'coke', 'med', 'milkshak', 'will', 'refin', 'palett', 'bun', 'id', 'omfg', 'harmoni', 'workplac', 'beli', 'tweak', 'frisco', 'volum', 'broccoli', 'toni', 'sr', 'retro', 'funki', 'lamin', 'lather', 'artifici', 'margarin', 'crepe', 'annual', 'marvel', 'gorgeou', 'distant', 'memori', 'wineglass', 'correct', 'beaker', 'grade', 'simplist', 'consum', 'crack', 'marsh', 'distilleri', 'patina', 'eve', 'unimpress', 'edibl', 'tablespoon', 'reg', 'genr', 'versu', 'amongst', 'peer', 'vacuum', 'million', 'depart', 'retri', 'residenti', 'richmond', 'importantli', 'ravioli', 'fli', 'jambalaya', 'peev', 'muffaletta', 'cannot', 'muff', 'au', 'lait', 'mmmmm', 'unfavor', 'moto', 'antonio', 'rid', 'inexperienc', 'wagyu', 'stole', 'gulch', 'watermark', 'sambucca', 'true', 'expir', 'bc', 'def', 'makeov', 'satay', 'skewer', 'ooz', 'drunken', 'palm', 'harbor', 'miser', 'inattent', 'dal', 'occupi', 'chutney', 'seven', 'eleven', 'bagel', 'brilliant', 'respect', 'theatr', 'randomli', 'workload', 'understaf', 'fetch', 'kabuki', 'northeast', 'peep', 'artichok', 'defiantli', 'grown', 'significantli', 'ny', 'im', 'stack', 'attract', 'insect', 'reorgan', 'gain', 'shine', 'cheesi', 'requir', 'procedur', 'brake', '400', 'worn', 'india', '27th', 'gruel', 'cruz', 'tacki', 'sou', 'brasil', 'como', 'addict', 'hummu', 'produc', 'lesser', 'western', 'upbeat', 'artwork', 'outing', 'spectacular', 'shelv', 'goodi', 'cabinet', 'aroma', 'presenc', 'chuong', 'latoya', 'prescript', 'optometrist', 'lover', 'kate', 'quaint', 'rabe', 'calvin', 'fletcher', 'lean', 'pita', 'heirloom', 'indiana', 'closest', 'exclaim', 'render', 'forewarn', 'afraid', 'revolv', 'mode', 'doubt', 'quich', 'fulli', 'omg', 'quarter', 'coconut', 'civic', 'le', 'mi', 'blown', 'theater', 'actor', 'sang', 'song', 'kill', 'orchestra', 'array', 'stage', 'chilli', 'sweater', 'gym', 'shape', 'becki', 'voicemail', 'piss', 'inch', 'shave', 'alfalfa', 'strand', 'goer', 'amend', 'obnoxi', 'pandora', 'membership', 'hassl', 'kurdish', 'w', '10th', 'envis', 'fridg', 'shampoo', '1st', 'print', 'baggi', 'venu', 'stock', 'backsid', 'thorough', 'greec', 'newtown', 'fellini', 'bryn', 'mawr', 'bump', '730', 'vacant', 'seater', 'intent', 'whisk', 'shrug', 'energi', 'enthusiasm', 'tagliatelli', 'tortellini', 'loaf', 'hiccup', 'legendari', 'thaw', 'mar', 'gestur', 'induc', 'struggl', 'breweri', 'emoji', 'provok', 'asset', 'buddi', 'bao', 'fluffi', 'sear', 'fatti', 'merrili', 'gonna', 'steal', 'tremend', 'saison', 'eccentr', 'nutti', 'reel', 'ive', 'rueben', 'uniform', 'crowder', 'okra', 'etouffe', 'iter', 'stingi', 'wack', 'mon', 'thur', 'accomplish', 'entr', 'blemish', 'lynn', 'accident', 'februari', 'storefront', 'brooklyn', 'unansw', 'taqueria', 'bella', 'vista', 'luxuri', 'herbal', 'itwork', 'multilevel', 'distribut', 'secondli', 'babysitt', 'shut', 'north', 'asap', 'vodka', 'pretenti', 'junki', 'lawn', 'cock', 'roach', 'shoot', 'exquisit', 'written', 'grandfath', 'stroller', 'toddler', 'nicer', 'fudg', '610', 'grub', 'squeal', 'six', 'hummm', 'taylor', 'groom', 'lb', 'retriev', 'sooki', 'achiev', 'paw', 'gate', 'pharmaci', 'quintessenti', 'florida', 'honeymoon', 'island', 'muriel', 'glow', 'holiday', 'leisur', 'misstep', 'prix', 'atop', 'signatur', 'savori', 'transpar', 'gulf', 'puppi', 'drum', 'barbequ', 'flourless', 'jean', 'shirt', 'tempt', 'isol', 'visibl', 'personnel', 'rode', 'temporari', 'relief', 'pedal', 'circl', 'wave', 'dismiss', 'popul', '77', 'nina', 'contest', 'homerun', 'dream', 'tend', 'sofrita', 'inspect', '700', '5min', 'eyebrow', 'clock', 'shook', 'bomb', 'couldnt', 'asham', 'richi', 'cigar', 'ourself', 'darn', 'bonito', 'gummi', 'takoyaki', 'a1', 'foster', 'oj', 'chinatown', 'ju', 'sayin', 'chelsea', 'anyhow', 'greas', 'tartar', 'habit', 'daikon', 'gochujung', 'umami', 'chedder', 'coleslaw', 'overwhelmingli', 'meati', 'heavier', 'teriyaki', 'over', 'seemingli', 'overflow', 'bubba', 'gump', 'delosa', 'walt', 'z', 'sculley', 'eclect', 'driftwood', 'crate', 'held', 'sail', 'rope', 'fantasi', 'sight', 'unexcept', 'shi', 'towne', 'breez', 'busboy', 'goodnight', 'cacciator', 'chickpea', 'blogger', 'monthli', 'photo', 'scissor', 'martini', 'bird', 'pig', 'agav', 'nectar', 'press', 'cave', 'ahi', 'blog', 'http', '2012', '06', '28', 'boss', 'sysco', 'scratch', 'smith', 'chat', 'waitstaff', 'flatbread', 'lebanes', 'hispan', 'republ', 'tn', 'zagat', 'nutella', '7pm', 'ghost', 'verbal', 'signal', 'piti', 'fancier', 'unbalanc', 'compon', 'eco', 'seek', 'diehard', 'carnivor', 'penn', 'campu', 'homewood', 'dc', 'nephew', 'pet', 'uneven', 'powder', 'cuticl', 'drill', 'file', 'target', 'mart', 'bitch', 'audac', 'jack', 'shini', 'stab', 'relic', 'superior', 'retail', 'sword', 'aisl', 'dope', 'sunni', 'sob', 'misbehav', 'crutch', 'maneuv', 'be', 'spaghetti', 'darkest', '1970', 'seca', 'resist', 'virtual', 'appetit', 'chosen', 'brighter', 'newer', 'delicioso', 'public', 'elegantli', 'foremost', 'gorganzola', 'drizzl', 'suffic', 'monument', 'fiesta', 'cedar', 'plank', 'chile', 'relleno', 'vice', 'versa', 'accomod', 'jackson', 'reject', 'pregnant', 'unload', 'lug', 'brunett', 'burden', 'stall', 'rasta', 'tattoo', 'necklac', 'can', 'barbari', 'pbr', 'sweati', 'hipsteri', 'discourag', 'limp', 'buri', 'tbh', 'v', 'bummer', 'qualm', 'antipasto', 'forgett', 'sore', 'garlicki', 'ant', 'costco', '24th', 'prob', 'barkeep', 'badli', 'spasso', 'repeatedli', 'wednesday', 'in', 'out', 'concert', 'exit', 'choo', 'samurai', 'petco', 'petsmart', 'amazon', 'pill', 'pocket', 'reptil', 'swordfish', 'diana', 'kfc', 'chalupa', 'desper', 'iffi', 'daytim', 'lilli', 'rental', 'thru', 'mont', 'blast', 'unit', 'thug', 'wayn', 'safe', 'parad', 'feb', '2014', 'hamburg', 'recook', 'weight', 'resolv', '1300', '1400', 'accord', 'un', 'repair', 'shoddi', 'roster', 'eege', 'outback', 'backup', 'tangi', 'catalina', 'insan', 'fee', 'port', 'hyundai', 'winter', 'jan', 'march', '2013', 'elantra', 'batteri', 'research', 'agit', 'femal', 'flirt', 'henpeck', 'splurg', 'cracker', 'pistachio', 'astound', '75', 'reveal', 'starch', 'popper', 'supermarket', 'instant', 'gristl', 'counti', 'margherita', '1am', 'gaga', '2017', 'acquir', 'pin', 'form', 'ewww', 'dept', 'arancini', 'saltimbocca', 'lemoncello', 'delawar', 'cumbr', 'plaza', 'born', 'exot', 'pastrami', 'swing', 'stolen', 'saucer', 'forno', 'sweeter', 'winner', 'finicki', 'bradi', 'uncov', 'platter', 'castl', 'archer', 'armor', 'elderli', 'choke', 'hazard', 'elementari', 'parsley', 'tabbouleh', 'minc', 'bulgur', 'tahini', 'resembl', 'pat', 'gino', 'smiley', 'oatmeal', 'haircut', 'steadi', 'flow', 'toughest', 'dryest', 'rethink', 'grubhub', 'fest', 'frill', 'sooooo', 'transplant', 'ethnic', 'indi', 'www', 'moder', 'bs', 'wreck', 'deter', 'tapan', 'advanc', 'escort', 'frown', 'notepad', 'beg', 'exhaust', 'mucho', 'edmonton', 'humbl', 'cautiou', 'unravel', 'violent', 'nurs', 'demor', 'edley', 'covet', 'smoki', 'vinegar', 'subsid', 'wet', '11am', 'puff', 'appert', 'tran', 'shall', 'suffici', 'logo', 'ineffici', 'captiv', 'audienc', 'immens', 'isl', 'treasur', 'fox', 'hound', 'slowli', 'increas', 'draft', 'uncommon', 'provinci', 'packer', 'turnov', 'audio', 'sustain', 'bleh', 'prefac', 'chatham', 'wilt', 'meanwhil', 'unders', 'bulk', 'snide', 'invent', 'mandarin', 'bark', 'flash', 'strobe', 'blind', 'firemen', 'axe', 'yea', 'reloc', 'fiancé', 'budget', 'success', 'washer', 'flood', 'carpet', 'leas', 'paperwork', 'staf', 'tenant', 'misinform', 'offset', 'ala', 'gnarli', 'gruesom', 'action', 'grime', 'muscl', 'thursday', 'frist', 'extend', 'yoga', 'psc', 'ceasar', 'texan', 'san', 'dolc', 'oak', 'tile', 'tuscan', 'villa', 'mural', 'nake', 'ed', 'meantim', 'tag', 'parmigiana', 'irish', 'jeff', 'fettuccin', 'alfredo', 'yolk', 'kitchenaid', 'mixer', 'cookbook', 'nobl', 'bookstor', 'douch', 'blizzard', 'saltwat', 'injur', 'divvi', 'develop', 'sparkl', 'waaaay', 'bluepoint', 'bp', 'chlorin', 'fusion', 'instagram', 'concis', 'kimchi', 'till', 'notif', 'verg', 'gooey', 'ditch', 'blueberri', 'thrill', 'quinta', 'depot', 'contamin', 'inconsist', 'hibachi', 'slop', 'unwash', 'thereaft', 'greatli', 'bisqu', 'graduat', 'cardio', 'nightmar', 'gossip', 'unkind', 'difficulti', 'sweat', 'len', 'discontinu', 'lens', 'caught', 'furthermor', 'spoken', 'overhyp', 'hatti', '19th', 'rebrand', 'parker', 'lion', 'staycat', 'concierg', 'pillow', 'frame', 'casserol', 'décor', 'aftertast', 'examin', 'fatten', 'subaru', 'jeremi', 'reset', 'diagnost', 'bodywork', 'mcchicken', 'admittedli', 'uncar', 'technic', 'lame', 'compens', 'garbag', 'tho', 'sheet', 'soil', 'purpos', 'coffin', 'gosh', 'jumbo', 'cocott', 'hub', 'column', 'bracelet', 'grapefruit', 'gin', 'rubi', 'lillet', 'eek', 'moe', 'profess', 'lazi', 'electron', 'applianc', 'thousand', 'punch', 'transact', 'charger', 'manhattan', 'coupon', 'mb', 'niec', 'chopstick', 'skill', 'modif', 'slowest', 'rudest', 'dq', 'behavior', 'landmark', 'earth', 'famou', 'substanti', 'root', 'rowdi', 'speckl', 'hen', 'drag', 'needless', 'thirti', 'yarn', 'towner', 'unheard', 'stitch', 'exceedingli', 'kiss', 'forehead', 'wield', 'vulner', 'nick', 'rustic', 'xl', 'tongu', 'drool', 'pomodoro', 'male', 'upenn', 'vet', 'unblock', 'mitig', 'injuri', 'curiou', 'oldsmar', 'ipa', 'glove', 'unsanitari', 'reconsid', 'metari', 'decatur', 'eggrol', '87', 'tomorrow', 'disput', 'carmelita', 'chimi', 'bargain', 'khyber', 'kc', 'clearwat', 'aveda', 'inordin', 'blowdri', 'teacher', 'photograph', 'exact', 'hairdo', 'discuss', 'hairdress', 'curli', 'mirror', 'confront', 'abomin', 'attir', 'lighten', 'bibimbap', 'plung', 'bap', 'korean', 'aluminum', 'assort', 'echo', 'keel', 'sheer', 'amazing', 'portabella', 'sourc', 'mongolian', 'pizzeria', 'vetri', 'crudo', 'salsiccia', 'rotolo', 'topic', 'exampl', 'cherri', 'kitten', 'rank', 'cauliflow', 'stroke', 'roy', 'compassion', 'mobil', 'speech', 'impair', 'nox', 'roux', 'andouil', 'abandon', 'pure', 'forti', 'acr', 'rung', 'slip', 'huf', 'fight', 'manner', 'smoothi', 'highway', 'creameri', 'sunflow', 'moldi', 'bruis', '5th', 'gremolata', 'pineappl', 'fresca', 'sommeli', 'abstain', 'ratatouil', 'unimagin', 'squash', 'nest', 'lick', 'pumpkin', 'financi', 'creme', 'fraich', 'gai', 'poison', '10pm', 'scan', 'scrimp', 'furiou', 'caveat', 'firmli', 'preserv', 'steep', 'poetri', 'enforc', 'ban', 'hung', 'doorway', 'scuttl', 'scurri', 'polic', 'silent', 'maximum', 'prison', 'cane', 'float', 'abc', 'morocco', 'feta', 'yep', 'mustard', 'rocki', 'enamor', 'anthoni', 'napoleon', 'symphoni', 'comfi', 'discoveri', 'disconnect', 'cult', 'vat', 'slept', 'handmad', 'mmm', 'bottlework', 'cannoli', 'stumbl', 'custard', 'tamal', 'timer', 'churro', 'thingi', 'dolphin', 'cruis', 'dolphinquest', 'captain', 'charter', 'visitor', 'luke', 'retribut', 'inflict', 'bowel', 'gluttoni', 'sober', 'cheaper', 'reevalu', 'usa', '02', 'wherea', 'crown', 'grass', 'bison', 'elk', 'breast', 'basil', 'gmo', 'verifi', 'tj', 'bin', 'wf', 'opposit', 'barg', 'brandon', 'plea', 'açaí', '05', 'whoever', 'glanzmann', '96', 'legaci', '235', '48', 'loos', 'smokehous', 'billow', 'plume', 'test', 'robust', 'slather', 'carolina', 'irresist', 'spotless', 'glenn', 'exercis', 'challeng', 'enterpris', 'locker', 'dryer', 'venti', 'latt', 'dumpster', 'aloha', 'jet', 'whirlpool', 'taho', 'queen', 'unavail', 'livid', 'mofongo', 'gripe', 'elit', 'spotti', 'duti', 'warmth', 'interact', 'pennypack', 'vase', 'notifi', 'lisa', 'funer', 'stun', 'impolit', 'crude', 'abruptli', 'ruder', 'gee', 'spicier', 'fountain', 'pepsi', 'ledo', 'provolon', 'slushi', 'boba', 'blech', 'remedi', 'sleek', 'homey', 'slurp', 'shout', 'courteou', 'rear', 'airport', 'prais', 'idiot', 'tens', 'georg', 'pierr', 'bj', 'tim', 'sylvia', 'heavyweight', 'titl', 'tennesse', 'rampag', 'eric', 'magnific', 'beth', 'hart', 'plane', 'preciou', 'dump', 'gmc', 'possess', '10k', 'realign', 'bulli', 'patrick', 'nation', 'particip', 'marathon', 'runner', 'carb', 'barra', 'grumbl', 'lasagna', 'awkwardli', 'apron', 'recept', 'shorter', 'jut', 'brow', 'costli', 'supper', 'supervisor', 'abraham', 'kobe', 'wild', 'boar', 'correctli', 'slipperi', 'caution', 'goth', 'curios', 'drip', 'death', 'rosco', 'rehears', 'cheu', 'pepperi', 'overdo', 'chandler', 'jungl', 'captur', '1000', 'upholsteri', 'cabin', 'fever', 'nite', 'unsmil', 'reluctantli', 'roma', 'moxi', 'buse', 'pace', 'disinterest', 'kickin', 'appi', '38', 'cuz', 'ur', 'tirad', 'becuz', 'wring', 'calm', 'unwelcom', 'bee', 'momentarili', 'unfinish', 'irat', 'smelli', '30th', 'sharyn', 'coordin', 'kentucki', 'smoothli', 'whenev', '28th', 'valeri', 'heather', 'hmm', 'mm', 'greg', 'straighten', 'incident', 'statement', '3am', 'tiki', 'pralin', 'centr', 'apparel', 'procur', 'durabl', 'wound', 'wi', 'fi', 'continent', 'cabl', 'televis', 'cookin', 'busier', 'fumbl', 'path', 'whizz', 'sampler', 'pale', 'slid', 'stout', 'cider', 'wedg', 'plural', 'pretend', 'vampir', 'hotter', 'surfac', 'measli', 'schlafli', 'dash', 'swept', 'uhhh', 'categori', 'usb', 'heater', 'ted', 'drew', 'stoner', 'exterior', 'shabbi', 'augi', 'meaningless', 'reopen', 'rjt', 'coal', '53', 'sweep', 'broom', 'inconvenienc', 'gm', 'kudo', 'jose', 'stefano', 'abil', 'ziti', 'zaxbi', 'thou', 'founder', 'choru', 'usher', 'volunt', 'buzz', 'frite', 'bet', 'jones', 'uncl', 'overbear', 'intrus', '34', 'highest', 'shockingli', 'foie', 'drastic', 'steadili', 'shrunk', 'disgustingli', 'malic', '04', 'stl', 'septemb', 'oblig', 'forgotten', 'jar', 'insert', 'doughnut', 'farmhau', 'beig', 'lip', 'unexcit', 'pile', 'bleu', 'cohes', 'countless', 'resturaunt', 'shtick', 'reinforc', 'taxi', 'studio', 'pilat', 'zumba', 'kim', 'wider', 'pose', 'perogi', 'warmer', 'immacul', 'prosecco', 'heartbeat', 'neat', 'dill', 'humor', 'chocolat', 'tre', 'divin', 'overdress', 'kati', 'succul', 'marinad', 'kitschi', 'laughter', 'undoubtedli', 'abund', 'meager', 'novemb', 'terrifi', 'pcp', 'migrain', 'throb', 'curt', 'smug', 'smirk', 'doc', 'neurolog', 'symptom', 'scariest', 'brush', 'bedsid', 'belittl', 'muy', 'mal', 'servicio', 'orden', 'pastel', 'para', 'persona', 'uno', 'sabor', 'su', 'wingstop', 'em', 'absorpt', 'deflect', 'blame', 'join', 'citizen', 'snow', 'caviti', 'diabet', 'premium', 'hanker', 'snowbal', 'hansen', 'longtim', 'nativ', 'charro', 'lacklust', 'tuck', 'chart', 'leigh', 'dairi', 'cupcak', 'bride', 'wheelchair', 'overweight', 'prici', 'berlin', 'german', 'doner', 'attack', 'dug', 'michael', 'anna', 'propos', 'superstar', 'wineri', 'sweetheart', 'justic', 'royalti', 'honor', 'aloft', 'piqu', 'glorifi', 'hostel', 'boast', 'strewn', 'trek', 'licens', 'sheraton', 'pointless', 'broadcast', 'perk', 'snobberi', 'nordstrom', 'lingeri', 'exclus', 'sperri', 'jimmi', 'pj', 'gent', 'warrant', 'dani', 'stern', 'repli', 'kink', 'smooth', 'overwork', 'lemongrass', 'cellphon', 'sicklervil', 'farther', 'orlando', 'pina', 'colada', 'twirl', 'burst', 'crash', 'pitcher', 'outrag', 'brie', 'doll', 'orient', 'cation', 'clayton', 'boogi', 'mead', 'bolder', 'espresso', 'magpi', 'marsala', 'jb', 'unclear', 'seltzer', 'robot', 'assign', '1900', 'motel', '960', 'tuscon', 'az', 'pillowcas', 'ashtray', 'tiffani', 'asleep', 'woke', 'guard', 'curtain', 'threaten', 'premis', 'hundr', 'cctv', 'footag', 'lawyer', 'tape', 'embassi', 'hr', 'gratuiti', 'horton', 'coz', 'prawn', 'balanc', 'bucket', 'singha', 'orchid', 'fisher', '82nd', 'seri', 'frugal', 'pine', 'guidanc', 'mat', 'glanc', 'absent', 'unsweet', 'khmer', 'weav', 'spit', 'immers', 'disrespect', 'wari', 'metairi', 'navig', 'harahan', 'carniv', 'neck', 'collard', 'trendi', 'whim', 'lure', 'molli', 'raphael', 'adam', 'hookah', 'navi', 'fez', 'ethiopian', 'virgin', 'sheba', 'physic', 'tiger', 'skate', 'saddest', 'mellow', 'wasnt', 'confid', 'sanitari', 'sprint', 'patienc', 'pun', 'garner', 'drawback', 'tendenc', 'freedom', 'sucker', 'groomer', 'grind', 'teeth', 'complex', 'evil', 'princess', 'tamarind', 'hollow', 'scampi', 'swamp', 'gnocchi', 'scout', 'more', 'porter', 'unveil', 'sonni', 'gaylord', 'rainforest', 'opri', 'wizard', 'dammit', 'chock', 'thicker', 'furnitur', 'restock', 'manufactur', 'attorney', 'sue', '3x', 'fraud', 'appal', 'lawsuit', 'pennsylvania', 'gmail', 'disclaim', 'tot', 'innard', 'bueno', 'inadequ', 'unfil', 'owl', 'blunt', 'fermentaria', 'westshor', 'carrollwood', 'ultim', 'tonic', 'caviar', 'horseradish', 'champion', 'roam', 'pastur', 'tang', 'bareburg', 'q', 'rep', 'stomp', 'henc', 'cone', 'gasp', 'westmont', 'minato', 'enhanc', 'drank', 'intak', 'upsel', 'chimichanga', 'void', 'restuar', 'fragrant', 'affair', 'capit', 'consol', 'bollywood', 'dosa', 'railway', 'cutlet', 'idli', 'vada', 'sambar', 'overcharg', 'cinco', 'paltri', 'brentwood', 'grief', 'gelato', 'lighter', 'gordita', 'pastor', 'sodium', 'mosquito', 'abt', 'wasabi', 'arcad', 'snd', 'fattoush', 'sicilian', 'patronag', '00pm', 'franchis', 'wit', 'lukewarm', 'franchise', 'ymca', 'grandpar', 'ventil', 'wa', 'crunch', 'havertown', 'riversid', 'raquet', 'fab', 'phx', 'nene', 'deceiv', 'granola', 'ballpark', 'cbp', 'planet', 'heavenli', 'feder', 'shortag', 'victori', 'dogfish', 'yuengl', 'nod', 'bronx', 'bomber', 'linger', 'bitterli', 'minimum', 'va', 'reluct', 'nari', 'obes', 'diseas', 'radisson', 'opryland', 'shoney', 'bob', 'evan', 'cheez', 'centerpiec', 'prize', 'cheezi', 'uber', 'backpack', 'whimsic', 'slider', 'playlist', 'baguett', 'marinara', 'fryer', 'brule', 'clip', 'clipboard', 'foil', 'overnight', 'broadway', 'vintag', 'daniel', 'trap', 'secondari', 'phase', 'divid', 'setup', 'sizzl', 'palac', 'avers', 'contrari', 'belief', 'brock', 'dysfunct', 'revisit', 'mammoth', 'fuse', 'halt', 'blowout', 'updo', 'nanni', 'franco', 'andrea', 'acquaint', 'howl', 'wolf', 'erica', 'subdu', 'ummm', 'condit', 'restur', 'devil', 'giggl', 'dev', 'nicknam', 'foundat', 'portobello', 'plush', 'congreg', 'shuffleboard', 'ping', 'pong', 'microbrew', 'spinich', 'fig', 'wonton', 'wimpi', 'tighten', 'hooter', 'wrote', 'marshmallow', 'frost', 'ufc', 'acoust', 'lyric', 'maker', 'hilton', 'handicap', 'faucet', 'spray', 'sprinkler', 'user', 'fondu', 'colomb', 'skunk', 'nuff', 'polar', 'cod', 'flaki', 'superl', 'script', 'iceberg', 'benni', 'paula', 'pancetta', 'tiramisu', 'dodg', 'trolley', 'gap', 'flexibl', 'denis', 'punctual', 'upsid', 'shirley', 'templ', 'norm', 'repertoir', 'pallet', '20th', 'offend', 'raini', 'mama', 'electr', 'soba', 'tatter', 'underwear', 'hack', 'bust', 'fabric', 'cd', 'dvd', 'touchi', 'info', 'werent', 'funday', 'unlimit', 'blush', 'meter', 'underground', 'bongo', 'java', '42', 'ciabatta', 'granul', 'asiago', 'laptop', 'newspap', 'squatter', 'eiteljorg', 'canyon', 'exhibit', 'artifact', 'chief', 'np', 'sleeper', '412', 'role', 'showcas', 'educ', 'canal', 'aaa', 'gf', 'unwrap', 'shortcak', '72', 'stool', 'freeli', 'bait', 'tackl', 'walmart', 'lancast', 'frenchman', 'hyde', 'bias', 'latino', 'yuca', 'aromatherapi', 'calmli', 'geez', 'altogeth', 'southport', 'antiqu', 'douchebag', 'yuppi', 'courtesi', 'obtain', 'bu', 'foul', 'taught', 'errand', 'paneer', 'northsid', 'izzi', 'usda', 'steakhous', 'gimmick', 'marbl', 'father', 'huevo', 'ranchero', 'someplac', 'worthwhil', 'cosmet', 'yearli', 'fungal', 'acn', 'nevada', 'vs', 'congratul', 'atrium', 'drain', 'clog', 'surli', 'rundown', 'jaw', 'fray', 'nerv', 'spread', 'artisan', 'bedbug', 'luggag', 'auditor', 'tissu', 'stretch', 'kathi', 'hoosier', 'libertin', 'apiec', 'delay', 'bloomington', 'pappardel', 'hazelnut', 'tort', 'expedit', 'defect', 'kale', 'tint', '1997', 'corolla', 'film', 'painless', 'alot', 'cypru', 'halloumi', 'natchez', 'steamboat', 'narrat', 'sunlight', 'tan', 'tipsi', '3lb', 'del', 'ck', 'diff', 'nazi', 'nt', 'teeni', 'chipolt', 'whomev', 'tear', 'alumni', 'oscar', 'entré', 'function', 'scala', 'stubborn', 'dumb', 'h', 'ohmygod', 'hwk', 'fave', 'resto', '102', 'huh', 'uh', 'jive', 'babysit', 'spi', 'manchest', 'midst', 'bow', 'warmli', 'josh', 'revis', 'nix', 'contrast', 'radish', 'coars', 'gloriou', 'torn', 'cast', 'dove', 'bless', 'leek', 'joy', 'thyme', 'chunki', 'cheeri', 'giddi', 'cumin', 'mistaken', 'zest', 'rick', '32', 'intrigu', 'heel', 'mull', 'cassi', 'smash', 'charcuteri', 'canning', 'growler', 'peddler', 'inclin', 'chug', 'thermo', 'szechuan', 'malibu', 'boston', 'roadsid', 'dispatch', 'dave', 'tow', 'obscen', 'frighten', 'rape', 'monster', 'beaten', 'bibimap', 'oct', 'nitro', 'nuisanc', 'utterli', 'rail', 'unconvent', 'solut', 'keen', 'haphazardli', 'cram', 'placement', 'miller', 'weed', 'basebal', 'nat', 'kinko', 'reliev', 'ticklish', 'defin', 'agenc', 'thailand', 'cucina', 'zapata', 'tilapia', 'max', 'drexel', 'advoc', 'land', 'grey', 'sky', 'mudbug', 'gran', 'mariachi', 'hottest', 'flan', 'hardest', '9am', '4pm', 'galatoir', 'broussard', 'flair', 'dramat', 'lifetim', 'ancient', 'overhear', 'biggi', 'paseo', 'nuevo', 'twin', 'plug', 'nearest', 'cord', 'flip', 'flashlight', 'screech', 'detector', 'ghetto', '5am', 'incarn', 'corridor', 'ritz', 'camera', 'stainless', 'dispens', 'entic', 'teaspoon', 'cappuccino', 'tube', 'wafer', '9th', 'nutrit', 'consciou', 'recycl', 'oasi', 'til', 'cinnabon', 'shakshuka', 'pseudo', 'unrealist', 'ram', 'dome', 'cri', 'brewhous', 'gentl', 'roommat', 'fuzzi', 'accent', 'useless', 'congeal', 'gamey', 'ballyhoo', 'superbowl', 'carson', 'te', 'jay', 'besh', 'domenica', 'whimsi', 'snail', 'pate', 'schnitzel', 'printer', 'allegedli', 'shown', 'priciest', 'gambl', 'commot', 'prank', '225', 'measur', 'parisian', 'ooh', 'sidewalk', 'windshield', 'glare', 'eyebal', 'herald', 'provenc', 'diverg', 'ghini', 'est', 'vie', 'karaok', 'bull', 'bond', 'strive', 'doylestown', 'hickori', 'dressi', 'siberia', 'kimberton', 'unannounc', 'timeli', 'culinari', 'valley', 'forg', 'chester', 'micro', 'sourdough', 'dismay', 'investig', 'pare', 'ripassa', 'ferment', 'sesam', 'flawless', 'cellar', 'buena', 'onda', 'illeg', 'citrusi', 'nuanc', 'satellit', 'posh', 'edamam', 'neatli', 'dk', 'environment', 'fiend', 'cent', 'similarli', 'letter', 'horrif', 'standout', 'kraut', 'mound', '51', 'dingi', 'stream', 'thorn', 'majorli', 'goodby', 'minimalist', 'flush', 'rust', 'strut', 'gloomi', 'linen', 'dealt', 'lash', 'fuller', 'envi', 'jd', 'brusqu', 'han', 'manayunk', 'boost', 'score', 'butch', 'bryan', 'geniu', 'sassafra', 'parlor', 'mount', 'lavend', 'fruiti', 'riesl', 'farmhous', 'spreadabl', 'velveti', 'nom', 'lusciou', 'england', 'debat', 'shatter', 'ole', 'marigni', 'da', 'thunk', 'childhood', 'suddenli', 'vow', 'stew', 'optic', 'sunglass', 'tastebud', 'amish', 'milki', 'northwest', 'ayc', 'tastiest', 'devour', 'nw', 'floppi', 'gloppi', 'delect', 'vinaigrett', 'yaya', 'snooti', 'rye', 'dale', 'mabri', 'expresso', 'japan', 'korea', 'counterpart', 'hodgepodg', 'sticker', 'streamlin', 'safeti', 'newbi', 'crawdad', 'caffein', 'seren', 'opul', 'sonesta', 'pisco', 'ol', 'teaser', 'verdura', 'tote', 'mulita', 'delicia', 'garc', 'tinto', 'slab', 'artsi', 'headquart', 'hors', '135', 'carbonara', 'blackjack', 'silver', 'sorta', 'tgif', 'bois', 'deplor', 'alexa', 'leader', 'nigiri', 'ahh', 'pirogi', 'coor', 'lite', 'tater', 'dynasti', 'preliminari', 'exton', 'distinct', 'habitat', 'backyard', 'r2l', 'primarili', 'swanki', 'dispers', 'whiski', 'bounc', 'pee', 'dimli', 'lit', 'odor', 'alter', 'medley', 'jukebox', 'lulu', 'wage', 'fulin', 'epic', 'kalamata', '100th', 'wissahickon', 'trail', 'forbidden', 'criteria', 'teach', 'lincoln', 'northwestern', 'fellow', 'loop', 'structur', '1930', 'marker', 'dam', 'cascad', 'overhead', 'forest', 'humid', 'muddi', 'knee', 'pave', 'soo', 'breadcrumb', 'pear', 'pep', 'reinstat', 'emiss', 'crime', 'mgmt', 'howi', 'translat', 'gordon', 'ramsey', 'spare', 'memphi', 'angi', 'hat', 'lightli', 'membran', '101', 'destroy', 'groov', 'nightclub', 'carrabba', 'cluster', 'chi', 'vallarta', 'cashew', 'proclaim', 'knive', 'southwest', 'equat', 'gina', 'unhappi', 'bridget', 'hairstylist', 'mullet', '15pm', 'preoccupi', 'bibb', 'jasper', 'sli', 'rogu', 'applewood', '5lb', 'attende', 'glimps', 'bear', 'wiggl', 'mous', 'expedia', 'knit', 'harrah', 'encompass', 'den', 'vocalist', 'dear', 'mexicali', 'apprehens', 'coma', 'transport', 'pari', 'earl', 'avid', 'buttercream', 'edit', 'silk', 'graham', 'garland', 'panzanella', 'crouton', 'juju', 'complac', 'swiss', 'acid', 'merit', 'urban', 'espn', 'dat', 'rival', 'parkway', 'math', 'method', 'ewc', 'despina', 'jenni', 'bk', 'cabeza', 'caramelo', 'sonoran', 'gratin', 'shaker', 'sterl', 'rd', 'restaraunt', 'gothic', 'asthma', 'waitor', 'spilt', 'armpit', 'deodor', 'witch', 'creepi', 'spoiler', 'alert', 'unattent', 'kirkwood', 'hwi', 'hut', 'crew', 'hertz', 'reek', 'smoker', 'avi', 'bottomless', 'hometown', 'bday', 'rhyme', 'phil', 'urg', 'tension', 'calcul', 'technolog', 'elimin', 'sock', 'documentari', 'netflix', 'downfal', 'compromis', 'profit', 'challah', 'impos', '15am', 'wad', 'cole', 'spoil', 'seitan', 'banh', 'impati', 'occurr', 'berni', 'recoveri', 'newest', 'ordr', 'yolklor', 'goos', 'grouchi', 'oder', 'fundrais', 'appt', 'treatment', 'savannah', 'teas', 'curl', 'astoria', 'meunier', 'goopi', 'streetcar', 'sazerac', 'motion', 'truth', 'faith', 'rusti', 'pelican', 'marmalad', 'flare', 'gourmet', 'cioppino', 'crème', 'brûlée', 'trp', 'summat', '36', 'landlord', 'termin', '350', 'soco', 'ab', 'toler', 'gnat', 'breed', 'migrat', 'swarm', 'cloud', 'housefli', '125', 'pdq', 'stead', 'unagi', 'blake', 'hockey', 'rink', 'contempl', 'rous', 'expans', 'unsaf', 'blink', 'regga', 'cork', 'abysm', 'lung', 'snowbird', 'gay', 'tenni', 'walker', 'scour', 'sf', 'shepard', 'ppl', 'bikini', 'undecid', 'mayonnais', 'routin', 'aunt', 'filler', 'sherbet', 'poker', 'softer', 'flavourless', 'panang', '41', 'busch', 'graini', 'quinoa', 'prop', 'zoe', 'nonprofit', '201', 'ashley', 'pencil', 'etiquett', 'scald', 'ah', 'bangkok', 'phuket', 'dilut', 'clumpi', 'upward', '6pm', 'scarf', 'accordingli', 'crappiest', 'chico', 'pinot', 'gri', 'scrambl', 'parmesean', 'oddbal', 'hybrid', 'disinfect', 'asado', 'carnita', 'struck', 'casa', 'tina', 'dunedin', 'platoon', 'steve', 'realist', 'courag', 'drywal', 'detect', 'tenderloin', 'briefli', 'redneck', 'hermitag', '15min', 'formerli', 'luster', 'dire', 'backlog', 'approv', 'flattop', 'gleam', 'molten', 'bouncer', 'petti', 'sephora', 'unpredict', 'salespeopl', 'skincar', 'makeup', 'resign', 'aquarium', 'ceremoni', 'lava', 'burgundi', 'evok', 'badass', 'provencal', 'uncook', 'slimi', 'cb', 'minuscul', 'needlepoint', 'pattern', 'clementin', 'nawlin', 'supplement', 'solicit', 'renam', 'sh', 'bangin', 'explet', 'jazzi', 'nova', 'up', 'bakehous', 'strength', 'elmo', 'basi', 'alli', 'anchovi', 'squirt', 'deduct', 'lomo', 'saltado', 'shopp', 'apolig', 'stunk', 'upper', 'throat', 'duress', 'sand', 'keeper', 'proshop', 'unceremoni', 'assault', 'senior', 'tail', 'joel', 'atlant', 'portabl', 'condition', 'hbo', 'roomi', 'dant', 'passport', 'foreign', 'hefti', 'yellowston', 'loudspeak', 'record', 'gentlemen', 'ravello', 'powderi', 'fisherman', 'sombrero', 'frittata', 'siracha', 'complement', 'biscotti', 'shore', 'spatola', 'pole', 'hide', 'firearm', 'ammo', 'gun', 'reload', 'chao', 'wil', 'puke', 'pamper', 'disney', 'pirat', 'caribbean', 'waterfal', 'lush', 'skywalk', 'conclus', 'cola', 'lend', 'mod', 'clone', 'vape', 'ubereat', 'rittenhous', 'episod', 'seinfeld', 'abus', 'lowest', 'se', 'proud', 'restaurateur', 'ken', 'girard', 'stabl', 'omlet', 'tru', 'unevenli', 'untru', 'maiden', 'voyag', 'valuabl', 'carwash', 'burro', 'automat', 'skinni', 'garnish', '108', 'fireplac', '12pc', 'quo', 'vin', 'retain', 'que', 'van', 'es', 'hvac', 'rerout', 'plumber', 'crook', 'dijon', 'chesapeak', 'suspici', 'compèr', 'lapin', 'michelin', '22', 'subtract', 'chuck', 'multicultur', 'barrier', 'whose', 'unchang', 'indo', 'pak', 'beckon', 'chana', 'grandchildren', 'tablecloth', 'inventori', 'webster', 'grove', 'rapidli', 'teammat', 'depress', 'mercer', 'drinker', 'inspector', 'thornton', 'campechana', 'aww', 'blank', 'duh', 'spite', 'veloc', 'sarah', 'jw', 'permiss', 'callous', 'swell', '22nd', 'exclud', 'unfamiliar', 'intox', 'xfiniti', 'damper', 'ewwww', 'roberto', 'battl', 'chai', 'puffi', 'bloat', 'reaction', 'allerg', 'cutleri', 'sing', 'goof', 'fil', 'overr', 'master', 'dutch', 'bravo', 'overstaf', 'cactu', 'blossom', 'testament', 'theori', 'lex', 'francisco', 'walkway', 'fighter', 'ethic', 'dishonest', 'unawar', 'increasingli', 'salesman', 'soccer', 'sierra', 'johnni', 'rocket', 'energet', 'lyndel', 'foursquar', 'nan', 'incas', '76', 'incur', 'ambient', 'mosaic', 'dynamit', 'sane', 'redempt', 'remnant', 'gown', 'resal', 'ebay', 'jewelri', 'ware', 'ippolito', 'toasti', 'waitlist', 'sop', 'denial', 'alexand', 'salli', 'hose', 'rattl', 'perspect', 'permit', 'meatless', 'beginn', 'churn', 'escarol', 'pilpil', 'jazzfest', 'sandpip', 'sean', 'reccommend', 'sauna', 'bungalow', 'exam', 'nolib', 'hawaii', 'treadmil', 'ellipt', 'onsit', 'besito', 'pomegran', 'fundito', 'cheapen', 'whop', 'glob', 'overboard', 'envelop', 'wth', 'simultan', 'dali', 'poolsid', 'dank', 'cvge', 'sept', '21st', 'elect', 'fb', 'messeng', 'canadian', 'knife', 'pouch', 'sixti', 'nine', 'splash', 'fidel', 'mower', 'abrupt', 'ca', 'deciev', 'waist', 'playscap', 'delux', 'laundromat', 'mustach', 'youngest', 'hunger', 'micha', 'command', 'brennan', 'harvey', 'revamp', 'miriam', 'charact', 'creep', 'roadhous', 'coco', 'delicatessen', 'skanki', 'ho', 'buttermilk', 'jewel', 'chatti', 'rainbow', 'wahoo', 'whoa', 'portal', 'intern', 'hood', 'london', 'musti', 'seller', 'ie', 'penitentiari', 'vacanc', 'cesar', 'scroll', 'blatantli', 'escal', 'govern', 'interrog', 'ninki', 'twosom', 'frenchmen', 'fedora', 'york', 'horrifi', 'pinch', 'pluse', 'bend', 'lemoni', 'brais', 'wawa', 'pilot', 'roman', 'der', 'ein', 'und', 'wenn', 'zimmer', 'geht', 'prima', 'ist', 'bi', 'wirklich', 'mit', 'cassoulet', 'movement', 'absurdli', 'slidel', 'tardi', 'whew', 'troy', 'quietli', 'wildlif', 'spider', 'hinder', 'southsid', 'jiga', 'fragranc', 'salesperson', 'mascara', 'swivel', 'unpack', 'upholst', 'mandatori', 'quesedilla', 'kiddo', 'kroger', 'freezer', 'ehh', 'duncan', 'represent', 'stacey', 'kelli', 'magazin', 'darker', 'blond', 'sewn', 'oro', 'walgreen', 'mecca', 'pollut', 'merchandis', 'tommi', 'bahama', 'galaxi', 'bistro', 'nibbl', 'salvadoran', 'pupusa', 'rebuelta', 'lengthi', 'tostada', 'paus', '10am', 'detour', 'tue', 'caraf', 'crackl', 'alittl', 'chopper', 'wharf', 'pike', 'infus', 'seagul', 'sadden', 'speakeasi', 'scotch', 'mixologist', 'overpric', 'debit', 'provis', 'chap', 'collabor', 'yakisoba', 'bold', 'bridesmaid', 'cowboy', 'veil', 'tripadvisor', 'yup', 'creatur', 'taiwanes', 'circu', 'braid', 'shrivel', 'easiest', 'jade', 'grad', 'mba', 'iupui', 'transcript', 'applic', 'undergrad', 'goug', 'humanli', 'hammer', 'wrench', 'cricket', 'admin', 'timelin', 'calendar', 'coincid', 'slot', 'inquiri', 'oversight', 'mesh', 'percept', 'principl', 'feast', 'gal', 'upcharg', 'flatli', 'popey', 'germani', 'dooner', 'hangri', 'reuben', 'sauerkraut', 'sunris', 'pearl', 'displeasur', 'trampl', 'replenish', 'mental', 'southwestern', 'stevi', 'dissatisfi', 'wilmington', 'crossroad', 'hollywood', 'bellman', 'victoria', 'secret', '14th', 'humili', 'on', 'abid', 'unsympathet', 'hai', 'slammin', 'tataki', 'jicama', 'sushirito', 'mex', 'gaucamol', 'adrian', '15th', 'gayborhood', 'bode', 'yawn', 'checker', 'wok', '12pm', 'scrappl', 'almighti', 'unparallel', 'queue', 'outcom', 'outta', 'elat', 'sara', 'entitl', 'extent', 'thunderstorm', 'korma', 'whack', 'loin', 'disapoint', 'resaur', 'dishwash', 'farro', 'harden', 'doabl', 'extraordinair', 'serrano', 'chimichurri', 'cantina', 'westchas', 'uninvit', 'pagoda', 'duct', 'appeas', 'tent', 'talker', 'limon', 'pledg', 'territori', 'sleev', 'goooood', 'nada', 'lewi', 'davi', 'di', 'booster', 'lovingli', 'kennel', 'potti', 'sunshin', 'carv', 'xma', 'raviolli', 'fettucin', 'candor', 'dilig', 'mien', 'winco', 'mt', 'picturesqu', 'naught', 'cannelloni', 'linguin', 'dismal', 'tlc', 'cineplex', 'muffuletta', 'jessica', 'homedal', 'spooki', 'mose', 'maid', 'friggin', 'emot', 'cancer', 'purifi', 'unbear', 'firsthand', 'david', 'butternut', 'tenur', 'spiro', 'speedi', 'barley', 'handprint', 'swirl', 'mop', 'fixtur', 'vent', 'dusti', 'montreal', 'sammi', 'squish', 'gravit', 'vendor', 'comprehens', 'crinkl', 'luncheon', 'slogan', 'tootsi', 'opent', 'kenneth', 'conflict', 'resolut', 'instanc', 'recours', 'wyndham', 'atlanta', '220', 'mob', 'plumb', 'regroup', 'lumber', 'tribe', 'slate', '55', 'cyrano', 'causal', 'jubile', 'prom', 'mixolog', 'bedspread', 'chix', 'jiffi', 'fred', 'julia', '20min', 'troop', 'symbol', 'pretens', 'chant', 'worthi', 'creation', 'complic', 'benihana', 'juggl', 'shuffl', 'qualifi', 'grate', 'sando', 'withhold', 'austin', 'indigo', 'songwrit', 'sandl', 'strap', 'flop', 'dancefloor', 'gush', 'pierc', 'liabl', 'sharp', 'waver', 'inconsider', 'kop', 'chaat', 'biryani', 'vindaloo', 'hug', 'bolognes', 'claw', 'suicid', 'incorpor', 'foo', 'down', 'pappa', 'mezcal', 'tequilla', 'certif', 'chad', 'distinctli', 'scooter', 'ration', 'harvest', 'vgfoh', 'superfresh', 'grocer', 'accid', 'nintendo', '64', 'nostalgia', 'gray', 'athena', 'disguis', 'drama', 'esp', 'od', 'hahaha', 'malaysian', 'sparerib', 'fallon', 'illinoi', 'tex', 'germ', 'salisburi', 'razor', 'sylvan', 'nolensvil', 'unhealthi', 'phoenix', 'pillaw', 'almondin', 'corni', '39', 'refuel', 'profici', 'confit', 'dipper', 'maxim', 'revolucion', 'wrestl', 'mask', 'heartburn', 'unrel', 'jane', 'scone', 'collegevil', 'eaglevil', 'dent', 'overpow', 'discern', 'stoke', 'velveeta', 'arguabl', 'burli', 'madden', 'gynecologist', 'wrinkli', 'inaccur', 'unreli', 'millennium', 'log', 'sherwood', 'summari', 'employ', 'bathtub', 'midway', 'eras', 'flashi', 'drawer', 'scratchi', '24hr', 'cheapo', 'evacu', 'taquito', 'kai', 'autom', 'swear', 'antoin', 'balconi', 'blackout', 'toronto', 'conge', 'blaze', 'owe', 'ron', 'sponsor', 'berwyn', 'gastropub', 'lombard', 'transform', 'nirvana', 'broiler', 'unspectacular', 'ineptitud', 'bliss', 'latk', 'prudent', 'ciao', 'trepid', 'logist', 'inevit', 'bia', 'librari', 'esqu', 'grungi', 'lindbergh', 'oldest', 'nonna', 'underpaid', 'disgrac', 'dmitri', 'byo', 'saganaki', 'deuc', 'banal', 'tria', 'suitabl', 'eddi', 'pleaser', 'mojo', 'hamachi', 'guava', 'semolina', 'keyston', 'hamilton', 'clay', 'terrac', 'dub', 'snarki', 'maggi', 'ada', 'compliant', 'kitsch', 'tastier', 'divey', 'fathom', 'ash', 'trumpet', 'sensat', 'gator', 'pounc', 'cosmo', 'donat', 'indiffer', 'idl', 'suburban', 'dibruno', 'jake', 'quicker', 'pounder', 'grasp', 'sawdust', 'unpretenti', 'gringo', 'lassi', 'gulab', 'jamun', 'restrict', 'vanderbilt', 'brett', 'jodi', 'thier', 'sirloin', 'jefferson', 'parish', '1980', 'taro', 'purpl', 'craze', 'wane', 'asana', 'tinga', 'socket', 'nl', '250', 'platinum', 'shaki', 'victorian', 'announc', '2006', 'diaper', 'arizona', 'scottsdal', 'deaf', 'presum', 'rig', 'foothil', 'fargo', 'scenic', 'inhuman', '1990', 'hideou', 'newli', 'earplug', 'cv', '365', 'cacophoni', 'hedg', 'trimmer', 'despair', 'gelateria', 'brutal', 'victor', 'cleaner', 'assembl', 'sweetest', 'rangun', 'norriton', 'norristown', 'supris', 'ulta', 'brixx', 'distrito', 'carton', 'cereal', 'miracul', 'scrap', 'schroom', 'desol', 'remix', 'leap', 'ventura', 'autotrad', 'trade', 'marketplac', 'admir', 'peculiar', 'trippi', 'doze', 'layla', 'easter', 'cycl', 'sweatshop', 'hoopla', 'gallon', 'marnier', 'sexi', 'nicest', 'bulgogi', 'fanat', 'charleston', 'lox', 'toaster', 'cripsi', 'harlem', 'breakdown', 'batch', 'debbi', 'downer', 'mugshot', 'baklava', 'empathi', 'detract', 'urin', 'cruel', 'shit', 'pickiest', 'esthet', 'kingsway', 'lululemon', 'jacob', 'monaco', 'juliu', 'poppin', 'tapenad', 'sexual', 'redfish', 'foi', 'popov', 'chevi', 'kevin', 'speechless', 'financ', 'machineri', 'bo', 'dd', '165', 'furnac', 'polyest', 'cmon', 'angela', 'mere', 'offput', 'disabl', 'dorothi', 'snatch', 'tom', 'kha', 'defeat', 'wayyyyyi', 'oversalt', 'brine', 'robe', 'prenat', 'surcharg', 'prytania', 'baird', 'pant', 'blazer', 'qti', 'submit', 'delet', 'tailor', 'punki', 'overview', 'brad', 'snot', 'flauta', 'domino', 'shed', 'snuck', 'carrier', 'shutter', 'keg', 'mommi', 'sophi', 'th', 'dissappoint', 'vip', 'wannab', 'mozarella', 'dose', 'eeri', 'outdat', 'smelt', 'mildew', 'stromboli', 'roxborough', 'lafayett', 'redecor', 'rodney', '16oz', 'malt', 'homi', 'sandbox', 'repres', 'herbi', 'consign', 'blous', 'ross', 'mehh', 'granni', 'slack', 'overeat', 'ekta', 'savor', 'grandpa', 'stella', 'wintri', 'hatr', 'reginelli', 'spark', 'jumper', 'autozon', 'crv', 'conicelli', '2004', 'trivial', 'bulb', 'persist', 'chuckl', 'honda', 'hrv', 'forum', 'stereotyp', 'printout', 'nonsens', 'buyer', 'cargo', 'pottstown', 'tenth', 'mileag', 'lori', 'unsatisfactori', 'legitim', 'saute', 'scott', 'pasti', 'delmar', 'phoenixvil', 'ramp', 'socioeconom', 'reli', 'marion', 'harsh', 'incom', 'reciproc', 'agreement', 'zone', 'racial', 'smart', 'strategi', 'flock', 'revers', 'expand', 'threshold', 'parcel', 'ex', 'stationari', 'canada', 'sketchi', 'druggi', 'homeless', 'happier', 'dian', 'chard', 'pauli', 'todd', 'chiropractor', 'sync', 'yellowtail', 'noooo', 'scrape', 'hawg', 'unreal', 'yah', 'healthier', 'vide', 'adorn', 'replic', 'keratin', 'drea', 'hydrat', 'shawn', 'ness', 'sooth', 'rise', 'residu', 'gimmicki', 'sap', 'collector', 'mishap', 'fishin', 'healthiest', 'cleanest', 'moral', 'rage', 'clutch', 'ahem', 'careless', 'subscrib', 'devot', 'reader', 'digress', 'pinbal', 'plead', 'fifth', 'hunter', 'shuck', 'booger', 'crayfish', 'roe', 'mumbl', 'kinki', 'openli', 'professor', 'hardcor', 'diarrhea', 'mcd', 'mock', 'war', 'prejudic', 'deliber', 'hostil', 'handi', 'cranki', 'begrudgingli', 'vh', 'format', 'obscur', 'lap', 'subtitl', 'exploit', 'horror', '1200', 'richard', 'berkshir', 'spear', 'sauvignon', 'blanc', 'consumpt', 'pc', 'intercontinent', 'hobnob', 'epiphani', 'sarcast', 'inter', 'miga', 'poblano', 'squat', 'element', 'loft', 'bro', 'bound', 'whistl', 'dixi', 'ointment', 'compress', 'mend', 'waxer', 'scar', 'matt', 'guru', 'mouthwat', 'casselli', 'paradiso', 'honki', 'tonk', 'safeway', 'chiropract', 'goodland', 'discret', '59', 'grinder', 'largest', 'benton', 'faouzi', 'missouri', 'assumpt', 'rumor', 'sublim', 'porki', 'pf', 'immun', 'builder', '32oz', 'frank', 'stringi', 'troll', 'sinatra', 'pope', 'franci', 'rizzo', 'enclos', 'ricotta', 'carpaccio', 'caper', 'langostin', 'carbonarra', 'panchetta', 'privileg', 'primp', 'ordeal', 'frapp', 'deani', 'bucktown', 'soundproof', 'slum', 'stinki', 'armchair', 'poo', 'landscap', 'landlock', 'etouff', 'grumpi', 'swallow', 'poli', 'worsen', 'harp', 'defend', 'asinin', 'manipul', 'seminol', 'fleec', 'mic', 'click', 'bye', 'stash', '450', 'renew', '650', 'clarifi', 'celiac', 'allergen', 'incompet', 'hankerin', '55pm', 'premier', 'wildli', 'zea', 'lmao', 'sarasota', 'ipod', 'et', 'exper', 'bat', 'jeez', 'naman', 'gabe', 'r', 'por', 'wan', 'cum', 'hap', 'vile', 'daddi', 'treme', 'thirst', 'archaic', 'pronounc', 'étouffé', 'offens', 'unmark', 'passerbi', 'watercress', 'melon', 'tier', 'fulfil', 'torch', '16th', 'mumbai', 'dietari', 'graciou', 'vinc', 'bcd', 'carmelo', 'delta', 'bayou', 'fu', 'matzo', 'deepli', 'quickest', 'disdain', 'ct', 'thoma', 'florist', 'candid', 'verizon', 'sacrif', 'lookin', 'carrollton', 'noir', 'merlot', 'awsom', 'beliv', 'resteraunt', 'channel', 'liqueur', 'dous', 'ding', 'anyday', 'burlington', 'pleather', 'plight', 'ironi', 'cutter', 'volvo', 'billi', 'catsup', 'chestnut', 'monro', 'muffler', 'quart', 'hanger', 'spiral', 'staircas', 'tandoor', 'bellini', 'bucatini', 'pennhurst', 'bandera', 'stupidli', '7am', 'pricier', 'baggag', 'dalla', 'dew', 'amber', 'dread', 'precinct', 'overs', 'christian', 'dedic', 'diagnos', 'lola', '8th', 'slouch', 'sloppili', 'vandi', 'satco', 'brim', 'limitless', 'semest', 'fatal', 'frat', 'oracl', 'jalisco', 'deterior', 'cosi', 'ubiquit', 'fastfood', 'michelada', 'masa', 'crystal', 'chandeli', 'domin', 'aback', 'souvlaki', 'absolutli', 'gussi', 'pima', 'unforgett', 'baggin', 'signifi', 'spell', 'chophous', 'etern', 'blogspot', '03', 'html', 'sakura', 'vein', 'ramsay', 'bobbi', 'flay', 'poop', 'tract', 'earthi', 'flaw', 'consult', 'inabl', 'ugli', 'unnecessari', 'vicin', 'hampton', 'dull', 'roar', 'beneath', 'encrust', 'mesmer', 'puss', 'opera', 'object', 'lipstick', 'acryl', 'juke', 'warp', 'roller', 'blade', 'poodl', 'floral', 'trailer', 'potent', 'turnip', 'clump', 'ungrat', 'greed', 'slightest', 'session', 'botox', 'diva', 'fiance', 'accuraci', 'memorabilia', 'blob', 'sala', 'inappropri', 'rebecca', 'modifi', 'unison', 'juan', 'fluster', 'entail', 'undon', 'afterthought', 'livingsoci', 'frizzi', 'cooker', 'sidenot', 'unoffici', 'girli', 'panaderia', 'scum', 'grout', 'josé', 'thinli', 'denver', 'biker', 'jim', 'yoke', 'linoleum', 'overfri', 'macki', 'cheesey', 'harass', 'footwear', 'centric', 'occup', 'cartridg', 'extern', 'buff', 'sheryl', 'neglig', 'pneumonia', 'nazareth', 'unattend', 'aliv', 'religi', 'raley', 'misl', 'muss', 'contempt', 'decept', 'amtrak', 'septa', 'transit', 'commut', 'constitut', 'boo', 'discolor', 'keith', 'musselman', 'stickler', '20minut', 'race', 'kart', 'fastest', 'contin', 'pei', 'wei', 'loyalti', 'chee', 'nestl', 'boozi', 'bev', 'gruyer', 'saffron', 'semifreddo', 'obvi', 'inhal', 'bookmark', 'sobro', 'leari', 'cubicl', 'confin', 'robert', 'overhaul', 'dodger', '4th', 'gel', 'tec', 'attic', 'deadlin', 'glue', '2008', 'propel', 'perish', 'gall', 'idaho', 'modest', 'stump', 'er', 'nonsmok', 'sympathet', '202', 'madhous', 'cyclebar', 'energ', 'promo', 'soulcycl', 'ryan', 'intimid', 'reckon', 'denni', 'cora', 'duo', 'riddl', 'stuffer', 'coin', 'purs', 'magnet', 'amus', 'nfl', 'rt', 'burb', 'skylin', 'camden', 'horizon', 'pedestrian', 'steeper', 'steamer', 'wholesal', 'vulgar', 'porn', 'ghee', 'unassum', 'mist', 'chalki', 'whitney', 'apt', 'dec', 'wilson', 'asst', 'mgr', 'pablo', 'dollop', 'coup', 'gum', 'perfum', 'vineyard', 'brunswick', 'choreographi', 'hangar', 'paella', 'faulti', 'cabernet', 'speedway', 'stargat', 'rehab', 'dulc', 'woe', 'frosti', 'basketbal', 'freebird', 'tryst', '7th', 'arrog', 'outright', 'champaign', 'ft', 'za', 'payrol', 'larri', 'arnold', 'influx', 'mashup', 'fart', 'tux', 'platform', 'anni', 'taj', 'household', 'sift', 'gaug', 'manger', 'liar', 'lutz', 'longest', 'doggi', 'rarer', 'stem', 'paddleboard', 'aussi', 'capabl', 'bumpi', 'uhhhh', 'katrina', 'jen', 'procrastin', 'devote', 'europ', 'vortex', 'provençal', 'botch', 'until', 'blackfinn', 'hum', 'barcelona', 'karen', 'hospic', 'giver', 'unremark', 'terra', 'sur', 'pescado', 'zesti', 'macho', 'gritti', 'indonesian', 'asia', 'sling', 'compos', 'dj', 'percent', 'nook', 'aloud', 'bib', 'swig', 'plop', 'guana', 'cheek', 'choosen', 'disastr', 'brief', 'ap', 'inauthent', 'kayak', '170', 'angl', 'fender', 'att', 'ronaldo', 'headboard', 'poutin', 'beni', 'wk', 'chez', 'anxiou', 'cochon', 'confect', 'galleri', 'condo', 'rag', 'windex', '330', 'aldi', 'wouldnt', 'flounder', 'softshel', 'frita', 'cornish', 'util', 'mirko', 'rosemari', 'disneyland', 'oop', 'bellevu', 'crayon', 'camper', 'splinter', 'dispos', 'partli', 'jerri', 'peel', 'trustworthi', 'judgment', 'circumst', 'firehous', 'wich', 'tidi', 'nampa', 'coastal', 'seclud', 'yacht', 'floret', 'sofresh', 'bankrupt', 'promin', 'workshop', 'emphasi', 'outgo', 'cordial', 'seanc', 'vinni', 'smallish', 'bfest', 'mauric', 'kilauea', 'hula', 'macaroni', 'rambuncti', 'lou', 'holli', 'mascot', 'freakin', 'gene', 'stadium', 'russian', 'absinth', 'patisseri', 'danish', 'turbo', 'grin', 'untoast', 'octob', 'decemb', 'theft', '47', 'inflat', 'thirsti', 'licoric', 'bab', 'default', 'oystercatch', 'pristin', 'geek', 'gettin', 'greedi', 'camel', 'biriyani', 'rins', 'junk', 'tarnish', 'sparkli', 'eon', 'clearanc', 'canton', 'shea', 'imax', 'zinger', 'enorm', 'wingz', 'scantili', 'laurel', 'greyhound', '2hour', 'willingli', 'misplac', 'restraunt', 'allegro', 'hog', 'feeder', 'scold', 'rat', 'manual', '5000', 'margaritavil', 'legal', 'foliag', 'greeneri', 'sauci', 'misunderstood', 'jhonni', 'matzoh', 'ditto', '45am', 'satur', 'wob', 'macadamia', 'loco', 'teresa', 'uciti', 'vietnam', 'rap', 'grenad', 'protect', 'accustom', 'jare', 'climat', 'oreganato', 'parmagiana', 'fusilli', 'fra', 'scallopini', 'malfunct', 'textbook', 'piano', 'beefi', 'techniqu', 'vegi', 'jenga', 'leash', 'voorhe', 'jog', 'medallion', 'chik', 'mei', 'fluke', 'mochi', 'allison', 'glycem', 'heed', 'yadda', 'retir', 'strictli', 'sho', '23rd', 'shipment', 'paypal', 'smoother', 'bimini', 'crabshack', 'dean', 'muddl', 'kitchenett', 'makiman', '20pm', 'tobi', 'wss', 'leeri', 'guero', 'marg', 'stiff', 'xochitl', 'mortar', 'achiot', 'reddish', 'fava', 'ocharley', 'equival', 'sweeten', 'romano', 'lotta', 'player', 'peter', 'deadli', 'org', 'lifestyl', 'formal', 'stark', 'boudin', 'keepin', 'etoufe', 'miner', 'drinkabl', 'pulp', 'overshadow', '66th', 'publix', 'unappreci', 'ocass', 'mighti', 'heartfelt', 'nich', 'hee', 'brat', 'curd', 'approx', 'critiqu', 'restor', 'recoup', 'hushpuppi', 'apa', 'shelter', 'inoffens', 'milktooth', 'cleanup', 'lineup', 'tripel', 'output', 'ceram', 'gulp', 'cathedr', 'acai', 'sorbet', 'pitaya', 'underseason', 'gruffli', 'spous', 'identif', 'ranger', 'and', 'chocolati', 'minti', 'invoic', '120', 'torrado', 'mackerel', 'esthetician', 'undress', 'boob', 'collid', 'soror', 'bacchan', 'reinvent', 'picatta', 'oktoberfest', 'bratwurst', 'hotdog', 'bothersom', 'sudden', 'downpour', 'einstein', '18th', 'nurtur', 'invalu', 'resourc', 'birth', 'rachel', 'amaretto', 'pilaf', 'woohoo', 'napa', 'salesmen', '1800', 'yucca', 'await', 'sought', 'eclips', 'frog', 'saloon', 'cue', 'interst', 'commentari', 'ms', 'cardamon', 'brandi', 'queasi', 'withheld', 'flabbergast', 'sex', '312', 'consistantli', 'munchi', 'traci', 'hairstyl', 'reorder', 'billion', 'stephen', 'metropolitan', 'michigan', 'characterist', 'relish', 'nameless', 'poppi', 'deeper', 'castrillo', 'ynez', 'accumul', 'undeni', 'incompar', 'infinit', 'dallesandro', 'chubbi', 'tide', 'snuff', 'attest', 'geno', 'whiz', 'preced', 'lunchmeat', 'reiter', 'unbeat', 'brazilian', 'linda', 'restraint', 'liner', 'salut', 'behalf', 'mvp', 'cowlick', 'drawn', 'westsid', 'lyft', 'ima', 'underdon', 'dryness', 'krispi', 'kreme', 'circular', 'flank', 'beam', 'lloyd', 'wright', 'amid', 'conserv', 'mysor', 'schrempp', 'vinyasa', 'hatha', 'intermedi', 'intro', 'dynam', 'jill', 'yogi', 'weiner', 'straddl', 'rectifi', 'timefram', 'william', 'hindsight', 'maniac', 'blurb', 'lid', 'capac', 'pinocchio', 'mud', 'shard', 'butterfli', 'inner', 'exce', 'agedashi', 'fe', 'merritt', 'louie', 'instinct', 'gtfo', 'blacklist', 'skunki', 'oval', 'watermelon', 'rind', 'thankyou', 'smog', 'hotwir', 'growth', 'robberi', 'iv', 'anderson', 'baton', 'roug', 'kenner', 'ube', 'halo', 'tapioca', 'sago', 'athen', 'skordalia', 'avgolemono', 'greektown', 'detroit', 'sneez', 'forbid', 'mush', 'wick', 'customiz', 'pim', 'fold', '60th', 'quail', 'martin', 'ridley', 'seventh', 'kicker', 'classier', '1230', 'ver', 'heap', 'riva', '58', 'kiddi', 'bra', 'sichuan', 'tripe', 'variabl', 'shoutout', 'chaotic', 'petit', '52', 'luv', 'tokyo', 'lexington', 'nastili', 'amc', '01', '09', 'mo', 'sooooooo', 'frontier', 'era', 'gaudi', 'clich', 'fifti', 'porterhous', 'morton', 'eeeehhh', 'handlebar', 'roaster', 'primo', 'suprem', 'snotti', 'susan', 'halibut', 'forearm', 'favourit', 'yeast', 'recognit', 'stray', 'clipper', 'freshest', 'proprietor', 'conscienti', 'fad', 'interview', '2am', '6am', '66', 'nutmeg', 'council', 'harley', 'johnson', 'proudli', 'mill', 'overrun', 'lama', 'italiano', 'rita', 'gelati', 'sic', 'tumbler', 'fax', 'surpis', 'spruce', 'bodega', 'leafi', 'wither', 'rot', 'expectantli', 'incorrectli', 'poon', 'fascin', 'nitpick', 'worship', 'christ', 'sermon', 'uplift', 'balm', 'nurseri', 'youth', 'immanuel', 'crop', 'felicia', 'ardmor', 'hominey', 'atlanti', 'strateg', 'calico', 'sav', 'ragu', 'wholesom', '45min', 'lofti', '2lb', 'marshal', 'gazpacho', 'econom', 'respit', 'unoccupi', 'cogniz', 'disrupt', 'dolmad', 'spagetti', 'cypriot', 'font', 'kofta', 'orzo', 'scallion', 'kebab', 'vouch', 'aura', 'immatur', 'childish', 'fairfield', '10minut', 'transluc', 'crisi', 'frickin', 'handbag', 'bookshelf', 'apathi', 'homestead', 'americano', 'croquett', 'audi', 'nonchal', '4matic', 'vermont', 'undetermin', 'torrenti', '6th', 'quest', 'headphon', 'digit', 'absenc', 'backstag', 'irt', 'brian', 'nooooo', 'cuss', 'gasparilla', 'cappi', 'cite', 'horrid', 'anti', 'seal', 'unkept', 'kebob', 'phyllo', 'dissip', 'reportedli', 'weber', 'dll', '230', 'disfunct', 'password', 'stench', 'cordon', 'quizno', 'countrysid', 'epitom', 'sandi', 'crabcak', 'slaint', 'distinguish', 'driest', 'paddi', 'puni', 'feather', 'merri', 'contagi', 'countertop', 'chest', 'caterpillar', 'hemingway', 'daiquiri', 'tgi', 'fruitier', 'irk', 'chitchat', 'barrio', 'conjunct', 'hone', 'schuylkil', 'mississippi', 'paraffin', 'foam', 'starvat', 'dime', 'rue', 'micheal', 'taproom', 'map', 'cranni', 'ewe', 'dinero', 'stride', 'fook', 'tso', 'antipasti', 'span', 'remaind', 'offshor', 'grunt', 'skyway', 'snif', 'anxieti', 'clutter', 'xx', 'swore', 'hairi', 'tude', 'nuke', 'awak', 'butterscotch', 'toffe', 'baffl', 'matcha', 'ritual', 'contribut', 'hau', 'baker', 'famish', 'yong', 'corset', 'disc', 'orthoped', 'surgeon', 'shadow', 'sacramento', 'tiniest', 'havana', 'cuba', 'broadrippl', 'cassett', 'sensori', 'vinyl', '440', 'fuel', 'aaron', 'rad', 'jub', 'pueblo', 'coagul', 'perki', 'profound', 'stripe', 'endiv', 'scoot', 'usf', 'cutoff', 'fume', 'louisvil', 'tl', 'nickel', 'pellegrino', '83', 'compris', 'whitefish', 'phrase', 'ziggi', 'tempeh', 'ai', 'brochur', 'terrier', 'hawk', 'sidney', 'elysian', 'devein', 'goober', 'solvang', 'moreov', 'cocki', 'op', 'og', 'mangia', 'handsom', 'gorgonzola', 'crostini', 'someday', 'jug', 'dang', 'rebat', 'bundl', 'flick', 'hmmm', 'chocolatey', 'unmatch', 'blu', 'felix', 'bene', 'wwe', 'predict', 'balloon', 'opi', 'moistur', 'kindergarten', 'glitter', 'solo', 'tat', 'virginia', 'houston', 'marti', 'redon', 'underst', 'sneak', 'understat', 'pomm', 'shortcom', 'perfunctori', 'unexpectedli', 'trace', 'purveyor', 'collar', 'millenni', 'budweis', 'palak', 'mayflow', '1500', 'adjoin', 'storag', 'ripoff', 'uni', 'brag', 'bout', 'passyunk', 'worm', 'pertti', 'dorado', 'soooooo', 'fur', 'miniatur', 'doodl', 'trout', 'snobbi', 'dossant', 'smear', 'squishi', '130', 'liqour', 'expedi', 'bbb', 'facial', 'demand', 'insomnia', 'preppi', 'nah', 'italia', 'georgia', 'limo', 'fla', 'lollipop', 'wang', 'sander', 'ferragamo', 'definetli', 'carlota', 'hallmark', 'bala', 'collina', 'zataran', 'mesa', 'wallpap', 'negro', 'modelo', 'neil', 'stormi', 'serendip', '2pm', '4star', 'lag', 'manicotti', 'overcrowd', 'unplug', 'courtney', 'phat', 'conced', 'toothpick', 'thigh', 'holder', 'mia', 'ikea', 'ts', 'unadventur', 'mlk', 'masseus', 'theresa', 'swedish', 'sleepi', 'cbd', 'wanton', 'crimin', 'tldr', 'arbi', 'bypass', 'contrair', 'crock', 'wire', 'mozz', 'scotti', 'dominican', 'vinegrett', 'toston', 'sixth', 'odyssey', 'bloomingdal', 'weirdest', 'strongli', 'giordano', 'sadist', 'volcano', 'meaderi', 'abv', 'suzi', 'swerv', 'josef', 'sonja', 'eclair', 'morel', 'calib', 'collingswood', 'rembrandt', 'winthrop', 'experiec', 'wayyy', 'basalm', 'lint', 'button', 'crispier', 'molass', 'bouquet', 'dissapoint', 'binford', 'freshen', 'beast', 'goo', 'linguini', 'mcmuffin', 'mcrib', 'coach', 'radiu', 'markup', 'belgium', 'laden', 'diggiti', 'unfilt', 'harm', 'maze', 'kingdom', 'lord', 'waiv', 'friendliest', 'coolest', 'flew', 'reassur', 'deafen', 'customari', 'itali', 'chapterhous', 'merchant', 'driveway', '38th', 'biscardi', 'duplic', 'straightforward', 'reprimand', 'plaqu', 'statewid', 'aperol', 'alla', 'mortadella', 'affogato', 'fennel', 'mmmmmmm', 'roti', 'intestin', 'gracious', 'tortuga', 'choc', 'freestyl', 'finer', 'baseboard', 'hu', 'scaveng', 'pai', 'baccarat', 'shaw', 'southgat', 'ponzu', 'geriatr', 'strait', 'bubinga', 'donna', 'saunter', 'malbec', 'safelit', 'creamer', 'pod', 'expertis', 'drafti', 'vermouth', 'southtown', 'carnat', 'lili', 'daisi', 'prepaid', 'draught', 'imit', 'swap', 'token', 'banter', 'wile', 'sensibl', 'camino', 'cheet', 'spotlight', 'housemad', 'frito', 'stanton', 'disposit', 'umai', 'richer', 'upcom', 'susten', 'concur', 'brio', 'hadnt', 'nomad', 'temper', 'decker', 'colder', 'prospect', 'buzzer', 'hungov', 'unprepar', 'intersect', 'gulph', 'desi', 'quiktrip', 'haslam', 'author', 'comper', 'craig', 'sombal', 'caruso', 'abroad', 'zoo', 'career', 'ploy', 'flyer', 'nhl', 'playoff', 'oiler', 'sauv', 'departur', 'solitari', 'evidenc', 'dampen', 'roger', 'condescens', 'sazarac', 'ting', 'homestyl', 'wireless', 'haggen', 'sol', 'dapper', 'infam', 'beverli', 'selfi', '37', 'skim', 'phillip', 'gigi', 'babyback', 'oftentim', 'firetruck', 'forecast', 'sharon', 'henri', 'acadian', 'backward', 'deadlift', 'coward', 'plainfield', 'iphon', 'shortrib', 'bruce', 'paddl', 'lightest', 'koi', 'mate', 'perturb', 'abras', 'shellac', 'scrub', 'infuri', 'vanish', 'barb', 'chimney', '2003', 'coa', 'blanco', 'chihuahua', 'chicharron', 'funk', 'derek', 'hing', 'profus', 'shanghai', 'taint', 'arab', 'felafel', 'helen', 'lotu', 'sevic', 'allevi', 'rejuven', 'elsa', 'omit', 'diffus', 'gentrif', 'bent', 'redo', 'stirfri', 'honeygrow', 'cabildo', 'yin', 'jin', 'baba', 'shawarma', 'zesto', 'uhaul', 'teppanyaki', 'megabu', 'passeng', 'conduct', 'dweller', 'rejoic', 'timpano', 'delizioso', 'secco', 'thr', 'xray', 'theyr', 'rite', '71', 'convention', 'schtick', 'omlett', 'pronto', 'awlin', 'fussi', 'spotlessli', 'chess', '6oz', 'kani', 'marana', 'bok', 'choy', 'shitak', 'rendez', 'vou', 'hendel', '185', 'popsicl', 'whoopi', 'pantri', 'turnoff', 'alan', 'bastil', 'cask', 'mckenzi', 'mcflurri', 'piper', 'crucial', 'bmw', 'lexu', 'canai', 'crêpe', 'kanella', 'pastalito', 'insul', 'spike', 'kettl', 'extraordinarili', 'exclusionari', 'cal', 'bahn', 'wat', 'butcher', 'circuit', 'suspens', 'busiest', 'percentag', 'referr', 'batman', '30ish', 'circul', 'brainer', 'startl', 'radar', 'presid', 'crow', 'axi', 'cinema', 'reclin', 'your', 'munch', 'babylon', 'bush', 'ornament', 'sonic', 'ishkibbl', 'chink', 'tx', 'br', 'sassi', 'insol', 'arroy', 'mainstream', 'moonshin', '3d', '4oz', 'arlington', 'figgi', 'shepherd', 'mistakenli', 'buss', 'incens', 'aesthetician', 'knob', 'pediatrician', 'effortless', 'venison', 'sweeti', 'belmont', 'guitar', 'incent', 'neighbourhood', 'novelti', 'simplic', 'numchok', 'wilai', 'descent', 'domest', 'swill', 'passcod', 'rothman', 'laughabl', 'cliqu', 'ooooh', 'upload', 'tib', 'zilzil', 'superwok', 'cow', 'dung', 'stephani', 'craveabl', '11th', 'sheehi', 'workmanship', 'advisor', '986', '92', 'dangl', 'unknowingli', 'provel', 'ooey', 'drizzel', 'phenomin', 'outward', 'inward', 'download', 'scof', 'wrongli', 'croqu', 'monsieur', 'bearabl', 'thee', 'cement', 'margharita', 'consent', 'withdrew', 'deceit', 'devast', 'zocalo', 'jacki', 'rockin', 'centuri', 'hiatu', 'ipad', 'ma', 'otra', 'vez', 'whyte', 'tightli', 'shark', 'witti', 'nuprin', 'metro', 'protocol', '00am', '\\u200d', 'sundri', 'ford', 'unauthor', 'document', 'arrest', 'mida', 'nuclear', 'instrument', 'roulett', 'hind', 'sherri', 'chime', 'comcast', 'intermitt', 'vpn', 'modem', 'godiva', 'bon', 'ami', 'revolt', 'heav', 'strung', 'dorm', 'belay', 'taquiera', 'columbu', 'lindsay', 'kathryn', 'cutteri', 'flatb', 'sate', 'rec', 'perplex', 'sq', 'chronic', 'spicey', 'peek', 'streaki', 'dashboard', 'nashvillian', 'holler', 'renown', 'hotshot', 'stanki', '08', '07', 'sneaker', 'amelia', 'sizabl', 'bombard', 'deco', 'nanci', 'cadillac', '20k', 'amazebal', 'urgenc', 'eli', 'brighten', 'abalon', 'blackboard', 'chatter', 'unseat', 'unapp', 'gamba', 'rene', 'bouillabaiss', 'willing', 'unnerv', 'keurig', '369', 'freebi', 'ihg', 'fda', 'fate', 'lifeless', 'quench', 'cocoa', 'impromptu', 'indonesia', 'cambodian', 'daunt', 'nasi', 'rendang', 'inclus', 'getaway', 'buffer', 'fungu', 'mainstay', 'autist', 'sentenc', 'penca', 'triag', 'carlton', 'mrsa', 'miracl', 'frontag', 'shorthand', 'crabmeat', 'carmin', 'chilean', 'unus', 'closur', 'dawn', 'viabl', 'checkin', 'magrogan', 'selfish', 're', 'squagel', 'locust', '12th', 'turkish', 'thrive', 'birchtre', 'rasa', 'jenna', 'gag', 'corona', 'wiper', 'trunk', 'frances', 'harder', 'scowl', 'maraschino', 'maryland', 'curb', 'phó', 'ridg', 'ava', 'eyelash', 'umsl', '110', 'stope', 'descend', 'macaron', 'baltimor', 'stroll', 'wee', 'mum', 'glori', 'proactiv', 'varnish', 'particl', 'implement', 'fingerprint', 'fibrou', 'anticlimact', 'vain', 'besti', 'stutter', 'southeast', 'phew', 'jail', 'nightli', '111', 'wildflow', 'sno', 'oakley', 'flourtown', 'osso', 'bucco', 'catbird', 'twang', 'township', 'prepackag', 'whiten', 'toothpast', 'borrow', 'gsr', 'coli', 'freshman', '2x', 'bounci', 'davinci', 'flown', 'frig', 'hm', 'plz', 'snippi', 'il', 'vastli', 'swung', 'pray', 'fuji', 'overse', 'presumptu', 'coincident', 'teavana', 'cf', 'dawson', 'peco', 'lightbulb', 'eighteen', 'asplundh', 'atyp', 'hero', 'helicopt', 'transmiss', 'pen', 'laundri', 'inexcus', 'enchant', 'capri', 'butler', 'cocker', 'spaniel', 'kidney', 'meringu', 'spectrum', 'scope', 'tobiko', 'compot', 'pi', 'si', 'flute', 'eg', 'nuditi', 'conscienc', 'uneasi', 'sucki', 'complexion', 'woodsi', 'dial', 'claustrophob', 'anyplac', 'pyramid', 'nightlif', '86th', 'dissolv', '507', '30min', 'tingl', 'cwe', 'zarzuela', 'moussaka', 'boi', 'pumpernickel', 'overseason', 'nathali', 'bicycl', 'medford', 'gill', 'nauseou', 'fiasco', 'rambl', 'sacrific', 'zax', 'jesu', 'guyang', 'nevi', 'creve', 'coeur', 'teapot', 'antsi', 'marakkesh', 'buti', '189', 'sanwich', 'paulan', 'copa', 'smokin', 'monterey', 'blandest', 'puré', 'recess', 'abigail', 'kyle', 'swizzl', 'loiter', 'dinnertim', '29pm', 'discrep', 'ottoman', 'fedex', 'consecut', 'devoid', 'nightcap', 'ne', 'hiss', 'tricki', 'mezza', 'fatteh', 'batata', 'reyou', 'vertebra', 'wive', 'cantones', 'deer', 'headlight', 'embrac', 'inflex', 'conni', 'budg', 'viet', 'unsettl', 'yukgaejang', 'phf', 'carpinteria', 'loav', '25th', 'coolinari', 'bayoubaiss', 'have', 'pakora', 'dempsey', 'plater', 'tastless', 'deff', 'savour', 'jag', 'dumbfound', 'reduct', 'sonoma', 'slew', 'classifi', 'maxwel', '1960', 'collaps', 'downright', 'hurl', 'woodstock', 'christoph', 'caeser', 'kenni', 'unscrupul', 'tp', 'burrata', 'paragon', 'exposur', 'uppiti', 'kickbox', 'tyson', 'network', 'economi', 'bywat', 'elizabeth', 'satsuma', 'vibrant', 'kimche', 'buddha', 'sensor', 'disconcert', 'luther', 'excurs', '40th', 'refurbish', 'scent', 'coriand', 'baigan', 'engross', 'disappointingli', 'wesley', 'chapel', 'off', 'callback', 'lsu', 'aris', 'depriv', 'canopi', 'carriag', 'beep', 'unfairli', 'wristband', 'miniscul', 'foyer', 'cho', 'tipper', 'mickey', 'concours', 'chirashi', 'recomend', 'hunk', 'concess', 'bonut', 'drone', 'nap', 'conceal', 'ludicr', 'entryway', 'unforgiv', 'shrink', 'ultra', '10p', 'puf', 'yank', 'starwood', 'prosecutor', 'consequ', '630', 'wintertim', 'inaud', 'beck', 'trainwreck', 'aid', 'swollen', 'frankford', 'hie', 'amanda', 'sarcasm', 'unknown', 'dna', 'psf', 'unknowledg', 'incomplet', 'endur', 'feng', 'shui', 'edward', 'fitler', 'bechamel', 'taleggio', 'crabbi', 'fontina', 'scarv', 'knuckl', 'mae', 'soundtrack', 'surrey', 'belov', 'medicin', 'timey', 'evalu', 'upbring', 'bim', 'bop', 'shiner', 'aerob', 'lesli', 'annex', 'hh', 'shoulda', 'havent', 'casher', 'zilch', 'indign', 'nevermind', 'lemmon', 'md', 'vicki', 'imbecil', 'ginorm', 'stax', 'catalog', 'administr', 'cabreria', 'swipe', 'differenti', '295', 'colorado', 'calif', 'dissatisfact', 'trump', 'tryna', 'knowingli', 'fraudul', 'explicitli', 'wrongdo', 'adher', 'li', 'boxer', 'zydeco', 'chargril', 'unsurprisingli', 'stamp', 'chanh', 'dunno', 'bewild', 'demolish', 'rebuild', 'banchan', 'kbbq', 'pinella', 'hotpot', 'flame', 'sj', 'akira', 'diga', 'mega', 'fleur', 'fog', 'condens', 'patrol', 'oaxaca', 'clot', 'gyp', 'cronut', 'cha', 'dentistri', 'emerald', 'maki', 'caucasian', 'winston', 'nc', 'earhart', 'airbag', 'weinhardt', 'showroom', 'panel', 'globe', 'emphas', 'kitchenwar', 'stove', 'flakey', 'input', 'eta', 'ooop', 'isra', 'prohibit', '1100', 'indiqu', 'thiev', 'tranquil', 'montgomeri', 'spca', 'neapolitan', 'liabil', 'rehabilit', 'euthan', 'swift', '117', 'checklist', 'rectangl', 'fleet', 'speck', 'hipcityveg', 'tar', 'pharmacist', 'daquiri', 'wheez', 'bleach', 'peke', 'ballsi', 'toi', 'uglier', 'renata', 'elena', 'changer', 'kona', 'hte', 'ina', 'doorbel', 'backroom', 'alegro', 'jock', 'moron', 'threat', 'metabol', 'tulan', 'namesak', 'miscommun', 'repaint', '2002', 'dragoon', 'wool', 'fuzz', 'suspicion', 'flap', 'cristo', 'handshak', 'rellano', 'utter', 'strain', 'casita', 'chump', 'tick', 'lepeep', 'rectangular', 'whirl', 'vinegari', 'alga', 'bloom', 'infest', 'intervent', 'outbreak', 'amigo', 'gateway', '243', '410', 'resel', 'delco', 'disservic', 'distributor', 'commonplac', 'fingertip', 'airplan', 'rome', 'rooki', 'roto', 'lieg', 'soho', 'curat', 'visor', 'hardi', 'shucker', 'smyrna', 'ramada', 'jessi', 'derelict', 'husbeast', 'expo', 'rockstar', 'airbnb', 'whoop', 'sweatshirt', 'categor', 'sham', 'staffer', 'therebi', 'rv', 'chicori', 'awe', 'starchi', 'intelligentsia', 'earnest', 'zen', 'yai', 'panaang', 'chit', 'birria', 'trademark', 'ragoon', 'carbon', 'perch', 'penang', 'lopsid', '1pm', '930', 'wrist', 'grievanc', 'misguid', 'unsupervis', 'saguaro', 'lent', 'mesquit', 'milag', 'summit', 'knockoff', 'malisan', 'ff', 'tchoup', 'parrot', 'pac', '67', 'awn', 'trickl', 'sorrow', 'needlessli', 'smidg', 'wah', 'sleet', 'ici', 'kampai', 'osaka', 'tako', 'yaki', 'vender', 'ebi', 'collin', 'deeeelici', 'malena', 'rockabilli', 'nicol', 'hor', 'oeuvr', 'bamboo', 'gah', 'wal', 'caff', 'creator', 'recreat', 'siren', 'saus', 'wrigley', 'ivi', 'barbershop', 'supercut', 'mizu', 'attribut', 'kiwi', 'uhhhhh', '3j', 'tether', 'samsung', 'unlock', 'froth', 'overstuf', 'stake', 'scant', 'greko', 'diego', 'sting', 'quasi', 'hendrick', 'weigh', 'crud', 'arena', 'oakland', 'marina', 'caden', '180', 'takeov', 'temporarili', 'relay', 'surplu', 'camp', 'mapo', 'hardwood', 'knowleg', 'camri', 'tastey', 'incess', 'congrat', 'tirzah', 'clearer', '13th', 'tarp', 'teh', 'clichi', 'ganach', 'cj', 'mmmmmmmmmm', 'midday', 'spongi', 'rider', 'pager', 'wam', 'ecr', 'newborn', 'ranchito', 'pantano', 'blender', 'copabanana', 'buco', 'steroid', 'morsel', 'fooooood', 'nikki', 'shoo', 'aug', '98', 'numb', 'goood', 'settlement', 'randi', 'soonest', '31st', 'shannon', 'rodent', 'handwash', 'cfa', 'lowli', 'realis', 'watt', 'hairdryer', 'unschedul', 'underli', 'grigio', 'murder', 'misunderstand', 'reagan', 'commemor', '1989', 'clinton', 'cma', 'kleenex', 'casona', 'mason', 'isla', 'youtub', 'yahoo', 'decompos', 'granit', 'loader', 'certifi', 'franki', 'virtu', 'fior', 'hoop', 'roosevelt', 'wareh', 'gw', 'rr', 'corkag', 'voila', 'smarter', '2hr', 'germain', 'hibiscu', 'syrupi', 'foami', 'contractor', 'russ', 'hooray', 'specialist', 'wakey', 'primavera', 'campaign', 'manifest', 'kerri', 'alyssa', 'greenwood', 'smili', 'jeep', 'wrangler', 'standbi', 'splendid', 'puzzl', '82', 'anis', 'clove', 'damnit', 'decaf', 'brewer', 'convolut', 'simplest', 'nicki', 'tuscani', 'lab', 'jordan', 'leech', 'firebal', 'correspond', 'registr', 'lightn', 'miscellan', 'unstabl', 'trauma', 'grave', 'outreach', 'tzatziki', 'unlucki', 'woof', 'graviti', 'standoffish', 'thickli', 'unkempt', 'harde', '140', 'boggl', 'junior', 'sbraga', 'trattoria', 'marcella', 'psych', 'jumbalaya', 'iou', 'dumber', 'racquetbal', 'natali', 'gloria', 'expediti', 'phila', 'bridgeston', 'litter', 'splatter', 'pubic', 'saag', 'kohl', 'maxx', 'frenchi', 'punish', 'snippili', 'cub', 'tentacl', 'exemplari', 'nit', 'ohio', 'hipciti', 'groothi', 'dissuad', 'spacey', 'meld', 'hallibut', 'prefect', 'alongsid', 'ldf', 'leagu', 'malnati', 'allyson', 'piazza', 'discont', 'doormen', 'karag', 'nourish', 'af', 'pathmark', '！', 'ricki', 'loath', 'agoni', 'whitt', 'nippon', 'tei', 'montana', 'funnel', 'uned', 'nitti', 'blondi', 'brewster', 'pont', 'slant', 'padaro', 'stoog', 'birch', 'thicken', 'remors', 'waaaaay', 'neighborli', 'bellhop', 'hdtv', 'uhm', 'foggi', 'shaggi', 'overdraft', 'fund', 'sneaki', 'peppermint', 'racism', 'becasu', 'seamless', 'zimco', 'unqualifi', 'electrician', 'zorba', 'fairmount', 'pajama', 'mingl', 'facilit', 'eden', 'kali', 'walter', 'glutton', 'dsw', 'visa', 'jaleel', '56', 'cosmetolog', 'sew', 'palmer', 'phl', 'bánh', 'phili', 'sass', 'dual', 'cello', 'comb', '79', 'errat', 'plummet', 'jonathan', 'pinpoint', 'ewwwwww', 'consensu', 'favour', 'lg', 'dubu', 'silki', 'jap', 'chae', 'kalbi', 'dolsot', 'israel', 'entrepreneur', 'jamba', 'nudi', 'malti', 'danni', 'smartphon', 'centro', 'noooooo', 'buggi', 'facad', 'rocker', 'wherein', 'leo', 'refocu', 'copper', 'kaldi', 'engorg', 'dehydr', 'gram', 'detach', 'hanoi', 'aromat', 'whem', 'tediou', 'ichiban', 'shortest', 'untrain', 'shaken', 'liquidi', 'villagio', 'cinebistro', 'floresc', 'minado', 'outnumb', 'mailer', 'monsoon', 'nye', 'tasso', 'bigot', 'refrain', 'rollin', 'ensu', 'congest', 'untouch', 'uncharacterist', 'staten', 'unflavor', 'heresi', 'underag', '320', 'mtg', 'redston', 'logan', 'despic', 'prisma', '229', 'precut', 'loooooong', 'rummag', 'nab', 'homer', 'launch', 'broccolini', 'suitcas', 'smuggl', 'conservatori', 'sheldon', 'termini', 'bruno', 'clever', 'nastiest', 'saltiest', 'instantan', 'ferguson', 'osteria', 'craftsmanship', 'trippel', 'haughti', 'darl', 'sweetbread', 'rav4', 'firecrack', '63', 'glu', 'gentli', 'taziki', 'billiard', 'slur', 'halal', 'muslim', 'racanelli', 'agreeabl', 'prick', 'endear', 'karma', 'comer', 'aj', 'toxic', 'pursuit', 'cautious', 'optimist', 'genuardi', 'hooker', 'heroin', 'couger', 'pom', 'flourish', 'alik', 'hush', 'candymak', 'leah', 'deviat', 'porno', 'homecom', 'unattract', 'ingrown', 'shouldnt', 'preemptiv', 'beau', 'lager', 'wink', 'tropez', 'immediatli', 'dolli', 'parton', 'nilla', 'garth', 'brook', 'thinnest', 'euro', 'veterinarian', 'vincent', 'moscato', 'reunit', 'campfir', 'gruff', 'peasant', 'kennedi', 'diver', 'sinist', 'headi', 'purist', 'ba', 'spezzato', 'steven', 'attilio', 'carla', 'ibervil', 'mixto', 'oriecchiett', 'mascarpon', 'twiste', 'lithuanian', 'quebec', 'worthless', 'aplenti', 'actress', 'noteworthi', 'blimpi', '30k', 'tijuana', 'slipper', 'rimless', 'hatteri', 'albertson', 'hay', 'thrifti', 'rotor', 'nicholett', 'eff', 'pech', 'evolut', 'babe', 'topper', 'sabino', 'chemex', 'premad', 'coffeebar', 'prosper', 'bibo', 'cemeteri', 'tomb', 'nicola', 'cage', 'tram', 'narr', 'glen', 'swindel', 'homag', 'backstreet', 'thunderdom', 'hoard', 'bitchi', 'spontan', '4hour', '397', '283', 'castor', 'isnt', 'compound', 'formul', 'weiss', 'superstor', 'dork', 'nonexist', 'unisex', 'westhaven', 'papusa', 'havarti', 'guitarist', 'applaus', 'daym', 'revenu', 'gofobo', 'loew', 'sitter', 'bui', 'slutti', 'woodi', 'simplifi', 'obstacl', 'irrelev', 'despis', 'tournament', 'tact', 'rond', 'logic', 'zoom', 'nba', 'inebri', 'necess', '360', 'wickedli', 'coverag', 'mustang', 'compact', 'recheck', 'quizzo', 'tale', 'anomali', 'maui', 'shirmp', 'fooderi', 'boycott', '5oz', 'tsunami', 'deptford', 'melissa', 'trident', 'flatwar', 'resurfac', 'squeak', 'lüke', 'clarif', 'sculptur', 'ramekin', '259', 'meridian', 'diversifi', 'simpson', 'vito', 'tweek', 'creeper', 'heighten', 'kaitlin', 'pierogi', 'ukrainian', 'kielbasa', 'galubki', 'linc', 'clark', 'jami', 'dylan', 'weari', '105', 'remi', 'izumi', 'angrili', 'decenc', 'dem', 'pillowi', 'sakana', 'patriot', 'substandard', 'monetari', 'marley', 'gangster', 'undergo', 'playin', 'melti', 'sid', 'bind', 'ambigu', 'overh', 'offramp', 'ambrosia', 'perez', 'kafta', 'gala', 'upland', 'fido', 'outlaw', 'fairless', 'thay', 'thereof', 'fingernail', 'doin', 'bald', 'stripper', 'digniti', 'hoof', 'ponder', 'andr', 'philip', 'elixir', 'avg', 'guzzl', 'mosh', 'bastard', 'snola', 'cartoon', '160', '12oz', 'degrad', 'kegerartor', 'pol', 'waaaaaay', 'deem', 'drippi', 'berix', 'burek', 'bosnian', 'bingo', 'bitten', 'guatemalan', 'pricelin', 'regina', 'saki', 'beij', '168', 'deathli', 'carol', 'cavatelli', 'rooftop', 'lament', 'rancid', 'protest', 'unwind', 'conshi', 'prong', 'valv', 'nevertheless', 'whiff', 'vn', 'emperor', 'elvi', 'hunka', 'mw', 'conshohocken', 'echelon', 'retreat', 'loser', 'rapid', 'codfish', 'discrimin', 'alto', 'witt', 'frontenac', 'delciou', 'hogi', 'matern', 'wand', 'griddl', 'eatabl', 'phoni', 'renter', 'diy', 'rooter', 'sturdi', 'mozza', 'snuggl', 'trevor', 'lightheart', 'ncaa', 'slu', 'scalp', 'bistec', 'bead', 'smore', 'hershey', 'sunchok', 'cottag', 'weaver', 'junction', 'glensid', 'zip', 'riverfront', 'ohhh', 'suckl', 'recap', 'combat', 'venezuelan', 'arepa', 'tequeño', 'empow', 'lt', 'raita', '2005', 'ruth', 'resent', 'willi', 'seam', 'greasier', 'greasiest', 'canola', 'massimo', 'tarot', 'cure', 'loosen', 'ww', 'montezuma', 'sec', 'merci', 'depict', 'demonstr', 'imperfect', 'react', 'automobil', 'implor', 'insignific', 'bant', 'ali', 'rooster', 'therapi', 'alchemi', 'lido', 'wobbl', 'jumbl', 'greco', 'shanna', 'waiver', 'ml', 'braciol', 'msi', '116th', 'omnivor', 'sexist', 'pleasantri', 'lauderdal', 'lenient', 'melani', 'kansa', 'overestim', 'concord', 'newark', '，', 'anesthesia', 'sedat', 'nadia', 'kenji', 'izakaya', 'ren', 'sal', 'alabama', 'commonli', 'mover', 'reddi', 'desere', 'togo', 'thusli', 'gratitud', 'plainli', 'conceptu', 'emili', 'adept', 'coaster', 'morgan', 'boon', '15p', 'ar', 'glisten', 'index', 'molina', 'bún', 'freshmen', 'littlehead', 'dye', 'anger', 'conspiraci', 'motherfuck', 'spanikopita', 'manchego', 'sullivan', 'holt', 'humidor', 'ivori', 'tobacco', 'int', 'poorer', 'bumpin', 'lube', 'synthet', 'bevi', 'cleans', 'disjoint', 'arroz', 'intermin', 'distil', 'capogiro', 'taster', 'demeanor', 'tepid', 'consolid', 'holeman', 'finch', 'oblivion', 'avacado', 'vaniti', 'parfait', 'redund', 'wolfgang', 'primanti', 'gig', 'fortuit', 'accomad', 'bounti', 'arbitrarili', 'overdid', 'playroom', 'wholli', 'mmmmmm', 'radiat', 'restrain', 'trespass', 'athlet', 'surgic', 'rn', 'perrier', 'sw', 'oopsi', 'jeffi', 'hock', 'bash', 'boostin', 'astronom', 'loan', 'pew', 'cheeki', 'doom', 'adelaid', 'shoprit', 'undercurr', 'manicurist', 'thumbnail', 'mazzaro', 'luckier', 'sketch', 'rosi', 'yield', 'gullifti', 'ketel', 'worcestershir', 'stein', 'healthcar', 'inhospit', '109', 'postur', 'fondli', 'ongo', 'recit', 'snooz', 'notion', 'ucsb', 'noddl', 'smashburg', 'eggi', 'boardwalk', 'gazebo', 'lookout', 'sl', 'proven', 'nutshel', 'injera', 'wot', 'denomin', 'sansom', 'marcona', 'whichev', 'clown', 'dicey', 'tartin', 'tonkotsu', 'snarf', 'glycoliqu', 'jenn', 'patach', 'precook', 'keeli', 'surmis', '12am', 'frappa', 'pringl', 'homefri', 'nashvega', 'pregnanc', 'amiabl', '37th', 'guilt', 'countdown', 'rw', 'haddock', 'staci', '1682', 'smush', 'empir', 'bog', 'rod', 'latitud', 'columbia', 'epcot', 'traumat', 'astray', 'freaki', 'filo', 'guin', 'dartboard', 'gracia', 'jfk', 'virago', 'patterson', 'kensington', 'abita', 'putt', 'putter', 'vienna', 'limoncello', 'cuff', 'cartilag', 'pd', 'skull', 'fractur', 'chive', 'spg', 'cnn', 'lego', 'playmobil', 'deactiv', 'shooter', 'steph', 'voodoo', 'kit', 'exud', 'surpass', 'fin', 'bachelor', 'pam', 'lethal', 'weapon', 'fawn', 'collis', 'kathleen', 'malai', 'sambo', 'everynight', 'permeat', 'scrawni', 'wealth', 'priorit', 'gc', 'parsnip', 'sofia', 'disadvantag', 'vers', 'problemat', 'cooper', 'nutcrack', 'ballet', 'amateurish', 'granada', 'streak', 'zoodl', 'bff', 'parma', 'campbel', '2001', 'littlejohn', 'antibiot', 'nv', 'peg', 'h2o', 'stumptown', '62nd', 'misoshiru', 'festoon', 'unsuspect', 'interfac', 'westin', 'olivi', 'plump', 'panchero', 'pleasent', 'riviera', 'mansion', 'breanna', 'gentrifi', 'quibbl', 'falcon', 'marc', 'spaetzl', 'kartofelknudel', 'rightli', 'aliza', 'samantha', 'damien', 'galor', 'inject', 'tantal', 'chrome', 'usag', 'farfal', 'kitti', 'spay', 'audibl', 'poss', 'woah', 'moli', 'accoutr', 'tragedi', 'mazarin', 'inclement', 'golfer', 'omni', 'lune', 'autumn', 'cantaloup', 'honeydew', 'premix', 'pp', 'blinker', 'salari', 'copiou', 'tummi', 'donkey', 'gose', 'sp', 'tucker', 'prescrib', 'cruiser', 'aft', 'carmen', 'beliz', 'wifey', 'aoli', 'reveillon', 'unobtrus', 'woodwork', 'cava', 'swank', 'caipirinha', 'publish', 'saeco', 'doser', 'nonfunct', 'troubleshoot', 'breakag', 'prosecut', 'olden', '805', 'awok', 'squawk', 'congeni', 'unprocess', 'hater', 'postcard', 'lai', 'ivan', 'teppan', 'exfoli', 'maroon', 'unpeel', 'juiciest', 'barback', 'unchew', 'filth', 'outfit', 'airlin', 'bru', 'wholefood', 'oversold', 'realm', 'dole', 'ick', 'prevail', 'coquito', 'tao', 'gloopi', 'remiss', 'audubon', 'basin', 'gorg', 'porkchop', 'alton', 'olin', 'tallest', 'bec', 'sightse', 'woefulli', 'icecream', 'ana', 'dilapid', 'bbt', 'hipper', 'poca', 'cosa', '30p', 'craftsman', 'hatch', 'condon', 'kicthen', 'ellen', 'vegaz', 'flatter', 'unpronounc', 'lotaburg', 'whataburg', 'interestingli', 'intoler', 'curious', 'disingenu', 'penal', 'muesli', 'pilsner', 'wimp', 'sporad', 'organiz', 'sequenti', 'inexplic', 'easton', 'naiv', 'ooka', 'bouch', 'pescator', 'eldorado', 'hoppin', 'ponytail', 'choppi', 'mcnabb', 'backspac', 'afloat', 'porcini', 'homini', 'alaska', 'verdi', 'tarragon', 'nosed', 'funghi', 'tornado', 'decant', 'sammich', 'camaron', 'rocco', 'aficionado', 'gawd', 'cape', 'snafu', 'serivc', 'jackass', 'flinch', 'rodeo', 'brewpub', 'hefeweizen', 'tidbit', 'whetston', 'amp', 'eagerli', 'shiver', 'tagin', 'sahara', 'zaalouk', 'pungent', 'tampon', 'trashcan', 'tabitha', 'fulton', 'nighttim', 'scruffi', 'cl', 'fritt', 'mute', 'writer', 'trigger', 'dwell', 'tarter', 'kinder', 'goldi', 'bazbeaux', 'gobbl', 'bagger', 'pester', 'forgiven', 'intellig', 'marlton', 'raijin', 'shilpa', 'amidst', 'balli', 'giovani', 'coffeehous', 'transcend', 'credo', 'latch', 'dy', 'riverbend', 'novic', 'posto', 'proscuitto', 'keto', 'paleo', 'reconcili', 'academi', 'posol', 'chicharon', 'vanessa', 'hemp', 'goji', 'pollen', 'excelent', 'comida', 'cachapa', 'perpetu', 'wealthi', 'frazer', 'memo', 'landri', 'jax', 'ouch', 'hopper', 'bacteria', 'aria', 'indecis', 'exorbit', 'smudg', 'antic', 'legum', 'vitamin', 'amino', 'adren', 'fatigu', 'nelson', 'dosag', '6800', 'candida', 'twit', 'hoppi', 'barren', 'beggar', 'insincer', 'tito', 'motor', 'spout', 'jess', 'blvd', 'foodcab', 'sicili', 'chalfont', 'lorrain', 'standstil', 'wwii', 'westi', 'mortifi', 'tomo', 'travers', 'matrix', '29th', 'talapia', 'dayum', 'champ', 'singapor', 'biweekli', 'extravaganza', 'murki', 'disarray', 'dinardo', 'izzo', 'cardamom', 'empress', 'lowel', 'rathbon', 'parilla', 'psychic', 'flammenkuchen', 'rucku', 'fixin', 'farewel', 'keyboard', 'manni', 'needl', 'ragout', 'hotspot', 'raclett', 'choucrout', 'garni', 'yukon', 'buntini', 'gusto', 'picon', 'applaud', 'haze', 'portabello', 'sanctuari', 'preach', 'casey', 'inferior', 'hoisin', 'faint', 'yvett', 'cot', 'na', 'bream', 'youll', 'liber', 'streusel', 'uptight', 'rotini', 'curv', 'jule', 'chequ', 'ecstat', 'breadi', 'pecorino', 'hypothesi', 'album', 'mikey', 'marcu', 'mamacita', 'craftsmen', 'loooong', 'madam', 'pail', 'hendersonvil', 'schooler', 'gambler', 'meun', 'yam', 'chippewa', 'unpleasantli', 'eachoth', 'loom', 'cortado', '54th', 'cumbersom', 'prepay', 'tanya', 'nautic', 'convo', 'canva', 'outpost', 'gumbal', 'fieri', 'ty', 'understaff', '43', 'dmv', 'floridian', 'footprint', 'meg', 'giardia', 'mite', 'underdress', 'pavilion', 'beachsid', 'fort', 'chaufa', 'chorillana', 'calient', 'knead', 'gud', 'parkinson', 'nozzl', 'grenadin', 'pursu', 'campylobact', 'transmit', 'yummm', 'bimbimbop', 'rei', 'torpedo', 'carp', 'von', 'essi', 'chanel', 'tortuou', 'orleanian', 'mainlin', 'hungrier', 'cuti', 'gasolin', '1999', 'dupont', 'divis', 'latté', 'takeaway', 'korner', 'lansdal', 'australian', 'robber', 'naruto', '911', 'touchscreen', 'brightli', 'reed', 'followup', 'crisper', 'goi', 'cuon', 'strangest', 'culprit', 'kho', 'tendon', 'swat', 'toll', 'flatscreen', 'withdraw', 'tanner', 'grail', 'hue', 'baysid', 'tsk', 'restauranteur', 'ef', 'willow', 'vroom', 'dh', 'crescent', 'selv', 'amd', 'spanakopita', 'lenscraft', 'tshirt', 'faculti', 'colour', 'maam', 'inning', 'saniti', 'multitask', 'zoey', '118', 'laban', 'oc', 'yucki', 'twelv', 'limb', 'megan', 'krystal', 'rico', 'kolsch', 'fizz', 'thoroughbr', 'truecar', 'fiber', 'charley', 'unsoci', 'outliv', 'sailor', 'wag', 'leaki', 'avert', 'sewer', 'saladwork', 'doro', 'these', 'haul', 'hitch', 'garcia', 'unmiss', 'compat', 'cago', 'cotton', 'ti', 'sheesh', 'freindli', 'ankl', 'fantas', 'ambiti', 'contend', 'skateboard', 'fetish', 'feisti', 'milan', 'kaiser', 'muggi', 'allot', 'mexi', 'pu', 'jamaica', 'ka', 'picasso', 'tabasco', 'orgasm', 'skeleton', 'galaga', 'pacman', 'acclaim', 'kien', 'giang', 'lard', 'tum', 'bulldog', 'undrink', 'javan', '830', 'ralli', 'parch', 'highchair', 'boulevard', 'smack', 'krab', 'deign', 'remad', 'aspir', 'minivan', 'amir', 'eighth', 'pivot', 'mif', 'hoot', 'espanol', 'mista', 'predat', 'quack', 'mack', 'eyelid', 'spur', 'edventur', 'devin', 'fairi', 'polyesth', 'slump', 'esther', 'jai', 'katsu', 'lascala', 'outlook', 'registrar', 'widow', 'wisconsin', 'bred', 'vehement', 'ibu', 'looooov', '430', 'minder', 'mismanag', 'unaccomod', '45th', 'madra', 'atkin', 'koopl', 'renfrew', 'elus', 'ropa', 'vieja', 'sag', 'undeserv', 'infrar', 'ox', 'grandeur', 'wknd', 'acct', 'civil', 'derbi', 'patricia', 'elitist', 'exert', 'brinner', 'watcher', 'brace', 'culver', 'uk', 'yardley', 'celina', 'murfreesboro', 'californian', 'taramosolata', 'statesid', 'opa', 'charmingli', 'moorestown', 'cubbi', 'lieu', 'weismann', 'veracruz', 'wb', 'multipli', 'lambertvil', 'chariti', 'warrington', 'turnaround', 'hem', 'galbi', 'bastilla', 'compli', 'sixteen', 'bien', 'geisha', 'dizzi', 'thit', 'nguoi', 'petal', 'tinder', 'ernest', 'mea', 'culpa', 'albanian', 'keller', 'emporium', 'olga', 'errrrr', '25min', 'sukho', 'capo', 'munchkin', 'cyclist', 'firework', 'halv', 'uneat', 'pore', 'crumpl', 'circa', 'android', 'maitr', 'barrist', 'shiela', 'royersford', 'focaccia', 'wilmot', 'postmat', 'monoxid', 'imho', 'bienvil', 'flier', 'perm', 'conclud', 'multitud', 'tunnel', '2x2', 'aldin', 'expressli', 'leon', 'secretari', 'nomin', 'aim', 'pointer', 'justif', 'overdu', 'shoji', 'intric', 'bodic', 'seamstress', 'cameron', 'cheroke', 'madison', 'minestron', 'alberta', 'shiraz', 'zippi', 'jameson', 'cavatappi', 'softi', 'webpag', 'pdf', 'raunchi', 'neutral', 'exacerb', 'monica', 'guardian', 'tropika', 'monopoli', 'gastro', 'sangioves', 'endors', 'benjamin', 'kristoff', 'afro', 'kristi', 'schwarma', 'aggrav', 'buster', 'ky', 'unpolish', 'trudg', 'weakest', 'softwar', 'cylind', 'unenthusiast', 'bb', 'bundt', 'pepperloin', 'eat24', 'minded', 'gogh', 'moor', 'holey', 'recur', 'panhandl', 'angelo', 'pepperoncini', 'curbsid', 'repetit', 'bogo', 'bing', 'matur', 'jeffrey', 'illustr', 'gibb', 'calmer', 'flu', 'predatori', 'storquest', 'smdh', 'tragic', 'convivio', 'quirk', '313', 'magnolia', 'goto', 'pimm', 'millionair', 'viola', 'ly', 'flanagan', 'teddi', 'mcnugget', 'tecat', 'glowplug', 'analysi', 'dixieland', 'vessel', 'hainan', 'keswick', 'helmet', 'apprais', 'rewound', 'stammer', 'doo', 'glamor', 'restart', 'brothel', 'sabbat', 'domo', 'brandt', 'flicker', 'gist', 'conveyor', 'woken', 'dosent', 'ponti', 'spud', 'liscio', 'ja', 'motorcycl', '62', 'demis', 'kernel', 'nowaday', 'makhani', 'kheer', 'buis', 'spree', 'coca', 'pediatr', 'distress', 'redirect', 'chadd', 'frier', 'dinic', 'snobal', 'kmart', 'chloe', 'dumbbel', 'cambodia', 'mc', 'bricksid', 'mutual', 'chass', 'leer', 'barro', 'hannah', 'sonora', 'yall', 'prestigi', 'ocd', 'garb', 'barstool', 'reappear', 'awri', 'dab', 'gaucho', 'shotgun', 'dawgz', 'giardiniera', 'mare', 'tbell', 'punctuat', 'naf', 'repurpos', 'bours', 'gospel', 'habachi', 'armstrong', 'lacquer', 'graffiti', 'itch', 'monfongo', 'punk', 'sympathi', 'uphold', 'compass', 'gorilla', 'scorpion', '1hour', 'rotunda', 'thip', 'briley', 'iam', 'modicum', 'pistol', 'kee', 'mao', 'extravag', 'distast', 'boooooo', 'rh', 'morristown', 'ahold', 'hierarchi', 'artoi', 'disord', 'hostag', 'cozumel', 'jon', 'jaunt', 'hondura', 'jaeger', 'theoret', 'laser', 'nd', 'omei', 'yada', 'haystack', 'statur', 'mayfield', 'pontoon', 'seasid', 'changeov', 'bid', 'pirlou', 'thi', 'lindsey', 'piranha', 'abnorm', 'fettuccini', 'mariann', 'franc', 'darbi', 'wynnewood', 'medit', 'spiritu', 'enrol', 'stepmoth', 'harrissa', 'triangl', 'pimiento', 'ringer', 'brothi', 'avec', 'gaggl', 'downingtown', 'tweeti', 'cruddi', 'doy', 'swag', 'gifti', 'plantat', 'forese', 'tikel', 'anthropologi', 'registri', 'dumpi', 'mcconel', 'edison', 'juicer', 'planner', 'gypsi', 'infin', 'colon', 'beachi', 'barnhart', 'fertil', 'ultrasound', 'paprika', 'diamet', 'brendan', 'talkin', 'coop', 'bourboun', 'flimsi', 'arctic', 'feat', 'mono', 'cm', 'drummer', 'ceo', 'dtsp', 'lish', 'indigest', 'saltier', 'handcuff', 'dustin', 'cloy', 'halwa', 'shovel', 'malvern', 'cattl', 'newslett', 'harshli', 'unenthus', 'strep', 'vital', 'oxygen', 'unintellig', 'mejillon', 'abd', 'amont', 'ru', 'som', 'lust', 'primal', 'yee', 'overdos', 'navel', 'aswel', 'hitter', 'disench', 'bizzar', 'garment', 'vest', 'bartley', 'sumo', 'brasa', 'cornmeal', 'chord', 'knickknack', 'dreari', '5star', 'ernesto', 'utmost', 'seabass', 'taker', 'unsweeten', 'yanke', 'tsa', 'jo', '699', '159', 'yap', 'lengua', 'tortia', 'barri', 'emin', 'overlay', 'capelli', 'hairfre', 'goggl', 'dumbest', 'jellyfish', 'backstori', 'famoso', 'mermaid', 'wig', 'thrice', 'solar', 'sd', 'sdge', 'argentina', 'interchang', 'ulmerton', 'portillo', 'nepal', 'fucker', 'yuk', 'keva', 'letdown', '199', 'awoken', 'charlott', '50pm', '57pm', 'mbsc', 'sled', 'introductori', 'bridgeport', 'here', 'sicker', 'woo', 'nitpicki', 'guidelin', 'cumberland', 'pend', 'coral', 'wiki', 'snapshot', 'ta', 'playhous', 'reassign', 'weft', '179', 'bohym', 'bureau', '7021', 'tsp', 'souza', 'bruh', 'err', 'ladl', 'blunder', 'jaclynn', 'manor', 'fenza', 'talli', '195', 'coloss', 'unnatur', 'amura', 'techno', 'norton', 'boycot', 'shorten', 'bunni', 'binder', 'bellmen', 'milanes', 'mario', 'quarrel', 'hearo', 'headlin', 'cusin', 'ey', 'dum', 'detest', 'caitlin', 'dearth', 'thief', 'persuad', 'nondescript', 'ricketi', 'riff', 'laveau', 'lenox', 'mel', 'wholeheartedli', 'paso', 'lea', 'sushiya', 'sud', 'cabana', 'guacomol', 'nosh', 'pricetag', 'callu', 'sketcher', '3oz', '86', 'botto', 'kibitz', 'catalogu', 'exasper', 'sapporo', 'vegtabl', 'feroci', 'parka', 'beacon', 'multigrain', 'hudson', 'tator', 'beater', 'disrepair', 'shortbread', 'steakumm', 'alt', 'dispar', 'reconcil', 'smartest', 'spain', 'cleanser', 'tam', 'disproport', 'gender', 'relentless', 'ger', 'filthiest', 'huffi', 'nosi', 'snark', 'alcov', 'unrespons', 'zanna', 'soondubu', 'haemul', 'spedini', 'woth', 'slyli', 'frankenstein', 'monstrou', 'typo', 'vestibul', 'invok', 'dwarf', 'swiftli', 'bittersweet', 'cazuela', 'lactos', 'jewelleri', 'wienerschnitzel', 'dobb', 'bonsai', 'wade', 'ruffl', 'dillard', 'layaway', 'housewar', 'joey', 'modega', 'parchment', 'invas', 'inaccess', 'cuenelli', 'imposit', 'riverwalk', 'orderli', 'suprema', 'beco', 'sorrentino', 'vine', 'ps3', 'oregon', 'mfd', 'cochran', 'alfr', 'lotteri', 'chumley', 'ibj', 'helper', 'hightop', 'makefield', 'wegman', 'poultri', 'uye', 'kajun', 'ego', 'ingest', 'throng', 'ornat', 'stint', 'leprechaun', 'lugar', 'esposa', 'pero', 'estaba', 'cerrado', 'no', 'gusta', 'costa', 'plato', 'cafecito', 'cubana', 'poco', 'extermin', 'jip', 'brassi', 'confess', 'jtr', 'darken', 'hastili', 'brunchi', 'waterpark', 'koa', 'fs', 'eboni', 'f250', 'uncal', 'bandana', 'rey', 'jana', 'bianca', 'annnnd', 'scot', 'unk', 'britton', 'disclos', 'analog', 'zagol', 'stimul', 'alicha', 'cincinnati', '°', 'steakburg', 'mayhem', 'chicagoan', 'vino', 'overcom', 'desano', 'sox', 'mantra', 'disco', 'brilliantli', 'antipasta', 'succe', 'stiletto', 'kermit', 'contrapt', 'fleme', 'safest', 'barefoot', 'condom', 'shutdown', 'entiti', 'astonish', 'td', 'downward', 'roadi', 'idol', 'audit', 'fritz', 'clover', 'partnership', 'turquesa', 'axxess', 'cremat', 'cideri', 'cinder', 'insipid', 'weirdo', 'animo', 'womb', 'shula', '10min', 'borst', 'splenda', 'odditi', 'cindi', 'ribbon', 'devon', 'resnick', 'plunger', 'housewarm', 'shocker', 'yakuza', 'cerrito', 'stanford', 'jarrito', 'iowa', 'pageant', 'catti', 'hord', 'sambal', 'alaskan', 'ridden', 'xxl', 'pathfind', 'erawan', 'yummiest', 'glitch', 'canneloni', 'cappucino', 'waittress', 'topcoat', 'teeve', 'wreak', 'snub', 'seventi', 'constraint', 'tippl', 'kulcha', 'jefferi', 'splitter', 'ticketbiscuit', 'riverg', 'ensembl', 'refreshingli', 'fluff', 'gimm', 'asylum', 'hote', 'skye', 'joann', 'welp', 'croquet', 'bww', 'interven', 'dm', 'tej', 'fring', 'ogl', 'snicker', 'uncontrol', 'lysol', 'notr', 'dame', 'fm', 'damp', 'caller', 'gryphon', 'kilkenni', 'chimay', 'peppi', 'dandi', 'impuls', 'spartan', 'locksmith', 'dainti', 'billingsg', 'larv', 'newk', 'hydrogen', 'unicorn', 'kat', 'saracha', 'exp', 'fillipa', 'delud', 'mirliton', 'unmelt', 'skit', 'tantan', 'defint', 'jackpot', 'payout', '301', 'persuas', 'ballroom', 'lttle', 'ombr', 'neeli', 'metrocent', 'ordinarili', 'hibatchi', 'psn', 'ref', 'pastelito', 'blather', 'haddonfield', 'appetis', 'marshmellow', 'pane', 'aji', 'lux', 'ombré', 'inbr', 'sasha', 'kia', '26th', 'nic', 'antenna', 'moana', 'knick', 'knack', 'liciou', 'ajillo', 'dara', 'nigerian', 'jollof', 'kuzina', 'incap', 'paddywhack', 'twinkl', 'slimm', 'padero', 'gauch', 'carefre', 'unmotiv', 'remeb', 'jhana', 'dungen', 'cherish', 'turmer', 'largo', 'carl', 'aloo', 'manchurian', 'glutard', 'miscount', 'devonshir', 'australia', 'savouri', 'taverna', 'rosewat', 'incongru', 'rifl', 'jargon', 'terranc', 'oddest', 'pablano', 'ricardo', 'noboru', 'hiram', 'bouillabais', 'mizza', 'skeevi', 'brummi', 'murphi', 'bleakest', 'redhead', 'wisdom', 'lundi', 'rev', 'huff', 'b4', 'cemita', 'paramount', 'lima', 'unconcern', 'untidi', 'grimi', 'amiss', 'hyperbol', 'erni', 'edgi', 'buzzi', 'interfer', 'sitio', 'unhygien', 'marriot', 'barclay', '315', 'taneaka', 'moreso', 'grandkid', 'dorignac', 'lizard', 'reus', 'lorna', '20oz', 'puh', 'blockbust', 'chan', 'boomer', 'unauthent', 'syberg', 'slicer', 'linley', 'barf', 'crane', 'tyme', 'static', 'moni', 'peacock', 'gallagh', 'squad', 'trinket', '317', 'onesi', 'keychain', 'lexi', 'ruben', 'egregi', 'huarach', 'westbank', 'fluffier', 'martha', 'zza', 'regrett', 'backrib', 'yesteryear', 'ciapino', 'slacker', 'merengu', 'midciti', 'bae', 'toscana', 'secondi', 'buckey', 'sofra', 'coffeeshop', 'onigiri', 'backdoor', 'timber', 'fragment', 'outsourc', 'acuvu', 'optix', 'heal', 'humong', 'abdul', 'tourism', 'bandag', 'stethescop', 'channelsid', 'bast', 'cudo', 'fireston', 'nate', 'yeh', 'stat', 'brenda', 'cherrio', 'peddl', 'cackl', 'abbrevi', 'photographi', 'ceaser', 'longwood', '22oz', 'homebrew', 'panoram', 'junip', 'seizur', 'shotti', 'bensalem', 'guc', 'donelson', 'crummi', 'vege', 'disgruntl', 'wir', 'arigato', 'brugger', 'godzilla', 'sher', 'supercent', 'spam', 'diavolo', 'tobasco', 'anjou', 'innoc', 'blur', 'myron', 'reson', 'raucou', 'shanghaines', 'hao', 'mazda', 'glitz', 'i80', 'twinki', 'gambino', 'haggl', 'branzino', 'sewag', 'unrip', 'saver', 'moul', 'lifeguard', 'floyd', 'nm', 'restraur', 'megu', 'shortcut', 'monon', 'tsao', 'tracey', 'venic', 'endlessli', 'tabbi', 'pinterest', 'balayag', 'tyisha', 'revel', 'lanc', 'hartman', 'rollaway', 'punta', 'samuari', 'whale', 'bernadin', 'ripert', 'cholesterol', 'pokemon', 'gunn', 'grader', 'blackforest', 'mil', 'potteri', 'avaya', 'greenhous', 'lauren', 'classroom', 'orvi', 'enclosur', 'spectacularli', 'milli', 'barnum', 'grid', 'global', 'traine', '2007', 'yale', 'spraga', '5x', 'mallori', 'decorum', 'hiker', 'plot', 'porchetta', 'gianino', 'gadget', 'rca', 'olfactori', 'crueller', 'meinek', 'ballgam', 'mozzerela', 'mesclun', 'allur', 'abound', 'priceless', 'rica', 'canist', 'lore', 'usabl', 'doughssant', 'stinkin', 'chihuli', 'undersid', '615', 'patel', 'evolv', 'sullen', 'panino', '169', 'laps', '84', 'veer', 'foiegra', 'tacqueria', 'zinfandel', 'hoo', 'microsoft', 'plexiglass', 'avalon', 'tack', 'zac', 'gobi', 'overfil', 'wishbon', 'colbi', 'tagliatel', 'bradley', 'hideaway', 'oooh', 'poet', 'clad', 'veterinari', 'cheeseteak', 'gail', 'adventuresom', 'tace', 'brabant', 'mystiqu', 'accouter', 'brest', 'riki', 'getfit', 'phobia', 'infront', 'parallel', 'topopo', 'headset', 'otb', 'replica', 'caricatur', 'rav', 'siames', 'heuvo', 'shampooer', 'hugh', 'barq', 'soni', 'nifti', 'beyoncé', 'nissan', 'telu', 'banker', 'lucches', 'juri', 'beelin', 'hearthsid', 'cheapli', 'mana', 'eller', 'wacki', 'jaclen', 'wayyyi', 'ilya', 'okinomiyaki', 'olney', 'recruit', 'chitown', 'raiser', 'messier', 'youd', 'americana', 'subzero', 'cipolla', 'plat', 'kristin', 'invad', 'nostril', 'spurt', 'rekey', 'seep', 'miniso', 'movegreen', 'daryl', 'bevan', 'bimmerwork', '6ish', 'killin', 'kave', 'homegrown', 'mchenri', 'crest', 'hummingbird', 'milwauke', 'hammock', 'borsodi', 'dialogu', 'olio', 'msrp', 'kampi', 'overlak', 'monotoni', 'orangina', 'hunan', 'lcd', 'duckl', 'cru', 'viewabl', 'porcelain', 'soar', 'goldfish', 'schlep', 'anheus', 'shandi', 'delusion', 'gastronom', 'kirsten', 'monet', 'evansvil', 'giardinara', 'increment', 'silicon', 'lojito', 'coolant', 'befuddl', 'crazili', 'toppl', 'redefin', 'demitru', '7p', 'authentico', 'campagnola', 'comma', 'goreng', 'retrain', 'topa', 'deliver', 'kopper', 'maya', 'waddl', 'denser', 'cote', 'rhone', 'hrc', 'undesir', 'banini', 'blander', 'avatar', '93', 'protector', '100mb', 'tzin', 'slime', 'bourn', 'hacienda', 'anchor', 'uneth', 'crossfit', 'centenni', 'guatemala', 'gnaw', 'ndulg', 'morrow', 'kusshi', 'preclud', 'she', 'lax', 'mri', 'shayn', 'donovan', 'laney', 'hah', 'deliveryman', 'jovial', 'president', 'nam', 'ribb', 'eatalia', 'newcom', 'vick', 'sprimp', 'peed', 'widespread', 'cpa', 'burboun', 'bracket', 'slave', 'malawa', 'barbel', 'salvadorian', 'chagrin', 'oteri', '175', 'chatt', 'cravin', 'disproportion', 'zipper', 'spunki', 'deed', 'ganoush', 'tinni', 'pube', 'stepdad', 'baron', 'harmless', 'robbi', 'flashback', 'griller', 'preauthor', 'linea', 'meze', 'nolan', 'sundial', 'napl', 'kalli', 'giardino', 'bacco', 'projector', 'doorstep', 'carlson', 'chrissi', 'undershav', 'mahogani', 'hmv', 'tyler', 'adolf', 'biecker', 'snorkel', 'woodstown', 'recollect', '4runner', 'pixi', 'o2', 'bub', 'aliona', 'folger', 'celin', 'dinki', 'shiitak', '94', 'keho', 'fluoresc', 'cakey', 'kk', 'tiara', 'termit', 'homeland', 'undocu', 'flit', 'elmer', 'helena', 'winn', 'moro', 'pastavino', 'bridgewat', 'platt', 'hobnobb', 'magasin', 'horseback', 'hott', 'teri', 'tavola', 'pil', 'dall', 'jalebi', 'transpond', 'wilenski', 'lbd', 'loudest', 'miseri', 'priu', 'tsb', 'whitebox', 'lovabl', 'petito', 'herbac', 'inca', 'chicha', 'limena', 'rivet', 'tamago', 'stud', 'antelop', 'veffrez4iwaecrqg6eq4cg', '20dll', 'qv', 'barako', 'stockton', 'montgomeryvil', 'troublesom', 'idiosyncrat', 'discreet', 'venzo', 'rustica', 'westport', 'paddlewheel', 'nip', 'avrit', 'pennsport', 'bakersfield', 'trinidadian', 'malley', 'cassidi', 'socal', 'pyrex', 'candic', 'axl', 'bobba', 'lenz', 'enzo', 'schaffer', 'bcb', 'bottarga', 'bumbl', 'drummi', 'atmo', 'econo', 'wc', 'clink', 'av', 'stewart', 'dreamsicl', 'potion', 'ethopian', 'paitient', 'maja', 'gauc', 'endymion', 'bushwack', 'yoshimatsu', 'cpk', 'transmitt', 'southpoint', 'tiguan', 'plessi', 'jeffer', 'slosh', 'shaun', 'usaa', 'authentica', 'roundin', 'botan', 'sfogliatella', 'seattlit', 'maîtr', 'bacchann', 'shipper', 'brookhaven']\n",
            "12632\n"
          ]
        }
      ]
    },
    {
      "cell_type": "code",
      "source": [
        "num_words_m = len(vocs_m)\n",
        "embedding_matrix_w2v_m = np.zeros((num_words_m, word_vec_size))\n",
        "for word, i in words.items():\n",
        "  if i < num_words_m:\n",
        "    embedding_vector = model_w2v_m[word]\n",
        "    if embedding_vector is not None:\n",
        "      embedding_matrix_w2v_m[i] = embedding_vector\n",
        "#example \n",
        "print(embedding_matrix_w2v_m.shape)"
      ],
      "metadata": {
        "colab": {
          "base_uri": "https://localhost:8080/"
        },
        "id": "coEK8Zooeh61",
        "outputId": "129c30cf-ba7e-4657-f76c-96e4cd617feb"
      },
      "execution_count": null,
      "outputs": [
        {
          "output_type": "stream",
          "name": "stdout",
          "text": [
            "(12632, 100)\n"
          ]
        }
      ]
    },
    {
      "cell_type": "code",
      "source": [
        "# Predicting test cases - Word2Vec Matrix\n",
        "\n",
        "test_seq_multi  = mTokenizer.texts_to_sequences(list(multi_ts[\"text\"])) \n",
        "\n",
        "test_seq_multi_pad  = pad_sequences(test_seq_multi, maxlen=word_vec_size)\n",
        "multi_test_acc = models_m[max_ind_m].evaluate(test_seq_multi_pad,cnn_multi_ts_labels)\n",
        "print(\"Test accuracy:\",multi_test_acc)"
      ],
      "metadata": {
        "colab": {
          "base_uri": "https://localhost:8080/"
        },
        "id": "4LQ0gVixjW23",
        "outputId": "ccd09937-4234-451c-e28f-49aa8ebc44da"
      },
      "execution_count": null,
      "outputs": [
        {
          "output_type": "stream",
          "name": "stdout",
          "text": [
            "63/63 [==============================] - 1s 6ms/step - loss: 1.4348 - accuracy: 0.4905\n",
            "Test accuracy: [1.4348455667495728, 0.49050000309944153]\n"
          ]
        }
      ]
    },
    {
      "cell_type": "code",
      "source": [
        "# Predicting test cases - Random Matrix\n",
        "cnn_multi_r = buildMultiCNNModel(train_seq_m, cnn_multi_tr_labels, val_seq_mpad, cnn_multi_val_labels, num_words_m, embedding_matrix_w2v_m, vec_size=word_vec_size, epoch = 16, window = max_prop_m[0], kernel = max_prop_m[1], dense = max_prop_m[2])\n",
        "print(\"train acc:\",cnn_multi_r.history[\"accuracy\"][15])\n",
        "print(\"validation acc:\",cnn_multi_r.history[\"val_accuracy\"][15])\n",
        "multi_test_acc_r = models_m[-1].evaluate(test_seq_multi_pad,cnn_multi_ts_labels)\n",
        "print(\"Test accuracy:\",multi_test_acc_r)\n"
      ],
      "metadata": {
        "colab": {
          "base_uri": "https://localhost:8080/"
        },
        "id": "1upu0I06iHs0",
        "outputId": "1c33b173-55e3-42cb-f36e-8f8848f85b3b"
      },
      "execution_count": null,
      "outputs": [
        {
          "output_type": "stream",
          "name": "stdout",
          "text": [
            "(None, 100) <dtype: 'float32'>\n",
            "(None, 5) <dtype: 'float32'>\n",
            "(None, 5)\n",
            "<class 'keras.engine.keras_tensor.KerasTensor'>\n",
            "Model: \"model_9\"\n",
            "_________________________________________________________________\n",
            " Layer (type)                Output Shape              Param #   \n",
            "=================================================================\n",
            " input_11 (InputLayer)       [(None, 100)]             0         \n",
            "                                                                 \n",
            " embedding_10 (Embedding)    (None, 100, 100)          1263200   \n",
            "                                                                 \n",
            " conv1d_27 (Conv1D)          (None, 97, 128)           51328     \n",
            "                                                                 \n",
            " max_pooling1d_18 (MaxPoolin  (None, 32, 128)          0         \n",
            " g1D)                                                            \n",
            "                                                                 \n",
            " conv1d_28 (Conv1D)          (None, 30, 64)            24640     \n",
            "                                                                 \n",
            " max_pooling1d_19 (MaxPoolin  (None, 10, 64)           0         \n",
            " g1D)                                                            \n",
            "                                                                 \n",
            " conv1d_29 (Conv1D)          (None, 8, 64)             12352     \n",
            "                                                                 \n",
            " global_max_pooling1d_9 (Glo  (None, 64)               0         \n",
            " balMaxPooling1D)                                                \n",
            "                                                                 \n",
            " dense_18 (Dense)            (None, 32)                2080      \n",
            "                                                                 \n",
            " dense_19 (Dense)            (None, 5)                 165       \n",
            "                                                                 \n",
            "=================================================================\n",
            "Total params: 1,353,765\n",
            "Trainable params: 90,565\n",
            "Non-trainable params: 1,263,200\n",
            "_________________________________________________________________\n",
            "None\n",
            "Epoch 1/16\n",
            "405/405 [==============================] - 5s 10ms/step - loss: 1.2810 - accuracy: 0.4291 - val_loss: 1.2165 - val_accuracy: 0.4772\n",
            "Epoch 2/16\n",
            "405/405 [==============================] - 4s 9ms/step - loss: 1.1513 - accuracy: 0.4931 - val_loss: 1.1321 - val_accuracy: 0.4933\n",
            "Epoch 3/16\n",
            "405/405 [==============================] - 4s 9ms/step - loss: 1.0945 - accuracy: 0.5238 - val_loss: 1.1460 - val_accuracy: 0.4928\n",
            "Epoch 4/16\n",
            "405/405 [==============================] - 4s 9ms/step - loss: 1.0448 - accuracy: 0.5483 - val_loss: 1.2029 - val_accuracy: 0.4706\n",
            "Epoch 5/16\n",
            "405/405 [==============================] - 4s 9ms/step - loss: 0.9931 - accuracy: 0.5698 - val_loss: 1.1354 - val_accuracy: 0.5056\n",
            "Epoch 6/16\n",
            "405/405 [==============================] - 3s 9ms/step - loss: 0.9367 - accuracy: 0.5974 - val_loss: 1.2152 - val_accuracy: 0.4922\n",
            "Epoch 7/16\n",
            "405/405 [==============================] - 4s 9ms/step - loss: 0.8794 - accuracy: 0.6288 - val_loss: 1.1928 - val_accuracy: 0.4944\n",
            "Epoch 8/16\n",
            "405/405 [==============================] - 3s 9ms/step - loss: 0.8136 - accuracy: 0.6593 - val_loss: 1.2604 - val_accuracy: 0.4933\n",
            "Epoch 9/16\n",
            "405/405 [==============================] - 3s 9ms/step - loss: 0.7469 - accuracy: 0.6957 - val_loss: 1.3184 - val_accuracy: 0.4939\n",
            "Epoch 10/16\n",
            "405/405 [==============================] - 4s 9ms/step - loss: 0.6762 - accuracy: 0.7256 - val_loss: 1.3371 - val_accuracy: 0.4806\n",
            "Epoch 11/16\n",
            "405/405 [==============================] - 4s 9ms/step - loss: 0.6113 - accuracy: 0.7566 - val_loss: 1.4779 - val_accuracy: 0.4806\n",
            "Epoch 12/16\n",
            "405/405 [==============================] - 4s 9ms/step - loss: 0.5568 - accuracy: 0.7819 - val_loss: 1.5691 - val_accuracy: 0.4667\n",
            "Epoch 13/16\n",
            "405/405 [==============================] - 4s 9ms/step - loss: 0.4971 - accuracy: 0.8051 - val_loss: 1.6841 - val_accuracy: 0.4683\n",
            "Epoch 14/16\n",
            "405/405 [==============================] - 4s 9ms/step - loss: 0.4487 - accuracy: 0.8265 - val_loss: 1.8426 - val_accuracy: 0.4761\n",
            "Epoch 15/16\n",
            "405/405 [==============================] - 4s 9ms/step - loss: 0.4064 - accuracy: 0.8459 - val_loss: 1.8609 - val_accuracy: 0.4744\n",
            "Epoch 16/16\n",
            "405/405 [==============================] - 4s 9ms/step - loss: 0.3719 - accuracy: 0.8588 - val_loss: 2.3051 - val_accuracy: 0.4678\n",
            "train acc: 0.8587654232978821\n",
            "validation acc: 0.4677777886390686\n",
            "63/63 [==============================] - 0s 5ms/step - loss: 2.4082 - accuracy: 0.4505\n",
            "Test accuracy: [2.4082283973693848, 0.4505000114440918]\n"
          ]
        }
      ]
    },
    {
      "cell_type": "code",
      "source": [
        "# Gensim Model Embedding Matrix\n",
        "import gensim.downloader as api\n",
        "model_gensim = api.load(\"glove-wiki-gigaword-100\")\n",
        "embedding_matrix_gensim = np.zeros((num_words_m, word_vec_size))\n",
        "for word, i in words.items():\n",
        "  if i < num_words_m:\n",
        "    if word in model_gensim:\n",
        "      embedding_matrix_gensim[i] = model_gensim[word]"
      ],
      "metadata": {
        "id": "zh_dRo48m6re"
      },
      "execution_count": null,
      "outputs": []
    },
    {
      "cell_type": "code",
      "source": [
        "\n",
        "# Predicting test cases - Gensim API Matrix\n",
        "cnn_multi_gen = buildMultiCNNModel(train_seq_m, cnn_multi_tr_labels, val_seq_mpad, cnn_multi_val_labels, num_words_m, embedding_matrix_gensim, vec_size=word_vec_size, epoch = 16, window = max_prop_m[0], kernel = max_prop_m[1], dense = max_prop_m[2])\n",
        "print(\"train acc:\",cnn_multi_gen.history[\"accuracy\"][15])\n",
        "print(\"validation acc:\",cnn_multi_gen.history[\"val_accuracy\"][15])\n",
        "multi_test_acc_gen = models_m[-1].evaluate(test_seq_multi_pad,cnn_multi_ts_labels)\n",
        "print(\"Test accuracy:\",multi_test_acc_gen)"
      ],
      "metadata": {
        "colab": {
          "base_uri": "https://localhost:8080/"
        },
        "id": "1UuVog0wnNwy",
        "outputId": "c64f4c65-f354-4805-b8d4-6b94a94f1353"
      },
      "execution_count": null,
      "outputs": [
        {
          "output_type": "stream",
          "name": "stdout",
          "text": [
            "(None, 100) <dtype: 'float32'>\n",
            "(None, 5) <dtype: 'float32'>\n",
            "(None, 5)\n",
            "<class 'keras.engine.keras_tensor.KerasTensor'>\n",
            "Model: \"model_10\"\n",
            "_________________________________________________________________\n",
            " Layer (type)                Output Shape              Param #   \n",
            "=================================================================\n",
            " input_13 (InputLayer)       [(None, 100)]             0         \n",
            "                                                                 \n",
            " embedding_12 (Embedding)    (None, 100, 100)          1263200   \n",
            "                                                                 \n",
            " conv1d_30 (Conv1D)          (None, 97, 128)           51328     \n",
            "                                                                 \n",
            " max_pooling1d_20 (MaxPoolin  (None, 32, 128)          0         \n",
            " g1D)                                                            \n",
            "                                                                 \n",
            " conv1d_31 (Conv1D)          (None, 30, 64)            24640     \n",
            "                                                                 \n",
            " max_pooling1d_21 (MaxPoolin  (None, 10, 64)           0         \n",
            " g1D)                                                            \n",
            "                                                                 \n",
            " conv1d_32 (Conv1D)          (None, 8, 64)             12352     \n",
            "                                                                 \n",
            " global_max_pooling1d_10 (Gl  (None, 64)               0         \n",
            " obalMaxPooling1D)                                               \n",
            "                                                                 \n",
            " dense_20 (Dense)            (None, 32)                2080      \n",
            "                                                                 \n",
            " dense_21 (Dense)            (None, 5)                 165       \n",
            "                                                                 \n",
            "=================================================================\n",
            "Total params: 1,353,765\n",
            "Trainable params: 90,565\n",
            "Non-trainable params: 1,263,200\n",
            "_________________________________________________________________\n",
            "None\n",
            "Epoch 1/16\n",
            "405/405 [==============================] - 5s 9ms/step - loss: 1.4516 - accuracy: 0.3481 - val_loss: 1.3264 - val_accuracy: 0.4183\n",
            "Epoch 2/16\n",
            "405/405 [==============================] - 4s 9ms/step - loss: 1.2804 - accuracy: 0.4387 - val_loss: 1.2842 - val_accuracy: 0.4433\n",
            "Epoch 3/16\n",
            "405/405 [==============================] - 3s 9ms/step - loss: 1.1857 - accuracy: 0.4862 - val_loss: 1.2442 - val_accuracy: 0.4644\n",
            "Epoch 4/16\n",
            "405/405 [==============================] - 4s 9ms/step - loss: 1.0975 - accuracy: 0.5275 - val_loss: 1.2244 - val_accuracy: 0.4722\n",
            "Epoch 5/16\n",
            "405/405 [==============================] - 3s 9ms/step - loss: 1.0067 - accuracy: 0.5703 - val_loss: 1.2593 - val_accuracy: 0.4733\n",
            "Epoch 6/16\n",
            "405/405 [==============================] - 4s 9ms/step - loss: 0.9141 - accuracy: 0.6167 - val_loss: 1.3207 - val_accuracy: 0.4644\n",
            "Epoch 7/16\n",
            "405/405 [==============================] - 3s 9ms/step - loss: 0.8149 - accuracy: 0.6623 - val_loss: 1.4101 - val_accuracy: 0.4478\n",
            "Epoch 8/16\n",
            "405/405 [==============================] - 4s 9ms/step - loss: 0.7167 - accuracy: 0.7149 - val_loss: 1.6054 - val_accuracy: 0.4333\n",
            "Epoch 9/16\n",
            "405/405 [==============================] - 3s 9ms/step - loss: 0.6132 - accuracy: 0.7595 - val_loss: 1.6943 - val_accuracy: 0.4483\n",
            "Epoch 10/16\n",
            "405/405 [==============================] - 3s 9ms/step - loss: 0.5208 - accuracy: 0.8024 - val_loss: 1.8625 - val_accuracy: 0.4467\n",
            "Epoch 11/16\n",
            "405/405 [==============================] - 3s 9ms/step - loss: 0.4472 - accuracy: 0.8309 - val_loss: 1.9728 - val_accuracy: 0.4439\n",
            "Epoch 12/16\n",
            "405/405 [==============================] - 3s 9ms/step - loss: 0.3679 - accuracy: 0.8673 - val_loss: 2.7768 - val_accuracy: 0.4122\n",
            "Epoch 13/16\n",
            "405/405 [==============================] - 3s 9ms/step - loss: 0.3096 - accuracy: 0.8861 - val_loss: 2.4660 - val_accuracy: 0.4589\n",
            "Epoch 14/16\n",
            "405/405 [==============================] - 4s 9ms/step - loss: 0.2756 - accuracy: 0.9022 - val_loss: 2.5191 - val_accuracy: 0.4383\n",
            "Epoch 15/16\n",
            "405/405 [==============================] - 3s 9ms/step - loss: 0.2439 - accuracy: 0.9113 - val_loss: 3.1811 - val_accuracy: 0.4150\n",
            "Epoch 16/16\n",
            "405/405 [==============================] - 4s 9ms/step - loss: 0.2135 - accuracy: 0.9232 - val_loss: 2.9173 - val_accuracy: 0.4322\n",
            "train acc: 0.9232099056243896\n",
            "validation acc: 0.4322222173213959\n",
            "63/63 [==============================] - 1s 5ms/step - loss: 3.0985 - accuracy: 0.4110\n",
            "Test accuracy: [3.098493814468384, 0.41100001335144043]\n"
          ]
        }
      ]
    },
    {
      "cell_type": "markdown",
      "source": [
        "## My Report\n",
        "\n",
        "In this project we had to perform sentiment analysis and categorize customer reviews based on their positivity towards the place & service, using natural language processing techniques. The data at hand was in the form of texts and the labels were numbered from 1 to 5, based on increasing positivity. \n",
        "\n",
        "The training data has a size of 18000 and the test had 2000 reviews. To train our models, we have dropped the reviews with label \"3\" and merged 1 with 2 and 4 with 5 to downsample the population to 2 classes, labelling them 0 and 1. Basically negative and positive, without neutral comments. For multi classes we have only ordered our labels from 0 to 4 for one hot encoding arrangements and architectural purposes.\n",
        "\n",
        "The preprocessing phase had 4 main steps: lowering inputs, tokenizing into words, removing stop words and unnecesarry tokens, and then stemming. The same process was applied to both training and test texts. For non-neural models (which are Naive Bayes & Logistic Regression), stratified k-fold validation was used. For CNN models, ten percent (10%) of the training data was splitted and reserved for validation. \n",
        "\n",
        "For the non-neural models, grid searching technique was used to find the best accuracy producing hyperparameters. After individual runs for each model type and hyperparameter combination, we have acquired the following results: \n",
        "\n",
        "\n",
        "| Label Type | Model Type  | Hyperparameters                               | Accuracy | F1   |\n",
        "|------------|-------------|-----------------------------------------------|----------|------|\n",
        "| Binary     | Naive Bayes | min_df=100, ngram_range=(1,3)                 | 0.87     | 0.87 |\n",
        "| Binary     | Logistic    | min_df=100, ngram_range = (1,2), l1_ratio=0.5 | 0.91     | 0.91 |\n",
        "| Multi      | Naive Bayes | min_df=100, ngram_range=(1,2)                 | 0.49     | 0.47 |\n",
        "| Multi      | Logistic    | min_df=100, ngram_range = (1,3), l1_ratio=0.5 | 0.56     | 0.56 |\n",
        "\n",
        "\n",
        "When compared, logistic regression regression surpasses naive bayes in terms of accuracy for both labeling types. This could be the result of the evaluation algorithm, which utilizes l1 & l2 regularization together.\n",
        "\n",
        "For the convolutional models, we have utilized 3 different embedding matrices to fill our word embedding layer, to ease the identificaiton of relation between words. First one was randomly initialized with values between -1 and 1. The second one utilized a word corpus that was made from scratch using our own training data with the help of Word2Vec function. The last one was using pretrained models from the Gensim library to match and extract embedding vectors with our tokens in our corpus. These weights were then connected to a convolutional network and a fully connected layer before outputting. The convolutional part was performing a convolution followed by a max pooling layer 3 times, the final one being a global max pooling layer. Then it was connected to a dense network of a varying kernel size. \n",
        "\n",
        "The hyperparameter tuning was for the binary labels performed using the randomly initialized embedding matrix and for w2v matrices with multiclass labeling, for equally giving a chance to both methods rather than one. Hyperparameters tried were as follows: window size = [128, 64]\n",
        "kernel size = [6,4]\n",
        "dense layer node size = [64,32].\n",
        "\n",
        "The best model networks were for binary labels: [64, 4, 32]\n",
        "The best model networks were for multiclass labels: [128, 4, 32]\n",
        "\n",
        "The best models were run for each type of embedding matrix and it was found that for the binary labelling, the best model was word2vec, followed by random initialization, followed by gensim with accuracies 0.86, 0.84, 0.80 respectively. For multiclass labeling, the order was the same, with 0.49, 0.45, 0.41 respectively. \n",
        "\n",
        "These results were heavily influenced by the architecture of our model. Repeated convolution and max pooling of my model perhaps diminished the effects of some certain tokens perhaps because they were coupled with more repeating/significant words based on context. The dense layer size also affected performance heavily because it controlled the amount the model learned and sometimes it could have lead to overfitting to training data. In such a case, dropout layer could have been used.\n",
        "\n",
        "Binary segmentation was accurate enough for general purpose usage. However, the same cannot be said for multiclass labelling since almost half of the time the test labels were misrepresented. This could be due to the fact that for even a human reader, the labelling of mediocrely positive or negative comments is ambigious in essence. One might not be so sure to label a review as neutral or negative/positive when the comment includes sentiments of both. Since the labels of the test data are also human-error prone, there might not always be obvious mathematical patterns to be learnt by our model. Or perhaps this type of learning isn't well suited for such a multilabelling task. "
      ],
      "metadata": {
        "id": "oCT-Zt3ZMocG"
      }
    }
  ]
}